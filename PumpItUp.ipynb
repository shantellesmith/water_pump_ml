{
  "nbformat": 4,
  "nbformat_minor": 0,
  "metadata": {
    "colab": {
      "provenance": [],
      "toc_visible": true,
      "collapsed_sections": [
        "HPzOVs7exZek"
      ]
    },
    "kernelspec": {
      "name": "python3",
      "display_name": "Python 3"
    },
    "language_info": {
      "name": "python"
    },
    "widgets": {
      "application/vnd.jupyter.widget-state+json": {
        "aa97f7986dc647789ff5ed5bacf506c6": {
          "model_module": "catboost-widget",
          "model_name": "CatboostWidgetModel",
          "model_module_version": "^1.0.0",
          "state": {
            "_dom_classes": [],
            "_model_module": "catboost-widget",
            "_model_module_version": "^1.0.0",
            "_model_name": "CatboostWidgetModel",
            "_view_count": null,
            "_view_module": "catboost-widget",
            "_view_module_version": "^1.0.0",
            "_view_name": "CatboostWidgetView",
            "data": {
              "catboost_info/model-0": {
                "path": "catboost_info/model-0",
                "name": "model-0",
                "content": {
                  "passed_iterations": 199,
                  "total_iterations": 200,
                  "data": {
                    "iterations": [
                      {
                        "learn": [
                          1.097064212
                        ],
                        "iteration": 0,
                        "passed_time": 0.3967149851,
                        "remaining_time": 78.94628204,
                        "test": [
                          0.5968862471,
                          1.096531843
                        ]
                      },
                      {
                        "learn": [
                          1.078684261
                        ],
                        "iteration": 1,
                        "passed_time": 0.7321747414,
                        "remaining_time": 72.4852994,
                        "test": [
                          0.6435566749,
                          1.08601415
                        ]
                      },
                      {
                        "learn": [
                          1.067005096
                        ],
                        "iteration": 2,
                        "passed_time": 0.9801522821,
                        "remaining_time": 64.36333319,
                        "test": [
                          0.6414612726,
                          1.081382007
                        ]
                      },
                      {
                        "learn": [
                          1.052223732
                        ],
                        "iteration": 3,
                        "passed_time": 1.266602439,
                        "remaining_time": 62.06351953,
                        "test": [
                          0.6412856151,
                          1.072134993
                        ]
                      },
                      {
                        "learn": [
                          1.0385837
                        ],
                        "iteration": 4,
                        "passed_time": 1.438625865,
                        "remaining_time": 56.10640875,
                        "test": [
                          0.6416086803,
                          1.063582845
                        ]
                      },
                      {
                        "learn": [
                          1.023978067
                        ],
                        "iteration": 5,
                        "passed_time": 1.655237389,
                        "remaining_time": 53.51934223,
                        "test": [
                          0.6490113792,
                          1.056978426
                        ]
                      },
                      {
                        "learn": [
                          1.010192962
                        ],
                        "iteration": 6,
                        "passed_time": 1.821434477,
                        "remaining_time": 50.21955059,
                        "test": [
                          0.646372387,
                          1.050628068
                        ]
                      },
                      {
                        "learn": [
                          1.002978232
                        ],
                        "iteration": 7,
                        "passed_time": 2.057398138,
                        "remaining_time": 49.3775553,
                        "test": [
                          0.6504931249,
                          1.047365042
                        ]
                      },
                      {
                        "learn": [
                          0.990470874
                        ],
                        "iteration": 8,
                        "passed_time": 2.221232558,
                        "remaining_time": 47.13949095,
                        "test": [
                          0.650576393,
                          1.0416364
                        ]
                      },
                      {
                        "learn": [
                          0.978471013
                        ],
                        "iteration": 9,
                        "passed_time": 2.398554963,
                        "remaining_time": 45.57254429,
                        "test": [
                          0.6509241985,
                          1.036406749
                        ]
                      },
                      {
                        "learn": [
                          0.9673935732
                        ],
                        "iteration": 10,
                        "passed_time": 2.564348773,
                        "remaining_time": 44.06017437,
                        "test": [
                          0.6502177001,
                          1.031269929
                        ]
                      },
                      {
                        "learn": [
                          0.9567610899
                        ],
                        "iteration": 11,
                        "passed_time": 2.727277653,
                        "remaining_time": 42.72734989,
                        "test": [
                          0.6477672606,
                          1.026588894
                        ]
                      },
                      {
                        "learn": [
                          0.9499244473
                        ],
                        "iteration": 12,
                        "passed_time": 2.908286652,
                        "remaining_time": 41.83458492,
                        "test": [
                          0.6395988283,
                          1.024268209
                        ]
                      },
                      {
                        "learn": [
                          0.9445326879
                        ],
                        "iteration": 13,
                        "passed_time": 3.072270244,
                        "remaining_time": 40.81730467,
                        "test": [
                          0.6385055212,
                          1.021875015
                        ]
                      },
                      {
                        "learn": [
                          0.9344774811
                        ],
                        "iteration": 14,
                        "passed_time": 3.245015725,
                        "remaining_time": 40.02186061,
                        "test": [
                          0.6424553949,
                          1.015125566
                        ]
                      },
                      {
                        "learn": [
                          0.9255726612
                        ],
                        "iteration": 15,
                        "passed_time": 3.417164867,
                        "remaining_time": 39.29739597,
                        "test": [
                          0.6414845013,
                          1.010996225
                        ]
                      },
                      {
                        "learn": [
                          0.9198382124
                        ],
                        "iteration": 16,
                        "passed_time": 3.591531784,
                        "remaining_time": 38.66178332,
                        "test": [
                          0.6397895558,
                          1.009138226
                        ]
                      },
                      {
                        "learn": [
                          0.9110392047
                        ],
                        "iteration": 17,
                        "passed_time": 3.761368622,
                        "remaining_time": 38.03161607,
                        "test": [
                          0.6408356823,
                          1.003114474
                        ]
                      },
                      {
                        "learn": [
                          0.902790052
                        ],
                        "iteration": 18,
                        "passed_time": 3.932646492,
                        "remaining_time": 37.46363237,
                        "test": [
                          0.641422302,
                          0.9974699146
                        ]
                      },
                      {
                        "learn": [
                          0.8953601582
                        ],
                        "iteration": 19,
                        "passed_time": 4.100108582,
                        "remaining_time": 36.90097724,
                        "test": [
                          0.6406015181,
                          0.9939743042
                        ]
                      },
                      {
                        "learn": [
                          0.8905067388
                        ],
                        "iteration": 20,
                        "passed_time": 4.313494514,
                        "remaining_time": 36.76740562,
                        "test": [
                          0.6402820651,
                          0.9926193899
                        ]
                      },
                      {
                        "learn": [
                          0.8838778101
                        ],
                        "iteration": 21,
                        "passed_time": 4.491161377,
                        "remaining_time": 36.33757842,
                        "test": [
                          0.6406741244,
                          0.9875950543
                        ]
                      },
                      {
                        "learn": [
                          0.8776241731
                        ],
                        "iteration": 22,
                        "passed_time": 4.663902505,
                        "remaining_time": 35.89177145,
                        "test": [
                          0.6422858054,
                          0.9828710558
                        ]
                      },
                      {
                        "learn": [
                          0.8709417996
                        ],
                        "iteration": 23,
                        "passed_time": 4.835047228,
                        "remaining_time": 35.457013,
                        "test": [
                          0.642173527,
                          0.9782691247
                        ]
                      },
                      {
                        "learn": [
                          0.863649278
                        ],
                        "iteration": 24,
                        "passed_time": 5.005571201,
                        "remaining_time": 35.03899841,
                        "test": [
                          0.6423727131,
                          0.9752936892
                        ]
                      },
                      {
                        "learn": [
                          0.8596215941
                        ],
                        "iteration": 25,
                        "passed_time": 5.222314731,
                        "remaining_time": 34.94933704,
                        "test": [
                          0.6406839339,
                          0.9742306694
                        ]
                      },
                      {
                        "learn": [
                          0.8527312554
                        ],
                        "iteration": 26,
                        "passed_time": 5.382697044,
                        "remaining_time": 34.48913291,
                        "test": [
                          0.6406519836,
                          0.9715697983
                        ]
                      },
                      {
                        "learn": [
                          0.849112269
                        ],
                        "iteration": 27,
                        "passed_time": 5.564727984,
                        "remaining_time": 34.18332904,
                        "test": [
                          0.640072611,
                          0.9706767326
                        ]
                      },
                      {
                        "learn": [
                          0.843551546
                        ],
                        "iteration": 28,
                        "passed_time": 5.724708276,
                        "remaining_time": 33.75603846,
                        "test": [
                          0.6405332385,
                          0.9667380279
                        ]
                      },
                      {
                        "learn": [
                          0.8378211733
                        ],
                        "iteration": 29,
                        "passed_time": 5.903613833,
                        "remaining_time": 33.45381172,
                        "test": [
                          0.6404125388,
                          0.9620662152
                        ]
                      },
                      {
                        "learn": [
                          0.8323216483
                        ],
                        "iteration": 30,
                        "passed_time": 6.066502755,
                        "remaining_time": 33.0722247,
                        "test": [
                          0.6425568048,
                          0.9577006491
                        ]
                      },
                      {
                        "learn": [
                          0.8272403867
                        ],
                        "iteration": 31,
                        "passed_time": 6.239395277,
                        "remaining_time": 32.75682521,
                        "test": [
                          0.6651719075,
                          0.9539047865
                        ]
                      },
                      {
                        "learn": [
                          0.8217026197
                        ],
                        "iteration": 32,
                        "passed_time": 6.402696619,
                        "remaining_time": 32.40152532,
                        "test": [
                          0.6651241277,
                          0.9520821738
                        ]
                      },
                      {
                        "learn": [
                          0.8147274714
                        ],
                        "iteration": 33,
                        "passed_time": 6.646873779,
                        "remaining_time": 32.45238375,
                        "test": [
                          0.7208029253,
                          0.9437145615
                        ]
                      },
                      {
                        "learn": [
                          0.8119015774
                        ],
                        "iteration": 34,
                        "passed_time": 6.818283542,
                        "remaining_time": 32.1433367,
                        "test": [
                          0.7194640533,
                          0.9431614615
                        ]
                      },
                      {
                        "learn": [
                          0.8085683296
                        ],
                        "iteration": 35,
                        "passed_time": 7.004702077,
                        "remaining_time": 31.91030946,
                        "test": [
                          0.7234475235,
                          0.9389268856
                        ]
                      },
                      {
                        "learn": [
                          0.8038553738
                        ],
                        "iteration": 36,
                        "passed_time": 7.241291281,
                        "remaining_time": 31.90082375,
                        "test": [
                          0.7259857543,
                          0.9348654098
                        ]
                      },
                      {
                        "learn": [
                          0.7974618965
                        ],
                        "iteration": 37,
                        "passed_time": 7.469014413,
                        "remaining_time": 31.84158776,
                        "test": [
                          0.7342152334,
                          0.92834553
                        ]
                      },
                      {
                        "learn": [
                          0.794381623
                        ],
                        "iteration": 38,
                        "passed_time": 7.649115873,
                        "remaining_time": 31.57711937,
                        "test": [
                          0.7355435584,
                          0.9243679394
                        ]
                      },
                      {
                        "learn": [
                          0.7892475319
                        ],
                        "iteration": 39,
                        "passed_time": 7.827165422,
                        "remaining_time": 31.30866169,
                        "test": [
                          0.7363032544,
                          0.9207825357
                        ]
                      },
                      {
                        "learn": [
                          0.7836008092
                        ],
                        "iteration": 40,
                        "passed_time": 8.047599555,
                        "remaining_time": 31.20898364,
                        "test": [
                          0.7409228357,
                          0.9136765639
                        ]
                      },
                      {
                        "learn": [
                          0.7805303452
                        ],
                        "iteration": 41,
                        "passed_time": 8.222497422,
                        "remaining_time": 30.93225221,
                        "test": [
                          0.7430599293,
                          0.9097513354
                        ]
                      },
                      {
                        "learn": [
                          0.7739494831
                        ],
                        "iteration": 42,
                        "passed_time": 8.436889488,
                        "remaining_time": 30.80445697,
                        "test": [
                          0.7541975466,
                          0.9026167952
                        ]
                      },
                      {
                        "learn": [
                          0.7702408423
                        ],
                        "iteration": 43,
                        "passed_time": 8.666797284,
                        "remaining_time": 30.72773582,
                        "test": [
                          0.7569971179,
                          0.899092881
                        ]
                      },
                      {
                        "learn": [
                          0.7674655111
                        ],
                        "iteration": 44,
                        "passed_time": 8.899370835,
                        "remaining_time": 30.65338843,
                        "test": [
                          0.7584912681,
                          0.8955536641
                        ]
                      },
                      {
                        "learn": [
                          0.7630749694
                        ],
                        "iteration": 45,
                        "passed_time": 9.132452897,
                        "remaining_time": 30.57386405,
                        "test": [
                          0.7585445949,
                          0.8925940905
                        ]
                      },
                      {
                        "learn": [
                          0.7571075877
                        ],
                        "iteration": 46,
                        "passed_time": 9.373800881,
                        "remaining_time": 30.51471351,
                        "test": [
                          0.7688423286,
                          0.8861991255
                        ]
                      },
                      {
                        "learn": [
                          0.7518340408
                        ],
                        "iteration": 47,
                        "passed_time": 9.541435703,
                        "remaining_time": 30.21454639,
                        "test": [
                          0.7721927767,
                          0.8800085387
                        ]
                      },
                      {
                        "learn": [
                          0.747984039
                        ],
                        "iteration": 48,
                        "passed_time": 9.782706503,
                        "remaining_time": 30.1467078,
                        "test": [
                          0.7714224145,
                          0.8774945006
                        ]
                      },
                      {
                        "learn": [
                          0.74415461
                        ],
                        "iteration": 49,
                        "passed_time": 10.0323924,
                        "remaining_time": 30.09717719,
                        "test": [
                          0.7703744765,
                          0.8765498816
                        ]
                      },
                      {
                        "learn": [
                          0.7391221865
                        ],
                        "iteration": 50,
                        "passed_time": 10.25240529,
                        "remaining_time": 29.95310564,
                        "test": [
                          0.7744377765,
                          0.8713042056
                        ]
                      },
                      {
                        "learn": [
                          0.7362944937
                        ],
                        "iteration": 51,
                        "passed_time": 10.45735388,
                        "remaining_time": 29.76323797,
                        "test": [
                          0.7762944597,
                          0.8686067989
                        ]
                      },
                      {
                        "learn": [
                          0.7344090579
                        ],
                        "iteration": 52,
                        "passed_time": 10.68356831,
                        "remaining_time": 29.6317838,
                        "test": [
                          0.7743812311,
                          0.8683875472
                        ]
                      },
                      {
                        "learn": [
                          0.7294976945
                        ],
                        "iteration": 53,
                        "passed_time": 10.91446284,
                        "remaining_time": 29.5094736,
                        "test": [
                          0.7777934684,
                          0.863159771
                        ]
                      },
                      {
                        "learn": [
                          0.7250963329
                        ],
                        "iteration": 54,
                        "passed_time": 11.12681112,
                        "remaining_time": 29.33432023,
                        "test": [
                          0.7811507357,
                          0.8587278687
                        ]
                      },
                      {
                        "learn": [
                          0.7170345241
                        ],
                        "iteration": 55,
                        "passed_time": 11.40171316,
                        "remaining_time": 29.31869099,
                        "test": [
                          0.7799716225,
                          0.8555855461
                        ]
                      },
                      {
                        "learn": [
                          0.7164537827
                        ],
                        "iteration": 56,
                        "passed_time": 11.56506118,
                        "remaining_time": 29.01410085,
                        "test": [
                          0.7805358555,
                          0.8548143054
                        ]
                      },
                      {
                        "learn": [
                          0.7088785028
                        ],
                        "iteration": 57,
                        "passed_time": 11.81867151,
                        "remaining_time": 28.93536818,
                        "test": [
                          0.7784233268,
                          0.8521077627
                        ]
                      },
                      {
                        "learn": [
                          0.7073651586
                        ],
                        "iteration": 58,
                        "passed_time": 12.09087697,
                        "remaining_time": 28.89514665,
                        "test": [
                          0.7808842575,
                          0.8502468504
                        ]
                      },
                      {
                        "learn": [
                          0.7039459171
                        ],
                        "iteration": 59,
                        "passed_time": 12.31045003,
                        "remaining_time": 28.72438341,
                        "test": [
                          0.7833378851,
                          0.8463114195
                        ]
                      },
                      {
                        "learn": [
                          0.701238969
                        ],
                        "iteration": 60,
                        "passed_time": 12.52845108,
                        "remaining_time": 28.5484377,
                        "test": [
                          0.7834436221,
                          0.843783338
                        ]
                      },
                      {
                        "learn": [
                          0.69731824
                        ],
                        "iteration": 61,
                        "passed_time": 12.76098167,
                        "remaining_time": 28.40347534,
                        "test": [
                          0.78600433,
                          0.8396089817
                        ]
                      },
                      {
                        "learn": [
                          0.6940005119
                        ],
                        "iteration": 62,
                        "passed_time": 13.00186822,
                        "remaining_time": 28.27390391,
                        "test": [
                          0.7889702782,
                          0.8358361591
                        ]
                      },
                      {
                        "learn": [
                          0.69177127
                        ],
                        "iteration": 63,
                        "passed_time": 13.21941055,
                        "remaining_time": 28.09124742,
                        "test": [
                          0.7898513615,
                          0.8335989978
                        ]
                      },
                      {
                        "learn": [
                          0.690345343
                        ],
                        "iteration": 64,
                        "passed_time": 13.43175869,
                        "remaining_time": 27.8967296,
                        "test": [
                          0.7884487997,
                          0.8334802926
                        ]
                      },
                      {
                        "learn": [
                          0.6865309517
                        ],
                        "iteration": 65,
                        "passed_time": 13.65204791,
                        "remaining_time": 27.71779423,
                        "test": [
                          0.7914486906,
                          0.8294089362
                        ]
                      },
                      {
                        "learn": [
                          0.6836524031
                        ],
                        "iteration": 66,
                        "passed_time": 13.8936409,
                        "remaining_time": 27.57991402,
                        "test": [
                          0.7927673571,
                          0.8261386404
                        ]
                      },
                      {
                        "learn": [
                          0.6801705906
                        ],
                        "iteration": 67,
                        "passed_time": 14.11634935,
                        "remaining_time": 27.4023252,
                        "test": [
                          0.7949517361,
                          0.8226278793
                        ]
                      },
                      {
                        "learn": [
                          0.6790527391
                        ],
                        "iteration": 68,
                        "passed_time": 14.33845641,
                        "remaining_time": 27.22228681,
                        "test": [
                          0.7943304756,
                          0.8223725564
                        ]
                      },
                      {
                        "learn": [
                          0.6785867132
                        ],
                        "iteration": 69,
                        "passed_time": 14.56701202,
                        "remaining_time": 27.05302233,
                        "test": [
                          0.794393766,
                          0.8216816451
                        ]
                      },
                      {
                        "learn": [
                          0.6759156733
                        ],
                        "iteration": 70,
                        "passed_time": 14.79809389,
                        "remaining_time": 26.88667763,
                        "test": [
                          0.795956674,
                          0.818469139
                        ]
                      },
                      {
                        "learn": [
                          0.6732756184
                        ],
                        "iteration": 71,
                        "passed_time": 15.03822921,
                        "remaining_time": 26.73462971,
                        "test": [
                          0.798626862,
                          0.8145401729
                        ]
                      },
                      {
                        "learn": [
                          0.6713645995
                        ],
                        "iteration": 72,
                        "passed_time": 15.25303969,
                        "remaining_time": 26.53611015,
                        "test": [
                          0.7994587114,
                          0.8126245153
                        ]
                      },
                      {
                        "learn": [
                          0.6688708492
                        ],
                        "iteration": 73,
                        "passed_time": 15.48599967,
                        "remaining_time": 26.36805349,
                        "test": [
                          0.800404169,
                          0.8098391103
                        ]
                      },
                      {
                        "learn": [
                          0.6687378451
                        ],
                        "iteration": 74,
                        "passed_time": 15.70083924,
                        "remaining_time": 26.1680654,
                        "test": [
                          0.8004006739,
                          0.809802357
                        ]
                      },
                      {
                        "learn": [
                          0.6623760188
                        ],
                        "iteration": 75,
                        "passed_time": 15.97563389,
                        "remaining_time": 26.06550793,
                        "test": [
                          0.7998914478,
                          0.8074081969
                        ]
                      },
                      {
                        "learn": [
                          0.660065817
                        ],
                        "iteration": 76,
                        "passed_time": 16.20597758,
                        "remaining_time": 25.88747068,
                        "test": [
                          0.8017807174,
                          0.8045420109
                        ]
                      },
                      {
                        "learn": [
                          0.6579617849
                        ],
                        "iteration": 77,
                        "passed_time": 16.4215587,
                        "remaining_time": 25.68500207,
                        "test": [
                          0.8015922056,
                          0.8027964811
                        ]
                      },
                      {
                        "learn": [
                          0.6519456262
                        ],
                        "iteration": 78,
                        "passed_time": 16.66190241,
                        "remaining_time": 25.520129,
                        "test": [
                          0.8010538714,
                          0.800568457
                        ]
                      },
                      {
                        "learn": [
                          0.6501345904
                        ],
                        "iteration": 79,
                        "passed_time": 16.92456017,
                        "remaining_time": 25.38684026,
                        "test": [
                          0.8023196568,
                          0.7982207525
                        ]
                      },
                      {
                        "learn": [
                          0.647467121
                        ],
                        "iteration": 80,
                        "passed_time": 17.14628906,
                        "remaining_time": 25.19022714,
                        "test": [
                          0.8042629296,
                          0.7948063436
                        ]
                      },
                      {
                        "learn": [
                          0.6455301033
                        ],
                        "iteration": 81,
                        "passed_time": 17.37655525,
                        "remaining_time": 25.00528682,
                        "test": [
                          0.8053892094,
                          0.7926891104
                        ]
                      },
                      {
                        "learn": [
                          0.6432899092
                        ],
                        "iteration": 82,
                        "passed_time": 17.59843285,
                        "remaining_time": 24.80742943,
                        "test": [
                          0.8073371962,
                          0.7893546928
                        ]
                      },
                      {
                        "learn": [
                          0.6429359645
                        ],
                        "iteration": 83,
                        "passed_time": 17.8196663,
                        "remaining_time": 24.60811061,
                        "test": [
                          0.8073792992,
                          0.7888794277
                        ]
                      },
                      {
                        "learn": [
                          0.6405554802
                        ],
                        "iteration": 84,
                        "passed_time": 18.05904936,
                        "remaining_time": 24.43283149,
                        "test": [
                          0.8088378664,
                          0.7859663203
                        ]
                      },
                      {
                        "learn": [
                          0.6343533033
                        ],
                        "iteration": 85,
                        "passed_time": 18.28364675,
                        "remaining_time": 24.23646197,
                        "test": [
                          0.8104480075,
                          0.782114565
                        ]
                      },
                      {
                        "learn": [
                          0.6320063099
                        ],
                        "iteration": 86,
                        "passed_time": 18.5052559,
                        "remaining_time": 24.03556226,
                        "test": [
                          0.8117663486,
                          0.7791277926
                        ]
                      },
                      {
                        "learn": [
                          0.6266000636
                        ],
                        "iteration": 87,
                        "passed_time": 18.7576566,
                        "remaining_time": 23.87338113,
                        "test": [
                          0.8112411989,
                          0.77720981
                        ]
                      },
                      {
                        "learn": [
                          0.6214511285
                        ],
                        "iteration": 88,
                        "passed_time": 19.02098338,
                        "remaining_time": 23.7227995,
                        "test": [
                          0.8106510324,
                          0.7754147289
                        ]
                      },
                      {
                        "learn": [
                          0.6165473342
                        ],
                        "iteration": 89,
                        "passed_time": 19.19241598,
                        "remaining_time": 23.4573973,
                        "test": [
                          0.8099918433,
                          0.7737426917
                        ]
                      },
                      {
                        "learn": [
                          0.6145733974
                        ],
                        "iteration": 90,
                        "passed_time": 19.40431692,
                        "remaining_time": 23.24253345,
                        "test": [
                          0.8110267014,
                          0.7710240484
                        ]
                      },
                      {
                        "learn": [
                          0.6127912566
                        ],
                        "iteration": 91,
                        "passed_time": 19.62932507,
                        "remaining_time": 23.04312074,
                        "test": [
                          0.8123635614,
                          0.7687764407
                        ]
                      },
                      {
                        "learn": [
                          0.6106985984
                        ],
                        "iteration": 92,
                        "passed_time": 19.86563069,
                        "remaining_time": 22.85615574,
                        "test": [
                          0.8135762906,
                          0.7660067507
                        ]
                      },
                      {
                        "learn": [
                          0.605539917
                        ],
                        "iteration": 93,
                        "passed_time": 20.11273787,
                        "remaining_time": 22.68032143,
                        "test": [
                          0.8141504943,
                          0.7627406111
                        ]
                      },
                      {
                        "learn": [
                          0.6039841305
                        ],
                        "iteration": 94,
                        "passed_time": 20.35247697,
                        "remaining_time": 22.49484296,
                        "test": [
                          0.8154320677,
                          0.7607607399
                        ]
                      },
                      {
                        "learn": [
                          0.6021366749
                        ],
                        "iteration": 95,
                        "passed_time": 20.56781957,
                        "remaining_time": 22.28180454,
                        "test": [
                          0.8160804259,
                          0.758645527
                        ]
                      },
                      {
                        "learn": [
                          0.6009497196
                        ],
                        "iteration": 96,
                        "passed_time": 20.78226335,
                        "remaining_time": 22.06776418,
                        "test": [
                          0.8168299423,
                          0.7573953374
                        ]
                      },
                      {
                        "learn": [
                          0.5957469949
                        ],
                        "iteration": 97,
                        "passed_time": 21.01956803,
                        "remaining_time": 21.87750958,
                        "test": [
                          0.8175562985,
                          0.7543408193
                        ]
                      },
                      {
                        "learn": [
                          0.5943459227
                        ],
                        "iteration": 98,
                        "passed_time": 21.2403422,
                        "remaining_time": 21.66944002,
                        "test": [
                          0.8179192349,
                          0.7524399969
                        ]
                      },
                      {
                        "learn": [
                          0.5927495976
                        ],
                        "iteration": 99,
                        "passed_time": 21.46609423,
                        "remaining_time": 21.46609423,
                        "test": [
                          0.8191676286,
                          0.7505195854
                        ]
                      },
                      {
                        "learn": [
                          0.587890725
                        ],
                        "iteration": 100,
                        "passed_time": 21.67994471,
                        "remaining_time": 21.25063887,
                        "test": [
                          0.8194875024,
                          0.7478395879
                        ]
                      },
                      {
                        "learn": [
                          0.5837101302
                        ],
                        "iteration": 101,
                        "passed_time": 21.94110022,
                        "remaining_time": 21.08066492,
                        "test": [
                          0.8189488494,
                          0.7465399249
                        ]
                      },
                      {
                        "learn": [
                          0.5833169291
                        ],
                        "iteration": 102,
                        "passed_time": 22.17267457,
                        "remaining_time": 20.88106246,
                        "test": [
                          0.8191912135,
                          0.7459869661
                        ]
                      },
                      {
                        "learn": [
                          0.5816875858
                        ],
                        "iteration": 103,
                        "passed_time": 22.39490687,
                        "remaining_time": 20.67222173,
                        "test": [
                          0.8201992006,
                          0.7439911886
                        ]
                      },
                      {
                        "learn": [
                          0.5802826699
                        ],
                        "iteration": 104,
                        "passed_time": 22.66003644,
                        "remaining_time": 20.50193773,
                        "test": [
                          0.8210453665,
                          0.7420280965
                        ]
                      },
                      {
                        "learn": [
                          0.579746892
                        ],
                        "iteration": 105,
                        "passed_time": 22.88707136,
                        "remaining_time": 20.29608215,
                        "test": [
                          0.8214556961,
                          0.7414948491
                        ]
                      },
                      {
                        "learn": [
                          0.5782360579
                        ],
                        "iteration": 106,
                        "passed_time": 23.13683657,
                        "remaining_time": 20.10958693,
                        "test": [
                          0.8221230301,
                          0.7394235548
                        ]
                      },
                      {
                        "learn": [
                          0.5733883317
                        ],
                        "iteration": 107,
                        "passed_time": 23.35944661,
                        "remaining_time": 19.89878785,
                        "test": [
                          0.8225881806,
                          0.7365866002
                        ]
                      },
                      {
                        "learn": [
                          0.5691226051
                        ],
                        "iteration": 108,
                        "passed_time": 23.57567542,
                        "remaining_time": 19.68244462,
                        "test": [
                          0.8226605138,
                          0.7343668596
                        ]
                      },
                      {
                        "learn": [
                          0.5678589246
                        ],
                        "iteration": 109,
                        "passed_time": 23.79850618,
                        "remaining_time": 19.47150505,
                        "test": [
                          0.8235588727,
                          0.7326607558
                        ]
                      },
                      {
                        "learn": [
                          0.5664344934
                        ],
                        "iteration": 110,
                        "passed_time": 24.04838052,
                        "remaining_time": 19.28203483,
                        "test": [
                          0.8243886894,
                          0.7309495382
                        ]
                      },
                      {
                        "learn": [
                          0.5660648896
                        ],
                        "iteration": 111,
                        "passed_time": 24.27222234,
                        "remaining_time": 19.07103184,
                        "test": [
                          0.824619911,
                          0.7304008215
                        ]
                      },
                      {
                        "learn": [
                          0.5622986541
                        ],
                        "iteration": 112,
                        "passed_time": 24.51629254,
                        "remaining_time": 18.87537567,
                        "test": [
                          0.8241948554,
                          0.7293283971
                        ]
                      },
                      {
                        "learn": [
                          0.5611071445
                        ],
                        "iteration": 113,
                        "passed_time": 24.73886754,
                        "remaining_time": 18.66265446,
                        "test": [
                          0.8249339148,
                          0.72785783
                        ]
                      },
                      {
                        "learn": [
                          0.5608826711
                        ],
                        "iteration": 114,
                        "passed_time": 24.89988624,
                        "remaining_time": 18.40426374,
                        "test": [
                          0.8249840343,
                          0.7275637
                        ]
                      },
                      {
                        "learn": [
                          0.559472869
                        ],
                        "iteration": 115,
                        "passed_time": 25.15190715,
                        "remaining_time": 18.21345,
                        "test": [
                          0.8256355659,
                          0.7259514823
                        ]
                      },
                      {
                        "learn": [
                          0.5586734622
                        ],
                        "iteration": 116,
                        "passed_time": 25.36835689,
                        "remaining_time": 17.99635574,
                        "test": [
                          0.8259619734,
                          0.7252107593
                        ]
                      },
                      {
                        "learn": [
                          0.5573578885
                        ],
                        "iteration": 117,
                        "passed_time": 25.59028097,
                        "remaining_time": 17.78307661,
                        "test": [
                          0.826516634,
                          0.7236578958
                        ]
                      },
                      {
                        "learn": [
                          0.553154619
                        ],
                        "iteration": 118,
                        "passed_time": 25.82741467,
                        "remaining_time": 17.58000494,
                        "test": [
                          0.8267251119,
                          0.721360933
                        ]
                      },
                      {
                        "learn": [
                          0.5518675887
                        ],
                        "iteration": 119,
                        "passed_time": 26.07400145,
                        "remaining_time": 17.38266763,
                        "test": [
                          0.8272440216,
                          0.7198398945
                        ]
                      },
                      {
                        "learn": [
                          0.5481211472
                        ],
                        "iteration": 120,
                        "passed_time": 26.29050682,
                        "remaining_time": 17.16487635,
                        "test": [
                          0.8272010974,
                          0.7179361003
                        ]
                      },
                      {
                        "learn": [
                          0.5447804772
                        ],
                        "iteration": 121,
                        "passed_time": 26.53071096,
                        "remaining_time": 16.96225782,
                        "test": [
                          0.8267957134,
                          0.7170920752
                        ]
                      },
                      {
                        "learn": [
                          0.5446396865
                        ],
                        "iteration": 122,
                        "passed_time": 26.74391352,
                        "remaining_time": 16.74212473,
                        "test": [
                          0.8268868778,
                          0.7169160577
                        ]
                      },
                      {
                        "learn": [
                          0.5432971918
                        ],
                        "iteration": 123,
                        "passed_time": 26.96933316,
                        "remaining_time": 16.52959129,
                        "test": [
                          0.8275292641,
                          0.7155138392
                        ]
                      },
                      {
                        "learn": [
                          0.5432277996
                        ],
                        "iteration": 124,
                        "passed_time": 27.22191385,
                        "remaining_time": 16.33314831,
                        "test": [
                          0.8275403299,
                          0.7154821651
                        ]
                      },
                      {
                        "learn": [
                          0.5421154596
                        ],
                        "iteration": 125,
                        "passed_time": 27.44640253,
                        "remaining_time": 16.11931577,
                        "test": [
                          0.8281162998,
                          0.7139251902
                        ]
                      },
                      {
                        "learn": [
                          0.5411164955
                        ],
                        "iteration": 126,
                        "passed_time": 27.66837516,
                        "remaining_time": 15.90386919,
                        "test": [
                          0.828328063,
                          0.7125449923
                        ]
                      },
                      {
                        "learn": [
                          0.5410499855
                        ],
                        "iteration": 127,
                        "passed_time": 27.88010283,
                        "remaining_time": 15.68255784,
                        "test": [
                          0.8283008108,
                          0.7125202779
                        ]
                      },
                      {
                        "learn": [
                          0.5399109834
                        ],
                        "iteration": 128,
                        "passed_time": 28.13014954,
                        "remaining_time": 15.48248541,
                        "test": [
                          0.8288739739,
                          0.711059997
                        ]
                      },
                      {
                        "learn": [
                          0.5367545071
                        ],
                        "iteration": 129,
                        "passed_time": 28.36671028,
                        "remaining_time": 15.27438246,
                        "test": [
                          0.8284858007,
                          0.7102910959
                        ]
                      },
                      {
                        "learn": [
                          0.5364843102
                        ],
                        "iteration": 130,
                        "passed_time": 28.57857864,
                        "remaining_time": 15.05283913,
                        "test": [
                          0.8287177744,
                          0.7099357557
                        ]
                      },
                      {
                        "learn": [
                          0.5335076363
                        ],
                        "iteration": 131,
                        "passed_time": 28.81730503,
                        "remaining_time": 14.84527835,
                        "test": [
                          0.8283368217,
                          0.7092352503
                        ]
                      },
                      {
                        "learn": [
                          0.5324480889
                        ],
                        "iteration": 132,
                        "passed_time": 29.05526518,
                        "remaining_time": 14.63686291,
                        "test": [
                          0.8288538729,
                          0.7079035622
                        ]
                      },
                      {
                        "learn": [
                          0.5314518489
                        ],
                        "iteration": 133,
                        "passed_time": 29.29366958,
                        "remaining_time": 14.42822532,
                        "test": [
                          0.8291726761,
                          0.7067355786
                        ]
                      },
                      {
                        "learn": [
                          0.5285960459
                        ],
                        "iteration": 134,
                        "passed_time": 29.52327968,
                        "remaining_time": 14.21491244,
                        "test": [
                          0.8288063423,
                          0.7060993043
                        ]
                      },
                      {
                        "learn": [
                          0.5278138202
                        ],
                        "iteration": 135,
                        "passed_time": 29.74490226,
                        "remaining_time": 13.99760106,
                        "test": [
                          0.8291678091,
                          0.7049726798
                        ]
                      },
                      {
                        "learn": [
                          0.5265464498
                        ],
                        "iteration": 136,
                        "passed_time": 29.96550766,
                        "remaining_time": 13.779759,
                        "test": [
                          0.8299650174,
                          0.7034590318
                        ]
                      },
                      {
                        "learn": [
                          0.5257004581
                        ],
                        "iteration": 137,
                        "passed_time": 30.20755241,
                        "remaining_time": 13.57150906,
                        "test": [
                          0.8301364767,
                          0.7022779426
                        ]
                      },
                      {
                        "learn": [
                          0.5251846286
                        ],
                        "iteration": 138,
                        "passed_time": 30.38384405,
                        "remaining_time": 13.33391717,
                        "test": [
                          0.8303694044,
                          0.7016525895
                        ]
                      },
                      {
                        "learn": [
                          0.521955217
                        ],
                        "iteration": 139,
                        "passed_time": 30.61054258,
                        "remaining_time": 13.11880396,
                        "test": [
                          0.8303015971,
                          0.7001839704
                        ]
                      },
                      {
                        "learn": [
                          0.5188383568
                        ],
                        "iteration": 140,
                        "passed_time": 30.82536008,
                        "remaining_time": 12.89855493,
                        "test": [
                          0.8302596188,
                          0.6987441776
                        ]
                      },
                      {
                        "learn": [
                          0.5178936548
                        ],
                        "iteration": 141,
                        "passed_time": 31.05699501,
                        "remaining_time": 12.68525148,
                        "test": [
                          0.8307201691,
                          0.6974338701
                        ]
                      },
                      {
                        "learn": [
                          0.5177214379
                        ],
                        "iteration": 142,
                        "passed_time": 31.29352937,
                        "remaining_time": 12.47364457,
                        "test": [
                          0.8307310506,
                          0.6973260838
                        ]
                      },
                      {
                        "learn": [
                          0.5166836061
                        ],
                        "iteration": 143,
                        "passed_time": 31.52456962,
                        "remaining_time": 12.25955485,
                        "test": [
                          0.8314395329,
                          0.6956858852
                        ]
                      },
                      {
                        "learn": [
                          0.5164938065
                        ],
                        "iteration": 144,
                        "passed_time": 31.73465252,
                        "remaining_time": 12.03728199,
                        "test": [
                          0.8316067451,
                          0.6954263063
                        ]
                      },
                      {
                        "learn": [
                          0.5135766658
                        ],
                        "iteration": 145,
                        "passed_time": 31.96105408,
                        "remaining_time": 11.82121178,
                        "test": [
                          0.8314479149,
                          0.6941802348
                        ]
                      },
                      {
                        "learn": [
                          0.5129355715
                        ],
                        "iteration": 146,
                        "passed_time": 32.19262544,
                        "remaining_time": 11.60686495,
                        "test": [
                          0.8317842256,
                          0.6934431056
                        ]
                      },
                      {
                        "learn": [
                          0.5117798813
                        ],
                        "iteration": 147,
                        "passed_time": 32.41697068,
                        "remaining_time": 11.38974645,
                        "test": [
                          0.8323076948,
                          0.6918916227
                        ]
                      },
                      {
                        "learn": [
                          0.5108225032
                        ],
                        "iteration": 148,
                        "passed_time": 32.6271619,
                        "remaining_time": 11.16768629,
                        "test": [
                          0.8330035137,
                          0.6907764116
                        ]
                      },
                      {
                        "learn": [
                          0.5100531357
                        ],
                        "iteration": 149,
                        "passed_time": 32.79616353,
                        "remaining_time": 10.93205451,
                        "test": [
                          0.8333844615,
                          0.6896779077
                        ]
                      },
                      {
                        "learn": [
                          0.5092454751
                        ],
                        "iteration": 150,
                        "passed_time": 33.01303191,
                        "remaining_time": 10.71283817,
                        "test": [
                          0.833746553,
                          0.6886156855
                        ]
                      },
                      {
                        "learn": [
                          0.505880412
                        ],
                        "iteration": 151,
                        "passed_time": 33.3328139,
                        "remaining_time": 10.52615176,
                        "test": [
                          0.8338086824,
                          0.687165797
                        ]
                      },
                      {
                        "learn": [
                          0.5032367003
                        ],
                        "iteration": 152,
                        "passed_time": 33.50228148,
                        "remaining_time": 10.29155052,
                        "test": [
                          0.8336784048,
                          0.6863148738
                        ]
                      },
                      {
                        "learn": [
                          0.4999031919
                        ],
                        "iteration": 153,
                        "passed_time": 33.75151671,
                        "remaining_time": 10.08162187,
                        "test": [
                          0.8337044667,
                          0.6848219776
                        ]
                      },
                      {
                        "learn": [
                          0.4970683135
                        ],
                        "iteration": 154,
                        "passed_time": 33.91203415,
                        "remaining_time": 9.84542927,
                        "test": [
                          0.833558334,
                          0.6837028239
                        ]
                      },
                      {
                        "learn": [
                          0.4966631908
                        ],
                        "iteration": 155,
                        "passed_time": 34.13863581,
                        "remaining_time": 9.628845997,
                        "test": [
                          0.8337407462,
                          0.6832073077
                        ]
                      },
                      {
                        "learn": [
                          0.4965470629
                        ],
                        "iteration": 156,
                        "passed_time": 34.3660359,
                        "remaining_time": 9.412353783,
                        "test": [
                          0.8337420192,
                          0.683156967
                        ]
                      },
                      {
                        "learn": [
                          0.4938372262
                        ],
                        "iteration": 157,
                        "passed_time": 34.52862299,
                        "remaining_time": 9.178494719,
                        "test": [
                          0.8335621189,
                          0.6821595833
                        ]
                      },
                      {
                        "learn": [
                          0.4937755388
                        ],
                        "iteration": 158,
                        "passed_time": 34.74747165,
                        "remaining_time": 8.960039859,
                        "test": [
                          0.8335377556,
                          0.6821419644
                        ]
                      },
                      {
                        "learn": [
                          0.4915061191
                        ],
                        "iteration": 159,
                        "passed_time": 34.92201034,
                        "remaining_time": 8.730502585,
                        "test": [
                          0.8334118227,
                          0.6814544752
                        ]
                      },
                      {
                        "learn": [
                          0.4885655469
                        ],
                        "iteration": 160,
                        "passed_time": 35.16459148,
                        "remaining_time": 8.518130856,
                        "test": [
                          0.833276054,
                          0.6803112355
                        ]
                      },
                      {
                        "learn": [
                          0.4857316299
                        ],
                        "iteration": 161,
                        "passed_time": 35.34606598,
                        "remaining_time": 8.291052514,
                        "test": [
                          0.8331118924,
                          0.679261287
                        ]
                      },
                      {
                        "learn": [
                          0.4850373131
                        ],
                        "iteration": 162,
                        "passed_time": 35.56636864,
                        "remaining_time": 8.073347483,
                        "test": [
                          0.833161613,
                          0.6788898443
                        ]
                      },
                      {
                        "learn": [
                          0.4824868425
                        ],
                        "iteration": 163,
                        "passed_time": 35.73009186,
                        "remaining_time": 7.843190897,
                        "test": [
                          0.8330281711,
                          0.6780767369
                        ]
                      },
                      {
                        "learn": [
                          0.4799179806
                        ],
                        "iteration": 164,
                        "passed_time": 35.89424384,
                        "remaining_time": 7.613930512,
                        "test": [
                          0.8327694449,
                          0.6772345493
                        ]
                      },
                      {
                        "learn": [
                          0.4775776489
                        ],
                        "iteration": 165,
                        "passed_time": 36.05540191,
                        "remaining_time": 7.384841355,
                        "test": [
                          0.832546175,
                          0.676582384
                        ]
                      },
                      {
                        "learn": [
                          0.4768366781
                        ],
                        "iteration": 166,
                        "passed_time": 36.28784213,
                        "remaining_time": 7.170651439,
                        "test": [
                          0.8329480667,
                          0.6755230244
                        ]
                      },
                      {
                        "learn": [
                          0.4744482877
                        ],
                        "iteration": 167,
                        "passed_time": 36.46434315,
                        "remaining_time": 6.945589172,
                        "test": [
                          0.8326072179,
                          0.6748687002
                        ]
                      },
                      {
                        "learn": [
                          0.4721551461
                        ],
                        "iteration": 168,
                        "passed_time": 36.64747307,
                        "remaining_time": 6.722317545,
                        "test": [
                          0.8324527378,
                          0.6739688305
                        ]
                      },
                      {
                        "learn": [
                          0.4715129949
                        ],
                        "iteration": 169,
                        "passed_time": 36.87537808,
                        "remaining_time": 6.50741966,
                        "test": [
                          0.8327221536,
                          0.6730816121
                        ]
                      },
                      {
                        "learn": [
                          0.4712195174
                        ],
                        "iteration": 170,
                        "passed_time": 37.16826606,
                        "remaining_time": 6.303390151,
                        "test": [
                          0.832959623,
                          0.6726998807
                        ]
                      },
                      {
                        "learn": [
                          0.4690092208
                        ],
                        "iteration": 171,
                        "passed_time": 37.54657784,
                        "remaining_time": 6.112233602,
                        "test": [
                          0.8327921363,
                          0.671912858
                        ]
                      },
                      {
                        "learn": [
                          0.468799826
                        ],
                        "iteration": 172,
                        "passed_time": 37.95216704,
                        "remaining_time": 5.923170578,
                        "test": [
                          0.8329036015,
                          0.6715899482
                        ]
                      },
                      {
                        "learn": [
                          0.4666772273
                        ],
                        "iteration": 173,
                        "passed_time": 38.27333399,
                        "remaining_time": 5.71900393,
                        "test": [
                          0.8324792791,
                          0.6711699731
                        ]
                      },
                      {
                        "learn": [
                          0.4649519964
                        ],
                        "iteration": 174,
                        "passed_time": 38.55642464,
                        "remaining_time": 5.508060662,
                        "test": [
                          0.8323757055,
                          0.6708102684
                        ]
                      },
                      {
                        "learn": [
                          0.4642786168
                        ],
                        "iteration": 175,
                        "passed_time": 38.99772641,
                        "remaining_time": 5.317871783,
                        "test": [
                          0.8326351997,
                          0.6700561383
                        ]
                      },
                      {
                        "learn": [
                          0.4640509613
                        ],
                        "iteration": 176,
                        "passed_time": 39.43226423,
                        "remaining_time": 5.123966538,
                        "test": [
                          0.8328678941,
                          0.6698143672
                        ]
                      },
                      {
                        "learn": [
                          0.4620420699
                        ],
                        "iteration": 177,
                        "passed_time": 39.82102308,
                        "remaining_time": 4.921699482,
                        "test": [
                          0.8324854757,
                          0.6694728832
                        ]
                      },
                      {
                        "learn": [
                          0.4612623051
                        ],
                        "iteration": 178,
                        "passed_time": 40.25671269,
                        "remaining_time": 4.722854562,
                        "test": [
                          0.8329767442,
                          0.6684098725
                        ]
                      },
                      {
                        "learn": [
                          0.4609730301
                        ],
                        "iteration": 179,
                        "passed_time": 40.54146476,
                        "remaining_time": 4.504607195,
                        "test": [
                          0.8331368224,
                          0.6680395611
                        ]
                      },
                      {
                        "learn": [
                          0.4604656157
                        ],
                        "iteration": 180,
                        "passed_time": 40.76418696,
                        "remaining_time": 4.279113548,
                        "test": [
                          0.8333017531,
                          0.6673609279
                        ]
                      },
                      {
                        "learn": [
                          0.4597539892
                        ],
                        "iteration": 181,
                        "passed_time": 40.98829151,
                        "remaining_time": 4.053787072,
                        "test": [
                          0.8336484401,
                          0.6665903611
                        ]
                      },
                      {
                        "learn": [
                          0.4595720717
                        ],
                        "iteration": 182,
                        "passed_time": 41.1964343,
                        "remaining_time": 3.826991164,
                        "test": [
                          0.8337592838,
                          0.6663060228
                        ]
                      },
                      {
                        "learn": [
                          0.4589413823
                        ],
                        "iteration": 183,
                        "passed_time": 41.44422958,
                        "remaining_time": 3.60384605,
                        "test": [
                          0.8341177333,
                          0.665529044
                        ]
                      },
                      {
                        "learn": [
                          0.4586948754
                        ],
                        "iteration": 184,
                        "passed_time": 41.66960746,
                        "remaining_time": 3.378616821,
                        "test": [
                          0.8342085774,
                          0.6653003023
                        ]
                      },
                      {
                        "learn": [
                          0.4570873869
                        ],
                        "iteration": 185,
                        "passed_time": 41.91248854,
                        "remaining_time": 3.154703438,
                        "test": [
                          0.8342961481,
                          0.6647745752
                        ]
                      },
                      {
                        "learn": [
                          0.4552937729
                        ],
                        "iteration": 186,
                        "passed_time": 42.07775771,
                        "remaining_time": 2.925191712,
                        "test": [
                          0.8339982699,
                          0.6645630923
                        ]
                      },
                      {
                        "learn": [
                          0.4550090184
                        ],
                        "iteration": 187,
                        "passed_time": 42.31029879,
                        "remaining_time": 2.70065737,
                        "test": [
                          0.8342008058,
                          0.6642373728
                        ]
                      },
                      {
                        "learn": [
                          0.4544022341
                        ],
                        "iteration": 188,
                        "passed_time": 42.55648582,
                        "remaining_time": 2.476832508,
                        "test": [
                          0.8343191792,
                          0.663390808
                        ]
                      },
                      {
                        "learn": [
                          0.4526384564
                        ],
                        "iteration": 189,
                        "passed_time": 42.79957949,
                        "remaining_time": 2.252609447,
                        "test": [
                          0.8338176347,
                          0.6632344287
                        ]
                      },
                      {
                        "learn": [
                          0.4517372357
                        ],
                        "iteration": 190,
                        "passed_time": 43.01927663,
                        "remaining_time": 2.027086333,
                        "test": [
                          0.8343684586,
                          0.6621923819
                        ]
                      },
                      {
                        "learn": [
                          0.4500124878
                        ],
                        "iteration": 191,
                        "passed_time": 43.25262482,
                        "remaining_time": 1.802192701,
                        "test": [
                          0.8340354767,
                          0.6618989595
                        ]
                      },
                      {
                        "learn": [
                          0.4498908335
                        ],
                        "iteration": 192,
                        "passed_time": 43.49114149,
                        "remaining_time": 1.577398914,
                        "test": [
                          0.8341591904,
                          0.6617312979
                        ]
                      },
                      {
                        "learn": [
                          0.4493649386
                        ],
                        "iteration": 193,
                        "passed_time": 43.73881649,
                        "remaining_time": 1.352746902,
                        "test": [
                          0.8344351871,
                          0.6610970905
                        ]
                      },
                      {
                        "learn": [
                          0.4491962435
                        ],
                        "iteration": 194,
                        "passed_time": 43.96520554,
                        "remaining_time": 1.127312963,
                        "test": [
                          0.8344992334,
                          0.6609899848
                        ]
                      },
                      {
                        "learn": [
                          0.4486681837
                        ],
                        "iteration": 195,
                        "passed_time": 44.18186967,
                        "remaining_time": 0.9016708097,
                        "test": [
                          0.8348058754,
                          0.6602711878
                        ]
                      },
                      {
                        "learn": [
                          0.4485051963
                        ],
                        "iteration": 196,
                        "passed_time": 44.41726387,
                        "remaining_time": 0.6764050335,
                        "test": [
                          0.8349367042,
                          0.6601006791
                        ]
                      },
                      {
                        "learn": [
                          0.4482880093
                        ],
                        "iteration": 197,
                        "passed_time": 44.64820519,
                        "remaining_time": 0.4509919716,
                        "test": [
                          0.8350392799,
                          0.6598637145
                        ]
                      },
                      {
                        "learn": [
                          0.448083199
                        ],
                        "iteration": 198,
                        "passed_time": 44.8748474,
                        "remaining_time": 0.2255017457,
                        "test": [
                          0.8351441308,
                          0.6596390515
                        ]
                      },
                      {
                        "learn": [
                          0.4465491065
                        ],
                        "iteration": 199,
                        "passed_time": 45.04032666,
                        "remaining_time": 0,
                        "test": [
                          0.8349172697,
                          0.6594188333
                        ]
                      }
                    ],
                    "meta": {
                      "test_sets": [
                        "test"
                      ],
                      "test_metrics": [
                        {
                          "best_value": "Max",
                          "name": "AUC:type=Mu"
                        },
                        {
                          "best_value": "Min",
                          "name": "MultiClass"
                        }
                      ],
                      "learn_metrics": [
                        {
                          "best_value": "Min",
                          "name": "MultiClass"
                        }
                      ],
                      "launch_mode": "Train",
                      "parameters": "",
                      "iteration_count": 200,
                      "learn_sets": [
                        "learn"
                      ],
                      "name": "experiment"
                    }
                  }
                }
              },
              "catboost_info/model-1": {
                "path": "catboost_info/model-1",
                "name": "model-1",
                "content": {
                  "passed_iterations": 199,
                  "total_iterations": 200,
                  "data": {
                    "iterations": [
                      {
                        "learn": [
                          1.096378662
                        ],
                        "iteration": 0,
                        "passed_time": 0.2569787026,
                        "remaining_time": 51.13876181,
                        "test": [
                          0.6134708791,
                          1.09603768
                        ]
                      },
                      {
                        "learn": [
                          1.078065066
                        ],
                        "iteration": 1,
                        "passed_time": 0.5246936497,
                        "remaining_time": 51.94467132,
                        "test": [
                          0.6524912554,
                          1.085590041
                        ]
                      },
                      {
                        "learn": [
                          1.061101124
                        ],
                        "iteration": 2,
                        "passed_time": 0.673178236,
                        "remaining_time": 44.20537083,
                        "test": [
                          0.655966785,
                          1.078202935
                        ]
                      },
                      {
                        "learn": [
                          1.045072162
                        ],
                        "iteration": 3,
                        "passed_time": 0.9523104824,
                        "remaining_time": 46.66321364,
                        "test": [
                          0.6555091481,
                          1.068780334
                        ]
                      },
                      {
                        "learn": [
                          1.030188774
                        ],
                        "iteration": 4,
                        "passed_time": 1.109618935,
                        "remaining_time": 43.27513847,
                        "test": [
                          0.6535242727,
                          1.062088665
                        ]
                      },
                      {
                        "learn": [
                          1.020640606
                        ],
                        "iteration": 5,
                        "passed_time": 1.319257908,
                        "remaining_time": 42.65600568,
                        "test": [
                          0.6526904905,
                          1.058098512
                        ]
                      },
                      {
                        "learn": [
                          1.007328703
                        ],
                        "iteration": 6,
                        "passed_time": 1.475944451,
                        "remaining_time": 40.69389701,
                        "test": [
                          0.6517719886,
                          1.052033156
                        ]
                      },
                      {
                        "learn": [
                          0.9948640735
                        ],
                        "iteration": 7,
                        "passed_time": 1.628130527,
                        "remaining_time": 39.07513264,
                        "test": [
                          0.6501475919,
                          1.04631935
                        ]
                      },
                      {
                        "learn": [
                          0.9835794694
                        ],
                        "iteration": 8,
                        "passed_time": 1.798212623,
                        "remaining_time": 38.16206789,
                        "test": [
                          0.65206051,
                          1.038658519
                        ]
                      },
                      {
                        "learn": [
                          0.9770495411
                        ],
                        "iteration": 9,
                        "passed_time": 1.960713969,
                        "remaining_time": 37.25356541,
                        "test": [
                          0.6564407784,
                          1.035771655
                        ]
                      },
                      {
                        "learn": [
                          0.9668172018
                        ],
                        "iteration": 10,
                        "passed_time": 2.121515008,
                        "remaining_time": 36.45148513,
                        "test": [
                          0.6562945904,
                          1.028748693
                        ]
                      },
                      {
                        "learn": [
                          0.9560388168
                        ],
                        "iteration": 11,
                        "passed_time": 2.27526896,
                        "remaining_time": 35.64588038,
                        "test": [
                          0.6559312062,
                          1.021885094
                        ]
                      },
                      {
                        "learn": [
                          0.9460241289
                        ],
                        "iteration": 12,
                        "passed_time": 2.42424318,
                        "remaining_time": 34.87180575,
                        "test": [
                          0.65627676,
                          1.017201648
                        ]
                      },
                      {
                        "learn": [
                          0.9362163527
                        ],
                        "iteration": 13,
                        "passed_time": 2.577587415,
                        "remaining_time": 34.24508994,
                        "test": [
                          0.6559554416,
                          1.012805553
                        ]
                      },
                      {
                        "learn": [
                          0.9268922382
                        ],
                        "iteration": 14,
                        "passed_time": 2.727264869,
                        "remaining_time": 33.63626672,
                        "test": [
                          0.6560335963,
                          1.006664712
                        ]
                      },
                      {
                        "learn": [
                          0.9168304676
                        ],
                        "iteration": 15,
                        "passed_time": 2.909835741,
                        "remaining_time": 33.46311102,
                        "test": [
                          0.6480270463,
                          1.002681663
                        ]
                      },
                      {
                        "learn": [
                          0.9073936116
                        ],
                        "iteration": 16,
                        "passed_time": 3.067262083,
                        "remaining_time": 33.01817419,
                        "test": [
                          0.6480293599,
                          0.99894116
                        ]
                      },
                      {
                        "learn": [
                          0.9019286583
                        ],
                        "iteration": 17,
                        "passed_time": 3.276570731,
                        "remaining_time": 33.12977073,
                        "test": [
                          0.647916201,
                          0.9972333511
                        ]
                      },
                      {
                        "learn": [
                          0.8936137741
                        ],
                        "iteration": 18,
                        "passed_time": 3.436298416,
                        "remaining_time": 32.73526386,
                        "test": [
                          0.6478463197,
                          0.9940149778
                        ]
                      },
                      {
                        "learn": [
                          0.8858532927
                        ],
                        "iteration": 19,
                        "passed_time": 3.592892761,
                        "remaining_time": 32.33603485,
                        "test": [
                          0.6462681412,
                          0.9910181753
                        ]
                      },
                      {
                        "learn": [
                          0.8785246512
                        ],
                        "iteration": 20,
                        "passed_time": 3.746745201,
                        "remaining_time": 31.93654243,
                        "test": [
                          0.6476718426,
                          0.9859090103
                        ]
                      },
                      {
                        "learn": [
                          0.8740434671
                        ],
                        "iteration": 21,
                        "passed_time": 3.964992188,
                        "remaining_time": 32.08039134,
                        "test": [
                          0.6457216999,
                          0.9846827428
                        ]
                      },
                      {
                        "learn": [
                          0.8697963113
                        ],
                        "iteration": 22,
                        "passed_time": 4.130544938,
                        "remaining_time": 31.78723713,
                        "test": [
                          0.6430228422,
                          0.9835694341
                        ]
                      },
                      {
                        "learn": [
                          0.8657616241
                        ],
                        "iteration": 23,
                        "passed_time": 4.284888132,
                        "remaining_time": 31.42251297,
                        "test": [
                          0.6402564712,
                          0.9824256579
                        ]
                      },
                      {
                        "learn": [
                          0.8597907412
                        ],
                        "iteration": 24,
                        "passed_time": 4.434168484,
                        "remaining_time": 31.03917939,
                        "test": [
                          0.6429121677,
                          0.9778394433
                        ]
                      },
                      {
                        "learn": [
                          0.8542286721
                        ],
                        "iteration": 25,
                        "passed_time": 4.593174678,
                        "remaining_time": 30.73893823,
                        "test": [
                          0.6672044907,
                          0.9734085783
                        ]
                      },
                      {
                        "learn": [
                          0.8482649031
                        ],
                        "iteration": 26,
                        "passed_time": 4.743730531,
                        "remaining_time": 30.39501415,
                        "test": [
                          0.6686633332,
                          0.9691891266
                        ]
                      },
                      {
                        "learn": [
                          0.8426347665
                        ],
                        "iteration": 27,
                        "passed_time": 4.926391491,
                        "remaining_time": 30.26211916,
                        "test": [
                          0.6697835041,
                          0.9652376234
                        ]
                      },
                      {
                        "learn": [
                          0.8392610192
                        ],
                        "iteration": 28,
                        "passed_time": 5.076062549,
                        "remaining_time": 29.93126538,
                        "test": [
                          0.6681601768,
                          0.9645023628
                        ]
                      },
                      {
                        "learn": [
                          0.8331621554
                        ],
                        "iteration": 29,
                        "passed_time": 5.238771958,
                        "remaining_time": 29.68637443,
                        "test": [
                          0.667735591,
                          0.9621829513
                        ]
                      },
                      {
                        "learn": [
                          0.8275736808
                        ],
                        "iteration": 30,
                        "passed_time": 5.393910747,
                        "remaining_time": 29.40551343,
                        "test": [
                          0.6687310918,
                          0.9577019764
                        ]
                      },
                      {
                        "learn": [
                          0.823028
                        ],
                        "iteration": 31,
                        "passed_time": 5.546698039,
                        "remaining_time": 29.12016471,
                        "test": [
                          0.6700604365,
                          0.9541543735
                        ]
                      },
                      {
                        "learn": [
                          0.8174338487
                        ],
                        "iteration": 32,
                        "passed_time": 5.696724963,
                        "remaining_time": 28.82888087,
                        "test": [
                          0.6691868554,
                          0.9521368014
                        ]
                      },
                      {
                        "learn": [
                          0.8116948045
                        ],
                        "iteration": 33,
                        "passed_time": 5.880185009,
                        "remaining_time": 28.70913858,
                        "test": [
                          0.6822245474,
                          0.948103018
                        ]
                      },
                      {
                        "learn": [
                          0.8095372155
                        ],
                        "iteration": 34,
                        "passed_time": 6.039084682,
                        "remaining_time": 28.46997065,
                        "test": [
                          0.682746617,
                          0.9449796494
                        ]
                      },
                      {
                        "learn": [
                          0.8048264163
                        ],
                        "iteration": 35,
                        "passed_time": 6.206515806,
                        "remaining_time": 28.27412756,
                        "test": [
                          0.6834313829,
                          0.9412544714
                        ]
                      },
                      {
                        "learn": [
                          0.7972769249
                        ],
                        "iteration": 36,
                        "passed_time": 6.405767937,
                        "remaining_time": 28.22000469,
                        "test": [
                          0.7244067651,
                          0.93339325
                        ]
                      },
                      {
                        "learn": [
                          0.7908134217
                        ],
                        "iteration": 37,
                        "passed_time": 6.560125547,
                        "remaining_time": 27.96685102,
                        "test": [
                          0.7368297221,
                          0.9267051858
                        ]
                      },
                      {
                        "learn": [
                          0.7866786964
                        ],
                        "iteration": 38,
                        "passed_time": 6.719279463,
                        "remaining_time": 27.73856394,
                        "test": [
                          0.7401480292,
                          0.9226515781
                        ]
                      },
                      {
                        "learn": [
                          0.7800867862
                        ],
                        "iteration": 39,
                        "passed_time": 6.897080465,
                        "remaining_time": 27.58832186,
                        "test": [
                          0.7450728858,
                          0.9159326317
                        ]
                      },
                      {
                        "learn": [
                          0.7736985582
                        ],
                        "iteration": 40,
                        "passed_time": 7.057362158,
                        "remaining_time": 27.36879471,
                        "test": [
                          0.7496708778,
                          0.909279997
                        ]
                      },
                      {
                        "learn": [
                          0.7679016585
                        ],
                        "iteration": 41,
                        "passed_time": 7.265277508,
                        "remaining_time": 27.33128205,
                        "test": [
                          0.7601784762,
                          0.9034564478
                        ]
                      },
                      {
                        "learn": [
                          0.7646581238
                        ],
                        "iteration": 42,
                        "passed_time": 7.454540521,
                        "remaining_time": 27.21774097,
                        "test": [
                          0.7620144769,
                          0.9002860727
                        ]
                      },
                      {
                        "learn": [
                          0.7607206857
                        ],
                        "iteration": 43,
                        "passed_time": 7.621325754,
                        "remaining_time": 27.02106404,
                        "test": [
                          0.7616022828,
                          0.8972101938
                        ]
                      },
                      {
                        "learn": [
                          0.7574565608
                        ],
                        "iteration": 44,
                        "passed_time": 7.788982889,
                        "remaining_time": 26.82871884,
                        "test": [
                          0.763717835,
                          0.8940294562
                        ]
                      },
                      {
                        "learn": [
                          0.7523136439
                        ],
                        "iteration": 45,
                        "passed_time": 7.966715527,
                        "remaining_time": 26.67117807,
                        "test": [
                          0.7686745622,
                          0.8887264753
                        ]
                      },
                      {
                        "learn": [
                          0.7486971282
                        ],
                        "iteration": 46,
                        "passed_time": 8.121505687,
                        "remaining_time": 26.43809298,
                        "test": [
                          0.7677860749,
                          0.8859215591
                        ]
                      },
                      {
                        "learn": [
                          0.7436194999
                        ],
                        "iteration": 47,
                        "passed_time": 8.287416643,
                        "remaining_time": 26.24348604,
                        "test": [
                          0.7726330963,
                          0.8806941436
                        ]
                      },
                      {
                        "learn": [
                          0.7362040518
                        ],
                        "iteration": 48,
                        "passed_time": 8.461513112,
                        "remaining_time": 26.0752751,
                        "test": [
                          0.7722947072,
                          0.8766051978
                        ]
                      },
                      {
                        "learn": [
                          0.7337292038
                        ],
                        "iteration": 49,
                        "passed_time": 8.62188841,
                        "remaining_time": 25.86566523,
                        "test": [
                          0.773869113,
                          0.8741404657
                        ]
                      },
                      {
                        "learn": [
                          0.7311256433
                        ],
                        "iteration": 50,
                        "passed_time": 8.774416185,
                        "remaining_time": 25.63505905,
                        "test": [
                          0.7748495992,
                          0.8715445654
                        ]
                      },
                      {
                        "learn": [
                          0.729765916
                        ],
                        "iteration": 51,
                        "passed_time": 9.003286561,
                        "remaining_time": 25.62473867,
                        "test": [
                          0.7754328271,
                          0.8696646612
                        ]
                      },
                      {
                        "learn": [
                          0.7284805412
                        ],
                        "iteration": 52,
                        "passed_time": 9.159494339,
                        "remaining_time": 25.40463524,
                        "test": [
                          0.7754072612,
                          0.8678897394
                        ]
                      },
                      {
                        "learn": [
                          0.7218589842
                        ],
                        "iteration": 53,
                        "passed_time": 9.384410171,
                        "remaining_time": 25.37266454,
                        "test": [
                          0.7753244662,
                          0.8637112886
                        ]
                      },
                      {
                        "learn": [
                          0.7195341214
                        ],
                        "iteration": 54,
                        "passed_time": 9.536801958,
                        "remaining_time": 25.14247789,
                        "test": [
                          0.7770364152,
                          0.8610800054
                        ]
                      },
                      {
                        "learn": [
                          0.7132920073
                        ],
                        "iteration": 55,
                        "passed_time": 9.740503497,
                        "remaining_time": 25.04700899,
                        "test": [
                          0.7772881071,
                          0.8571392284
                        ]
                      },
                      {
                        "learn": [
                          0.707324357
                        ],
                        "iteration": 56,
                        "passed_time": 9.896282953,
                        "remaining_time": 24.82751688,
                        "test": [
                          0.7772995065,
                          0.8533458822
                        ]
                      },
                      {
                        "learn": [
                          0.7051448947
                        ],
                        "iteration": 57,
                        "passed_time": 10.07433414,
                        "remaining_time": 24.66474909,
                        "test": [
                          0.7780872062,
                          0.8511217877
                        ]
                      },
                      {
                        "learn": [
                          0.7037019518
                        ],
                        "iteration": 58,
                        "passed_time": 10.28376156,
                        "remaining_time": 24.57644712,
                        "test": [
                          0.7797546385,
                          0.8493287149
                        ]
                      },
                      {
                        "learn": [
                          0.698178724
                        ],
                        "iteration": 59,
                        "passed_time": 10.44041195,
                        "remaining_time": 24.36096121,
                        "test": [
                          0.7795343135,
                          0.8461494594
                        ]
                      },
                      {
                        "learn": [
                          0.6948084352
                        ],
                        "iteration": 60,
                        "passed_time": 10.64558968,
                        "remaining_time": 24.25798304,
                        "test": [
                          0.781976701,
                          0.8422163568
                        ]
                      },
                      {
                        "learn": [
                          0.6937112092
                        ],
                        "iteration": 61,
                        "passed_time": 10.85933048,
                        "remaining_time": 24.17076784,
                        "test": [
                          0.7821446467,
                          0.8406998025
                        ]
                      },
                      {
                        "learn": [
                          0.6885434894
                        ],
                        "iteration": 62,
                        "passed_time": 11.03170657,
                        "remaining_time": 23.98958414,
                        "test": [
                          0.7820032917,
                          0.8377546224
                        ]
                      },
                      {
                        "learn": [
                          0.6834949267
                        ],
                        "iteration": 63,
                        "passed_time": 11.18714676,
                        "remaining_time": 23.77268686,
                        "test": [
                          0.782074895,
                          0.8345988934
                        ]
                      },
                      {
                        "learn": [
                          0.6804889235
                        ],
                        "iteration": 64,
                        "passed_time": 11.39793907,
                        "remaining_time": 23.67264269,
                        "test": [
                          0.7839496252,
                          0.8306622551
                        ]
                      },
                      {
                        "learn": [
                          0.6781001788
                        ],
                        "iteration": 65,
                        "passed_time": 11.58456032,
                        "remaining_time": 23.52016793,
                        "test": [
                          0.7832256682,
                          0.8288036552
                        ]
                      },
                      {
                        "learn": [
                          0.6753733223
                        ],
                        "iteration": 66,
                        "passed_time": 11.79117879,
                        "remaining_time": 23.40636985,
                        "test": [
                          0.7858348944,
                          0.8245858419
                        ]
                      },
                      {
                        "learn": [
                          0.6707507421
                        ],
                        "iteration": 67,
                        "passed_time": 11.95675514,
                        "remaining_time": 23.21017175,
                        "test": [
                          0.7859715544,
                          0.8217549458
                        ]
                      },
                      {
                        "learn": [
                          0.6682733158
                        ],
                        "iteration": 68,
                        "passed_time": 12.17592986,
                        "remaining_time": 23.11662046,
                        "test": [
                          0.788938197,
                          0.8184560768
                        ]
                      },
                      {
                        "learn": [
                          0.667235469
                        ],
                        "iteration": 69,
                        "passed_time": 12.38787921,
                        "remaining_time": 23.00606139,
                        "test": [
                          0.7893662707,
                          0.816968094
                        ]
                      },
                      {
                        "learn": [
                          0.6653319382
                        ],
                        "iteration": 70,
                        "passed_time": 12.58055663,
                        "remaining_time": 22.85763106,
                        "test": [
                          0.790802245,
                          0.8145165419
                        ]
                      },
                      {
                        "learn": [
                          0.6644811668
                        ],
                        "iteration": 71,
                        "passed_time": 12.78351912,
                        "remaining_time": 22.72625621,
                        "test": [
                          0.7908869205,
                          0.8133400728
                        ]
                      },
                      {
                        "learn": [
                          0.6618539915
                        ],
                        "iteration": 72,
                        "passed_time": 12.98079827,
                        "remaining_time": 22.5830326,
                        "test": [
                          0.7926325187,
                          0.809691197
                        ]
                      },
                      {
                        "learn": [
                          0.6573253597
                        ],
                        "iteration": 73,
                        "passed_time": 13.21327783,
                        "remaining_time": 22.49828387,
                        "test": [
                          0.7932841013,
                          0.8065502099
                        ]
                      },
                      {
                        "learn": [
                          0.65499665
                        ],
                        "iteration": 74,
                        "passed_time": 13.42138227,
                        "remaining_time": 22.36897045,
                        "test": [
                          0.7951344572,
                          0.8031866948
                        ]
                      },
                      {
                        "learn": [
                          0.6528982664
                        ],
                        "iteration": 75,
                        "passed_time": 13.62405643,
                        "remaining_time": 22.22872366,
                        "test": [
                          0.7970513886,
                          0.8004469455
                        ]
                      },
                      {
                        "learn": [
                          0.6511800086
                        ],
                        "iteration": 76,
                        "passed_time": 13.82110884,
                        "remaining_time": 22.07787517,
                        "test": [
                          0.7976744801,
                          0.7981561873
                        ]
                      },
                      {
                        "learn": [
                          0.6496131735
                        ],
                        "iteration": 77,
                        "passed_time": 14.03008834,
                        "remaining_time": 21.94449715,
                        "test": [
                          0.7984673894,
                          0.7966366206
                        ]
                      },
                      {
                        "learn": [
                          0.6485989791
                        ],
                        "iteration": 78,
                        "passed_time": 14.24737759,
                        "remaining_time": 21.82193276,
                        "test": [
                          0.7974570698,
                          0.7965602132
                        ]
                      },
                      {
                        "learn": [
                          0.6444442891
                        ],
                        "iteration": 79,
                        "passed_time": 14.45777145,
                        "remaining_time": 21.68665718,
                        "test": [
                          0.7977676233,
                          0.7937459773
                        ]
                      },
                      {
                        "learn": [
                          0.6427361528
                        ],
                        "iteration": 80,
                        "passed_time": 14.6525295,
                        "remaining_time": 21.52655569,
                        "test": [
                          0.7988071743,
                          0.7919509079
                        ]
                      },
                      {
                        "learn": [
                          0.6384369386
                        ],
                        "iteration": 81,
                        "passed_time": 14.87038868,
                        "remaining_time": 21.398852,
                        "test": [
                          0.7982497448,
                          0.7901789937
                        ]
                      },
                      {
                        "learn": [
                          0.6366655414
                        ],
                        "iteration": 82,
                        "passed_time": 15.0705511,
                        "remaining_time": 21.24402987,
                        "test": [
                          0.7995021383,
                          0.7882096577
                        ]
                      },
                      {
                        "learn": [
                          0.6345888483
                        ],
                        "iteration": 83,
                        "passed_time": 15.29564159,
                        "remaining_time": 21.12255268,
                        "test": [
                          0.8006222691,
                          0.7857140968
                        ]
                      },
                      {
                        "learn": [
                          0.6336986357
                        ],
                        "iteration": 84,
                        "passed_time": 15.50122413,
                        "remaining_time": 20.97224442,
                        "test": [
                          0.8012561994,
                          0.7846239188
                        ]
                      },
                      {
                        "learn": [
                          0.6318089
                        ],
                        "iteration": 85,
                        "passed_time": 15.71273943,
                        "remaining_time": 20.82851506,
                        "test": [
                          0.8027626813,
                          0.7821472614
                        ]
                      },
                      {
                        "learn": [
                          0.6277107419
                        ],
                        "iteration": 86,
                        "passed_time": 15.93069842,
                        "remaining_time": 20.6915968,
                        "test": [
                          0.8023111711,
                          0.7804144846
                        ]
                      },
                      {
                        "learn": [
                          0.6218112529
                        ],
                        "iteration": 87,
                        "passed_time": 16.17849717,
                        "remaining_time": 20.59081458,
                        "test": [
                          0.8041271732,
                          0.7768369241
                        ]
                      },
                      {
                        "learn": [
                          0.615870117
                        ],
                        "iteration": 88,
                        "passed_time": 16.37521103,
                        "remaining_time": 20.423016,
                        "test": [
                          0.8054892961,
                          0.7731868869
                        ]
                      },
                      {
                        "learn": [
                          0.6105982954
                        ],
                        "iteration": 89,
                        "passed_time": 16.58759381,
                        "remaining_time": 20.27372577,
                        "test": [
                          0.8062080918,
                          0.7702485957
                        ]
                      },
                      {
                        "learn": [
                          0.6090631387
                        ],
                        "iteration": 90,
                        "passed_time": 16.77860139,
                        "remaining_time": 20.09744562,
                        "test": [
                          0.8072301027,
                          0.7686235537
                        ]
                      },
                      {
                        "learn": [
                          0.6039697348
                        ],
                        "iteration": 91,
                        "passed_time": 16.93573178,
                        "remaining_time": 19.88107644,
                        "test": [
                          0.8078052587,
                          0.7657001004
                        ]
                      },
                      {
                        "learn": [
                          0.602177898
                        ],
                        "iteration": 92,
                        "passed_time": 17.15596469,
                        "remaining_time": 19.73858303,
                        "test": [
                          0.8085000026,
                          0.7635814397
                        ]
                      },
                      {
                        "learn": [
                          0.6002795076
                        ],
                        "iteration": 93,
                        "passed_time": 17.39097959,
                        "remaining_time": 19.61110465,
                        "test": [
                          0.8099092498,
                          0.761365237
                        ]
                      },
                      {
                        "learn": [
                          0.598448524
                        ],
                        "iteration": 94,
                        "passed_time": 17.59101954,
                        "remaining_time": 19.44270581,
                        "test": [
                          0.8110722458,
                          0.7592196332
                        ]
                      },
                      {
                        "learn": [
                          0.5936443007
                        ],
                        "iteration": 95,
                        "passed_time": 17.79526431,
                        "remaining_time": 19.278203,
                        "test": [
                          0.8115408923,
                          0.7565285241
                        ]
                      },
                      {
                        "learn": [
                          0.5887573663
                        ],
                        "iteration": 96,
                        "passed_time": 18.03314754,
                        "remaining_time": 19.14859997,
                        "test": [
                          0.8119360276,
                          0.7537128771
                        ]
                      },
                      {
                        "learn": [
                          0.587027291
                        ],
                        "iteration": 97,
                        "passed_time": 18.25897461,
                        "remaining_time": 19.00423888,
                        "test": [
                          0.8126684894,
                          0.7516488821
                        ]
                      },
                      {
                        "learn": [
                          0.5868852382
                        ],
                        "iteration": 98,
                        "passed_time": 18.45825738,
                        "remaining_time": 18.83115147,
                        "test": [
                          0.8126716131,
                          0.7515891561
                        ]
                      },
                      {
                        "learn": [
                          0.584789251
                        ],
                        "iteration": 99,
                        "passed_time": 18.67528053,
                        "remaining_time": 18.67528053,
                        "test": [
                          0.8141324425,
                          0.7489078987
                        ]
                      },
                      {
                        "learn": [
                          0.5846674148
                        ],
                        "iteration": 100,
                        "passed_time": 18.87104679,
                        "remaining_time": 18.4973627,
                        "test": [
                          0.8141382647,
                          0.7488604398
                        ]
                      },
                      {
                        "learn": [
                          0.5826307792
                        ],
                        "iteration": 101,
                        "passed_time": 19.08253584,
                        "remaining_time": 18.3342011,
                        "test": [
                          0.8155283101,
                          0.7461820033
                        ]
                      },
                      {
                        "learn": [
                          0.5811390345
                        ],
                        "iteration": 102,
                        "passed_time": 19.25286886,
                        "remaining_time": 18.13134252,
                        "test": [
                          0.816601827,
                          0.7440742907
                        ]
                      },
                      {
                        "learn": [
                          0.5779268939
                        ],
                        "iteration": 103,
                        "passed_time": 19.49043612,
                        "remaining_time": 17.9911718,
                        "test": [
                          0.8163690006,
                          0.7428532931
                        ]
                      },
                      {
                        "learn": [
                          0.5766253334
                        ],
                        "iteration": 104,
                        "passed_time": 19.6850903,
                        "remaining_time": 17.8103198,
                        "test": [
                          0.8169313603,
                          0.7411146573
                        ]
                      },
                      {
                        "learn": [
                          0.5752052493
                        ],
                        "iteration": 105,
                        "passed_time": 19.88357808,
                        "remaining_time": 17.63260697,
                        "test": [
                          0.817929461,
                          0.7393298208
                        ]
                      },
                      {
                        "learn": [
                          0.5737996792
                        ],
                        "iteration": 106,
                        "passed_time": 20.08368627,
                        "remaining_time": 17.45591424,
                        "test": [
                          0.8188129986,
                          0.7373381361
                        ]
                      },
                      {
                        "learn": [
                          0.572550949
                        ],
                        "iteration": 107,
                        "passed_time": 20.31830311,
                        "remaining_time": 17.30818413,
                        "test": [
                          0.8198186486,
                          0.7356379729
                        ]
                      },
                      {
                        "learn": [
                          0.5710829205
                        ],
                        "iteration": 108,
                        "passed_time": 20.54252678,
                        "remaining_time": 17.15018291,
                        "test": [
                          0.8208953085,
                          0.7334519489
                        ]
                      },
                      {
                        "learn": [
                          0.5680631336
                        ],
                        "iteration": 109,
                        "passed_time": 20.76299413,
                        "remaining_time": 16.98790429,
                        "test": [
                          0.8207684677,
                          0.732269629
                        ]
                      },
                      {
                        "learn": [
                          0.566711875
                        ],
                        "iteration": 110,
                        "passed_time": 20.95684894,
                        "remaining_time": 16.80323924,
                        "test": [
                          0.8213235724,
                          0.7306206818
                        ]
                      },
                      {
                        "learn": [
                          0.5663231807
                        ],
                        "iteration": 111,
                        "passed_time": 21.16793047,
                        "remaining_time": 16.63194537,
                        "test": [
                          0.8215893537,
                          0.730035263
                        ]
                      },
                      {
                        "learn": [
                          0.5634434004
                        ],
                        "iteration": 112,
                        "passed_time": 21.41461252,
                        "remaining_time": 16.48735655,
                        "test": [
                          0.8213994099,
                          0.7289844363
                        ]
                      },
                      {
                        "learn": [
                          0.5621599397
                        ],
                        "iteration": 113,
                        "passed_time": 21.62484842,
                        "remaining_time": 16.31348214,
                        "test": [
                          0.8223995412,
                          0.7270368858
                        ]
                      },
                      {
                        "learn": [
                          0.5611303533
                        ],
                        "iteration": 114,
                        "passed_time": 21.82446166,
                        "remaining_time": 16.13112383,
                        "test": [
                          0.8226369884,
                          0.725594346
                        ]
                      },
                      {
                        "learn": [
                          0.5606587147
                        ],
                        "iteration": 115,
                        "passed_time": 22.02172701,
                        "remaining_time": 15.94676784,
                        "test": [
                          0.8229859107,
                          0.7250947445
                        ]
                      },
                      {
                        "learn": [
                          0.556642506
                        ],
                        "iteration": 116,
                        "passed_time": 22.24161928,
                        "remaining_time": 15.77824274,
                        "test": [
                          0.8228950279,
                          0.7231255688
                        ]
                      },
                      {
                        "learn": [
                          0.5549988486
                        ],
                        "iteration": 117,
                        "passed_time": 22.46386746,
                        "remaining_time": 15.61048417,
                        "test": [
                          0.8238255783,
                          0.7211890199
                        ]
                      },
                      {
                        "learn": [
                          0.5538305604
                        ],
                        "iteration": 118,
                        "passed_time": 22.69769631,
                        "remaining_time": 15.44969245,
                        "test": [
                          0.8244937822,
                          0.7195236823
                        ]
                      },
                      {
                        "learn": [
                          0.553322485
                        ],
                        "iteration": 119,
                        "passed_time": 22.90596885,
                        "remaining_time": 15.2706459,
                        "test": [
                          0.8248751363,
                          0.7189367452
                        ]
                      },
                      {
                        "learn": [
                          0.55233336
                        ],
                        "iteration": 120,
                        "passed_time": 23.1140109,
                        "remaining_time": 15.09096579,
                        "test": [
                          0.8254699637,
                          0.7174926507
                        ]
                      },
                      {
                        "learn": [
                          0.5511520059
                        ],
                        "iteration": 121,
                        "passed_time": 23.27209504,
                        "remaining_time": 14.87888043,
                        "test": [
                          0.8259888153,
                          0.7161268843
                        ]
                      },
                      {
                        "learn": [
                          0.5502292558
                        ],
                        "iteration": 122,
                        "passed_time": 23.50359598,
                        "remaining_time": 14.71363325,
                        "test": [
                          0.8262383528,
                          0.7148420866
                        ]
                      },
                      {
                        "learn": [
                          0.5499587956
                        ],
                        "iteration": 123,
                        "passed_time": 23.71221042,
                        "remaining_time": 14.53329026,
                        "test": [
                          0.8262569732,
                          0.7147107578
                        ]
                      },
                      {
                        "learn": [
                          0.548883353
                        ],
                        "iteration": 124,
                        "passed_time": 23.90958229,
                        "remaining_time": 14.34574938,
                        "test": [
                          0.8269947134,
                          0.7133464081
                        ]
                      },
                      {
                        "learn": [
                          0.5451047046
                        ],
                        "iteration": 125,
                        "passed_time": 24.11833064,
                        "remaining_time": 14.16473387,
                        "test": [
                          0.8268616325,
                          0.7115459281
                        ]
                      },
                      {
                        "learn": [
                          0.542574484
                        ],
                        "iteration": 126,
                        "passed_time": 24.37956206,
                        "remaining_time": 14.01344906,
                        "test": [
                          0.8266756323,
                          0.7107099158
                        ]
                      },
                      {
                        "learn": [
                          0.5424893956
                        ],
                        "iteration": 127,
                        "passed_time": 24.61775174,
                        "remaining_time": 13.84748535,
                        "test": [
                          0.8266891298,
                          0.7106739561
                        ]
                      },
                      {
                        "learn": [
                          0.5415375638
                        ],
                        "iteration": 128,
                        "passed_time": 24.821259,
                        "remaining_time": 13.6613131,
                        "test": [
                          0.8272974572,
                          0.7092677421
                        ]
                      },
                      {
                        "learn": [
                          0.5404800378
                        ],
                        "iteration": 129,
                        "passed_time": 25.01609355,
                        "remaining_time": 13.47020422,
                        "test": [
                          0.8277700588,
                          0.7080899153
                        ]
                      },
                      {
                        "learn": [
                          0.5395236563
                        ],
                        "iteration": 130,
                        "passed_time": 25.22426345,
                        "remaining_time": 13.28606243,
                        "test": [
                          0.8283697428,
                          0.7067880515
                        ]
                      },
                      {
                        "learn": [
                          0.5393236737
                        ],
                        "iteration": 131,
                        "passed_time": 25.45812612,
                        "remaining_time": 13.11479224,
                        "test": [
                          0.828513675,
                          0.7066074829
                        ]
                      },
                      {
                        "learn": [
                          0.5392251032
                        ],
                        "iteration": 132,
                        "passed_time": 25.65556472,
                        "remaining_time": 12.92423185,
                        "test": [
                          0.8284737814,
                          0.7065863061
                        ]
                      },
                      {
                        "learn": [
                          0.5389758601
                        ],
                        "iteration": 133,
                        "passed_time": 25.8528526,
                        "remaining_time": 12.73349457,
                        "test": [
                          0.8286813809,
                          0.7062456901
                        ]
                      },
                      {
                        "learn": [
                          0.5379245226
                        ],
                        "iteration": 134,
                        "passed_time": 26.04572817,
                        "remaining_time": 12.54053578,
                        "test": [
                          0.8293748044,
                          0.7051058444
                        ]
                      },
                      {
                        "learn": [
                          0.5370550042
                        ],
                        "iteration": 135,
                        "passed_time": 26.24840246,
                        "remaining_time": 12.35218939,
                        "test": [
                          0.8298987349,
                          0.7038162452
                        ]
                      },
                      {
                        "learn": [
                          0.5360513934
                        ],
                        "iteration": 136,
                        "passed_time": 26.48070922,
                        "remaining_time": 12.17726045,
                        "test": [
                          0.8305285559,
                          0.7024535246
                        ]
                      },
                      {
                        "learn": [
                          0.5350683341
                        ],
                        "iteration": 137,
                        "passed_time": 26.70555063,
                        "remaining_time": 11.99814593,
                        "test": [
                          0.8310491296,
                          0.7010939095
                        ]
                      },
                      {
                        "learn": [
                          0.5316224048
                        ],
                        "iteration": 138,
                        "passed_time": 26.91189224,
                        "remaining_time": 11.81025487,
                        "test": [
                          0.8308288636,
                          0.6996329623
                        ]
                      },
                      {
                        "learn": [
                          0.5305982668
                        ],
                        "iteration": 139,
                        "passed_time": 27.11690434,
                        "remaining_time": 11.62153043,
                        "test": [
                          0.8312689042,
                          0.6984668263
                        ]
                      },
                      {
                        "learn": [
                          0.5282984661
                        ],
                        "iteration": 140,
                        "passed_time": 27.34358556,
                        "remaining_time": 11.44164218,
                        "test": [
                          0.8310053481,
                          0.6978078294
                        ]
                      },
                      {
                        "learn": [
                          0.5275284403
                        ],
                        "iteration": 141,
                        "passed_time": 27.56716952,
                        "remaining_time": 11.25982981,
                        "test": [
                          0.8313135524,
                          0.6967512097
                        ]
                      },
                      {
                        "learn": [
                          0.5264871336
                        ],
                        "iteration": 142,
                        "passed_time": 27.78415683,
                        "remaining_time": 11.07480377,
                        "test": [
                          0.8318599184,
                          0.695565097
                        ]
                      },
                      {
                        "learn": [
                          0.5229673384
                        ],
                        "iteration": 143,
                        "passed_time": 27.99454942,
                        "remaining_time": 10.88676922,
                        "test": [
                          0.8317864918,
                          0.6939331898
                        ]
                      },
                      {
                        "learn": [
                          0.5227561791
                        ],
                        "iteration": 144,
                        "passed_time": 28.20581071,
                        "remaining_time": 10.69875578,
                        "test": [
                          0.8319011092,
                          0.6936332239
                        ]
                      },
                      {
                        "learn": [
                          0.5206492087
                        ],
                        "iteration": 145,
                        "passed_time": 28.44489391,
                        "remaining_time": 10.52071418,
                        "test": [
                          0.8317160125,
                          0.6930479921
                        ]
                      },
                      {
                        "learn": [
                          0.5196782657
                        ],
                        "iteration": 146,
                        "passed_time": 28.69185689,
                        "remaining_time": 10.3446831,
                        "test": [
                          0.8321419018,
                          0.6919867968
                        ]
                      },
                      {
                        "learn": [
                          0.518766816
                        ],
                        "iteration": 147,
                        "passed_time": 28.90821961,
                        "remaining_time": 10.15694202,
                        "test": [
                          0.8326273573,
                          0.6909054733
                        ]
                      },
                      {
                        "learn": [
                          0.5183367086
                        ],
                        "iteration": 148,
                        "passed_time": 29.12078508,
                        "remaining_time": 9.967517039,
                        "test": [
                          0.8327585192,
                          0.6903239638
                        ]
                      },
                      {
                        "learn": [
                          0.5178936131
                        ],
                        "iteration": 149,
                        "passed_time": 29.316423,
                        "remaining_time": 9.772141001,
                        "test": [
                          0.8329287863,
                          0.6896896125
                        ]
                      },
                      {
                        "learn": [
                          0.514862097
                        ],
                        "iteration": 150,
                        "passed_time": 29.55897283,
                        "remaining_time": 9.591984561,
                        "test": [
                          0.8326147534,
                          0.6885639419
                        ]
                      },
                      {
                        "learn": [
                          0.5145517689
                        ],
                        "iteration": 151,
                        "passed_time": 29.76716864,
                        "remaining_time": 9.400158517,
                        "test": [
                          0.8326596823,
                          0.6883484576
                        ]
                      },
                      {
                        "learn": [
                          0.5114594466
                        ],
                        "iteration": 152,
                        "passed_time": 29.96034918,
                        "remaining_time": 9.203505957,
                        "test": [
                          0.8325137219,
                          0.6870100756
                        ]
                      },
                      {
                        "learn": [
                          0.511306233
                        ],
                        "iteration": 153,
                        "passed_time": 30.16505809,
                        "remaining_time": 9.010342026,
                        "test": [
                          0.8326151894,
                          0.6868776896
                        ]
                      },
                      {
                        "learn": [
                          0.5111707108
                        ],
                        "iteration": 154,
                        "passed_time": 30.36242136,
                        "remaining_time": 8.814896523,
                        "test": [
                          0.8327013339,
                          0.6867628979
                        ]
                      },
                      {
                        "learn": [
                          0.5104155258
                        ],
                        "iteration": 155,
                        "passed_time": 30.58454671,
                        "remaining_time": 8.626410609,
                        "test": [
                          0.8328421608,
                          0.6856985947
                        ]
                      },
                      {
                        "learn": [
                          0.5102426086
                        ],
                        "iteration": 156,
                        "passed_time": 30.79446494,
                        "remaining_time": 8.434152819,
                        "test": [
                          0.8328426703,
                          0.6856359205
                        ]
                      },
                      {
                        "learn": [
                          0.5096823298
                        ],
                        "iteration": 157,
                        "passed_time": 30.99208727,
                        "remaining_time": 8.238402946,
                        "test": [
                          0.8330959044,
                          0.6849977743
                        ]
                      },
                      {
                        "learn": [
                          0.5089975851
                        ],
                        "iteration": 158,
                        "passed_time": 31.20263499,
                        "remaining_time": 8.045962483,
                        "test": [
                          0.8335600009,
                          0.6840970445
                        ]
                      },
                      {
                        "learn": [
                          0.5081079902
                        ],
                        "iteration": 159,
                        "passed_time": 31.40135319,
                        "remaining_time": 7.850338297,
                        "test": [
                          0.8342186314,
                          0.6830180307
                        ]
                      },
                      {
                        "learn": [
                          0.5061942111
                        ],
                        "iteration": 160,
                        "passed_time": 31.64834633,
                        "remaining_time": 7.666369609,
                        "test": [
                          0.8340513073,
                          0.6825463737
                        ]
                      },
                      {
                        "learn": [
                          0.5056541383
                        ],
                        "iteration": 161,
                        "passed_time": 31.85670309,
                        "remaining_time": 7.472559984,
                        "test": [
                          0.8341959304,
                          0.6817950604
                        ]
                      },
                      {
                        "learn": [
                          0.5054031358
                        ],
                        "iteration": 162,
                        "passed_time": 32.05274024,
                        "remaining_time": 7.275775391,
                        "test": [
                          0.8343407663,
                          0.6815965514
                        ]
                      },
                      {
                        "learn": [
                          0.5051654832
                        ],
                        "iteration": 163,
                        "passed_time": 32.25885808,
                        "remaining_time": 7.08121275,
                        "test": [
                          0.8344952652,
                          0.6813292322
                        ]
                      },
                      {
                        "learn": [
                          0.5020003465
                        ],
                        "iteration": 164,
                        "passed_time": 32.48469424,
                        "remaining_time": 6.890692717,
                        "test": [
                          0.8342853345,
                          0.6801098755
                        ]
                      },
                      {
                        "learn": [
                          0.4988160908
                        ],
                        "iteration": 165,
                        "passed_time": 32.72014763,
                        "remaining_time": 6.701716984,
                        "test": [
                          0.8341993831,
                          0.6789162702
                        ]
                      },
                      {
                        "learn": [
                          0.4959101445
                        ],
                        "iteration": 166,
                        "passed_time": 32.94250554,
                        "remaining_time": 6.509596903,
                        "test": [
                          0.8339119465,
                          0.6778954896
                        ]
                      },
                      {
                        "learn": [
                          0.4952112413
                        ],
                        "iteration": 167,
                        "passed_time": 33.09688497,
                        "remaining_time": 6.304168566,
                        "test": [
                          0.834253328,
                          0.6771443885
                        ]
                      },
                      {
                        "learn": [
                          0.4924550766
                        ],
                        "iteration": 168,
                        "passed_time": 33.26478477,
                        "remaining_time": 6.101824425,
                        "test": [
                          0.8339506671,
                          0.6762378301
                        ]
                      },
                      {
                        "learn": [
                          0.4898464081
                        ],
                        "iteration": 169,
                        "passed_time": 33.41521823,
                        "remaining_time": 5.896803218,
                        "test": [
                          0.8335409848,
                          0.6754394963
                        ]
                      },
                      {
                        "learn": [
                          0.4876906695
                        ],
                        "iteration": 170,
                        "passed_time": 33.60552976,
                        "remaining_time": 5.69918341,
                        "test": [
                          0.8330436038,
                          0.6749592464
                        ]
                      },
                      {
                        "learn": [
                          0.4850394559
                        ],
                        "iteration": 171,
                        "passed_time": 33.78371345,
                        "remaining_time": 5.499674283,
                        "test": [
                          0.8328292302,
                          0.674163559
                        ]
                      },
                      {
                        "learn": [
                          0.4847457008
                        ],
                        "iteration": 172,
                        "passed_time": 33.99060276,
                        "remaining_time": 5.30489176,
                        "test": [
                          0.8329796204,
                          0.6738589182
                        ]
                      },
                      {
                        "learn": [
                          0.482221362
                        ],
                        "iteration": 173,
                        "passed_time": 34.14354248,
                        "remaining_time": 5.101908647,
                        "test": [
                          0.8327071796,
                          0.6731539252
                        ]
                      },
                      {
                        "learn": [
                          0.4819140475
                        ],
                        "iteration": 174,
                        "passed_time": 34.33878013,
                        "remaining_time": 4.905540019,
                        "test": [
                          0.8328633357,
                          0.6727583237
                        ]
                      },
                      {
                        "learn": [
                          0.4796315633
                        ],
                        "iteration": 175,
                        "passed_time": 34.49706482,
                        "remaining_time": 4.704145202,
                        "test": [
                          0.8325328435,
                          0.6722119274
                        ]
                      },
                      {
                        "learn": [
                          0.4793651347
                        ],
                        "iteration": 176,
                        "passed_time": 34.71672667,
                        "remaining_time": 4.51121307,
                        "test": [
                          0.8326004591,
                          0.6719747492
                        ]
                      },
                      {
                        "learn": [
                          0.4790443346
                        ],
                        "iteration": 177,
                        "passed_time": 34.9295677,
                        "remaining_time": 4.317137581,
                        "test": [
                          0.8326510556,
                          0.6715663753
                        ]
                      },
                      {
                        "learn": [
                          0.4769981474
                        ],
                        "iteration": 178,
                        "passed_time": 35.08458856,
                        "remaining_time": 4.116069049,
                        "test": [
                          0.8323791343,
                          0.6709812409
                        ]
                      },
                      {
                        "learn": [
                          0.4749806694
                        ],
                        "iteration": 179,
                        "passed_time": 35.24537008,
                        "remaining_time": 3.916152231,
                        "test": [
                          0.8319615176,
                          0.6706187476
                        ]
                      },
                      {
                        "learn": [
                          0.4735665471
                        ],
                        "iteration": 180,
                        "passed_time": 35.46955136,
                        "remaining_time": 3.723323071,
                        "test": [
                          0.8317685303,
                          0.6704715738
                        ]
                      },
                      {
                        "learn": [
                          0.4732325408
                        ],
                        "iteration": 181,
                        "passed_time": 35.66500989,
                        "remaining_time": 3.52730867,
                        "test": [
                          0.8319423251,
                          0.6700386704
                        ]
                      },
                      {
                        "learn": [
                          0.4726962181
                        ],
                        "iteration": 182,
                        "passed_time": 35.90743113,
                        "remaining_time": 3.335663001,
                        "test": [
                          0.8320544524,
                          0.6692507619
                        ]
                      },
                      {
                        "learn": [
                          0.4705832343
                        ],
                        "iteration": 183,
                        "passed_time": 36.13172939,
                        "remaining_time": 3.141889512,
                        "test": [
                          0.8317407554,
                          0.6688447931
                        ]
                      },
                      {
                        "learn": [
                          0.4686427522
                        ],
                        "iteration": 184,
                        "passed_time": 36.28763256,
                        "remaining_time": 2.942240478,
                        "test": [
                          0.8313940754,
                          0.6685618905
                        ]
                      },
                      {
                        "learn": [
                          0.4680366905
                        ],
                        "iteration": 185,
                        "passed_time": 36.48885602,
                        "remaining_time": 2.746473034,
                        "test": [
                          0.8316283137,
                          0.6678346849
                        ]
                      },
                      {
                        "learn": [
                          0.4661754192
                        ],
                        "iteration": 186,
                        "passed_time": 36.70892018,
                        "remaining_time": 2.551957018,
                        "test": [
                          0.8314349222,
                          0.6673549252
                        ]
                      },
                      {
                        "learn": [
                          0.4644324266
                        ],
                        "iteration": 187,
                        "passed_time": 36.88391072,
                        "remaining_time": 2.354292174,
                        "test": [
                          0.8312070231,
                          0.6669702889
                        ]
                      },
                      {
                        "learn": [
                          0.4638968331
                        ],
                        "iteration": 188,
                        "passed_time": 37.10399911,
                        "remaining_time": 2.159492012,
                        "test": [
                          0.8312644438,
                          0.6662250597
                        ]
                      },
                      {
                        "learn": [
                          0.4622048493
                        ],
                        "iteration": 189,
                        "passed_time": 37.26300853,
                        "remaining_time": 1.961210975,
                        "test": [
                          0.8310210721,
                          0.6658831549
                        ]
                      },
                      {
                        "learn": [
                          0.4605415986
                        ],
                        "iteration": 190,
                        "passed_time": 37.47799495,
                        "remaining_time": 1.76597882,
                        "test": [
                          0.8306497601,
                          0.6657962298
                        ]
                      },
                      {
                        "learn": [
                          0.4590814302
                        ],
                        "iteration": 191,
                        "passed_time": 37.67284147,
                        "remaining_time": 1.569701728,
                        "test": [
                          0.8302897106,
                          0.6657051116
                        ]
                      },
                      {
                        "learn": [
                          0.45747303
                        ],
                        "iteration": 192,
                        "passed_time": 37.85669375,
                        "remaining_time": 1.373040706,
                        "test": [
                          0.8299945192,
                          0.6656446378
                        ]
                      },
                      {
                        "learn": [
                          0.4568261243
                        ],
                        "iteration": 193,
                        "passed_time": 38.06644705,
                        "remaining_time": 1.177312795,
                        "test": [
                          0.8302728163,
                          0.6648016594
                        ]
                      },
                      {
                        "learn": [
                          0.4560091006
                        ],
                        "iteration": 194,
                        "passed_time": 38.2803864,
                        "remaining_time": 0.9815483692,
                        "test": [
                          0.8307677567,
                          0.6637542472
                        ]
                      },
                      {
                        "learn": [
                          0.4548494258
                        ],
                        "iteration": 195,
                        "passed_time": 38.47777204,
                        "remaining_time": 0.7852606539,
                        "test": [
                          0.8303225334,
                          0.6639132886
                        ]
                      },
                      {
                        "learn": [
                          0.4532421883
                        ],
                        "iteration": 196,
                        "passed_time": 38.69089219,
                        "remaining_time": 0.5892014039,
                        "test": [
                          0.8300634093,
                          0.6639192002
                        ]
                      },
                      {
                        "learn": [
                          0.4529329338
                        ],
                        "iteration": 197,
                        "passed_time": 38.94775671,
                        "remaining_time": 0.3934116839,
                        "test": [
                          0.8301120734,
                          0.6636347538
                        ]
                      },
                      {
                        "learn": [
                          0.4513423825
                        ],
                        "iteration": 198,
                        "passed_time": 39.1722995,
                        "remaining_time": 0.1968457261,
                        "test": [
                          0.8298780313,
                          0.6636384951
                        ]
                      },
                      {
                        "learn": [
                          0.4509279309
                        ],
                        "iteration": 199,
                        "passed_time": 39.37279893,
                        "remaining_time": 0,
                        "test": [
                          0.8300600759,
                          0.6630556449
                        ]
                      }
                    ],
                    "meta": {
                      "test_sets": [
                        "test"
                      ],
                      "test_metrics": [
                        {
                          "best_value": "Max",
                          "name": "AUC:type=Mu"
                        },
                        {
                          "best_value": "Min",
                          "name": "MultiClass"
                        }
                      ],
                      "learn_metrics": [
                        {
                          "best_value": "Min",
                          "name": "MultiClass"
                        }
                      ],
                      "launch_mode": "Train",
                      "parameters": "",
                      "iteration_count": 200,
                      "learn_sets": [
                        "learn"
                      ],
                      "name": "experiment"
                    }
                  }
                }
              },
              "catboost_info/model-2": {
                "path": "catboost_info/model-2",
                "name": "model-2",
                "content": {
                  "passed_iterations": 199,
                  "total_iterations": 200,
                  "data": {
                    "iterations": [
                      {
                        "learn": [
                          1.09222122
                        ],
                        "iteration": 0,
                        "passed_time": 0.2096643296,
                        "remaining_time": 41.7232016,
                        "test": [
                          0.6369296851,
                          1.091625822
                        ]
                      },
                      {
                        "learn": [
                          1.090083003
                        ],
                        "iteration": 1,
                        "passed_time": 0.4084199269,
                        "remaining_time": 40.43357277,
                        "test": [
                          0.6759725452,
                          1.089145822
                        ]
                      },
                      {
                        "learn": [
                          1.08807851
                        ],
                        "iteration": 2,
                        "passed_time": 0.5597713528,
                        "remaining_time": 36.75831883,
                        "test": [
                          0.671948845,
                          1.08682634
                        ]
                      },
                      {
                        "learn": [
                          1.070212792
                        ],
                        "iteration": 3,
                        "passed_time": 0.7719013353,
                        "remaining_time": 37.82316543,
                        "test": [
                          0.6870833322,
                          1.079149648
                        ]
                      },
                      {
                        "learn": [
                          1.058671282
                        ],
                        "iteration": 4,
                        "passed_time": 0.938963686,
                        "remaining_time": 36.61958375,
                        "test": [
                          0.6852626844,
                          1.074534121
                        ]
                      },
                      {
                        "learn": [
                          1.044126214
                        ],
                        "iteration": 5,
                        "passed_time": 1.076701606,
                        "remaining_time": 34.81335193,
                        "test": [
                          0.6904025404,
                          1.065438846
                        ]
                      },
                      {
                        "learn": [
                          1.028927772
                        ],
                        "iteration": 6,
                        "passed_time": 1.204715948,
                        "remaining_time": 33.2157397,
                        "test": [
                          0.6874888201,
                          1.056483279
                        ]
                      },
                      {
                        "learn": [
                          1.014754585
                        ],
                        "iteration": 7,
                        "passed_time": 1.463732506,
                        "remaining_time": 35.12958014,
                        "test": [
                          0.6845750973,
                          1.050086818
                        ]
                      },
                      {
                        "learn": [
                          1.007244983
                        ],
                        "iteration": 8,
                        "passed_time": 1.645747148,
                        "remaining_time": 34.92641169,
                        "test": [
                          0.6868318304,
                          1.046722946
                        ]
                      },
                      {
                        "learn": [
                          0.9941310535
                        ],
                        "iteration": 9,
                        "passed_time": 1.777422876,
                        "remaining_time": 33.77103464,
                        "test": [
                          0.6861645349,
                          1.038735091
                        ]
                      },
                      {
                        "learn": [
                          0.9873034412
                        ],
                        "iteration": 10,
                        "passed_time": 1.908200213,
                        "remaining_time": 32.78634911,
                        "test": [
                          0.68353163,
                          1.035689894
                        ]
                      },
                      {
                        "learn": [
                          0.9753052063
                        ],
                        "iteration": 11,
                        "passed_time": 2.038497945,
                        "remaining_time": 31.93646781,
                        "test": [
                          0.6830822024,
                          1.028344763
                        ]
                      },
                      {
                        "learn": [
                          0.9680652338
                        ],
                        "iteration": 12,
                        "passed_time": 2.165215911,
                        "remaining_time": 31.1457981,
                        "test": [
                          0.6826904313,
                          1.025121276
                        ]
                      },
                      {
                        "learn": [
                          0.9571730039
                        ],
                        "iteration": 13,
                        "passed_time": 2.301213469,
                        "remaining_time": 30.57326467,
                        "test": [
                          0.6810093162,
                          1.020047382
                        ]
                      },
                      {
                        "learn": [
                          0.9515449996
                        ],
                        "iteration": 14,
                        "passed_time": 2.459526578,
                        "remaining_time": 30.33416113,
                        "test": [
                          0.6803708676,
                          1.017506192
                        ]
                      },
                      {
                        "learn": [
                          0.9448703294
                        ],
                        "iteration": 15,
                        "passed_time": 2.593750916,
                        "remaining_time": 29.82813553,
                        "test": [
                          0.6715503776,
                          1.015303768
                        ]
                      },
                      {
                        "learn": [
                          0.9397708424
                        ],
                        "iteration": 16,
                        "passed_time": 2.726454826,
                        "remaining_time": 29.3494843,
                        "test": [
                          0.6703056695,
                          1.013024341
                        ]
                      },
                      {
                        "learn": [
                          0.9349614289
                        ],
                        "iteration": 17,
                        "passed_time": 2.852880492,
                        "remaining_time": 28.84579164,
                        "test": [
                          0.6669741986,
                          1.010897609
                        ]
                      },
                      {
                        "learn": [
                          0.9290239022
                        ],
                        "iteration": 18,
                        "passed_time": 2.982263176,
                        "remaining_time": 28.40998078,
                        "test": [
                          0.6648145177,
                          1.009030769
                        ]
                      },
                      {
                        "learn": [
                          0.9234177336
                        ],
                        "iteration": 19,
                        "passed_time": 3.122401518,
                        "remaining_time": 28.10161366,
                        "test": [
                          0.6627378383,
                          1.007315566
                        ]
                      },
                      {
                        "learn": [
                          0.9146658745
                        ],
                        "iteration": 20,
                        "passed_time": 3.247279052,
                        "remaining_time": 27.67918811,
                        "test": [
                          0.6616329731,
                          1.003259305
                        ]
                      },
                      {
                        "learn": [
                          0.9095382472
                        ],
                        "iteration": 21,
                        "passed_time": 3.409258609,
                        "remaining_time": 27.58400147,
                        "test": [
                          0.6607748487,
                          1.001815103
                        ]
                      },
                      {
                        "learn": [
                          0.9011905674
                        ],
                        "iteration": 22,
                        "passed_time": 3.546307502,
                        "remaining_time": 27.29114904,
                        "test": [
                          0.6614393294,
                          0.9961889285
                        ]
                      },
                      {
                        "learn": [
                          0.8932789757
                        ],
                        "iteration": 23,
                        "passed_time": 3.681763468,
                        "remaining_time": 26.99959877,
                        "test": [
                          0.6621249155,
                          0.9908850118
                        ]
                      },
                      {
                        "learn": [
                          0.8854594841
                        ],
                        "iteration": 24,
                        "passed_time": 3.807220863,
                        "remaining_time": 26.65054604,
                        "test": [
                          0.6614627504,
                          0.9873016591
                        ]
                      },
                      {
                        "learn": [
                          0.881171519
                        ],
                        "iteration": 25,
                        "passed_time": 3.963312235,
                        "remaining_time": 26.52370495,
                        "test": [
                          0.6612516002,
                          0.9862521885
                        ]
                      },
                      {
                        "learn": [
                          0.8749474704
                        ],
                        "iteration": 26,
                        "passed_time": 4.094349058,
                        "remaining_time": 26.23416248,
                        "test": [
                          0.661559045,
                          0.9815108838
                        ]
                      },
                      {
                        "learn": [
                          0.8677019007
                        ],
                        "iteration": 27,
                        "passed_time": 4.221988676,
                        "remaining_time": 25.93507329,
                        "test": [
                          0.6605029679,
                          0.9789311009
                        ]
                      },
                      {
                        "learn": [
                          0.8603240895
                        ],
                        "iteration": 28,
                        "passed_time": 4.355165798,
                        "remaining_time": 25.6804604,
                        "test": [
                          0.6605223978,
                          0.9758819751
                        ]
                      },
                      {
                        "learn": [
                          0.8567716195
                        ],
                        "iteration": 29,
                        "passed_time": 4.522173253,
                        "remaining_time": 25.62564843,
                        "test": [
                          0.6599043007,
                          0.9751158174
                        ]
                      },
                      {
                        "learn": [
                          0.853357248
                        ],
                        "iteration": 30,
                        "passed_time": 4.654331722,
                        "remaining_time": 25.37361487,
                        "test": [
                          0.6595280243,
                          0.974298509
                        ]
                      },
                      {
                        "learn": [
                          0.8472708643
                        ],
                        "iteration": 31,
                        "passed_time": 4.797705492,
                        "remaining_time": 25.18795383,
                        "test": [
                          0.6591888892,
                          0.9694035636
                        ]
                      },
                      {
                        "learn": [
                          0.844106363
                        ],
                        "iteration": 32,
                        "passed_time": 4.923620358,
                        "remaining_time": 24.91650302,
                        "test": [
                          0.658906061,
                          0.9688180127
                        ]
                      },
                      {
                        "learn": [
                          0.8382825062
                        ],
                        "iteration": 33,
                        "passed_time": 5.051359758,
                        "remaining_time": 24.66252117,
                        "test": [
                          0.6589295097,
                          0.9661480234
                        ]
                      },
                      {
                        "learn": [
                          0.8325194676
                        ],
                        "iteration": 34,
                        "passed_time": 5.177842694,
                        "remaining_time": 24.40982984,
                        "test": [
                          0.6594316155,
                          0.9611056909
                        ]
                      },
                      {
                        "learn": [
                          0.8275038442
                        ],
                        "iteration": 35,
                        "passed_time": 5.320298151,
                        "remaining_time": 24.2369138,
                        "test": [
                          0.6833734329,
                          0.9563285862
                        ]
                      },
                      {
                        "learn": [
                          0.8223773611
                        ],
                        "iteration": 36,
                        "passed_time": 5.490370854,
                        "remaining_time": 24.18730944,
                        "test": [
                          0.6837360094,
                          0.9527291486
                        ]
                      },
                      {
                        "learn": [
                          0.8167452078
                        ],
                        "iteration": 37,
                        "passed_time": 5.630356754,
                        "remaining_time": 24.00309985,
                        "test": [
                          0.6835678685,
                          0.950493649
                        ]
                      },
                      {
                        "learn": [
                          0.8124489807
                        ],
                        "iteration": 38,
                        "passed_time": 5.771054805,
                        "remaining_time": 23.82409804,
                        "test": [
                          0.6839549822,
                          0.9470948679
                        ]
                      },
                      {
                        "learn": [
                          0.8077537868
                        ],
                        "iteration": 39,
                        "passed_time": 5.899057362,
                        "remaining_time": 23.59622945,
                        "test": [
                          0.691596789,
                          0.9435770944
                        ]
                      },
                      {
                        "learn": [
                          0.8033399954
                        ],
                        "iteration": 40,
                        "passed_time": 6.023746888,
                        "remaining_time": 23.36038427,
                        "test": [
                          0.7011640282,
                          0.9392411568
                        ]
                      },
                      {
                        "learn": [
                          0.7981069423
                        ],
                        "iteration": 41,
                        "passed_time": 6.156454105,
                        "remaining_time": 23.15999401,
                        "test": [
                          0.7030310386,
                          0.9356194726
                        ]
                      },
                      {
                        "learn": [
                          0.7910004018
                        ],
                        "iteration": 42,
                        "passed_time": 6.323047372,
                        "remaining_time": 23.08647529,
                        "test": [
                          0.7305549692,
                          0.9281852007
                        ]
                      },
                      {
                        "learn": [
                          0.7843890902
                        ],
                        "iteration": 43,
                        "passed_time": 6.611376381,
                        "remaining_time": 23.44033444,
                        "test": [
                          0.7369418927,
                          0.9213940067
                        ]
                      },
                      {
                        "learn": [
                          0.778389821
                        ],
                        "iteration": 44,
                        "passed_time": 6.757003553,
                        "remaining_time": 23.27412335,
                        "test": [
                          0.7442266064,
                          0.9141983755
                        ]
                      },
                      {
                        "learn": [
                          0.7737415131
                        ],
                        "iteration": 45,
                        "passed_time": 6.884298366,
                        "remaining_time": 23.04743366,
                        "test": [
                          0.74355725,
                          0.9125904325
                        ]
                      },
                      {
                        "learn": [
                          0.7702248216
                        ],
                        "iteration": 46,
                        "passed_time": 7.011390742,
                        "remaining_time": 22.82431454,
                        "test": [
                          0.7443369683,
                          0.9091609341
                        ]
                      },
                      {
                        "learn": [
                          0.7643835295
                        ],
                        "iteration": 47,
                        "passed_time": 7.142264605,
                        "remaining_time": 22.61717125,
                        "test": [
                          0.7482664284,
                          0.902906618
                        ]
                      },
                      {
                        "learn": [
                          0.7587868055
                        ],
                        "iteration": 48,
                        "passed_time": 7.273539573,
                        "remaining_time": 22.41437705,
                        "test": [
                          0.7512387851,
                          0.8971138771
                        ]
                      },
                      {
                        "learn": [
                          0.7547957603
                        ],
                        "iteration": 49,
                        "passed_time": 7.404626858,
                        "remaining_time": 22.21388057,
                        "test": [
                          0.7512865382,
                          0.8935932219
                        ]
                      },
                      {
                        "learn": [
                          0.7519641677
                        ],
                        "iteration": 50,
                        "passed_time": 7.549135811,
                        "remaining_time": 22.05531835,
                        "test": [
                          0.752216773,
                          0.8907932134
                        ]
                      },
                      {
                        "learn": [
                          0.746896505
                        ],
                        "iteration": 51,
                        "passed_time": 7.71415003,
                        "remaining_time": 21.95565778,
                        "test": [
                          0.755688028,
                          0.8854504381
                        ]
                      },
                      {
                        "learn": [
                          0.7432924444
                        ],
                        "iteration": 52,
                        "passed_time": 7.841939742,
                        "remaining_time": 21.7502857,
                        "test": [
                          0.755450367,
                          0.8826496472
                        ]
                      },
                      {
                        "learn": [
                          0.7385219687
                        ],
                        "iteration": 53,
                        "passed_time": 7.979564075,
                        "remaining_time": 21.57437694,
                        "test": [
                          0.765346607,
                          0.8777339049
                        ]
                      },
                      {
                        "learn": [
                          0.734841038
                        ],
                        "iteration": 54,
                        "passed_time": 8.107720653,
                        "remaining_time": 21.3748999,
                        "test": [
                          0.764777505,
                          0.8763721683
                        ]
                      },
                      {
                        "learn": [
                          0.7315606272
                        ],
                        "iteration": 55,
                        "passed_time": 8.27590178,
                        "remaining_time": 21.28089029,
                        "test": [
                          0.7667936035,
                          0.8725920575
                        ]
                      },
                      {
                        "learn": [
                          0.7298830571
                        ],
                        "iteration": 56,
                        "passed_time": 8.439328243,
                        "remaining_time": 21.1723498,
                        "test": [
                          0.7649666035,
                          0.8723957408
                        ]
                      },
                      {
                        "learn": [
                          0.7259572466
                        ],
                        "iteration": 57,
                        "passed_time": 8.632251669,
                        "remaining_time": 21.1341334,
                        "test": [
                          0.7678555898,
                          0.8683702493
                        ]
                      },
                      {
                        "learn": [
                          0.7228595411
                        ],
                        "iteration": 58,
                        "passed_time": 8.904965606,
                        "remaining_time": 21.28135848,
                        "test": [
                          0.7730802344,
                          0.8645057881
                        ]
                      },
                      {
                        "learn": [
                          0.7190916943
                        ],
                        "iteration": 59,
                        "passed_time": 9.067422182,
                        "remaining_time": 21.15731842,
                        "test": [
                          0.7765133188,
                          0.8593268022
                        ]
                      },
                      {
                        "learn": [
                          0.7161223054
                        ],
                        "iteration": 60,
                        "passed_time": 9.227946623,
                        "remaining_time": 21.02761608,
                        "test": [
                          0.7759158756,
                          0.8570426896
                        ]
                      },
                      {
                        "learn": [
                          0.7146311488
                        ],
                        "iteration": 61,
                        "passed_time": 9.387308711,
                        "remaining_time": 20.89433229,
                        "test": [
                          0.7744225852,
                          0.8569456066
                        ]
                      },
                      {
                        "learn": [
                          0.7101354789
                        ],
                        "iteration": 62,
                        "passed_time": 9.56701097,
                        "remaining_time": 20.80445243,
                        "test": [
                          0.7784781344,
                          0.851865493
                        ]
                      },
                      {
                        "learn": [
                          0.7087554692
                        ],
                        "iteration": 63,
                        "passed_time": 9.732691217,
                        "remaining_time": 20.68196884,
                        "test": [
                          0.7771279428,
                          0.8518000444
                        ]
                      },
                      {
                        "learn": [
                          0.7053808433
                        ],
                        "iteration": 64,
                        "passed_time": 9.900153575,
                        "remaining_time": 20.56185742,
                        "test": [
                          0.7789433308,
                          0.8471376902
                        ]
                      },
                      {
                        "learn": [
                          0.7026392511
                        ],
                        "iteration": 65,
                        "passed_time": 10.06753585,
                        "remaining_time": 20.44014854,
                        "test": [
                          0.7788993854,
                          0.8447880196
                        ]
                      },
                      {
                        "learn": [
                          0.6987793548
                        ],
                        "iteration": 66,
                        "passed_time": 10.23283411,
                        "remaining_time": 20.31293935,
                        "test": [
                          0.7817169924,
                          0.840579684
                        ]
                      },
                      {
                        "learn": [
                          0.6951616433
                        ],
                        "iteration": 67,
                        "passed_time": 10.35934186,
                        "remaining_time": 20.10931068,
                        "test": [
                          0.7845160982,
                          0.8366535676
                        ]
                      },
                      {
                        "learn": [
                          0.688004108
                        ],
                        "iteration": 68,
                        "passed_time": 10.54573563,
                        "remaining_time": 20.02161402,
                        "test": [
                          0.7867375707,
                          0.8320222288
                        ]
                      },
                      {
                        "learn": [
                          0.6852117865
                        ],
                        "iteration": 69,
                        "passed_time": 10.76269596,
                        "remaining_time": 19.98786393,
                        "test": [
                          0.7887139559,
                          0.8279647061
                        ]
                      },
                      {
                        "learn": [
                          0.6826369117
                        ],
                        "iteration": 70,
                        "passed_time": 10.93381008,
                        "remaining_time": 19.86565494,
                        "test": [
                          0.7911061141,
                          0.8247763495
                        ]
                      },
                      {
                        "learn": [
                          0.6803338541
                        ],
                        "iteration": 71,
                        "passed_time": 11.10366554,
                        "remaining_time": 19.73984985,
                        "test": [
                          0.7931269264,
                          0.8218860225
                        ]
                      },
                      {
                        "learn": [
                          0.6736199011
                        ],
                        "iteration": 72,
                        "passed_time": 11.2951619,
                        "remaining_time": 19.65048714,
                        "test": [
                          0.7924687087,
                          0.8193513759
                        ]
                      },
                      {
                        "learn": [
                          0.6712743906
                        ],
                        "iteration": 73,
                        "passed_time": 11.4686753,
                        "remaining_time": 19.52774444,
                        "test": [
                          0.7938863496,
                          0.8163495839
                        ]
                      },
                      {
                        "learn": [
                          0.6648986949
                        ],
                        "iteration": 74,
                        "passed_time": 11.60173084,
                        "remaining_time": 19.33621807,
                        "test": [
                          0.79328212,
                          0.8139724979
                        ]
                      },
                      {
                        "learn": [
                          0.6624387547
                        ],
                        "iteration": 75,
                        "passed_time": 11.81696444,
                        "remaining_time": 19.28031041,
                        "test": [
                          0.7945324377,
                          0.8111871555
                        ]
                      },
                      {
                        "learn": [
                          0.6601077435
                        ],
                        "iteration": 76,
                        "passed_time": 11.99143017,
                        "remaining_time": 19.15514169,
                        "test": [
                          0.7962315402,
                          0.8079837627
                        ]
                      },
                      {
                        "learn": [
                          0.6573132655
                        ],
                        "iteration": 77,
                        "passed_time": 12.16606219,
                        "remaining_time": 19.02896906,
                        "test": [
                          0.7984663491,
                          0.80498873
                        ]
                      },
                      {
                        "learn": [
                          0.6511256568
                        ],
                        "iteration": 78,
                        "passed_time": 12.33023888,
                        "remaining_time": 18.88555576,
                        "test": [
                          0.7996921243,
                          0.80121095
                        ]
                      },
                      {
                        "learn": [
                          0.6491332112
                        ],
                        "iteration": 79,
                        "passed_time": 12.49740685,
                        "remaining_time": 18.74611027,
                        "test": [
                          0.8012666508,
                          0.7986732332
                        ]
                      },
                      {
                        "learn": [
                          0.6466509139
                        ],
                        "iteration": 80,
                        "passed_time": 12.66717217,
                        "remaining_time": 18.60979615,
                        "test": [
                          0.8027718417,
                          0.7958113799
                        ]
                      },
                      {
                        "learn": [
                          0.6407476347
                        ],
                        "iteration": 81,
                        "passed_time": 12.84304225,
                        "remaining_time": 18.48145104,
                        "test": [
                          0.8035929453,
                          0.792194258
                        ]
                      },
                      {
                        "learn": [
                          0.6351101991
                        ],
                        "iteration": 82,
                        "passed_time": 12.97247229,
                        "remaining_time": 18.28649708,
                        "test": [
                          0.8041861837,
                          0.788751961
                        ]
                      },
                      {
                        "learn": [
                          0.6297542899
                        ],
                        "iteration": 83,
                        "passed_time": 13.10262496,
                        "remaining_time": 18.09410114,
                        "test": [
                          0.8047029602,
                          0.7855679555
                        ]
                      },
                      {
                        "learn": [
                          0.6291152582
                        ],
                        "iteration": 84,
                        "passed_time": 13.26855104,
                        "remaining_time": 17.95156905,
                        "test": [
                          0.804210872,
                          0.785506231
                        ]
                      },
                      {
                        "learn": [
                          0.6285591474
                        ],
                        "iteration": 85,
                        "passed_time": 13.43224304,
                        "remaining_time": 17.80553148,
                        "test": [
                          0.8047028157,
                          0.7848218345
                        ]
                      },
                      {
                        "learn": [
                          0.6276658021
                        ],
                        "iteration": 86,
                        "passed_time": 13.59245632,
                        "remaining_time": 17.6545697,
                        "test": [
                          0.8050199418,
                          0.7835802942
                        ]
                      },
                      {
                        "learn": [
                          0.6223278695
                        ],
                        "iteration": 87,
                        "passed_time": 13.79232412,
                        "remaining_time": 17.55386707,
                        "test": [
                          0.8044745483,
                          0.7817548798
                        ]
                      },
                      {
                        "learn": [
                          0.6206168318
                        ],
                        "iteration": 88,
                        "passed_time": 13.95186034,
                        "remaining_time": 17.4006348,
                        "test": [
                          0.805080639,
                          0.7795349621
                        ]
                      },
                      {
                        "learn": [
                          0.6189840781
                        ],
                        "iteration": 89,
                        "passed_time": 14.11924928,
                        "remaining_time": 17.25686024,
                        "test": [
                          0.8057695165,
                          0.7773655686
                        ]
                      },
                      {
                        "learn": [
                          0.6182093874
                        ],
                        "iteration": 90,
                        "passed_time": 14.25938638,
                        "remaining_time": 17.07992435,
                        "test": [
                          0.8059986809,
                          0.7762822014
                        ]
                      },
                      {
                        "learn": [
                          0.616586104
                        ],
                        "iteration": 91,
                        "passed_time": 14.42832087,
                        "remaining_time": 16.93759406,
                        "test": [
                          0.8069606097,
                          0.7741571983
                        ]
                      },
                      {
                        "learn": [
                          0.6117186351
                        ],
                        "iteration": 92,
                        "passed_time": 14.58776953,
                        "remaining_time": 16.78377785,
                        "test": [
                          0.8071139022,
                          0.7714608307
                        ]
                      },
                      {
                        "learn": [
                          0.6093590385
                        ],
                        "iteration": 93,
                        "passed_time": 14.77954926,
                        "remaining_time": 16.66630023,
                        "test": [
                          0.8088656158,
                          0.7684053751
                        ]
                      },
                      {
                        "learn": [
                          0.6044811829
                        ],
                        "iteration": 94,
                        "passed_time": 15.00190518,
                        "remaining_time": 16.5810531,
                        "test": [
                          0.8082690002,
                          0.7668318942
                        ]
                      },
                      {
                        "learn": [
                          0.6023104111
                        ],
                        "iteration": 95,
                        "passed_time": 15.18005079,
                        "remaining_time": 16.44505502,
                        "test": [
                          0.8096906259,
                          0.7637991592
                        ]
                      },
                      {
                        "learn": [
                          0.6002278341
                        ],
                        "iteration": 96,
                        "passed_time": 15.34520687,
                        "remaining_time": 16.29439493,
                        "test": [
                          0.8109941646,
                          0.7608941426
                        ]
                      },
                      {
                        "learn": [
                          0.5981199986
                        ],
                        "iteration": 97,
                        "passed_time": 15.51922304,
                        "remaining_time": 16.15266071,
                        "test": [
                          0.8121417881,
                          0.7584673777
                        ]
                      },
                      {
                        "learn": [
                          0.596523876
                        ],
                        "iteration": 98,
                        "passed_time": 15.70210893,
                        "remaining_time": 16.01932326,
                        "test": [
                          0.8133805647,
                          0.7563376165
                        ]
                      },
                      {
                        "learn": [
                          0.5962524146
                        ],
                        "iteration": 99,
                        "passed_time": 15.86405878,
                        "remaining_time": 15.86405878,
                        "test": [
                          0.81342716,
                          0.7559820819
                        ]
                      },
                      {
                        "learn": [
                          0.5946569016
                        ],
                        "iteration": 100,
                        "passed_time": 16.07804821,
                        "remaining_time": 15.75967102,
                        "test": [
                          0.8144764052,
                          0.7537676009
                        ]
                      },
                      {
                        "learn": [
                          0.5942447871
                        ],
                        "iteration": 101,
                        "passed_time": 16.24078051,
                        "remaining_time": 15.60388716,
                        "test": [
                          0.8147333778,
                          0.7531917686
                        ]
                      },
                      {
                        "learn": [
                          0.5893958277
                        ],
                        "iteration": 102,
                        "passed_time": 16.41679461,
                        "remaining_time": 15.46047648,
                        "test": [
                          0.8152190776,
                          0.7503559178
                        ]
                      },
                      {
                        "learn": [
                          0.5874436629
                        ],
                        "iteration": 103,
                        "passed_time": 16.57889544,
                        "remaining_time": 15.30359579,
                        "test": [
                          0.8165301162,
                          0.7479194283
                        ]
                      },
                      {
                        "learn": [
                          0.5829963321
                        ],
                        "iteration": 104,
                        "passed_time": 16.78386304,
                        "remaining_time": 15.18539989,
                        "test": [
                          0.8160845367,
                          0.7465474166
                        ]
                      },
                      {
                        "learn": [
                          0.5812053875
                        ],
                        "iteration": 105,
                        "passed_time": 16.94615281,
                        "remaining_time": 15.02772042,
                        "test": [
                          0.8172999698,
                          0.7443326882
                        ]
                      },
                      {
                        "learn": [
                          0.5794351842
                        ],
                        "iteration": 106,
                        "passed_time": 17.14716157,
                        "remaining_time": 14.90360772,
                        "test": [
                          0.8182401479,
                          0.7422780496
                        ]
                      },
                      {
                        "learn": [
                          0.5776857974
                        ],
                        "iteration": 107,
                        "passed_time": 17.31664244,
                        "remaining_time": 14.75121393,
                        "test": [
                          0.8191694019,
                          0.7404623422
                        ]
                      },
                      {
                        "learn": [
                          0.5760676127
                        ],
                        "iteration": 108,
                        "passed_time": 17.4456147,
                        "remaining_time": 14.5646875,
                        "test": [
                          0.8199327763,
                          0.7385594834
                        ]
                      },
                      {
                        "learn": [
                          0.5749022713
                        ],
                        "iteration": 109,
                        "passed_time": 17.60746993,
                        "remaining_time": 14.40611176,
                        "test": [
                          0.8205472716,
                          0.7372751634
                        ]
                      },
                      {
                        "learn": [
                          0.5734365023
                        ],
                        "iteration": 110,
                        "passed_time": 17.78735737,
                        "remaining_time": 14.26193519,
                        "test": [
                          0.8212828544,
                          0.7353736089
                        ]
                      },
                      {
                        "learn": [
                          0.5721322776
                        ],
                        "iteration": 111,
                        "passed_time": 17.9568089,
                        "remaining_time": 14.10892128,
                        "test": [
                          0.8219784027,
                          0.7336747454
                        ]
                      },
                      {
                        "learn": [
                          0.5680349273
                        ],
                        "iteration": 112,
                        "passed_time": 18.13106026,
                        "remaining_time": 13.95931188,
                        "test": [
                          0.8215233063,
                          0.7324613158
                        ]
                      },
                      {
                        "learn": [
                          0.5641363387
                        ],
                        "iteration": 113,
                        "passed_time": 18.30425367,
                        "remaining_time": 13.80847206,
                        "test": [
                          0.8215673695,
                          0.7305237422
                        ]
                      },
                      {
                        "learn": [
                          0.5639362179
                        ],
                        "iteration": 114,
                        "passed_time": 18.4714054,
                        "remaining_time": 13.65277791,
                        "test": [
                          0.8215772154,
                          0.7303923174
                        ]
                      },
                      {
                        "learn": [
                          0.5625481364
                        ],
                        "iteration": 115,
                        "passed_time": 18.63498867,
                        "remaining_time": 13.49430214,
                        "test": [
                          0.822464136,
                          0.7287436015
                        ]
                      },
                      {
                        "learn": [
                          0.5613940492
                        ],
                        "iteration": 116,
                        "passed_time": 18.81867748,
                        "remaining_time": 13.35000197,
                        "test": [
                          0.8232418704,
                          0.7271739203
                        ]
                      },
                      {
                        "learn": [
                          0.557657533
                        ],
                        "iteration": 117,
                        "passed_time": 18.99694059,
                        "remaining_time": 13.2012638,
                        "test": [
                          0.8231924092,
                          0.7252888376
                        ]
                      },
                      {
                        "learn": [
                          0.5562733338
                        ],
                        "iteration": 118,
                        "passed_time": 19.21902002,
                        "remaining_time": 13.08185397,
                        "test": [
                          0.823828456,
                          0.7233852307
                        ]
                      },
                      {
                        "learn": [
                          0.5525545135
                        ],
                        "iteration": 119,
                        "passed_time": 19.41321717,
                        "remaining_time": 12.94214478,
                        "test": [
                          0.8234812084,
                          0.7223613835
                        ]
                      },
                      {
                        "learn": [
                          0.5513126518
                        ],
                        "iteration": 120,
                        "passed_time": 19.58124232,
                        "remaining_time": 12.78444747,
                        "test": [
                          0.8239118486,
                          0.7208865253
                        ]
                      },
                      {
                        "learn": [
                          0.5502701335
                        ],
                        "iteration": 121,
                        "passed_time": 19.74471465,
                        "remaining_time": 12.62367002,
                        "test": [
                          0.8242995414,
                          0.7195001278
                        ]
                      },
                      {
                        "learn": [
                          0.5493199581
                        ],
                        "iteration": 122,
                        "passed_time": 19.92608616,
                        "remaining_time": 12.47405394,
                        "test": [
                          0.824693501,
                          0.7184404879
                        ]
                      },
                      {
                        "learn": [
                          0.5481902247
                        ],
                        "iteration": 123,
                        "passed_time": 20.09500223,
                        "remaining_time": 12.31629169,
                        "test": [
                          0.8253209094,
                          0.7168428224
                        ]
                      },
                      {
                        "learn": [
                          0.5447725306
                        ],
                        "iteration": 124,
                        "passed_time": 20.27499689,
                        "remaining_time": 12.16499813,
                        "test": [
                          0.825188732,
                          0.7152521313
                        ]
                      },
                      {
                        "learn": [
                          0.5435792419
                        ],
                        "iteration": 125,
                        "passed_time": 20.43159617,
                        "remaining_time": 11.99950886,
                        "test": [
                          0.825907197,
                          0.7138598975
                        ]
                      },
                      {
                        "learn": [
                          0.5431688944
                        ],
                        "iteration": 126,
                        "passed_time": 20.60281773,
                        "remaining_time": 11.84256452,
                        "test": [
                          0.8261210545,
                          0.7134166857
                        ]
                      },
                      {
                        "learn": [
                          0.5420886941
                        ],
                        "iteration": 127,
                        "passed_time": 20.76340911,
                        "remaining_time": 11.67941762,
                        "test": [
                          0.8265375796,
                          0.7120716847
                        ]
                      },
                      {
                        "learn": [
                          0.5415762742
                        ],
                        "iteration": 128,
                        "passed_time": 20.95368997,
                        "remaining_time": 11.53265107,
                        "test": [
                          0.8268924223,
                          0.7114942378
                        ]
                      },
                      {
                        "learn": [
                          0.5403958319
                        ],
                        "iteration": 129,
                        "passed_time": 21.1216434,
                        "remaining_time": 11.3731926,
                        "test": [
                          0.8274846457,
                          0.710055856
                        ]
                      },
                      {
                        "learn": [
                          0.539247538
                        ],
                        "iteration": 130,
                        "passed_time": 21.32859767,
                        "remaining_time": 11.23414687,
                        "test": [
                          0.8283933194,
                          0.7088117835
                        ]
                      },
                      {
                        "learn": [
                          0.5388127178
                        ],
                        "iteration": 131,
                        "passed_time": 21.49655116,
                        "remaining_time": 11.0739809,
                        "test": [
                          0.8286789566,
                          0.7083626974
                        ]
                      },
                      {
                        "learn": [
                          0.5354648919
                        ],
                        "iteration": 132,
                        "passed_time": 21.68165347,
                        "remaining_time": 10.92233671,
                        "test": [
                          0.8282985255,
                          0.7075264072
                        ]
                      },
                      {
                        "learn": [
                          0.5352906244
                        ],
                        "iteration": 133,
                        "passed_time": 21.86456564,
                        "remaining_time": 10.76911442,
                        "test": [
                          0.8284207478,
                          0.7073559496
                        ]
                      },
                      {
                        "learn": [
                          0.5318710019
                        ],
                        "iteration": 134,
                        "passed_time": 22.04247193,
                        "remaining_time": 10.61304204,
                        "test": [
                          0.8284528957,
                          0.7056681911
                        ]
                      },
                      {
                        "learn": [
                          0.5313836096
                        ],
                        "iteration": 135,
                        "passed_time": 22.20149399,
                        "remaining_time": 10.44776188,
                        "test": [
                          0.8287000002,
                          0.7051242216
                        ]
                      },
                      {
                        "learn": [
                          0.5313157678
                        ],
                        "iteration": 136,
                        "passed_time": 22.40455092,
                        "remaining_time": 10.30282268,
                        "test": [
                          0.828665524,
                          0.7051020324
                        ]
                      },
                      {
                        "learn": [
                          0.5280122491
                        ],
                        "iteration": 137,
                        "passed_time": 22.59174311,
                        "remaining_time": 10.14991357,
                        "test": [
                          0.8286848972,
                          0.7037743502
                        ]
                      },
                      {
                        "learn": [
                          0.5248234149
                        ],
                        "iteration": 138,
                        "passed_time": 22.76808475,
                        "remaining_time": 9.991749424,
                        "test": [
                          0.8286901045,
                          0.7025026191
                        ]
                      },
                      {
                        "learn": [
                          0.5241742188
                        ],
                        "iteration": 139,
                        "passed_time": 22.94316231,
                        "remaining_time": 9.832783847,
                        "test": [
                          0.8288006849,
                          0.7021615912
                        ]
                      },
                      {
                        "learn": [
                          0.5206290026
                        ],
                        "iteration": 140,
                        "passed_time": 23.12381872,
                        "remaining_time": 9.675924145,
                        "test": [
                          0.8289144112,
                          0.700577421
                        ]
                      },
                      {
                        "learn": [
                          0.5177090325
                        ],
                        "iteration": 141,
                        "passed_time": 23.25329962,
                        "remaining_time": 9.497826605,
                        "test": [
                          0.8288991797,
                          0.6994770826
                        ]
                      },
                      {
                        "learn": [
                          0.5144051599
                        ],
                        "iteration": 142,
                        "passed_time": 23.42956919,
                        "remaining_time": 9.339059049,
                        "test": [
                          0.8289851229,
                          0.6980753359
                        ]
                      },
                      {
                        "learn": [
                          0.5140122257
                        ],
                        "iteration": 143,
                        "passed_time": 23.59257125,
                        "remaining_time": 9.174888819,
                        "test": [
                          0.8292351811,
                          0.6976235585
                        ]
                      },
                      {
                        "learn": [
                          0.5133015102
                        ],
                        "iteration": 144,
                        "passed_time": 23.75473804,
                        "remaining_time": 9.010417878,
                        "test": [
                          0.8292030424,
                          0.6972407908
                        ]
                      },
                      {
                        "learn": [
                          0.5105886628
                        ],
                        "iteration": 145,
                        "passed_time": 23.90852879,
                        "remaining_time": 8.842880511,
                        "test": [
                          0.8291735774,
                          0.6962916079
                        ]
                      },
                      {
                        "learn": [
                          0.5077605667
                        ],
                        "iteration": 146,
                        "passed_time": 24.08067617,
                        "remaining_time": 8.682148551,
                        "test": [
                          0.8290158607,
                          0.6952152305
                        ]
                      },
                      {
                        "learn": [
                          0.505228625
                        ],
                        "iteration": 147,
                        "passed_time": 24.20850801,
                        "remaining_time": 8.505692005,
                        "test": [
                          0.8289017927,
                          0.6943461479
                        ]
                      },
                      {
                        "learn": [
                          0.5027675694
                        ],
                        "iteration": 148,
                        "passed_time": 24.3826091,
                        "remaining_time": 8.345725262,
                        "test": [
                          0.8289136621,
                          0.6934372208
                        ]
                      },
                      {
                        "learn": [
                          0.5017998918
                        ],
                        "iteration": 149,
                        "passed_time": 24.54057947,
                        "remaining_time": 8.180193157,
                        "test": [
                          0.8293499239,
                          0.6921957724
                        ]
                      },
                      {
                        "learn": [
                          0.5008848635
                        ],
                        "iteration": 150,
                        "passed_time": 24.71779847,
                        "remaining_time": 8.021007451,
                        "test": [
                          0.8295981056,
                          0.6909152958
                        ]
                      },
                      {
                        "learn": [
                          0.4980046408
                        ],
                        "iteration": 151,
                        "passed_time": 24.84452843,
                        "remaining_time": 7.845640556,
                        "test": [
                          0.8295381481,
                          0.6899125038
                        ]
                      },
                      {
                        "learn": [
                          0.4972312131
                        ],
                        "iteration": 152,
                        "passed_time": 25.02448465,
                        "remaining_time": 7.68725999,
                        "test": [
                          0.8297402443,
                          0.6888185439
                        ]
                      },
                      {
                        "learn": [
                          0.494959111
                        ],
                        "iteration": 153,
                        "passed_time": 25.15782801,
                        "remaining_time": 7.514675901,
                        "test": [
                          0.8296089485,
                          0.6881412206
                        ]
                      },
                      {
                        "learn": [
                          0.4923565662
                        ],
                        "iteration": 154,
                        "passed_time": 25.2872503,
                        "remaining_time": 7.341459765,
                        "test": [
                          0.8294998525,
                          0.6872636332
                        ]
                      },
                      {
                        "learn": [
                          0.4917501807
                        ],
                        "iteration": 155,
                        "passed_time": 25.47789809,
                        "remaining_time": 7.186073821,
                        "test": [
                          0.8294951074,
                          0.6869448537
                        ]
                      },
                      {
                        "learn": [
                          0.4907885746
                        ],
                        "iteration": 156,
                        "passed_time": 25.61889818,
                        "remaining_time": 7.016640902,
                        "test": [
                          0.8297539881,
                          0.6859672668
                        ]
                      },
                      {
                        "learn": [
                          0.4887802545
                        ],
                        "iteration": 157,
                        "passed_time": 25.7756534,
                        "remaining_time": 6.851755967,
                        "test": [
                          0.829449551,
                          0.6853824253
                        ]
                      },
                      {
                        "learn": [
                          0.4880634736
                        ],
                        "iteration": 158,
                        "passed_time": 25.95538002,
                        "remaining_time": 6.692896735,
                        "test": [
                          0.82983893,
                          0.6845812963
                        ]
                      },
                      {
                        "learn": [
                          0.4859133056
                        ],
                        "iteration": 159,
                        "passed_time": 26.1254007,
                        "remaining_time": 6.531350176,
                        "test": [
                          0.8296011984,
                          0.6838441589
                        ]
                      },
                      {
                        "learn": [
                          0.4852026871
                        ],
                        "iteration": 160,
                        "passed_time": 26.29350383,
                        "remaining_time": 6.369233847,
                        "test": [
                          0.82976831,
                          0.6828205967
                        ]
                      },
                      {
                        "learn": [
                          0.4830821028
                        ],
                        "iteration": 161,
                        "passed_time": 26.50617666,
                        "remaining_time": 6.217498228,
                        "test": [
                          0.8296660795,
                          0.6820084846
                        ]
                      },
                      {
                        "learn": [
                          0.4820121205
                        ],
                        "iteration": 162,
                        "passed_time": 26.66935058,
                        "remaining_time": 6.053778966,
                        "test": [
                          0.8302787691,
                          0.6807205839
                        ]
                      },
                      {
                        "learn": [
                          0.4813506302
                        ],
                        "iteration": 163,
                        "passed_time": 26.84417188,
                        "remaining_time": 5.892623096,
                        "test": [
                          0.8304917293,
                          0.6797711417
                        ]
                      },
                      {
                        "learn": [
                          0.4807104357
                        ],
                        "iteration": 164,
                        "passed_time": 27.02433644,
                        "remaining_time": 5.732435003,
                        "test": [
                          0.830658554,
                          0.678809511
                        ]
                      },
                      {
                        "learn": [
                          0.4799282022
                        ],
                        "iteration": 165,
                        "passed_time": 27.19548738,
                        "remaining_time": 5.570160065,
                        "test": [
                          0.8311147087,
                          0.677744737
                        ]
                      },
                      {
                        "learn": [
                          0.4780153943
                        ],
                        "iteration": 166,
                        "passed_time": 27.38385779,
                        "remaining_time": 5.41118148,
                        "test": [
                          0.8312186801,
                          0.6769849837
                        ]
                      },
                      {
                        "learn": [
                          0.4770999612
                        ],
                        "iteration": 167,
                        "passed_time": 27.59589722,
                        "remaining_time": 5.256361375,
                        "test": [
                          0.8318747847,
                          0.6756215904
                        ]
                      },
                      {
                        "learn": [
                          0.4751611742
                        ],
                        "iteration": 168,
                        "passed_time": 27.77285406,
                        "remaining_time": 5.094428852,
                        "test": [
                          0.831528152,
                          0.6752320449
                        ]
                      },
                      {
                        "learn": [
                          0.4749248056
                        ],
                        "iteration": 169,
                        "passed_time": 27.95096318,
                        "remaining_time": 4.932522915,
                        "test": [
                          0.8317000117,
                          0.6749529376
                        ]
                      },
                      {
                        "learn": [
                          0.4743391139
                        ],
                        "iteration": 170,
                        "passed_time": 28.1219437,
                        "remaining_time": 4.769218523,
                        "test": [
                          0.8319505651,
                          0.6741235152
                        ]
                      },
                      {
                        "learn": [
                          0.474089179
                        ],
                        "iteration": 171,
                        "passed_time": 28.25537027,
                        "remaining_time": 4.599711439,
                        "test": [
                          0.8321602763,
                          0.6738430455
                        ]
                      },
                      {
                        "learn": [
                          0.4734290764
                        ],
                        "iteration": 172,
                        "passed_time": 28.42412785,
                        "remaining_time": 4.436135561,
                        "test": [
                          0.8324120679,
                          0.6729543982
                        ]
                      },
                      {
                        "learn": [
                          0.4731251878
                        ],
                        "iteration": 173,
                        "passed_time": 28.71380717,
                        "remaining_time": 4.290568887,
                        "test": [
                          0.8326542079,
                          0.672520467
                        ]
                      },
                      {
                        "learn": [
                          0.4723171355
                        ],
                        "iteration": 174,
                        "passed_time": 28.88096717,
                        "remaining_time": 4.125852454,
                        "test": [
                          0.8332413654,
                          0.6713165096
                        ]
                      },
                      {
                        "learn": [
                          0.4701977676
                        ],
                        "iteration": 175,
                        "passed_time": 29.06807796,
                        "remaining_time": 3.963828813,
                        "test": [
                          0.8330138944,
                          0.6708807197
                        ]
                      },
                      {
                        "learn": [
                          0.4684913355
                        ],
                        "iteration": 176,
                        "passed_time": 29.24808216,
                        "remaining_time": 3.800598247,
                        "test": [
                          0.8327681685,
                          0.670826778
                        ]
                      },
                      {
                        "learn": [
                          0.4667302722
                        ],
                        "iteration": 177,
                        "passed_time": 29.38798507,
                        "remaining_time": 3.632222873,
                        "test": [
                          0.8325876603,
                          0.6703268704
                        ]
                      },
                      {
                        "learn": [
                          0.4664324031
                        ],
                        "iteration": 178,
                        "passed_time": 29.55797,
                        "remaining_time": 3.467694805,
                        "test": [
                          0.8327457571,
                          0.6699607547
                        ]
                      },
                      {
                        "learn": [
                          0.465692268
                        ],
                        "iteration": 179,
                        "passed_time": 29.78092351,
                        "remaining_time": 3.308991501,
                        "test": [
                          0.8330886237,
                          0.6691383676
                        ]
                      },
                      {
                        "learn": [
                          0.4641024496
                        ],
                        "iteration": 180,
                        "passed_time": 29.9719626,
                        "remaining_time": 3.146228118,
                        "test": [
                          0.8329863707,
                          0.6688298386
                        ]
                      },
                      {
                        "learn": [
                          0.4624958022
                        ],
                        "iteration": 181,
                        "passed_time": 30.15278051,
                        "remaining_time": 2.982143127,
                        "test": [
                          0.8326832246,
                          0.6685382538
                        ]
                      },
                      {
                        "learn": [
                          0.4622078632
                        ],
                        "iteration": 182,
                        "passed_time": 30.31899419,
                        "remaining_time": 2.816518586,
                        "test": [
                          0.8328492566,
                          0.6681922041
                        ]
                      },
                      {
                        "learn": [
                          0.4605400026
                        ],
                        "iteration": 183,
                        "passed_time": 30.45234218,
                        "remaining_time": 2.648029755,
                        "test": [
                          0.8325370078,
                          0.6680136492
                        ]
                      },
                      {
                        "learn": [
                          0.4600145259
                        ],
                        "iteration": 184,
                        "passed_time": 30.61572918,
                        "remaining_time": 2.48235642,
                        "test": [
                          0.8328915883,
                          0.6669932879
                        ]
                      },
                      {
                        "learn": [
                          0.4591719203
                        ],
                        "iteration": 185,
                        "passed_time": 30.81924653,
                        "remaining_time": 2.319728233,
                        "test": [
                          0.833344348,
                          0.6659295646
                        ]
                      },
                      {
                        "learn": [
                          0.4577229054
                        ],
                        "iteration": 186,
                        "passed_time": 30.9570083,
                        "remaining_time": 2.152091486,
                        "test": [
                          0.8333742263,
                          0.6655372648
                        ]
                      },
                      {
                        "learn": [
                          0.4571009864
                        ],
                        "iteration": 187,
                        "passed_time": 31.14358747,
                        "remaining_time": 1.987888562,
                        "test": [
                          0.8335578098,
                          0.6647452869
                        ]
                      },
                      {
                        "learn": [
                          0.4556577665
                        ],
                        "iteration": 188,
                        "passed_time": 31.27473787,
                        "remaining_time": 1.820222839,
                        "test": [
                          0.833261862,
                          0.6645677234
                        ]
                      },
                      {
                        "learn": [
                          0.4549671549
                        ],
                        "iteration": 189,
                        "passed_time": 31.44230493,
                        "remaining_time": 1.654858154,
                        "test": [
                          0.833605493,
                          0.6636904845
                        ]
                      },
                      {
                        "learn": [
                          0.4546142383
                        ],
                        "iteration": 190,
                        "passed_time": 31.6232037,
                        "remaining_time": 1.490098604,
                        "test": [
                          0.8337785193,
                          0.663255634
                        ]
                      },
                      {
                        "learn": [
                          0.4539839969
                        ],
                        "iteration": 191,
                        "passed_time": 31.75304647,
                        "remaining_time": 1.323043603,
                        "test": [
                          0.8340676134,
                          0.6624950313
                        ]
                      },
                      {
                        "learn": [
                          0.4526063817
                        ],
                        "iteration": 192,
                        "passed_time": 31.98512182,
                        "remaining_time": 1.160082139,
                        "test": [
                          0.8341636685,
                          0.6620690644
                        ]
                      },
                      {
                        "learn": [
                          0.4513133534
                        ],
                        "iteration": 193,
                        "passed_time": 32.12404156,
                        "remaining_time": 0.9935270584,
                        "test": [
                          0.8340629263,
                          0.6619201883
                        ]
                      },
                      {
                        "learn": [
                          0.4498108596
                        ],
                        "iteration": 194,
                        "passed_time": 32.25655587,
                        "remaining_time": 0.8270911761,
                        "test": [
                          0.833806212,
                          0.6618483825
                        ]
                      },
                      {
                        "learn": [
                          0.4492344827
                        ],
                        "iteration": 195,
                        "passed_time": 32.42107162,
                        "remaining_time": 0.6616545228,
                        "test": [
                          0.8340540715,
                          0.6611078333
                        ]
                      },
                      {
                        "learn": [
                          0.4491096979
                        ],
                        "iteration": 196,
                        "passed_time": 32.5939653,
                        "remaining_time": 0.4963548015,
                        "test": [
                          0.8340909214,
                          0.6609989542
                        ]
                      },
                      {
                        "learn": [
                          0.448837989
                        ],
                        "iteration": 197,
                        "passed_time": 32.7563115,
                        "remaining_time": 0.3308718334,
                        "test": [
                          0.8344179624,
                          0.6606150484
                        ]
                      },
                      {
                        "learn": [
                          0.4483793679
                        ],
                        "iteration": 198,
                        "passed_time": 32.97813964,
                        "remaining_time": 0.1657192947,
                        "test": [
                          0.83451608,
                          0.6599406645
                        ]
                      },
                      {
                        "learn": [
                          0.4471625557
                        ],
                        "iteration": 199,
                        "passed_time": 33.16701517,
                        "remaining_time": 0,
                        "test": [
                          0.8343114205,
                          0.6600930331
                        ]
                      }
                    ],
                    "meta": {
                      "test_sets": [
                        "test"
                      ],
                      "test_metrics": [
                        {
                          "best_value": "Max",
                          "name": "AUC:type=Mu"
                        },
                        {
                          "best_value": "Min",
                          "name": "MultiClass"
                        }
                      ],
                      "learn_metrics": [
                        {
                          "best_value": "Min",
                          "name": "MultiClass"
                        }
                      ],
                      "launch_mode": "Train",
                      "parameters": "",
                      "iteration_count": 200,
                      "learn_sets": [
                        "learn"
                      ],
                      "name": "experiment"
                    }
                  }
                }
              },
              "catboost_info/model-3": {
                "path": "catboost_info/model-3",
                "name": "model-3",
                "content": {
                  "passed_iterations": 199,
                  "total_iterations": 200,
                  "data": {
                    "iterations": [
                      {
                        "learn": [
                          1.096482222
                        ],
                        "iteration": 0,
                        "passed_time": 0.2049518856,
                        "remaining_time": 40.78542524,
                        "test": [
                          0.611748719,
                          1.096063936
                        ]
                      },
                      {
                        "learn": [
                          1.094484559
                        ],
                        "iteration": 1,
                        "passed_time": 0.3218444807,
                        "remaining_time": 31.86260359,
                        "test": [
                          0.6117818026,
                          1.09367662
                        ]
                      },
                      {
                        "learn": [
                          1.077861773
                        ],
                        "iteration": 2,
                        "passed_time": 0.5340214173,
                        "remaining_time": 35.0674064,
                        "test": [
                          0.6471139348,
                          1.083739107
                        ]
                      },
                      {
                        "learn": [
                          1.060950011
                        ],
                        "iteration": 3,
                        "passed_time": 0.7970306215,
                        "remaining_time": 39.05450046,
                        "test": [
                          0.6558468826,
                          1.076453791
                        ]
                      },
                      {
                        "learn": [
                          1.050181582
                        ],
                        "iteration": 4,
                        "passed_time": 0.9713615902,
                        "remaining_time": 37.88310202,
                        "test": [
                          0.6555361728,
                          1.072061898
                        ]
                      },
                      {
                        "learn": [
                          1.034986368
                        ],
                        "iteration": 5,
                        "passed_time": 1.093260864,
                        "remaining_time": 35.34876793,
                        "test": [
                          0.6544169052,
                          1.065294563
                        ]
                      },
                      {
                        "learn": [
                          1.020304228
                        ],
                        "iteration": 6,
                        "passed_time": 1.213097907,
                        "remaining_time": 33.4468423,
                        "test": [
                          0.6554857406,
                          1.056330821
                        ]
                      },
                      {
                        "learn": [
                          1.006667525
                        ],
                        "iteration": 7,
                        "passed_time": 1.334704747,
                        "remaining_time": 32.03291393,
                        "test": [
                          0.6552638999,
                          1.048034548
                        ]
                      },
                      {
                        "learn": [
                          0.9939110178
                        ],
                        "iteration": 8,
                        "passed_time": 1.460760368,
                        "remaining_time": 31.00058115,
                        "test": [
                          0.6545995603,
                          1.042117842
                        ]
                      },
                      {
                        "learn": [
                          0.9817329633
                        ],
                        "iteration": 9,
                        "passed_time": 1.583338884,
                        "remaining_time": 30.0834388,
                        "test": [
                          0.6542400414,
                          1.036785523
                        ]
                      },
                      {
                        "learn": [
                          0.970322707
                        ],
                        "iteration": 10,
                        "passed_time": 1.750225017,
                        "remaining_time": 30.07204801,
                        "test": [
                          0.6531930005,
                          1.031755065
                        ]
                      },
                      {
                        "learn": [
                          0.9603295984
                        ],
                        "iteration": 11,
                        "passed_time": 1.893584931,
                        "remaining_time": 29.66616392,
                        "test": [
                          0.6537057579,
                          1.02483765
                        ]
                      },
                      {
                        "learn": [
                          0.9490145798
                        ],
                        "iteration": 12,
                        "passed_time": 2.012230048,
                        "remaining_time": 28.9451553,
                        "test": [
                          0.6537419895,
                          1.020155858
                        ]
                      },
                      {
                        "learn": [
                          0.9385691624
                        ],
                        "iteration": 13,
                        "passed_time": 2.133469442,
                        "remaining_time": 28.34466545,
                        "test": [
                          0.6536251709,
                          1.016027059
                        ]
                      },
                      {
                        "learn": [
                          0.930051698
                        ],
                        "iteration": 14,
                        "passed_time": 2.253039381,
                        "remaining_time": 27.7874857,
                        "test": [
                          0.6544232994,
                          1.009877646
                        ]
                      },
                      {
                        "learn": [
                          0.9208708783
                        ],
                        "iteration": 15,
                        "passed_time": 2.375187013,
                        "remaining_time": 27.31465065,
                        "test": [
                          0.6544494399,
                          1.00385233
                        ]
                      },
                      {
                        "learn": [
                          0.9112265715
                        ],
                        "iteration": 16,
                        "passed_time": 2.494156797,
                        "remaining_time": 26.84886434,
                        "test": [
                          0.6496847775,
                          1.000026929
                        ]
                      },
                      {
                        "learn": [
                          0.9029200938
                        ],
                        "iteration": 17,
                        "passed_time": 2.628662934,
                        "remaining_time": 26.578703,
                        "test": [
                          0.6497792744,
                          0.9945236164
                        ]
                      },
                      {
                        "learn": [
                          0.8950002055
                        ],
                        "iteration": 18,
                        "passed_time": 2.786077851,
                        "remaining_time": 26.54105742,
                        "test": [
                          0.6500057812,
                          0.9892556604
                        ]
                      },
                      {
                        "learn": [
                          0.8882714661
                        ],
                        "iteration": 19,
                        "passed_time": 2.921864154,
                        "remaining_time": 26.29677738,
                        "test": [
                          0.6502377774,
                          0.9843866438
                        ]
                      },
                      {
                        "learn": [
                          0.8800572739
                        ],
                        "iteration": 20,
                        "passed_time": 3.05017918,
                        "remaining_time": 25.99914634,
                        "test": [
                          0.6496126187,
                          0.9810690501
                        ]
                      },
                      {
                        "learn": [
                          0.8732108657
                        ],
                        "iteration": 21,
                        "passed_time": 3.1718084,
                        "remaining_time": 25.66281342,
                        "test": [
                          0.6497785943,
                          0.9764996171
                        ]
                      },
                      {
                        "learn": [
                          0.8685558574
                        ],
                        "iteration": 22,
                        "passed_time": 3.319877637,
                        "remaining_time": 25.54862355,
                        "test": [
                          0.6494224623,
                          0.9751651803
                        ]
                      },
                      {
                        "learn": [
                          0.8622907326
                        ],
                        "iteration": 23,
                        "passed_time": 3.441135779,
                        "remaining_time": 25.23499571,
                        "test": [
                          0.6662305156,
                          0.970806815
                        ]
                      },
                      {
                        "learn": [
                          0.8552570689
                        ],
                        "iteration": 24,
                        "passed_time": 3.566340585,
                        "remaining_time": 24.96438409,
                        "test": [
                          0.6655699429,
                          0.9679483116
                        ]
                      },
                      {
                        "learn": [
                          0.8489145123
                        ],
                        "iteration": 25,
                        "passed_time": 3.695352652,
                        "remaining_time": 24.73043698,
                        "test": [
                          0.6646892844,
                          0.9629737801
                        ]
                      },
                      {
                        "learn": [
                          0.8424510017
                        ],
                        "iteration": 26,
                        "passed_time": 3.851847651,
                        "remaining_time": 24.68035717,
                        "test": [
                          0.6641029481,
                          0.9605464732
                        ]
                      },
                      {
                        "learn": [
                          0.8366491873
                        ],
                        "iteration": 27,
                        "passed_time": 3.998339881,
                        "remaining_time": 24.5612307,
                        "test": [
                          0.6644822791,
                          0.9560382115
                        ]
                      },
                      {
                        "learn": [
                          0.8312150742
                        ],
                        "iteration": 28,
                        "passed_time": 4.118968658,
                        "remaining_time": 24.28771174,
                        "test": [
                          0.6740817771,
                          0.9521398137
                        ]
                      },
                      {
                        "learn": [
                          0.8277192601
                        ],
                        "iteration": 29,
                        "passed_time": 4.282691896,
                        "remaining_time": 24.26858741,
                        "test": [
                          0.6739744049,
                          0.9512605632
                        ]
                      },
                      {
                        "learn": [
                          0.8229203772
                        ],
                        "iteration": 30,
                        "passed_time": 4.400765938,
                        "remaining_time": 23.99127237,
                        "test": [
                          0.6756511323,
                          0.9476276973
                        ]
                      },
                      {
                        "learn": [
                          0.8197745725
                        ],
                        "iteration": 31,
                        "passed_time": 4.5216413,
                        "remaining_time": 23.73861683,
                        "test": [
                          0.6754601195,
                          0.9468495813
                        ]
                      },
                      {
                        "learn": [
                          0.8167220976
                        ],
                        "iteration": 32,
                        "passed_time": 4.645931763,
                        "remaining_time": 23.51123044,
                        "test": [
                          0.6746957372,
                          0.9461871071
                        ]
                      },
                      {
                        "learn": [
                          0.8134506067
                        ],
                        "iteration": 33,
                        "passed_time": 4.774178168,
                        "remaining_time": 23.30922282,
                        "test": [
                          0.679161174,
                          0.9421356852
                        ]
                      },
                      {
                        "learn": [
                          0.8082798198
                        ],
                        "iteration": 34,
                        "passed_time": 4.952794688,
                        "remaining_time": 23.34888924,
                        "test": [
                          0.6784293728,
                          0.9403943977
                        ]
                      },
                      {
                        "learn": [
                          0.8036221765
                        ],
                        "iteration": 35,
                        "passed_time": 5.088954395,
                        "remaining_time": 23.18301447,
                        "test": [
                          0.6990907252,
                          0.9359452749
                        ]
                      },
                      {
                        "learn": [
                          0.7989124077
                        ],
                        "iteration": 36,
                        "passed_time": 5.217086744,
                        "remaining_time": 22.98338214,
                        "test": [
                          0.698977597,
                          0.9322542317
                        ]
                      },
                      {
                        "learn": [
                          0.7945955356
                        ],
                        "iteration": 37,
                        "passed_time": 5.339543673,
                        "remaining_time": 22.76331776,
                        "test": [
                          0.7085726771,
                          0.9281572975
                        ]
                      },
                      {
                        "learn": [
                          0.78937369
                        ],
                        "iteration": 38,
                        "passed_time": 5.462093229,
                        "remaining_time": 22.54864128,
                        "test": [
                          0.7109915329,
                          0.9244949191
                        ]
                      },
                      {
                        "learn": [
                          0.7854524887
                        ],
                        "iteration": 39,
                        "passed_time": 5.621198911,
                        "remaining_time": 22.48479564,
                        "test": [
                          0.7149894599,
                          0.9207515815
                        ]
                      },
                      {
                        "learn": [
                          0.7807053529
                        ],
                        "iteration": 40,
                        "passed_time": 5.746877951,
                        "remaining_time": 22.28667303,
                        "test": [
                          0.7149647423,
                          0.9174075079
                        ]
                      },
                      {
                        "learn": [
                          0.7771083303
                        ],
                        "iteration": 41,
                        "passed_time": 5.878083974,
                        "remaining_time": 22.11279209,
                        "test": [
                          0.7168885788,
                          0.9139614401
                        ]
                      },
                      {
                        "learn": [
                          0.7707971485
                        ],
                        "iteration": 42,
                        "passed_time": 6.083467459,
                        "remaining_time": 22.21173002,
                        "test": [
                          0.7376791346,
                          0.907403171
                        ]
                      },
                      {
                        "learn": [
                          0.7675168062
                        ],
                        "iteration": 43,
                        "passed_time": 6.216074621,
                        "remaining_time": 22.03881002,
                        "test": [
                          0.7385710974,
                          0.9042103542
                        ]
                      },
                      {
                        "learn": [
                          0.7615389751
                        ],
                        "iteration": 44,
                        "passed_time": 6.374172125,
                        "remaining_time": 21.95548176,
                        "test": [
                          0.7454768116,
                          0.8980702528
                        ]
                      },
                      {
                        "learn": [
                          0.758463007
                        ],
                        "iteration": 45,
                        "passed_time": 6.493213485,
                        "remaining_time": 21.73814949,
                        "test": [
                          0.7465127993,
                          0.8951037542
                        ]
                      },
                      {
                        "learn": [
                          0.7555530061
                        ],
                        "iteration": 46,
                        "passed_time": 6.61598701,
                        "remaining_time": 21.5371492,
                        "test": [
                          0.7479756981,
                          0.8922964505
                        ]
                      },
                      {
                        "learn": [
                          0.7505601561
                        ],
                        "iteration": 47,
                        "passed_time": 6.750660441,
                        "remaining_time": 21.3770914,
                        "test": [
                          0.7560250311,
                          0.8870202506
                        ]
                      },
                      {
                        "learn": [
                          0.7456560971
                        ],
                        "iteration": 48,
                        "passed_time": 6.908567808,
                        "remaining_time": 21.28966814,
                        "test": [
                          0.7654687626,
                          0.8822660515
                        ]
                      },
                      {
                        "learn": [
                          0.7409677365
                        ],
                        "iteration": 49,
                        "passed_time": 7.088835344,
                        "remaining_time": 21.26650603,
                        "test": [
                          0.7697079424,
                          0.8773523048
                        ]
                      },
                      {
                        "learn": [
                          0.7366407764
                        ],
                        "iteration": 50,
                        "passed_time": 7.213468072,
                        "remaining_time": 21.07464201,
                        "test": [
                          0.7723059469,
                          0.8731581286
                        ]
                      },
                      {
                        "learn": [
                          0.7353174182
                        ],
                        "iteration": 51,
                        "passed_time": 7.368629921,
                        "remaining_time": 20.97225439,
                        "test": [
                          0.7730468974,
                          0.8713248686
                        ]
                      },
                      {
                        "learn": [
                          0.7340607855
                        ],
                        "iteration": 52,
                        "passed_time": 7.555466763,
                        "remaining_time": 20.95572857,
                        "test": [
                          0.7736215006,
                          0.8695947873
                        ]
                      },
                      {
                        "learn": [
                          0.732873977
                        ],
                        "iteration": 53,
                        "passed_time": 7.682203811,
                        "remaining_time": 20.7704029,
                        "test": [
                          0.7734638966,
                          0.8679583061
                        ]
                      },
                      {
                        "learn": [
                          0.7279525825
                        ],
                        "iteration": 54,
                        "passed_time": 7.83961931,
                        "remaining_time": 20.66808727,
                        "test": [
                          0.7785807248,
                          0.8629233155
                        ]
                      },
                      {
                        "learn": [
                          0.7207897408
                        ],
                        "iteration": 55,
                        "passed_time": 7.972046402,
                        "remaining_time": 20.49954789,
                        "test": [
                          0.7782191246,
                          0.8589350698
                        ]
                      },
                      {
                        "learn": [
                          0.7142929326
                        ],
                        "iteration": 56,
                        "passed_time": 8.14845451,
                        "remaining_time": 20.44261395,
                        "test": [
                          0.7782077392,
                          0.8548612974
                        ]
                      },
                      {
                        "learn": [
                          0.7084498183
                        ],
                        "iteration": 57,
                        "passed_time": 8.269397322,
                        "remaining_time": 20.24576586,
                        "test": [
                          0.7772608536,
                          0.8524518672
                        ]
                      },
                      {
                        "learn": [
                          0.7024553326
                        ],
                        "iteration": 58,
                        "passed_time": 8.395581458,
                        "remaining_time": 20.0640167,
                        "test": [
                          0.7776373072,
                          0.8485736023
                        ]
                      },
                      {
                        "learn": [
                          0.7000096745
                        ],
                        "iteration": 59,
                        "passed_time": 8.542598036,
                        "remaining_time": 19.93272875,
                        "test": [
                          0.7793739462,
                          0.8459293253
                        ]
                      },
                      {
                        "learn": [
                          0.6989471096
                        ],
                        "iteration": 60,
                        "passed_time": 8.705075434,
                        "remaining_time": 19.8361555,
                        "test": [
                          0.779842535,
                          0.844462563
                        ]
                      },
                      {
                        "learn": [
                          0.6953757242
                        ],
                        "iteration": 61,
                        "passed_time": 8.857248732,
                        "remaining_time": 19.71452137,
                        "test": [
                          0.782795284,
                          0.8403060547
                        ]
                      },
                      {
                        "learn": [
                          0.693857005
                        ],
                        "iteration": 62,
                        "passed_time": 9.017916839,
                        "remaining_time": 19.61039059,
                        "test": [
                          0.7823536919,
                          0.8397731672
                        ]
                      },
                      {
                        "learn": [
                          0.6884274405
                        ],
                        "iteration": 63,
                        "passed_time": 9.204543386,
                        "remaining_time": 19.5596547,
                        "test": [
                          0.7832172301,
                          0.8361650895
                        ]
                      },
                      {
                        "learn": [
                          0.6833210259
                        ],
                        "iteration": 64,
                        "passed_time": 9.327241119,
                        "remaining_time": 19.37196232,
                        "test": [
                          0.7830668653,
                          0.8331295734
                        ]
                      },
                      {
                        "learn": [
                          0.6781791217
                        ],
                        "iteration": 65,
                        "passed_time": 9.515322809,
                        "remaining_time": 19.31898873,
                        "test": [
                          0.7824812594,
                          0.8309102862
                        ]
                      },
                      {
                        "learn": [
                          0.6769755623
                        ],
                        "iteration": 66,
                        "passed_time": 9.648281304,
                        "remaining_time": 19.15255841,
                        "test": [
                          0.7839283237,
                          0.8295188543
                        ]
                      },
                      {
                        "learn": [
                          0.6754853285
                        ],
                        "iteration": 67,
                        "passed_time": 9.804068224,
                        "remaining_time": 19.03142655,
                        "test": [
                          0.7843446027,
                          0.8278320704
                        ]
                      },
                      {
                        "learn": [
                          0.6706737963
                        ],
                        "iteration": 68,
                        "passed_time": 9.962566441,
                        "remaining_time": 18.91443773,
                        "test": [
                          0.7847765951,
                          0.8247778246
                        ]
                      },
                      {
                        "learn": [
                          0.6676175501
                        ],
                        "iteration": 69,
                        "passed_time": 10.12540837,
                        "remaining_time": 18.80432984,
                        "test": [
                          0.7872441316,
                          0.8205439044
                        ]
                      },
                      {
                        "learn": [
                          0.6650817915
                        ],
                        "iteration": 70,
                        "passed_time": 10.33844307,
                        "remaining_time": 18.78393177,
                        "test": [
                          0.7892739345,
                          0.8173030608
                        ]
                      },
                      {
                        "learn": [
                          0.6630811555
                        ],
                        "iteration": 71,
                        "passed_time": 10.49064793,
                        "remaining_time": 18.65004076,
                        "test": [
                          0.7911036963,
                          0.8149673089
                        ]
                      },
                      {
                        "learn": [
                          0.6586557634
                        ],
                        "iteration": 72,
                        "passed_time": 10.64340934,
                        "remaining_time": 18.51661625,
                        "test": [
                          0.7903905807,
                          0.8129494847
                        ]
                      },
                      {
                        "learn": [
                          0.6522151101
                        ],
                        "iteration": 73,
                        "passed_time": 10.82004142,
                        "remaining_time": 18.42331376,
                        "test": [
                          0.792431901,
                          0.8088344164
                        ]
                      },
                      {
                        "learn": [
                          0.649541491
                        ],
                        "iteration": 74,
                        "passed_time": 10.94804197,
                        "remaining_time": 18.24673661,
                        "test": [
                          0.7942045345,
                          0.8055872333
                        ]
                      },
                      {
                        "learn": [
                          0.6467525095
                        ],
                        "iteration": 75,
                        "passed_time": 11.12262444,
                        "remaining_time": 18.14743988,
                        "test": [
                          0.7967079104,
                          0.8018279561
                        ]
                      },
                      {
                        "learn": [
                          0.6427976255
                        ],
                        "iteration": 76,
                        "passed_time": 11.33547562,
                        "remaining_time": 18.1073182,
                        "test": [
                          0.796664151,
                          0.7996303001
                        ]
                      },
                      {
                        "learn": [
                          0.6418302213
                        ],
                        "iteration": 77,
                        "passed_time": 11.48884447,
                        "remaining_time": 17.96973109,
                        "test": [
                          0.7962937711,
                          0.7993719299
                        ]
                      },
                      {
                        "learn": [
                          0.6393580774
                        ],
                        "iteration": 78,
                        "passed_time": 11.61102026,
                        "remaining_time": 17.78396774,
                        "test": [
                          0.797840226,
                          0.7959267255
                        ]
                      },
                      {
                        "learn": [
                          0.6367850025
                        ],
                        "iteration": 79,
                        "passed_time": 11.78004937,
                        "remaining_time": 17.67007406,
                        "test": [
                          0.7998851171,
                          0.7924569948
                        ]
                      },
                      {
                        "learn": [
                          0.6343566234
                        ],
                        "iteration": 80,
                        "passed_time": 11.93539536,
                        "remaining_time": 17.53471665,
                        "test": [
                          0.8015944981,
                          0.7891792248
                        ]
                      },
                      {
                        "learn": [
                          0.6307919534
                        ],
                        "iteration": 81,
                        "passed_time": 12.10077886,
                        "remaining_time": 17.41331592,
                        "test": [
                          0.8018457834,
                          0.7864546034
                        ]
                      },
                      {
                        "learn": [
                          0.628822071
                        ],
                        "iteration": 82,
                        "passed_time": 12.26462314,
                        "remaining_time": 17.28868564,
                        "test": [
                          0.8037538737,
                          0.7840715383
                        ]
                      },
                      {
                        "learn": [
                          0.6268841155
                        ],
                        "iteration": 83,
                        "passed_time": 12.47522995,
                        "remaining_time": 17.2276985,
                        "test": [
                          0.8056124023,
                          0.7814571157
                        ]
                      },
                      {
                        "learn": [
                          0.6245861059
                        ],
                        "iteration": 84,
                        "passed_time": 12.64405388,
                        "remaining_time": 17.10666114,
                        "test": [
                          0.8071026557,
                          0.7787315277
                        ]
                      },
                      {
                        "learn": [
                          0.622458348
                        ],
                        "iteration": 85,
                        "passed_time": 12.80770777,
                        "remaining_time": 16.97765913,
                        "test": [
                          0.8082524853,
                          0.775767376
                        ]
                      },
                      {
                        "learn": [
                          0.6206644307
                        ],
                        "iteration": 86,
                        "passed_time": 12.9681053,
                        "remaining_time": 16.84363102,
                        "test": [
                          0.8097309927,
                          0.7733952814
                        ]
                      },
                      {
                        "learn": [
                          0.6150626656
                        ],
                        "iteration": 87,
                        "passed_time": 13.14047814,
                        "remaining_time": 16.72424491,
                        "test": [
                          0.8106649811,
                          0.7701152385
                        ]
                      },
                      {
                        "learn": [
                          0.6145612065
                        ],
                        "iteration": 88,
                        "passed_time": 13.31356401,
                        "remaining_time": 16.60455736,
                        "test": [
                          0.8110369994,
                          0.7693965899
                        ]
                      },
                      {
                        "learn": [
                          0.6127485454
                        ],
                        "iteration": 89,
                        "passed_time": 13.60450379,
                        "remaining_time": 16.62772685,
                        "test": [
                          0.8121151596,
                          0.7673454539
                        ]
                      },
                      {
                        "learn": [
                          0.6114126934
                        ],
                        "iteration": 90,
                        "passed_time": 13.76501893,
                        "remaining_time": 16.48776993,
                        "test": [
                          0.8128216167,
                          0.7659822282
                        ]
                      },
                      {
                        "learn": [
                          0.6097965998
                        ],
                        "iteration": 91,
                        "passed_time": 13.92601208,
                        "remaining_time": 16.34792722,
                        "test": [
                          0.8142674413,
                          0.7639010925
                        ]
                      },
                      {
                        "learn": [
                          0.6079522398
                        ],
                        "iteration": 92,
                        "passed_time": 14.04864268,
                        "remaining_time": 16.16349211,
                        "test": [
                          0.8151413681,
                          0.7614512102
                        ]
                      },
                      {
                        "learn": [
                          0.602674568
                        ],
                        "iteration": 93,
                        "passed_time": 14.22739998,
                        "remaining_time": 16.04366381,
                        "test": [
                          0.8157547755,
                          0.7583781245
                        ]
                      },
                      {
                        "learn": [
                          0.5976457376
                        ],
                        "iteration": 94,
                        "passed_time": 14.3764416,
                        "remaining_time": 15.88975124,
                        "test": [
                          0.8162276277,
                          0.7555005965
                        ]
                      },
                      {
                        "learn": [
                          0.5969011597
                        ],
                        "iteration": 95,
                        "passed_time": 14.58315418,
                        "remaining_time": 15.79841703,
                        "test": [
                          0.8166860705,
                          0.7546847558
                        ]
                      },
                      {
                        "learn": [
                          0.5968201741
                        ],
                        "iteration": 96,
                        "passed_time": 14.73175435,
                        "remaining_time": 15.64299689,
                        "test": [
                          0.8166287637,
                          0.7546679088
                        ]
                      },
                      {
                        "learn": [
                          0.593120131
                        ],
                        "iteration": 97,
                        "passed_time": 14.91442157,
                        "remaining_time": 15.52317348,
                        "test": [
                          0.8164099885,
                          0.7531017073
                        ]
                      },
                      {
                        "learn": [
                          0.5924629641
                        ],
                        "iteration": 98,
                        "passed_time": 15.07594321,
                        "remaining_time": 15.38050772,
                        "test": [
                          0.816811437,
                          0.7523741484
                        ]
                      },
                      {
                        "learn": [
                          0.587815447
                        ],
                        "iteration": 99,
                        "passed_time": 15.24137216,
                        "remaining_time": 15.24137216,
                        "test": [
                          0.8170484001,
                          0.7498951097
                        ]
                      },
                      {
                        "learn": [
                          0.5861048277
                        ],
                        "iteration": 100,
                        "passed_time": 15.39458683,
                        "remaining_time": 15.08974353,
                        "test": [
                          0.8179930964,
                          0.7477441773
                        ]
                      },
                      {
                        "learn": [
                          0.581636685
                        ],
                        "iteration": 101,
                        "passed_time": 15.51654168,
                        "remaining_time": 14.90804985,
                        "test": [
                          0.8180816843,
                          0.7453198772
                        ]
                      },
                      {
                        "learn": [
                          0.5810582118
                        ],
                        "iteration": 102,
                        "passed_time": 15.71210022,
                        "remaining_time": 14.79683225,
                        "test": [
                          0.8177939805,
                          0.7452389167
                        ]
                      },
                      {
                        "learn": [
                          0.5793645273
                        ],
                        "iteration": 103,
                        "passed_time": 15.88880377,
                        "remaining_time": 14.66658809,
                        "test": [
                          0.818625074,
                          0.7433514691
                        ]
                      },
                      {
                        "learn": [
                          0.5788218933
                        ],
                        "iteration": 104,
                        "passed_time": 16.07909485,
                        "remaining_time": 14.54775249,
                        "test": [
                          0.818321976,
                          0.7432859249
                        ]
                      },
                      {
                        "learn": [
                          0.5774036181
                        ],
                        "iteration": 105,
                        "passed_time": 16.25838742,
                        "remaining_time": 14.41781526,
                        "test": [
                          0.8187564174,
                          0.7413601759
                        ]
                      },
                      {
                        "learn": [
                          0.5767223273
                        ],
                        "iteration": 106,
                        "passed_time": 16.3791162,
                        "remaining_time": 14.23605427,
                        "test": [
                          0.8192928624,
                          0.7404251893
                        ]
                      },
                      {
                        "learn": [
                          0.5754468253
                        ],
                        "iteration": 107,
                        "passed_time": 16.54050697,
                        "remaining_time": 14.09006149,
                        "test": [
                          0.8198229807,
                          0.7387353878
                        ]
                      },
                      {
                        "learn": [
                          0.574087472
                        ],
                        "iteration": 108,
                        "passed_time": 16.7315021,
                        "remaining_time": 13.96850175,
                        "test": [
                          0.8204183634,
                          0.7372474494
                        ]
                      },
                      {
                        "learn": [
                          0.5729517153
                        ],
                        "iteration": 109,
                        "passed_time": 16.90561455,
                        "remaining_time": 13.83186645,
                        "test": [
                          0.8208406463,
                          0.7357409749
                        ]
                      },
                      {
                        "learn": [
                          0.5697475478
                        ],
                        "iteration": 110,
                        "passed_time": 17.07256742,
                        "remaining_time": 13.68881532,
                        "test": [
                          0.8207185788,
                          0.7344118063
                        ]
                      },
                      {
                        "learn": [
                          0.5684487873
                        ],
                        "iteration": 111,
                        "passed_time": 17.25124796,
                        "remaining_time": 13.55455197,
                        "test": [
                          0.8214991912,
                          0.7325990268
                        ]
                      },
                      {
                        "learn": [
                          0.567204012
                        ],
                        "iteration": 112,
                        "passed_time": 17.41235009,
                        "remaining_time": 13.40596865,
                        "test": [
                          0.8224396893,
                          0.7309107331
                        ]
                      },
                      {
                        "learn": [
                          0.5657581593
                        ],
                        "iteration": 113,
                        "passed_time": 17.57001958,
                        "remaining_time": 13.25457617,
                        "test": [
                          0.8235218149,
                          0.7288144912
                        ]
                      },
                      {
                        "learn": [
                          0.5613563377
                        ],
                        "iteration": 114,
                        "passed_time": 17.79942977,
                        "remaining_time": 13.15610026,
                        "test": [
                          0.8237490683,
                          0.7263965227
                        ]
                      },
                      {
                        "learn": [
                          0.5600916402
                        ],
                        "iteration": 115,
                        "passed_time": 17.95127975,
                        "remaining_time": 12.99920258,
                        "test": [
                          0.8242796715,
                          0.7248949299
                        ]
                      },
                      {
                        "learn": [
                          0.5571574163
                        ],
                        "iteration": 116,
                        "passed_time": 18.12262008,
                        "remaining_time": 12.85621766,
                        "test": [
                          0.8240686719,
                          0.7237954374
                        ]
                      },
                      {
                        "learn": [
                          0.5545910358
                        ],
                        "iteration": 117,
                        "passed_time": 18.28638332,
                        "remaining_time": 12.70748672,
                        "test": [
                          0.8242157797,
                          0.7223000072
                        ]
                      },
                      {
                        "learn": [
                          0.5532650728
                        ],
                        "iteration": 118,
                        "passed_time": 18.44733493,
                        "remaining_time": 12.55658932,
                        "test": [
                          0.8250498355,
                          0.7205475562
                        ]
                      },
                      {
                        "learn": [
                          0.5521428774
                        ],
                        "iteration": 119,
                        "passed_time": 18.60841019,
                        "remaining_time": 12.40560679,
                        "test": [
                          0.8258994399,
                          0.7190710032
                        ]
                      },
                      {
                        "learn": [
                          0.5519642689
                        ],
                        "iteration": 120,
                        "passed_time": 18.81167857,
                        "remaining_time": 12.28200502,
                        "test": [
                          0.8259042408,
                          0.7188475927
                        ]
                      },
                      {
                        "learn": [
                          0.5509765739
                        ],
                        "iteration": 121,
                        "passed_time": 18.98018457,
                        "remaining_time": 12.1348721,
                        "test": [
                          0.826161889,
                          0.7175264945
                        ]
                      },
                      {
                        "learn": [
                          0.550560388
                        ],
                        "iteration": 122,
                        "passed_time": 19.14241106,
                        "remaining_time": 11.98346059,
                        "test": [
                          0.8264529675,
                          0.7170880044
                        ]
                      },
                      {
                        "learn": [
                          0.5490013676
                        ],
                        "iteration": 123,
                        "passed_time": 19.32269272,
                        "remaining_time": 11.8429407,
                        "test": [
                          0.8273307807,
                          0.7152569569
                        ]
                      },
                      {
                        "learn": [
                          0.5479029528
                        ],
                        "iteration": 124,
                        "passed_time": 19.48943654,
                        "remaining_time": 11.69366192,
                        "test": [
                          0.827920617,
                          0.7137038642
                        ]
                      },
                      {
                        "learn": [
                          0.547428003
                        ],
                        "iteration": 125,
                        "passed_time": 19.64651885,
                        "remaining_time": 11.53843171,
                        "test": [
                          0.8282711167,
                          0.713163447
                        ]
                      },
                      {
                        "learn": [
                          0.5470762473
                        ],
                        "iteration": 126,
                        "passed_time": 19.86199131,
                        "remaining_time": 11.41673516,
                        "test": [
                          0.8285063075,
                          0.712833895
                        ]
                      },
                      {
                        "learn": [
                          0.5466273131
                        ],
                        "iteration": 127,
                        "passed_time": 20.02244301,
                        "remaining_time": 11.26262419,
                        "test": [
                          0.8287079965,
                          0.7123002197
                        ]
                      },
                      {
                        "learn": [
                          0.5429415064
                        ],
                        "iteration": 128,
                        "passed_time": 20.19160343,
                        "remaining_time": 11.11320809,
                        "test": [
                          0.8286015262,
                          0.7105920178
                        ]
                      },
                      {
                        "learn": [
                          0.5418695645
                        ],
                        "iteration": 129,
                        "passed_time": 20.35413649,
                        "remaining_time": 10.95991965,
                        "test": [
                          0.8289870311,
                          0.7093642175
                        ]
                      },
                      {
                        "learn": [
                          0.5410124032
                        ],
                        "iteration": 130,
                        "passed_time": 20.47698742,
                        "remaining_time": 10.78558879,
                        "test": [
                          0.8291807587,
                          0.7081475185
                        ]
                      },
                      {
                        "learn": [
                          0.5384714605
                        ],
                        "iteration": 131,
                        "passed_time": 20.64661305,
                        "remaining_time": 10.63613399,
                        "test": [
                          0.8288682495,
                          0.7073325111
                        ]
                      },
                      {
                        "learn": [
                          0.5380202042
                        ],
                        "iteration": 132,
                        "passed_time": 20.81496496,
                        "remaining_time": 10.48573423,
                        "test": [
                          0.8290354218,
                          0.7066820267
                        ]
                      },
                      {
                        "learn": [
                          0.5355771989
                        ],
                        "iteration": 133,
                        "passed_time": 21.03691398,
                        "remaining_time": 10.36146509,
                        "test": [
                          0.8289263827,
                          0.7058019889
                        ]
                      },
                      {
                        "learn": [
                          0.5349787344
                        ],
                        "iteration": 134,
                        "passed_time": 21.1914451,
                        "remaining_time": 10.20328838,
                        "test": [
                          0.8291921055,
                          0.7051147023
                        ]
                      },
                      {
                        "learn": [
                          0.5343998362
                        ],
                        "iteration": 135,
                        "passed_time": 21.33602643,
                        "remaining_time": 10.04048303,
                        "test": [
                          0.8293965397,
                          0.7044678712
                        ]
                      },
                      {
                        "learn": [
                          0.5336706536
                        ],
                        "iteration": 136,
                        "passed_time": 21.49340998,
                        "remaining_time": 9.883830866,
                        "test": [
                          0.8296587398,
                          0.7035094907
                        ]
                      },
                      {
                        "learn": [
                          0.530230246
                        ],
                        "iteration": 137,
                        "passed_time": 21.65723687,
                        "remaining_time": 9.730062943,
                        "test": [
                          0.8294821943,
                          0.7019715566
                        ]
                      },
                      {
                        "learn": [
                          0.527974559
                        ],
                        "iteration": 138,
                        "passed_time": 21.83723974,
                        "remaining_time": 9.583249095,
                        "test": [
                          0.8291812199,
                          0.7013094133
                        ]
                      },
                      {
                        "learn": [
                          0.5258131748
                        ],
                        "iteration": 139,
                        "passed_time": 22.0134984,
                        "remaining_time": 9.434356456,
                        "test": [
                          0.8289648843,
                          0.7006559829
                        ]
                      },
                      {
                        "learn": [
                          0.5250123267
                        ],
                        "iteration": 140,
                        "passed_time": 22.17319091,
                        "remaining_time": 9.278143713,
                        "test": [
                          0.8291258331,
                          0.6994986624
                        ]
                      },
                      {
                        "learn": [
                          0.5246647145
                        ],
                        "iteration": 141,
                        "passed_time": 22.34789802,
                        "remaining_time": 9.128014683,
                        "test": [
                          0.8288626409,
                          0.6995171028
                        ]
                      },
                      {
                        "learn": [
                          0.5239494009
                        ],
                        "iteration": 142,
                        "passed_time": 22.50519629,
                        "remaining_time": 8.970602716,
                        "test": [
                          0.8290122723,
                          0.6984923564
                        ]
                      },
                      {
                        "learn": [
                          0.5218874441
                        ],
                        "iteration": 143,
                        "passed_time": 22.67073969,
                        "remaining_time": 8.816398767,
                        "test": [
                          0.8288771341,
                          0.6978286957
                        ]
                      },
                      {
                        "learn": [
                          0.5208676128
                        ],
                        "iteration": 144,
                        "passed_time": 22.84000578,
                        "remaining_time": 8.663450467,
                        "test": [
                          0.8296884538,
                          0.6963179707
                        ]
                      },
                      {
                        "learn": [
                          0.5199383081
                        ],
                        "iteration": 145,
                        "passed_time": 23.04459972,
                        "remaining_time": 8.523345101,
                        "test": [
                          0.8299254863,
                          0.6951788381
                        ]
                      },
                      {
                        "learn": [
                          0.5165284586
                        ],
                        "iteration": 146,
                        "passed_time": 23.21379275,
                        "remaining_time": 8.369598748,
                        "test": [
                          0.8299417601,
                          0.6936191136
                        ]
                      },
                      {
                        "learn": [
                          0.5135037408
                        ],
                        "iteration": 147,
                        "passed_time": 23.377804,
                        "remaining_time": 8.213823027,
                        "test": [
                          0.8296988634,
                          0.692389814
                        ]
                      },
                      {
                        "learn": [
                          0.5124908578
                        ],
                        "iteration": 148,
                        "passed_time": 23.52527827,
                        "remaining_time": 8.052276456,
                        "test": [
                          0.8301987834,
                          0.6912091788
                        ]
                      },
                      {
                        "learn": [
                          0.5118606029
                        ],
                        "iteration": 149,
                        "passed_time": 23.68917767,
                        "remaining_time": 7.896392558,
                        "test": [
                          0.8303117168,
                          0.6903084246
                        ]
                      },
                      {
                        "learn": [
                          0.5116321003
                        ],
                        "iteration": 150,
                        "passed_time": 23.85097859,
                        "remaining_time": 7.73972153,
                        "test": [
                          0.8304510745,
                          0.6899550377
                        ]
                      },
                      {
                        "learn": [
                          0.5085111276
                        ],
                        "iteration": 151,
                        "passed_time": 23.97521762,
                        "remaining_time": 7.571121352,
                        "test": [
                          0.8303626068,
                          0.688609688
                        ]
                      },
                      {
                        "learn": [
                          0.5076299053
                        ],
                        "iteration": 152,
                        "passed_time": 24.18669158,
                        "remaining_time": 7.429898721,
                        "test": [
                          0.8309465467,
                          0.6875696052
                        ]
                      },
                      {
                        "learn": [
                          0.5070392668
                        ],
                        "iteration": 153,
                        "passed_time": 24.34084735,
                        "remaining_time": 7.270642716,
                        "test": [
                          0.8310478646,
                          0.686697402
                        ]
                      },
                      {
                        "learn": [
                          0.5038660358
                        ],
                        "iteration": 154,
                        "passed_time": 24.51889557,
                        "remaining_time": 7.118389036,
                        "test": [
                          0.8309095724,
                          0.6854470884
                        ]
                      },
                      {
                        "learn": [
                          0.5008432842
                        ],
                        "iteration": 155,
                        "passed_time": 24.68655283,
                        "remaining_time": 6.962873875,
                        "test": [
                          0.8306731135,
                          0.6843125718
                        ]
                      },
                      {
                        "learn": [
                          0.4980325648
                        ],
                        "iteration": 156,
                        "passed_time": 24.8112569,
                        "remaining_time": 6.795439787,
                        "test": [
                          0.8306176569,
                          0.6830713814
                        ]
                      },
                      {
                        "learn": [
                          0.4952331983
                        ],
                        "iteration": 157,
                        "passed_time": 24.93581912,
                        "remaining_time": 6.628508879,
                        "test": [
                          0.8303187477,
                          0.6821113274
                        ]
                      },
                      {
                        "learn": [
                          0.4922215229
                        ],
                        "iteration": 158,
                        "passed_time": 25.06289688,
                        "remaining_time": 6.462759572,
                        "test": [
                          0.8301936635,
                          0.6811322338
                        ]
                      },
                      {
                        "learn": [
                          0.4894393102
                        ],
                        "iteration": 159,
                        "passed_time": 25.24156042,
                        "remaining_time": 6.310390104,
                        "test": [
                          0.8299862117,
                          0.6802233382
                        ]
                      },
                      {
                        "learn": [
                          0.4869983993
                        ],
                        "iteration": 160,
                        "passed_time": 25.38812932,
                        "remaining_time": 6.149919525,
                        "test": [
                          0.8295791195,
                          0.6795296621
                        ]
                      },
                      {
                        "learn": [
                          0.48430065
                        ],
                        "iteration": 161,
                        "passed_time": 25.51300182,
                        "remaining_time": 5.984531291,
                        "test": [
                          0.8293583835,
                          0.6787881388
                        ]
                      },
                      {
                        "learn": [
                          0.4841591219
                        ],
                        "iteration": 162,
                        "passed_time": 25.68251767,
                        "remaining_time": 5.82977395,
                        "test": [
                          0.8294719412,
                          0.6786350527
                        ]
                      },
                      {
                        "learn": [
                          0.4839312883
                        ],
                        "iteration": 163,
                        "passed_time": 25.83807695,
                        "remaining_time": 5.671772988,
                        "test": [
                          0.8296582246,
                          0.678399047
                        ]
                      },
                      {
                        "learn": [
                          0.4816907346
                        ],
                        "iteration": 164,
                        "passed_time": 25.9700207,
                        "remaining_time": 5.50879227,
                        "test": [
                          0.8292566677,
                          0.6778461269
                        ]
                      },
                      {
                        "learn": [
                          0.481431326
                        ],
                        "iteration": 165,
                        "passed_time": 26.13235025,
                        "remaining_time": 5.352409088,
                        "test": [
                          0.8294600859,
                          0.6775319175
                        ]
                      },
                      {
                        "learn": [
                          0.4793588323
                        ],
                        "iteration": 166,
                        "passed_time": 26.31738908,
                        "remaining_time": 5.200442153,
                        "test": [
                          0.8290009315,
                          0.6770809363
                        ]
                      },
                      {
                        "learn": [
                          0.4773480383
                        ],
                        "iteration": 167,
                        "passed_time": 26.44860416,
                        "remaining_time": 5.037829364,
                        "test": [
                          0.8287560482,
                          0.676477646
                        ]
                      },
                      {
                        "learn": [
                          0.475176263
                        ],
                        "iteration": 168,
                        "passed_time": 26.603115,
                        "remaining_time": 4.879861332,
                        "test": [
                          0.828466702,
                          0.6760096375
                        ]
                      },
                      {
                        "learn": [
                          0.4748913694
                        ],
                        "iteration": 169,
                        "passed_time": 26.73832283,
                        "remaining_time": 4.718527557,
                        "test": [
                          0.8287108083,
                          0.6755971534
                        ]
                      },
                      {
                        "learn": [
                          0.4747071686
                        ],
                        "iteration": 170,
                        "passed_time": 26.90647589,
                        "remaining_time": 4.563086555,
                        "test": [
                          0.8288016194,
                          0.6753127487
                        ]
                      },
                      {
                        "learn": [
                          0.4743743543
                        ],
                        "iteration": 171,
                        "passed_time": 27.03758875,
                        "remaining_time": 4.401467936,
                        "test": [
                          0.828931122,
                          0.6749268313
                        ]
                      },
                      {
                        "learn": [
                          0.473813206
                        ],
                        "iteration": 172,
                        "passed_time": 27.19065714,
                        "remaining_time": 4.243628572,
                        "test": [
                          0.8291423968,
                          0.6746015501
                        ]
                      },
                      {
                        "learn": [
                          0.4719306313
                        ],
                        "iteration": 173,
                        "passed_time": 27.36049075,
                        "remaining_time": 4.088349193,
                        "test": [
                          0.8289075872,
                          0.6740921778
                        ]
                      },
                      {
                        "learn": [
                          0.4700198558
                        ],
                        "iteration": 174,
                        "passed_time": 27.49651155,
                        "remaining_time": 3.928073078,
                        "test": [
                          0.828550709,
                          0.6738190063
                        ]
                      },
                      {
                        "learn": [
                          0.4682900924
                        ],
                        "iteration": 175,
                        "passed_time": 27.62770268,
                        "remaining_time": 3.767414001,
                        "test": [
                          0.8283029441,
                          0.6734303705
                        ]
                      },
                      {
                        "learn": [
                          0.4679404318
                        ],
                        "iteration": 176,
                        "passed_time": 27.7837891,
                        "remaining_time": 3.610322877,
                        "test": [
                          0.8284582881,
                          0.6730260311
                        ]
                      },
                      {
                        "learn": [
                          0.4673356599
                        ],
                        "iteration": 177,
                        "passed_time": 27.93774737,
                        "remaining_time": 3.452980012,
                        "test": [
                          0.8287033273,
                          0.6721930781
                        ]
                      },
                      {
                        "learn": [
                          0.4664061508
                        ],
                        "iteration": 178,
                        "passed_time": 28.06695884,
                        "remaining_time": 3.292771708,
                        "test": [
                          0.8292685392,
                          0.6709320828
                        ]
                      },
                      {
                        "learn": [
                          0.4645901968
                        ],
                        "iteration": 179,
                        "passed_time": 28.18977848,
                        "remaining_time": 3.132197609,
                        "test": [
                          0.8289458209,
                          0.6707222469
                        ]
                      },
                      {
                        "learn": [
                          0.4639297019
                        ],
                        "iteration": 180,
                        "passed_time": 28.49054405,
                        "remaining_time": 2.990720094,
                        "test": [
                          0.8292336027,
                          0.6699938836
                        ]
                      },
                      {
                        "learn": [
                          0.4624126804
                        ],
                        "iteration": 181,
                        "passed_time": 28.6591741,
                        "remaining_time": 2.834423812,
                        "test": [
                          0.8287667644,
                          0.6699492179
                        ]
                      },
                      {
                        "learn": [
                          0.4621628019
                        ],
                        "iteration": 182,
                        "passed_time": 28.82739655,
                        "remaining_time": 2.677954871,
                        "test": [
                          0.828897745,
                          0.6696793134
                        ]
                      },
                      {
                        "learn": [
                          0.4603992075
                        ],
                        "iteration": 183,
                        "passed_time": 28.9538848,
                        "remaining_time": 2.517729113,
                        "test": [
                          0.8285732006,
                          0.6695753005
                        ]
                      },
                      {
                        "learn": [
                          0.459773053
                        ],
                        "iteration": 184,
                        "passed_time": 29.11441575,
                        "remaining_time": 2.360628304,
                        "test": [
                          0.8287308436,
                          0.6686724575
                        ]
                      },
                      {
                        "learn": [
                          0.4583056404
                        ],
                        "iteration": 185,
                        "passed_time": 29.23392476,
                        "remaining_time": 2.200402939,
                        "test": [
                          0.8285166911,
                          0.6684876334
                        ]
                      },
                      {
                        "learn": [
                          0.4577908919
                        ],
                        "iteration": 186,
                        "passed_time": 29.39734229,
                        "remaining_time": 2.043665507,
                        "test": [
                          0.8286394139,
                          0.6677333927
                        ]
                      },
                      {
                        "learn": [
                          0.4575856835
                        ],
                        "iteration": 187,
                        "passed_time": 29.61330379,
                        "remaining_time": 1.89021088,
                        "test": [
                          0.8288870836,
                          0.6674890044
                        ]
                      },
                      {
                        "learn": [
                          0.4562054169
                        ],
                        "iteration": 188,
                        "passed_time": 29.78540575,
                        "remaining_time": 1.733542134,
                        "test": [
                          0.8285133387,
                          0.6674242773
                        ]
                      },
                      {
                        "learn": [
                          0.4558686148
                        ],
                        "iteration": 189,
                        "passed_time": 29.95220352,
                        "remaining_time": 1.576431764,
                        "test": [
                          0.8286998684,
                          0.6669997417
                        ]
                      },
                      {
                        "learn": [
                          0.4552836256
                        ],
                        "iteration": 190,
                        "passed_time": 30.11776878,
                        "remaining_time": 1.41916188,
                        "test": [
                          0.828950266,
                          0.6662306548
                        ]
                      },
                      {
                        "learn": [
                          0.4540166708
                        ],
                        "iteration": 191,
                        "passed_time": 30.27832588,
                        "remaining_time": 1.261596912,
                        "test": [
                          0.828586354,
                          0.666216854
                        ]
                      },
                      {
                        "learn": [
                          0.4535424368
                        ],
                        "iteration": 192,
                        "passed_time": 30.42937036,
                        "remaining_time": 1.10365592,
                        "test": [
                          0.8287227832,
                          0.6655563118
                        ]
                      },
                      {
                        "learn": [
                          0.4521182802
                        ],
                        "iteration": 193,
                        "passed_time": 30.64998172,
                        "remaining_time": 0.9479375788,
                        "test": [
                          0.8284358278,
                          0.6656057596
                        ]
                      },
                      {
                        "learn": [
                          0.4508028854
                        ],
                        "iteration": 194,
                        "passed_time": 30.82854405,
                        "remaining_time": 0.7904754886,
                        "test": [
                          0.8282542878,
                          0.6654771208
                        ]
                      },
                      {
                        "learn": [
                          0.4502569519
                        ],
                        "iteration": 195,
                        "passed_time": 30.98966188,
                        "remaining_time": 0.6324420792,
                        "test": [
                          0.8285692476,
                          0.664802725
                        ]
                      },
                      {
                        "learn": [
                          0.4490974285
                        ],
                        "iteration": 196,
                        "passed_time": 31.16904591,
                        "remaining_time": 0.4746555215,
                        "test": [
                          0.8284054615,
                          0.6647927496
                        ]
                      },
                      {
                        "learn": [
                          0.4488454873
                        ],
                        "iteration": 197,
                        "passed_time": 31.32299009,
                        "remaining_time": 0.3163938393,
                        "test": [
                          0.8284988271,
                          0.6645333869
                        ]
                      },
                      {
                        "learn": [
                          0.4475486095
                        ],
                        "iteration": 198,
                        "passed_time": 31.44100642,
                        "remaining_time": 0.1579950071,
                        "test": [
                          0.8282224497,
                          0.6646640313
                        ]
                      },
                      {
                        "learn": [
                          0.4473757541
                        ],
                        "iteration": 199,
                        "passed_time": 31.58298749,
                        "remaining_time": 0,
                        "test": [
                          0.828261826,
                          0.6645914156
                        ]
                      }
                    ],
                    "meta": {
                      "test_sets": [
                        "test"
                      ],
                      "test_metrics": [
                        {
                          "best_value": "Max",
                          "name": "AUC:type=Mu"
                        },
                        {
                          "best_value": "Min",
                          "name": "MultiClass"
                        }
                      ],
                      "learn_metrics": [
                        {
                          "best_value": "Min",
                          "name": "MultiClass"
                        }
                      ],
                      "launch_mode": "Train",
                      "parameters": "",
                      "iteration_count": 200,
                      "learn_sets": [
                        "learn"
                      ],
                      "name": "experiment"
                    }
                  }
                }
              },
              "catboost_info/model-4": {
                "path": "catboost_info/model-4",
                "name": "model-4",
                "content": {
                  "passed_iterations": 199,
                  "total_iterations": 200,
                  "data": {
                    "iterations": [
                      {
                        "learn": [
                          1.096477298
                        ],
                        "iteration": 0,
                        "passed_time": 0.2182097125,
                        "remaining_time": 43.4237328,
                        "test": [
                          0.6118086098,
                          1.096058552
                        ]
                      },
                      {
                        "learn": [
                          1.078248607
                        ],
                        "iteration": 1,
                        "passed_time": 0.3973942836,
                        "remaining_time": 39.34203408,
                        "test": [
                          0.6526301299,
                          1.085694386
                        ]
                      },
                      {
                        "learn": [
                          1.06125767
                        ],
                        "iteration": 2,
                        "passed_time": 0.5208009136,
                        "remaining_time": 34.19925999,
                        "test": [
                          0.6522313377,
                          1.075932903
                        ]
                      },
                      {
                        "learn": [
                          1.045268318
                        ],
                        "iteration": 3,
                        "passed_time": 0.6249994064,
                        "remaining_time": 30.62497091,
                        "test": [
                          0.6549673088,
                          1.068793701
                        ]
                      },
                      {
                        "learn": [
                          1.030366282
                        ],
                        "iteration": 4,
                        "passed_time": 0.7366666301,
                        "remaining_time": 28.72999857,
                        "test": [
                          0.6553816194,
                          1.060021598
                        ]
                      },
                      {
                        "learn": [
                          1.017559182
                        ],
                        "iteration": 5,
                        "passed_time": 0.9036129215,
                        "remaining_time": 29.2168178,
                        "test": [
                          0.6553996687,
                          1.052014404
                        ]
                      },
                      {
                        "learn": [
                          1.0040476
                        ],
                        "iteration": 6,
                        "passed_time": 1.029247571,
                        "remaining_time": 28.37782589,
                        "test": [
                          0.6534474583,
                          1.045755212
                        ]
                      },
                      {
                        "learn": [
                          0.9916562086
                        ],
                        "iteration": 7,
                        "passed_time": 1.133040353,
                        "remaining_time": 27.19296847,
                        "test": [
                          0.653432157,
                          1.038334114
                        ]
                      },
                      {
                        "learn": [
                          0.9808984863
                        ],
                        "iteration": 8,
                        "passed_time": 1.290689056,
                        "remaining_time": 27.39128997,
                        "test": [
                          0.6541478029,
                          1.031373679
                        ]
                      },
                      {
                        "learn": [
                          0.9693180261
                        ],
                        "iteration": 9,
                        "passed_time": 1.415940893,
                        "remaining_time": 26.90287698,
                        "test": [
                          0.6532276699,
                          1.025872257
                        ]
                      },
                      {
                        "learn": [
                          0.9581840964
                        ],
                        "iteration": 10,
                        "passed_time": 1.528675403,
                        "remaining_time": 26.26542283,
                        "test": [
                          0.6530371077,
                          1.02088682
                        ]
                      },
                      {
                        "learn": [
                          0.9490477237
                        ],
                        "iteration": 11,
                        "passed_time": 1.631782846,
                        "remaining_time": 25.56459792,
                        "test": [
                          0.6530572853,
                          1.014771666
                        ]
                      },
                      {
                        "learn": [
                          0.9431278915
                        ],
                        "iteration": 12,
                        "passed_time": 1.776812534,
                        "remaining_time": 25.55876491,
                        "test": [
                          0.6562694014,
                          1.012078645
                        ]
                      },
                      {
                        "learn": [
                          0.9365830643
                        ],
                        "iteration": 13,
                        "passed_time": 1.906877146,
                        "remaining_time": 25.33422494,
                        "test": [
                          0.648553531,
                          1.009897331
                        ]
                      },
                      {
                        "learn": [
                          0.9304087285
                        ],
                        "iteration": 14,
                        "passed_time": 2.030030112,
                        "remaining_time": 25.03703805,
                        "test": [
                          0.6483545079,
                          1.008023707
                        ]
                      },
                      {
                        "learn": [
                          0.9213509612
                        ],
                        "iteration": 15,
                        "passed_time": 2.134201143,
                        "remaining_time": 24.54331314,
                        "test": [
                          0.6479212486,
                          1.003669286
                        ]
                      },
                      {
                        "learn": [
                          0.9129062622
                        ],
                        "iteration": 16,
                        "passed_time": 2.244803737,
                        "remaining_time": 24.16465199,
                        "test": [
                          0.6480079458,
                          0.9982258151
                        ]
                      },
                      {
                        "learn": [
                          0.9044427065
                        ],
                        "iteration": 17,
                        "passed_time": 2.407743006,
                        "remaining_time": 24.34495706,
                        "test": [
                          0.6478760053,
                          0.994321327
                        ]
                      },
                      {
                        "learn": [
                          0.8953602589
                        ],
                        "iteration": 18,
                        "passed_time": 2.534962467,
                        "remaining_time": 24.14885298,
                        "test": [
                          0.6481344321,
                          0.9907075216
                        ]
                      },
                      {
                        "learn": [
                          0.8878055332
                        ],
                        "iteration": 19,
                        "passed_time": 2.63905544,
                        "remaining_time": 23.75149896,
                        "test": [
                          0.647870248,
                          0.9872264033
                        ]
                      },
                      {
                        "learn": [
                          0.8799670647
                        ],
                        "iteration": 20,
                        "passed_time": 2.74713092,
                        "remaining_time": 23.4160207,
                        "test": [
                          0.6482413787,
                          0.9842942596
                        ]
                      },
                      {
                        "learn": [
                          0.8754088929
                        ],
                        "iteration": 21,
                        "passed_time": 2.851906868,
                        "remaining_time": 23.0745192,
                        "test": [
                          0.6467548555,
                          0.9829806097
                        ]
                      },
                      {
                        "learn": [
                          0.8682155154
                        ],
                        "iteration": 22,
                        "passed_time": 2.964574042,
                        "remaining_time": 22.81433067,
                        "test": [
                          0.6467178171,
                          0.980093392
                        ]
                      },
                      {
                        "learn": [
                          0.862478993
                        ],
                        "iteration": 23,
                        "passed_time": 3.079429305,
                        "remaining_time": 22.58248157,
                        "test": [
                          0.6479087911,
                          0.9756819736
                        ]
                      },
                      {
                        "learn": [
                          0.8557512178
                        ],
                        "iteration": 24,
                        "passed_time": 3.190338018,
                        "remaining_time": 22.33236612,
                        "test": [
                          0.6476434398,
                          0.9733751684
                        ]
                      },
                      {
                        "learn": [
                          0.8497499408
                        ],
                        "iteration": 25,
                        "passed_time": 3.294293121,
                        "remaining_time": 22.04642319,
                        "test": [
                          0.6478005928,
                          0.9692085686
                        ]
                      },
                      {
                        "learn": [
                          0.8437552336
                        ],
                        "iteration": 26,
                        "passed_time": 3.468216406,
                        "remaining_time": 22.22227549,
                        "test": [
                          0.6480467268,
                          0.9645569398
                        ]
                      },
                      {
                        "learn": [
                          0.8377872011
                        ],
                        "iteration": 27,
                        "passed_time": 3.572760909,
                        "remaining_time": 21.94695987,
                        "test": [
                          0.6478894643,
                          0.9624863924
                        ]
                      },
                      {
                        "learn": [
                          0.8324901116
                        ],
                        "iteration": 28,
                        "passed_time": 3.679482967,
                        "remaining_time": 21.69626163,
                        "test": [
                          0.6477540135,
                          0.9588278754
                        ]
                      },
                      {
                        "learn": [
                          0.8269887882
                        ],
                        "iteration": 29,
                        "passed_time": 3.786429948,
                        "remaining_time": 21.45643637,
                        "test": [
                          0.6477797145,
                          0.9569810695
                        ]
                      },
                      {
                        "learn": [
                          0.82199271
                        ],
                        "iteration": 30,
                        "passed_time": 3.912253389,
                        "remaining_time": 21.32809105,
                        "test": [
                          0.6845237907,
                          0.9522331556
                        ]
                      },
                      {
                        "learn": [
                          0.8169489769
                        ],
                        "iteration": 31,
                        "passed_time": 4.019565134,
                        "remaining_time": 21.10271695,
                        "test": [
                          0.6846221954,
                          0.9482904448
                        ]
                      },
                      {
                        "learn": [
                          0.8115799341
                        ],
                        "iteration": 32,
                        "passed_time": 4.138902038,
                        "remaining_time": 20.94535274,
                        "test": [
                          0.6842892153,
                          0.9462918101
                        ]
                      },
                      {
                        "learn": [
                          0.8070309102
                        ],
                        "iteration": 33,
                        "passed_time": 4.243594216,
                        "remaining_time": 20.7187247,
                        "test": [
                          0.6902282558,
                          0.9418735555
                        ]
                      },
                      {
                        "learn": [
                          0.8025583005
                        ],
                        "iteration": 34,
                        "passed_time": 4.372104401,
                        "remaining_time": 20.61134932,
                        "test": [
                          0.6985503942,
                          0.9382373652
                        ]
                      },
                      {
                        "learn": [
                          0.7984496199
                        ],
                        "iteration": 35,
                        "passed_time": 4.544836515,
                        "remaining_time": 20.70425524,
                        "test": [
                          0.7011816574,
                          0.9348506654
                        ]
                      },
                      {
                        "learn": [
                          0.7939971312
                        ],
                        "iteration": 36,
                        "passed_time": 4.664900787,
                        "remaining_time": 20.55077914,
                        "test": [
                          0.7016347936,
                          0.9312784787
                        ]
                      },
                      {
                        "learn": [
                          0.7898215467
                        ],
                        "iteration": 37,
                        "passed_time": 4.767785673,
                        "remaining_time": 20.32582313,
                        "test": [
                          0.7044010814,
                          0.9272300537
                        ]
                      },
                      {
                        "learn": [
                          0.7829751969
                        ],
                        "iteration": 38,
                        "passed_time": 4.920984062,
                        "remaining_time": 20.31483164,
                        "test": [
                          0.7310436695,
                          0.9202311723
                        ]
                      },
                      {
                        "learn": [
                          0.7765241528
                        ],
                        "iteration": 39,
                        "passed_time": 5.059991396,
                        "remaining_time": 20.23996558,
                        "test": [
                          0.7390891072,
                          0.9135474636
                        ]
                      },
                      {
                        "learn": [
                          0.7704996319
                        ],
                        "iteration": 40,
                        "passed_time": 5.178364263,
                        "remaining_time": 20.08194921,
                        "test": [
                          0.7531151781,
                          0.9075434011
                        ]
                      },
                      {
                        "learn": [
                          0.7645919471
                        ],
                        "iteration": 41,
                        "passed_time": 5.284359844,
                        "remaining_time": 19.87925846,
                        "test": [
                          0.7605518265,
                          0.9011942672
                        ]
                      },
                      {
                        "learn": [
                          0.7630713452
                        ],
                        "iteration": 42,
                        "passed_time": 5.432977961,
                        "remaining_time": 19.83668697,
                        "test": [
                          0.761407263,
                          0.899081115
                        ]
                      },
                      {
                        "learn": [
                          0.757411025
                        ],
                        "iteration": 43,
                        "passed_time": 5.595795844,
                        "remaining_time": 19.83963981,
                        "test": [
                          0.7649393074,
                          0.8933625908
                        ]
                      },
                      {
                        "learn": [
                          0.7544996544
                        ],
                        "iteration": 44,
                        "passed_time": 5.728050782,
                        "remaining_time": 19.72995269,
                        "test": [
                          0.7674418883,
                          0.8900866004
                        ]
                      },
                      {
                        "learn": [
                          0.7458105421
                        ],
                        "iteration": 45,
                        "passed_time": 5.848856461,
                        "remaining_time": 19.58095424,
                        "test": [
                          0.7665587261,
                          0.8865399641
                        ]
                      },
                      {
                        "learn": [
                          0.7409142995
                        ],
                        "iteration": 46,
                        "passed_time": 5.957396709,
                        "remaining_time": 19.39322759,
                        "test": [
                          0.7704553954,
                          0.8816000182
                        ]
                      },
                      {
                        "learn": [
                          0.7383041277
                        ],
                        "iteration": 47,
                        "passed_time": 6.06043101,
                        "remaining_time": 19.19136486,
                        "test": [
                          0.771514792,
                          0.8790345376
                        ]
                      },
                      {
                        "learn": [
                          0.7330110681
                        ],
                        "iteration": 48,
                        "passed_time": 6.182619671,
                        "remaining_time": 19.05256266,
                        "test": [
                          0.7776167294,
                          0.8730306543
                        ]
                      },
                      {
                        "learn": [
                          0.7305693588
                        ],
                        "iteration": 49,
                        "passed_time": 6.285237237,
                        "remaining_time": 18.85571171,
                        "test": [
                          0.7779441702,
                          0.8706754168
                        ]
                      },
                      {
                        "learn": [
                          0.7258335462
                        ],
                        "iteration": 50,
                        "passed_time": 6.410822524,
                        "remaining_time": 18.72965796,
                        "test": [
                          0.7824542762,
                          0.8650235263
                        ]
                      },
                      {
                        "learn": [
                          0.718018808
                        ],
                        "iteration": 51,
                        "passed_time": 6.515433129,
                        "remaining_time": 18.54392506,
                        "test": [
                          0.7812825915,
                          0.8620928455
                        ]
                      },
                      {
                        "learn": [
                          0.7106581819
                        ],
                        "iteration": 52,
                        "passed_time": 6.665916199,
                        "remaining_time": 18.48848455,
                        "test": [
                          0.7788795622,
                          0.8592305369
                        ]
                      },
                      {
                        "learn": [
                          0.7093445893
                        ],
                        "iteration": 53,
                        "passed_time": 6.820925869,
                        "remaining_time": 18.44176253,
                        "test": [
                          0.7792237502,
                          0.8574202079
                        ]
                      },
                      {
                        "learn": [
                          0.707144682
                        ],
                        "iteration": 54,
                        "passed_time": 6.928284716,
                        "remaining_time": 18.26547789,
                        "test": [
                          0.7799319718,
                          0.8553496574
                        ]
                      },
                      {
                        "learn": [
                          0.7027615448
                        ],
                        "iteration": 55,
                        "passed_time": 7.033697038,
                        "remaining_time": 18.08664953,
                        "test": [
                          0.784052571,
                          0.8499660975
                        ]
                      },
                      {
                        "learn": [
                          0.6997263597
                        ],
                        "iteration": 56,
                        "passed_time": 7.17620886,
                        "remaining_time": 18.00347135,
                        "test": [
                          0.7838054404,
                          0.8476591309
                        ]
                      },
                      {
                        "learn": [
                          0.6954343692
                        ],
                        "iteration": 57,
                        "passed_time": 7.281726108,
                        "remaining_time": 17.82767426,
                        "test": [
                          0.7870878508,
                          0.8428996057
                        ]
                      },
                      {
                        "learn": [
                          0.6887168802
                        ],
                        "iteration": 58,
                        "passed_time": 7.403845459,
                        "remaining_time": 17.69393576,
                        "test": [
                          0.7850107663,
                          0.8403422218
                        ]
                      },
                      {
                        "learn": [
                          0.6869509163
                        ],
                        "iteration": 59,
                        "passed_time": 7.509659264,
                        "remaining_time": 17.52253828,
                        "test": [
                          0.7853978303,
                          0.8384563956
                        ]
                      },
                      {
                        "learn": [
                          0.6837087736
                        ],
                        "iteration": 60,
                        "passed_time": 7.688441275,
                        "remaining_time": 17.51956291,
                        "test": [
                          0.7891009274,
                          0.8342815139
                        ]
                      },
                      {
                        "learn": [
                          0.6799280442
                        ],
                        "iteration": 61,
                        "passed_time": 7.818417593,
                        "remaining_time": 17.40228432,
                        "test": [
                          0.7916566397,
                          0.8299033712
                        ]
                      },
                      {
                        "learn": [
                          0.6735805531
                        ],
                        "iteration": 62,
                        "passed_time": 7.925998535,
                        "remaining_time": 17.23590158,
                        "test": [
                          0.7900904112,
                          0.8273902764
                        ]
                      },
                      {
                        "learn": [
                          0.6724820815
                        ],
                        "iteration": 63,
                        "passed_time": 8.03034917,
                        "remaining_time": 17.06449199,
                        "test": [
                          0.790538931,
                          0.825870522
                        ]
                      },
                      {
                        "learn": [
                          0.6705059237
                        ],
                        "iteration": 64,
                        "passed_time": 8.188366546,
                        "remaining_time": 17.00660744,
                        "test": [
                          0.7921094841,
                          0.8239062157
                        ]
                      },
                      {
                        "learn": [
                          0.6679480961
                        ],
                        "iteration": 65,
                        "passed_time": 8.339258503,
                        "remaining_time": 16.93122181,
                        "test": [
                          0.7952971804,
                          0.8204679647
                        ]
                      },
                      {
                        "learn": [
                          0.6653802745
                        ],
                        "iteration": 66,
                        "passed_time": 8.460489375,
                        "remaining_time": 16.79470279,
                        "test": [
                          0.7975263454,
                          0.8172031732
                        ]
                      },
                      {
                        "learn": [
                          0.6619637064
                        ],
                        "iteration": 67,
                        "passed_time": 8.594236871,
                        "remaining_time": 16.6829304,
                        "test": [
                          0.8001679906,
                          0.8133118624
                        ]
                      },
                      {
                        "learn": [
                          0.659288525
                        ],
                        "iteration": 68,
                        "passed_time": 8.77430003,
                        "remaining_time": 16.65845368,
                        "test": [
                          0.8018130602,
                          0.8104382049
                        ]
                      },
                      {
                        "learn": [
                          0.6566877448
                        ],
                        "iteration": 69,
                        "passed_time": 8.921905557,
                        "remaining_time": 16.56925318,
                        "test": [
                          0.803778714,
                          0.8073273341
                        ]
                      },
                      {
                        "learn": [
                          0.6544263386
                        ],
                        "iteration": 70,
                        "passed_time": 9.059697707,
                        "remaining_time": 16.46057752,
                        "test": [
                          0.8051877032,
                          0.8044521781
                        ]
                      },
                      {
                        "learn": [
                          0.6483116821
                        ],
                        "iteration": 71,
                        "passed_time": 9.2180741,
                        "remaining_time": 16.38768729,
                        "test": [
                          0.8043408133,
                          0.8022393154
                        ]
                      },
                      {
                        "learn": [
                          0.6457275795
                        ],
                        "iteration": 72,
                        "passed_time": 9.353758855,
                        "remaining_time": 16.27297773,
                        "test": [
                          0.8060978734,
                          0.7988131257
                        ]
                      },
                      {
                        "learn": [
                          0.6435418426
                        ],
                        "iteration": 73,
                        "passed_time": 9.490808639,
                        "remaining_time": 16.16002552,
                        "test": [
                          0.8081257405,
                          0.7959509931
                        ]
                      },
                      {
                        "learn": [
                          0.638312902
                        ],
                        "iteration": 74,
                        "passed_time": 9.647195054,
                        "remaining_time": 16.07865842,
                        "test": [
                          0.8074619559,
                          0.7938050819
                        ]
                      },
                      {
                        "learn": [
                          0.637453318
                        ],
                        "iteration": 75,
                        "passed_time": 9.851762309,
                        "remaining_time": 16.07392798,
                        "test": [
                          0.8076779315,
                          0.7926259642
                        ]
                      },
                      {
                        "learn": [
                          0.6325131616
                        ],
                        "iteration": 76,
                        "passed_time": 9.988672052,
                        "remaining_time": 15.95593068,
                        "test": [
                          0.8068687702,
                          0.7907313287
                        ]
                      },
                      {
                        "learn": [
                          0.6305853961
                        ],
                        "iteration": 77,
                        "passed_time": 10.12292692,
                        "remaining_time": 15.83329595,
                        "test": [
                          0.8085881434,
                          0.7882518227
                        ]
                      },
                      {
                        "learn": [
                          0.6282505648
                        ],
                        "iteration": 78,
                        "passed_time": 10.27662951,
                        "remaining_time": 15.74015406,
                        "test": [
                          0.8099536072,
                          0.7850767801
                        ]
                      },
                      {
                        "learn": [
                          0.6229477712
                        ],
                        "iteration": 79,
                        "passed_time": 10.42860624,
                        "remaining_time": 15.64290936,
                        "test": [
                          0.8099175008,
                          0.7825145789
                        ]
                      },
                      {
                        "learn": [
                          0.6179164814
                        ],
                        "iteration": 80,
                        "passed_time": 10.57029812,
                        "remaining_time": 15.52920341,
                        "test": [
                          0.8098915755,
                          0.7801071738
                        ]
                      },
                      {
                        "learn": [
                          0.6131397586
                        ],
                        "iteration": 81,
                        "passed_time": 10.7128993,
                        "remaining_time": 15.41612339,
                        "test": [
                          0.8097292559,
                          0.7778464894
                        ]
                      },
                      {
                        "learn": [
                          0.608585478
                        ],
                        "iteration": 82,
                        "passed_time": 10.81756124,
                        "remaining_time": 15.24885139,
                        "test": [
                          0.8100142802,
                          0.775517973
                        ]
                      },
                      {
                        "learn": [
                          0.6042279286
                        ],
                        "iteration": 83,
                        "passed_time": 10.98114946,
                        "remaining_time": 15.16444449,
                        "test": [
                          0.8099629944,
                          0.7734829216
                        ]
                      },
                      {
                        "learn": [
                          0.6026930626
                        ],
                        "iteration": 84,
                        "passed_time": 11.09967187,
                        "remaining_time": 15.01720312,
                        "test": [
                          0.8102963257,
                          0.7726025862
                        ]
                      },
                      {
                        "learn": [
                          0.5985721086
                        ],
                        "iteration": 85,
                        "passed_time": 11.21965253,
                        "remaining_time": 14.87256265,
                        "test": [
                          0.8102200652,
                          0.7707022864
                        ]
                      },
                      {
                        "learn": [
                          0.5946069147
                        ],
                        "iteration": 86,
                        "passed_time": 11.32457932,
                        "remaining_time": 14.70893636,
                        "test": [
                          0.8104621281,
                          0.7687098036
                        ]
                      },
                      {
                        "learn": [
                          0.5908205071
                        ],
                        "iteration": 87,
                        "passed_time": 11.4529897,
                        "remaining_time": 14.57653234,
                        "test": [
                          0.8105740413,
                          0.7668317883
                        ]
                      },
                      {
                        "learn": [
                          0.5872044044
                        ],
                        "iteration": 88,
                        "passed_time": 11.55915502,
                        "remaining_time": 14.41647424,
                        "test": [
                          0.8106539218,
                          0.7650627217
                        ]
                      },
                      {
                        "learn": [
                          0.5854885832
                        ],
                        "iteration": 89,
                        "passed_time": 11.69323486,
                        "remaining_time": 14.2917315,
                        "test": [
                          0.811976534,
                          0.7631062172
                        ]
                      },
                      {
                        "learn": [
                          0.5820379531
                        ],
                        "iteration": 90,
                        "passed_time": 11.80343244,
                        "remaining_time": 14.13817732,
                        "test": [
                          0.8120976451,
                          0.7613795058
                        ]
                      },
                      {
                        "learn": [
                          0.5801456775
                        ],
                        "iteration": 91,
                        "passed_time": 11.93826938,
                        "remaining_time": 14.01449014,
                        "test": [
                          0.8130721079,
                          0.7587318358
                        ]
                      },
                      {
                        "learn": [
                          0.5768477793
                        ],
                        "iteration": 92,
                        "passed_time": 12.1514809,
                        "remaining_time": 13.98073609,
                        "test": [
                          0.8129733846,
                          0.7572842951
                        ]
                      },
                      {
                        "learn": [
                          0.5737460152
                        ],
                        "iteration": 93,
                        "passed_time": 12.26511722,
                        "remaining_time": 13.83087686,
                        "test": [
                          0.8130897551,
                          0.7558316513
                        ]
                      },
                      {
                        "learn": [
                          0.5707045852
                        ],
                        "iteration": 94,
                        "passed_time": 12.3809564,
                        "remaining_time": 13.68421497,
                        "test": [
                          0.8132445126,
                          0.7542454489
                        ]
                      },
                      {
                        "learn": [
                          0.5698101144
                        ],
                        "iteration": 95,
                        "passed_time": 12.53333526,
                        "remaining_time": 13.57777986,
                        "test": [
                          0.8138263959,
                          0.7531310531
                        ]
                      },
                      {
                        "learn": [
                          0.5680530212
                        ],
                        "iteration": 96,
                        "passed_time": 12.66861099,
                        "remaining_time": 13.45223641,
                        "test": [
                          0.8148993771,
                          0.7507583516
                        ]
                      },
                      {
                        "learn": [
                          0.5650671704
                        ],
                        "iteration": 97,
                        "passed_time": 12.77301998,
                        "remaining_time": 13.29436774,
                        "test": [
                          0.8149840996,
                          0.7493865819
                        ]
                      },
                      {
                        "learn": [
                          0.5642422747
                        ],
                        "iteration": 98,
                        "passed_time": 12.88240894,
                        "remaining_time": 13.14265963,
                        "test": [
                          0.8154222331,
                          0.7483609117
                        ]
                      },
                      {
                        "learn": [
                          0.5619251814
                        ],
                        "iteration": 99,
                        "passed_time": 12.9877059,
                        "remaining_time": 12.9877059,
                        "test": [
                          0.8159495682,
                          0.7466543453
                        ]
                      },
                      {
                        "learn": [
                          0.5600949755
                        ],
                        "iteration": 100,
                        "passed_time": 13.1804206,
                        "remaining_time": 12.91942217,
                        "test": [
                          0.8169574053,
                          0.7440422003
                        ]
                      },
                      {
                        "learn": [
                          0.5583560559
                        ],
                        "iteration": 101,
                        "passed_time": 13.30486559,
                        "remaining_time": 12.78310616,
                        "test": [
                          0.8178405188,
                          0.7415226809
                        ]
                      },
                      {
                        "learn": [
                          0.5557137117
                        ],
                        "iteration": 102,
                        "passed_time": 13.43891004,
                        "remaining_time": 12.65606091,
                        "test": [
                          0.8175874913,
                          0.7405058305
                        ]
                      },
                      {
                        "learn": [
                          0.5544151846
                        ],
                        "iteration": 103,
                        "passed_time": 13.56951437,
                        "remaining_time": 12.52570558,
                        "test": [
                          0.8181151145,
                          0.7387682085
                        ]
                      },
                      {
                        "learn": [
                          0.5528857784
                        ],
                        "iteration": 104,
                        "passed_time": 13.70177204,
                        "remaining_time": 12.39684137,
                        "test": [
                          0.8182143768,
                          0.7372700319
                        ]
                      },
                      {
                        "learn": [
                          0.5513305148
                        ],
                        "iteration": 105,
                        "passed_time": 13.82703852,
                        "remaining_time": 12.26171341,
                        "test": [
                          0.8189589564,
                          0.7353323321
                        ]
                      },
                      {
                        "learn": [
                          0.5500831905
                        ],
                        "iteration": 106,
                        "passed_time": 13.95754613,
                        "remaining_time": 12.13132514,
                        "test": [
                          0.8193061865,
                          0.7336040235
                        ]
                      },
                      {
                        "learn": [
                          0.5487126416
                        ],
                        "iteration": 107,
                        "passed_time": 14.10231152,
                        "remaining_time": 12.01308018,
                        "test": [
                          0.8200745792,
                          0.7315266008
                        ]
                      },
                      {
                        "learn": [
                          0.5481151121
                        ],
                        "iteration": 108,
                        "passed_time": 14.28389772,
                        "remaining_time": 11.92508892,
                        "test": [
                          0.8204620151,
                          0.7308477868
                        ]
                      },
                      {
                        "learn": [
                          0.5469741043
                        ],
                        "iteration": 109,
                        "passed_time": 14.42653481,
                        "remaining_time": 11.80352848,
                        "test": [
                          0.8206597897,
                          0.7301734979
                        ]
                      },
                      {
                        "learn": [
                          0.5457949804
                        ],
                        "iteration": 110,
                        "passed_time": 14.58531063,
                        "remaining_time": 11.69452834,
                        "test": [
                          0.8211173631,
                          0.7286049678
                        ]
                      },
                      {
                        "learn": [
                          0.5433932183
                        ],
                        "iteration": 111,
                        "passed_time": 14.75490902,
                        "remaining_time": 11.5931428,
                        "test": [
                          0.8211554832,
                          0.7275967931
                        ]
                      },
                      {
                        "learn": [
                          0.5419521582
                        ],
                        "iteration": 112,
                        "passed_time": 14.89210286,
                        "remaining_time": 11.46560132,
                        "test": [
                          0.8214476523,
                          0.7263435083
                        ]
                      },
                      {
                        "learn": [
                          0.539604164
                        ],
                        "iteration": 113,
                        "passed_time": 15.02870097,
                        "remaining_time": 11.33744108,
                        "test": [
                          0.8214081451,
                          0.7252598093
                        ]
                      },
                      {
                        "learn": [
                          0.5383418846
                        ],
                        "iteration": 114,
                        "passed_time": 15.14960602,
                        "remaining_time": 11.19753488,
                        "test": [
                          0.8217240292,
                          0.7235364209
                        ]
                      },
                      {
                        "learn": [
                          0.5343736271
                        ],
                        "iteration": 115,
                        "passed_time": 15.3460866,
                        "remaining_time": 11.1126834,
                        "test": [
                          0.8223960328,
                          0.7212887542
                        ]
                      },
                      {
                        "learn": [
                          0.5327978251
                        ],
                        "iteration": 116,
                        "passed_time": 15.51399106,
                        "remaining_time": 11.00565178,
                        "test": [
                          0.8231266605,
                          0.7194088012
                        ]
                      },
                      {
                        "learn": [
                          0.5292835422
                        ],
                        "iteration": 117,
                        "passed_time": 15.62095597,
                        "remaining_time": 10.85524059,
                        "test": [
                          0.8234662478,
                          0.7176345012
                        ]
                      },
                      {
                        "learn": [
                          0.5281836443
                        ],
                        "iteration": 118,
                        "passed_time": 15.77035423,
                        "remaining_time": 10.73444279,
                        "test": [
                          0.8236920606,
                          0.7161137888
                        ]
                      },
                      {
                        "learn": [
                          0.5277975683
                        ],
                        "iteration": 119,
                        "passed_time": 15.90924555,
                        "remaining_time": 10.6061637,
                        "test": [
                          0.8239793256,
                          0.7155578936
                        ]
                      },
                      {
                        "learn": [
                          0.5276080443
                        ],
                        "iteration": 120,
                        "passed_time": 16.04755319,
                        "remaining_time": 10.47732811,
                        "test": [
                          0.8240099249,
                          0.7153098185
                        ]
                      },
                      {
                        "learn": [
                          0.5270669276
                        ],
                        "iteration": 121,
                        "passed_time": 16.18273598,
                        "remaining_time": 10.3463394,
                        "test": [
                          0.8243150994,
                          0.7145707938
                        ]
                      },
                      {
                        "learn": [
                          0.52653427
                        ],
                        "iteration": 122,
                        "passed_time": 16.48793906,
                        "remaining_time": 10.32171795,
                        "test": [
                          0.824648013,
                          0.7139523529
                        ]
                      },
                      {
                        "learn": [
                          0.522949741
                        ],
                        "iteration": 123,
                        "passed_time": 16.80989289,
                        "remaining_time": 10.30283758,
                        "test": [
                          0.8250826283,
                          0.7120355714
                        ]
                      },
                      {
                        "learn": [
                          0.5226010678
                        ],
                        "iteration": 124,
                        "passed_time": 17.03412675,
                        "remaining_time": 10.22047605,
                        "test": [
                          0.8253172024,
                          0.7115269093
                        ]
                      },
                      {
                        "learn": [
                          0.5213215064
                        ],
                        "iteration": 125,
                        "passed_time": 17.32742869,
                        "remaining_time": 10.17642637,
                        "test": [
                          0.8259110937,
                          0.709684155
                        ]
                      },
                      {
                        "learn": [
                          0.5181830269
                        ],
                        "iteration": 126,
                        "passed_time": 17.74449361,
                        "remaining_time": 10.19959081,
                        "test": [
                          0.8260020598,
                          0.708222967
                        ]
                      },
                      {
                        "learn": [
                          0.5149866069
                        ],
                        "iteration": 127,
                        "passed_time": 18.15990655,
                        "remaining_time": 10.21494743,
                        "test": [
                          0.8260554347,
                          0.7068281869
                        ]
                      },
                      {
                        "learn": [
                          0.5131607567
                        ],
                        "iteration": 128,
                        "passed_time": 18.61473635,
                        "remaining_time": 10.24532,
                        "test": [
                          0.8257847354,
                          0.7066062274
                        ]
                      },
                      {
                        "learn": [
                          0.5120923812
                        ],
                        "iteration": 129,
                        "passed_time": 19.03756689,
                        "remaining_time": 10.25099756,
                        "test": [
                          0.8263763848,
                          0.7050983616
                        ]
                      },
                      {
                        "learn": [
                          0.5110374893
                        ],
                        "iteration": 130,
                        "passed_time": 19.29773007,
                        "remaining_time": 10.16445324,
                        "test": [
                          0.827166807,
                          0.7036540187
                        ]
                      },
                      {
                        "learn": [
                          0.5104661127
                        ],
                        "iteration": 131,
                        "passed_time": 19.59155334,
                        "remaining_time": 10.09261839,
                        "test": [
                          0.8275847307,
                          0.7029420451
                        ]
                      },
                      {
                        "learn": [
                          0.5076689419
                        ],
                        "iteration": 132,
                        "passed_time": 19.82909784,
                        "remaining_time": 9.989094402,
                        "test": [
                          0.827531388,
                          0.701756916
                        ]
                      },
                      {
                        "learn": [
                          0.5068068676
                        ],
                        "iteration": 133,
                        "passed_time": 20.18381548,
                        "remaining_time": 9.941282252,
                        "test": [
                          0.8277043881,
                          0.7005444562
                        ]
                      },
                      {
                        "learn": [
                          0.5058810928
                        ],
                        "iteration": 134,
                        "passed_time": 20.51861322,
                        "remaining_time": 9.879332291,
                        "test": [
                          0.8282155004,
                          0.6993701302
                        ]
                      },
                      {
                        "learn": [
                          0.5049003118
                        ],
                        "iteration": 135,
                        "passed_time": 20.82723489,
                        "remaining_time": 9.801051715,
                        "test": [
                          0.828933635,
                          0.6979818805
                        ]
                      },
                      {
                        "learn": [
                          0.5020666969
                        ],
                        "iteration": 136,
                        "passed_time": 21.04787882,
                        "remaining_time": 9.678951573,
                        "test": [
                          0.8287955985,
                          0.6968726981
                        ]
                      },
                      {
                        "learn": [
                          0.5016448326
                        ],
                        "iteration": 137,
                        "passed_time": 21.31846437,
                        "remaining_time": 9.577860803,
                        "test": [
                          0.8289889868,
                          0.69639238
                        ]
                      },
                      {
                        "learn": [
                          0.4988320541
                        ],
                        "iteration": 138,
                        "passed_time": 21.60583048,
                        "remaining_time": 9.481695391,
                        "test": [
                          0.8290592934,
                          0.6951039054
                        ]
                      },
                      {
                        "learn": [
                          0.4984530463
                        ],
                        "iteration": 139,
                        "passed_time": 21.89542701,
                        "remaining_time": 9.383754432,
                        "test": [
                          0.8293956396,
                          0.6946275987
                        ]
                      },
                      {
                        "learn": [
                          0.497887581
                        ],
                        "iteration": 140,
                        "passed_time": 22.30825432,
                        "remaining_time": 9.334659611,
                        "test": [
                          0.8297385697,
                          0.6938739409
                        ]
                      },
                      {
                        "learn": [
                          0.4965949664
                        ],
                        "iteration": 141,
                        "passed_time": 22.70299975,
                        "remaining_time": 9.273056237,
                        "test": [
                          0.8303911748,
                          0.6923104862
                        ]
                      },
                      {
                        "learn": [
                          0.4938435126
                        ],
                        "iteration": 142,
                        "passed_time": 23.19314108,
                        "remaining_time": 9.244818474,
                        "test": [
                          0.8303111267,
                          0.6913283794
                        ]
                      },
                      {
                        "learn": [
                          0.4923139934
                        ],
                        "iteration": 143,
                        "passed_time": 23.65572215,
                        "remaining_time": 9.199447505,
                        "test": [
                          0.8300762745,
                          0.6912392924
                        ]
                      },
                      {
                        "learn": [
                          0.4919387472
                        ],
                        "iteration": 144,
                        "passed_time": 23.90719603,
                        "remaining_time": 9.06824677,
                        "test": [
                          0.8302359554,
                          0.6908074146
                        ]
                      },
                      {
                        "learn": [
                          0.4909412199
                        ],
                        "iteration": 145,
                        "passed_time": 24.14060804,
                        "remaining_time": 8.928718042,
                        "test": [
                          0.830612733,
                          0.6895300054
                        ]
                      },
                      {
                        "learn": [
                          0.4900011711
                        ],
                        "iteration": 146,
                        "passed_time": 24.5177805,
                        "remaining_time": 8.839743991,
                        "test": [
                          0.8310578162,
                          0.6883250175
                        ]
                      },
                      {
                        "learn": [
                          0.4873594033
                        ],
                        "iteration": 147,
                        "passed_time": 24.90543743,
                        "remaining_time": 8.750559098,
                        "test": [
                          0.8309422895,
                          0.6874207876
                        ]
                      },
                      {
                        "learn": [
                          0.4865533393
                        ],
                        "iteration": 148,
                        "passed_time": 25.24606382,
                        "remaining_time": 8.641270166,
                        "test": [
                          0.831377384,
                          0.6862898702
                        ]
                      },
                      {
                        "learn": [
                          0.4855899364
                        ],
                        "iteration": 149,
                        "passed_time": 25.43872875,
                        "remaining_time": 8.47957625,
                        "test": [
                          0.8317879777,
                          0.6851594813
                        ]
                      },
                      {
                        "learn": [
                          0.4853130632
                        ],
                        "iteration": 150,
                        "passed_time": 25.67384579,
                        "remaining_time": 8.33124797,
                        "test": [
                          0.8318836127,
                          0.684937031
                        ]
                      },
                      {
                        "learn": [
                          0.484572742
                        ],
                        "iteration": 151,
                        "passed_time": 25.99471987,
                        "remaining_time": 8.208858906,
                        "test": [
                          0.8321675678,
                          0.6839415742
                        ]
                      },
                      {
                        "learn": [
                          0.4820705653
                        ],
                        "iteration": 152,
                        "passed_time": 26.21145081,
                        "remaining_time": 8.051883583,
                        "test": [
                          0.8320393743,
                          0.68313851
                        ]
                      },
                      {
                        "learn": [
                          0.481331851
                        ],
                        "iteration": 153,
                        "passed_time": 26.41212069,
                        "remaining_time": 7.889334751,
                        "test": [
                          0.832422111,
                          0.6820309982
                        ]
                      },
                      {
                        "learn": [
                          0.4799951755
                        ],
                        "iteration": 154,
                        "passed_time": 26.64514429,
                        "remaining_time": 7.735687051,
                        "test": [
                          0.8321973791,
                          0.6820319277
                        ]
                      },
                      {
                        "learn": [
                          0.4791260669
                        ],
                        "iteration": 155,
                        "passed_time": 26.92213041,
                        "remaining_time": 7.593421397,
                        "test": [
                          0.8325842644,
                          0.6808496894
                        ]
                      },
                      {
                        "learn": [
                          0.4783539484
                        ],
                        "iteration": 156,
                        "passed_time": 27.17947667,
                        "remaining_time": 7.444060488,
                        "test": [
                          0.8332544599,
                          0.6797574186
                        ]
                      },
                      {
                        "learn": [
                          0.4779973579
                        ],
                        "iteration": 157,
                        "passed_time": 27.47373116,
                        "remaining_time": 7.303143726,
                        "test": [
                          0.8334965812,
                          0.6793436521
                        ]
                      },
                      {
                        "learn": [
                          0.4777750752
                        ],
                        "iteration": 158,
                        "passed_time": 27.70306606,
                        "remaining_time": 7.143557916,
                        "test": [
                          0.8336310532,
                          0.6790024559
                        ]
                      },
                      {
                        "learn": [
                          0.4774592709
                        ],
                        "iteration": 159,
                        "passed_time": 28.01093613,
                        "remaining_time": 7.002734032,
                        "test": [
                          0.8338445947,
                          0.6786418254
                        ]
                      },
                      {
                        "learn": [
                          0.4766285572
                        ],
                        "iteration": 160,
                        "passed_time": 28.41148497,
                        "remaining_time": 6.882285179,
                        "test": [
                          0.8341400559,
                          0.6775733721
                        ]
                      },
                      {
                        "learn": [
                          0.4759404756
                        ],
                        "iteration": 161,
                        "passed_time": 28.75004369,
                        "remaining_time": 6.743837408,
                        "test": [
                          0.8344045997,
                          0.6766334862
                        ]
                      },
                      {
                        "learn": [
                          0.4751520843
                        ],
                        "iteration": 162,
                        "passed_time": 29.03501596,
                        "remaining_time": 6.590770493,
                        "test": [
                          0.8346776718,
                          0.6756949562
                        ]
                      },
                      {
                        "learn": [
                          0.474460369
                        ],
                        "iteration": 163,
                        "passed_time": 29.40938588,
                        "remaining_time": 6.455718852,
                        "test": [
                          0.8348268061,
                          0.6748142899
                        ]
                      },
                      {
                        "learn": [
                          0.4732208905
                        ],
                        "iteration": 164,
                        "passed_time": 29.75716167,
                        "remaining_time": 6.312125202,
                        "test": [
                          0.8346209262,
                          0.6748434432
                        ]
                      },
                      {
                        "learn": [
                          0.4730308228
                        ],
                        "iteration": 165,
                        "passed_time": 30.01643255,
                        "remaining_time": 6.147944017,
                        "test": [
                          0.8347302462,
                          0.6745500371
                        ]
                      },
                      {
                        "learn": [
                          0.4724203614
                        ],
                        "iteration": 166,
                        "passed_time": 30.29137276,
                        "remaining_time": 5.985720367,
                        "test": [
                          0.8349879919,
                          0.6737099439
                        ]
                      },
                      {
                        "learn": [
                          0.4701358782
                        ],
                        "iteration": 167,
                        "passed_time": 30.71135476,
                        "remaining_time": 5.849781859,
                        "test": [
                          0.8348529495,
                          0.6730589701
                        ]
                      },
                      {
                        "learn": [
                          0.4695186669
                        ],
                        "iteration": 168,
                        "passed_time": 30.83932555,
                        "remaining_time": 5.656917704,
                        "test": [
                          0.8347884377,
                          0.6725408854
                        ]
                      },
                      {
                        "learn": [
                          0.4688191607
                        ],
                        "iteration": 169,
                        "passed_time": 30.99124112,
                        "remaining_time": 5.469042551,
                        "test": [
                          0.8350902917,
                          0.6716430834
                        ]
                      },
                      {
                        "learn": [
                          0.4682761873
                        ],
                        "iteration": 170,
                        "passed_time": 31.12112563,
                        "remaining_time": 5.277851714,
                        "test": [
                          0.8353418517,
                          0.6709696967
                        ]
                      },
                      {
                        "learn": [
                          0.4661946998
                        ],
                        "iteration": 171,
                        "passed_time": 31.25869611,
                        "remaining_time": 5.088624948,
                        "test": [
                          0.8352418167,
                          0.6702313512
                        ]
                      },
                      {
                        "learn": [
                          0.4655122348
                        ],
                        "iteration": 172,
                        "passed_time": 31.39261533,
                        "remaining_time": 4.899425514,
                        "test": [
                          0.835464918,
                          0.6694171011
                        ]
                      },
                      {
                        "learn": [
                          0.4635726233
                        ],
                        "iteration": 173,
                        "passed_time": 31.60331149,
                        "remaining_time": 4.722333901,
                        "test": [
                          0.8352419242,
                          0.6688188121
                        ]
                      },
                      {
                        "learn": [
                          0.4628935252
                        ],
                        "iteration": 174,
                        "passed_time": 31.74921807,
                        "remaining_time": 4.535602581,
                        "test": [
                          0.8355212124,
                          0.6680095566
                        ]
                      },
                      {
                        "learn": [
                          0.4608183206
                        ],
                        "iteration": 175,
                        "passed_time": 31.91654537,
                        "remaining_time": 4.352256187,
                        "test": [
                          0.8354681668,
                          0.6675653775
                        ]
                      },
                      {
                        "learn": [
                          0.4590460069
                        ],
                        "iteration": 176,
                        "passed_time": 32.05210325,
                        "remaining_time": 4.16496257,
                        "test": [
                          0.8354330766,
                          0.6672965281
                        ]
                      },
                      {
                        "learn": [
                          0.4572121438
                        ],
                        "iteration": 177,
                        "passed_time": 32.19416462,
                        "remaining_time": 3.979054054,
                        "test": [
                          0.8352081156,
                          0.6668276396
                        ]
                      },
                      {
                        "learn": [
                          0.4569354607
                        ],
                        "iteration": 178,
                        "passed_time": 32.32670166,
                        "remaining_time": 3.792518071,
                        "test": [
                          0.8353007655,
                          0.6665035669
                        ]
                      },
                      {
                        "learn": [
                          0.4563903011
                        ],
                        "iteration": 179,
                        "passed_time": 32.46831933,
                        "remaining_time": 3.607591037,
                        "test": [
                          0.8354004686,
                          0.6657998435
                        ]
                      },
                      {
                        "learn": [
                          0.4551593361
                        ],
                        "iteration": 180,
                        "passed_time": 32.60445002,
                        "remaining_time": 3.422566577,
                        "test": [
                          0.8355919363,
                          0.6653757092
                        ]
                      },
                      {
                        "learn": [
                          0.4551459208
                        ],
                        "iteration": 181,
                        "passed_time": 32.78408932,
                        "remaining_time": 3.24238246,
                        "test": [
                          0.835598784,
                          0.6653648475
                        ]
                      },
                      {
                        "learn": [
                          0.4546074752
                        ],
                        "iteration": 182,
                        "passed_time": 32.92734081,
                        "remaining_time": 3.05882401,
                        "test": [
                          0.8357923086,
                          0.6646300828
                        ]
                      },
                      {
                        "learn": [
                          0.4540914883
                        ],
                        "iteration": 183,
                        "passed_time": 33.05958652,
                        "remaining_time": 2.874746654,
                        "test": [
                          0.835889879,
                          0.6638630792
                        ]
                      },
                      {
                        "learn": [
                          0.4522066182
                        ],
                        "iteration": 184,
                        "passed_time": 33.19611686,
                        "remaining_time": 2.691577043,
                        "test": [
                          0.8359532261,
                          0.6634009202
                        ]
                      },
                      {
                        "learn": [
                          0.4519627355
                        ],
                        "iteration": 185,
                        "passed_time": 33.33042763,
                        "remaining_time": 2.508741864,
                        "test": [
                          0.8361245787,
                          0.6631173588
                        ]
                      },
                      {
                        "learn": [
                          0.451457286
                        ],
                        "iteration": 186,
                        "passed_time": 33.43782087,
                        "remaining_time": 2.324554392,
                        "test": [
                          0.8363889222,
                          0.6623594882
                        ]
                      },
                      {
                        "learn": [
                          0.451334415
                        ],
                        "iteration": 187,
                        "passed_time": 33.57640349,
                        "remaining_time": 2.143174691,
                        "test": [
                          0.836394821,
                          0.6623006477
                        ]
                      },
                      {
                        "learn": [
                          0.4510470862
                        ],
                        "iteration": 188,
                        "passed_time": 33.75633313,
                        "remaining_time": 1.964654309,
                        "test": [
                          0.8365447561,
                          0.6618854663
                        ]
                      },
                      {
                        "learn": [
                          0.4505454645
                        ],
                        "iteration": 189,
                        "passed_time": 33.88996445,
                        "remaining_time": 1.78368234,
                        "test": [
                          0.8367352069,
                          0.6612051616
                        ]
                      },
                      {
                        "learn": [
                          0.4500799802
                        ],
                        "iteration": 190,
                        "passed_time": 34.03716384,
                        "remaining_time": 1.603845416,
                        "test": [
                          0.8369520751,
                          0.6605680659
                        ]
                      },
                      {
                        "learn": [
                          0.4484663868
                        ],
                        "iteration": 191,
                        "passed_time": 34.18087755,
                        "remaining_time": 1.424203231,
                        "test": [
                          0.8367277966,
                          0.6602038203
                        ]
                      },
                      {
                        "learn": [
                          0.446984205
                        ],
                        "iteration": 192,
                        "passed_time": 34.30983083,
                        "remaining_time": 1.244398009,
                        "test": [
                          0.836388566,
                          0.6600365698
                        ]
                      },
                      {
                        "learn": [
                          0.4464724199
                        ],
                        "iteration": 193,
                        "passed_time": 34.44761822,
                        "remaining_time": 1.065390254,
                        "test": [
                          0.8364818615,
                          0.6593172094
                        ]
                      },
                      {
                        "learn": [
                          0.4458806482
                        ],
                        "iteration": 194,
                        "passed_time": 34.60653049,
                        "remaining_time": 0.8873469356,
                        "test": [
                          0.8368480629,
                          0.6585892295
                        ]
                      },
                      {
                        "learn": [
                          0.4456237091
                        ],
                        "iteration": 195,
                        "passed_time": 34.82159704,
                        "remaining_time": 0.7106448376,
                        "test": [
                          0.8370375829,
                          0.6582133095
                        ]
                      },
                      {
                        "learn": [
                          0.4453048199
                        ],
                        "iteration": 196,
                        "passed_time": 34.97124681,
                        "remaining_time": 0.532557058,
                        "test": [
                          0.8371731853,
                          0.657827875
                        ]
                      },
                      {
                        "learn": [
                          0.4448723605
                        ],
                        "iteration": 197,
                        "passed_time": 35.10907672,
                        "remaining_time": 0.3546371386,
                        "test": [
                          0.8373686525,
                          0.6572395879
                        ]
                      },
                      {
                        "learn": [
                          0.4446721272
                        ],
                        "iteration": 198,
                        "passed_time": 35.24332468,
                        "remaining_time": 0.1771021341,
                        "test": [
                          0.8375151095,
                          0.6570058503
                        ]
                      },
                      {
                        "learn": [
                          0.4441226045
                        ],
                        "iteration": 199,
                        "passed_time": 35.42168394,
                        "remaining_time": 0,
                        "test": [
                          0.837713111,
                          0.6563272455
                        ]
                      }
                    ],
                    "meta": {
                      "test_sets": [
                        "test"
                      ],
                      "test_metrics": [
                        {
                          "best_value": "Max",
                          "name": "AUC:type=Mu"
                        },
                        {
                          "best_value": "Min",
                          "name": "MultiClass"
                        }
                      ],
                      "learn_metrics": [
                        {
                          "best_value": "Min",
                          "name": "MultiClass"
                        }
                      ],
                      "launch_mode": "Train",
                      "parameters": "",
                      "iteration_count": 200,
                      "learn_sets": [
                        "learn"
                      ],
                      "name": "experiment"
                    }
                  }
                }
              },
              "catboost_info/model-final": {
                "path": "catboost_info/model-final",
                "name": "model-final",
                "content": {
                  "passed_iterations": 199,
                  "total_iterations": 200,
                  "data": {
                    "iterations": [
                      {
                        "learn": [
                          1.092223319
                        ],
                        "iteration": 0,
                        "passed_time": 0.1376191666,
                        "remaining_time": 27.38621415,
                        "test": [
                          0.6368500522,
                          1.091611968
                        ]
                      },
                      {
                        "learn": [
                          1.074101952
                        ],
                        "iteration": 1,
                        "passed_time": 0.3005644971,
                        "remaining_time": 29.75588522,
                        "test": [
                          0.6534339017,
                          1.081341533
                        ]
                      },
                      {
                        "learn": [
                          1.062463859
                        ],
                        "iteration": 2,
                        "passed_time": 0.4398316131,
                        "remaining_time": 28.88227593,
                        "test": [
                          0.6513548261,
                          1.076712669
                        ]
                      },
                      {
                        "learn": [
                          1.046253131
                        ],
                        "iteration": 3,
                        "passed_time": 0.5587775437,
                        "remaining_time": 27.38009964,
                        "test": [
                          0.660204214,
                          1.06998885
                        ]
                      },
                      {
                        "learn": [
                          1.031206285
                        ],
                        "iteration": 4,
                        "passed_time": 0.653338556,
                        "remaining_time": 25.48020369,
                        "test": [
                          0.66256865,
                          1.063202701
                        ]
                      },
                      {
                        "learn": [
                          1.017106895
                        ],
                        "iteration": 5,
                        "passed_time": 0.7833415594,
                        "remaining_time": 25.32804375,
                        "test": [
                          0.6592791693,
                          1.056810864
                        ]
                      },
                      {
                        "learn": [
                          1.004701134
                        ],
                        "iteration": 6,
                        "passed_time": 0.88156459,
                        "remaining_time": 24.30599512,
                        "test": [
                          0.6602732461,
                          1.048587795
                        ]
                      },
                      {
                        "learn": [
                          0.9931305502
                        ],
                        "iteration": 7,
                        "passed_time": 0.9680272856,
                        "remaining_time": 23.23265486,
                        "test": [
                          0.6602978055,
                          1.040917808
                        ]
                      },
                      {
                        "learn": [
                          0.9811432058
                        ],
                        "iteration": 8,
                        "passed_time": 1.054006387,
                        "remaining_time": 22.36835777,
                        "test": [
                          0.6599543917,
                          1.035362848
                        ]
                      },
                      {
                        "learn": [
                          0.9745891228
                        ],
                        "iteration": 9,
                        "passed_time": 1.142979048,
                        "remaining_time": 21.71660192,
                        "test": [
                          0.6641283278,
                          1.032403438
                        ]
                      },
                      {
                        "learn": [
                          0.9671465983
                        ],
                        "iteration": 10,
                        "passed_time": 1.25614839,
                        "remaining_time": 21.58291324,
                        "test": [
                          0.6575764799,
                          1.029867583
                        ]
                      },
                      {
                        "learn": [
                          0.9601328408
                        ],
                        "iteration": 11,
                        "passed_time": 1.344457392,
                        "remaining_time": 21.06316582,
                        "test": [
                          0.6533306716,
                          1.027525721
                        ]
                      },
                      {
                        "learn": [
                          0.949398108
                        ],
                        "iteration": 12,
                        "passed_time": 1.433164535,
                        "remaining_time": 20.61552062,
                        "test": [
                          0.6552117712,
                          1.020547547
                        ]
                      },
                      {
                        "learn": [
                          0.9439040526
                        ],
                        "iteration": 13,
                        "passed_time": 1.575231523,
                        "remaining_time": 20.92807595,
                        "test": [
                          0.6530902697,
                          1.018069735
                        ]
                      },
                      {
                        "learn": [
                          0.9351125971
                        ],
                        "iteration": 14,
                        "passed_time": 1.67733046,
                        "remaining_time": 20.68707567,
                        "test": [
                          0.6536850984,
                          1.01181272
                        ]
                      },
                      {
                        "learn": [
                          0.9257960918
                        ],
                        "iteration": 15,
                        "passed_time": 1.761121355,
                        "remaining_time": 20.25289558,
                        "test": [
                          0.6529699536,
                          1.007432137
                        ]
                      },
                      {
                        "learn": [
                          0.9160208963
                        ],
                        "iteration": 16,
                        "passed_time": 1.852783407,
                        "remaining_time": 19.94466843,
                        "test": [
                          0.65387103,
                          1.003374617
                        ]
                      },
                      {
                        "learn": [
                          0.9114949618
                        ],
                        "iteration": 17,
                        "passed_time": 1.937009476,
                        "remaining_time": 19.58531804,
                        "test": [
                          0.6513772673,
                          1.001372968
                        ]
                      },
                      {
                        "learn": [
                          0.9031811857
                        ],
                        "iteration": 18,
                        "passed_time": 2.021610268,
                        "remaining_time": 19.25849781,
                        "test": [
                          0.6503325316,
                          0.9976357835
                        ]
                      },
                      {
                        "learn": [
                          0.8960315405
                        ],
                        "iteration": 19,
                        "passed_time": 2.108456219,
                        "remaining_time": 18.97610597,
                        "test": [
                          0.6512121483,
                          0.9923119608
                        ]
                      },
                      {
                        "learn": [
                          0.8886561422
                        ],
                        "iteration": 20,
                        "passed_time": 2.205571713,
                        "remaining_time": 18.79987317,
                        "test": [
                          0.6508633362,
                          0.9888657647
                        ]
                      },
                      {
                        "learn": [
                          0.8811794765
                        ],
                        "iteration": 21,
                        "passed_time": 2.299964107,
                        "remaining_time": 18.6088005,
                        "test": [
                          0.6518405325,
                          0.9837332909
                        ]
                      },
                      {
                        "learn": [
                          0.8741275308
                        ],
                        "iteration": 22,
                        "passed_time": 2.386969748,
                        "remaining_time": 18.36928893,
                        "test": [
                          0.6518130033,
                          0.9789195471
                        ]
                      },
                      {
                        "learn": [
                          0.8700423028
                        ],
                        "iteration": 23,
                        "passed_time": 2.472024178,
                        "remaining_time": 18.12817731,
                        "test": [
                          0.6532063567,
                          0.9778497814
                        ]
                      },
                      {
                        "learn": [
                          0.8666467362
                        ],
                        "iteration": 24,
                        "passed_time": 2.702984725,
                        "remaining_time": 18.92089308,
                        "test": [
                          0.652604275,
                          0.9764272474
                        ]
                      },
                      {
                        "learn": [
                          0.8602473113
                        ],
                        "iteration": 25,
                        "passed_time": 2.802893379,
                        "remaining_time": 18.75782492,
                        "test": [
                          0.6529133916,
                          0.9720436145
                        ]
                      },
                      {
                        "learn": [
                          0.8535021422
                        ],
                        "iteration": 26,
                        "passed_time": 2.886420728,
                        "remaining_time": 18.49447355,
                        "test": [
                          0.6517669915,
                          0.9696223484
                        ]
                      },
                      {
                        "learn": [
                          0.8497510625
                        ],
                        "iteration": 27,
                        "passed_time": 2.988282657,
                        "remaining_time": 18.35659346,
                        "test": [
                          0.651661691,
                          0.9686761806
                        ]
                      },
                      {
                        "learn": [
                          0.8431473299
                        ],
                        "iteration": 28,
                        "passed_time": 3.073746285,
                        "remaining_time": 18.12450396,
                        "test": [
                          0.6497319705,
                          0.9661966624
                        ]
                      },
                      {
                        "learn": [
                          0.8378071855
                        ],
                        "iteration": 29,
                        "passed_time": 3.158890397,
                        "remaining_time": 17.90037891,
                        "test": [
                          0.649349788,
                          0.9637581748
                        ]
                      },
                      {
                        "learn": [
                          0.8322398058
                        ],
                        "iteration": 30,
                        "passed_time": 3.280578219,
                        "remaining_time": 17.88444255,
                        "test": [
                          0.6504875611,
                          0.9592846441
                        ]
                      },
                      {
                        "learn": [
                          0.8264675699
                        ],
                        "iteration": 31,
                        "passed_time": 3.365905344,
                        "remaining_time": 17.67100306,
                        "test": [
                          0.651511918,
                          0.957108691
                        ]
                      },
                      {
                        "learn": [
                          0.8214925544
                        ],
                        "iteration": 32,
                        "passed_time": 3.451326407,
                        "remaining_time": 17.46580333,
                        "test": [
                          0.6516564656,
                          0.9535649388
                        ]
                      },
                      {
                        "learn": [
                          0.8166646954
                        ],
                        "iteration": 33,
                        "passed_time": 3.547417152,
                        "remaining_time": 17.31974257,
                        "test": [
                          0.6810441007,
                          0.9488882931
                        ]
                      },
                      {
                        "learn": [
                          0.8091197377
                        ],
                        "iteration": 34,
                        "passed_time": 3.657331382,
                        "remaining_time": 17.24170509,
                        "test": [
                          0.7207095689,
                          0.9413966222
                        ]
                      },
                      {
                        "learn": [
                          0.8048183919
                        ],
                        "iteration": 35,
                        "passed_time": 3.815001672,
                        "remaining_time": 17.37945206,
                        "test": [
                          0.7196731277,
                          0.9372272757
                        ]
                      },
                      {
                        "learn": [
                          0.7995423895
                        ],
                        "iteration": 36,
                        "passed_time": 3.899635711,
                        "remaining_time": 17.17947624,
                        "test": [
                          0.7215765073,
                          0.9335693932
                        ]
                      },
                      {
                        "learn": [
                          0.7951882696
                        ],
                        "iteration": 37,
                        "passed_time": 3.987778427,
                        "remaining_time": 17.00052908,
                        "test": [
                          0.7218426042,
                          0.9304378422
                        ]
                      },
                      {
                        "learn": [
                          0.7883284718
                        ],
                        "iteration": 38,
                        "passed_time": 4.085818288,
                        "remaining_time": 16.86709601,
                        "test": [
                          0.7362848027,
                          0.9231673036
                        ]
                      },
                      {
                        "learn": [
                          0.7846750641
                        ],
                        "iteration": 39,
                        "passed_time": 4.172612018,
                        "remaining_time": 16.69044807,
                        "test": [
                          0.738879687,
                          0.9196586284
                        ]
                      },
                      {
                        "learn": [
                          0.7810816825
                        ],
                        "iteration": 40,
                        "passed_time": 4.271013649,
                        "remaining_time": 16.56319927,
                        "test": [
                          0.7357500397,
                          0.9161670189
                        ]
                      },
                      {
                        "learn": [
                          0.7751796842
                        ],
                        "iteration": 41,
                        "passed_time": 4.389259808,
                        "remaining_time": 16.51197737,
                        "test": [
                          0.7445444563,
                          0.9099529719
                        ]
                      },
                      {
                        "learn": [
                          0.772120285
                        ],
                        "iteration": 42,
                        "passed_time": 4.473374129,
                        "remaining_time": 16.33301717,
                        "test": [
                          0.7458372402,
                          0.9071379183
                        ]
                      },
                      {
                        "learn": [
                          0.7704687754
                        ],
                        "iteration": 43,
                        "passed_time": 4.581981313,
                        "remaining_time": 16.24520647,
                        "test": [
                          0.7494094631,
                          0.9048545027
                        ]
                      },
                      {
                        "learn": [
                          0.7648386574
                        ],
                        "iteration": 44,
                        "passed_time": 4.700321516,
                        "remaining_time": 16.18999633,
                        "test": [
                          0.7580183013,
                          0.8991869795
                        ]
                      },
                      {
                        "learn": [
                          0.7618894252
                        ],
                        "iteration": 45,
                        "passed_time": 4.836751155,
                        "remaining_time": 16.19260169,
                        "test": [
                          0.7590148324,
                          0.8963420813
                        ]
                      },
                      {
                        "learn": [
                          0.7568546011
                        ],
                        "iteration": 46,
                        "passed_time": 4.94257212,
                        "remaining_time": 16.08964967,
                        "test": [
                          0.7683757623,
                          0.8911240424
                        ]
                      },
                      {
                        "learn": [
                          0.7529450374
                        ],
                        "iteration": 47,
                        "passed_time": 5.031295872,
                        "remaining_time": 15.93243693,
                        "test": [
                          0.7682416204,
                          0.8879568156
                        ]
                      },
                      {
                        "learn": [
                          0.7514781745
                        ],
                        "iteration": 48,
                        "passed_time": 5.128203771,
                        "remaining_time": 15.80324019,
                        "test": [
                          0.7685803046,
                          0.8859313723
                        ]
                      },
                      {
                        "learn": [
                          0.7479043549
                        ],
                        "iteration": 49,
                        "passed_time": 5.224223023,
                        "remaining_time": 15.67266907,
                        "test": [
                          0.7683066167,
                          0.8843395596
                        ]
                      },
                      {
                        "learn": [
                          0.7443193824
                        ],
                        "iteration": 50,
                        "passed_time": 5.323796271,
                        "remaining_time": 15.55383617,
                        "test": [
                          0.7678370555,
                          0.8815446557
                        ]
                      },
                      {
                        "learn": [
                          0.7395990004
                        ],
                        "iteration": 51,
                        "passed_time": 5.409596937,
                        "remaining_time": 15.39654513,
                        "test": [
                          0.7718529913,
                          0.8767865514
                        ]
                      },
                      {
                        "learn": [
                          0.7351149837
                        ],
                        "iteration": 52,
                        "passed_time": 5.497856351,
                        "remaining_time": 15.24877139,
                        "test": [
                          0.7757049003,
                          0.8720236077
                        ]
                      },
                      {
                        "learn": [
                          0.7325688674
                        ],
                        "iteration": 53,
                        "passed_time": 5.583590027,
                        "remaining_time": 15.09637304,
                        "test": [
                          0.7778646363,
                          0.8695248063
                        ]
                      },
                      {
                        "learn": [
                          0.7284281902
                        ],
                        "iteration": 54,
                        "passed_time": 5.670538369,
                        "remaining_time": 14.94960115,
                        "test": [
                          0.7807598552,
                          0.8646238813
                        ]
                      },
                      {
                        "learn": [
                          0.7250278795
                        ],
                        "iteration": 55,
                        "passed_time": 5.764493741,
                        "remaining_time": 14.82298391,
                        "test": [
                          0.7801309823,
                          0.8636273162
                        ]
                      },
                      {
                        "learn": [
                          0.721911299
                        ],
                        "iteration": 56,
                        "passed_time": 5.934733018,
                        "remaining_time": 14.88889161,
                        "test": [
                          0.7816026652,
                          0.8599583947
                        ]
                      },
                      {
                        "learn": [
                          0.7206605362
                        ],
                        "iteration": 57,
                        "passed_time": 6.028810622,
                        "remaining_time": 14.76019152,
                        "test": [
                          0.781577469,
                          0.8582296579
                        ]
                      },
                      {
                        "learn": [
                          0.718567775
                        ],
                        "iteration": 58,
                        "passed_time": 6.115135862,
                        "remaining_time": 14.61413825,
                        "test": [
                          0.7821336077,
                          0.8559084569
                        ]
                      },
                      {
                        "learn": [
                          0.7141031084
                        ],
                        "iteration": 59,
                        "passed_time": 6.214438739,
                        "remaining_time": 14.50035706,
                        "test": [
                          0.7858193361,
                          0.8510326207
                        ]
                      },
                      {
                        "learn": [
                          0.7123060956
                        ],
                        "iteration": 60,
                        "passed_time": 6.312565996,
                        "remaining_time": 14.3843717,
                        "test": [
                          0.7847069439,
                          0.8507123386
                        ]
                      },
                      {
                        "learn": [
                          0.7085273769
                        ],
                        "iteration": 61,
                        "passed_time": 6.402345196,
                        "remaining_time": 14.25038124,
                        "test": [
                          0.7871016492,
                          0.8468766075
                        ]
                      },
                      {
                        "learn": [
                          0.707116788
                        ],
                        "iteration": 62,
                        "passed_time": 6.504851832,
                        "remaining_time": 14.14547144,
                        "test": [
                          0.789082753,
                          0.845133085
                        ]
                      },
                      {
                        "learn": [
                          0.7031814608
                        ],
                        "iteration": 63,
                        "passed_time": 6.592087957,
                        "remaining_time": 14.00818691,
                        "test": [
                          0.7922880246,
                          0.8406692313
                        ]
                      },
                      {
                        "learn": [
                          0.6998948352
                        ],
                        "iteration": 64,
                        "passed_time": 6.691380236,
                        "remaining_time": 13.89748203,
                        "test": [
                          0.7943596051,
                          0.8361474033
                        ]
                      },
                      {
                        "learn": [
                          0.692273306
                        ],
                        "iteration": 65,
                        "passed_time": 6.786688639,
                        "remaining_time": 13.77903451,
                        "test": [
                          0.7931293906,
                          0.8334556331
                        ]
                      },
                      {
                        "learn": [
                          0.6886700996
                        ],
                        "iteration": 66,
                        "passed_time": 6.875834561,
                        "remaining_time": 13.64904473,
                        "test": [
                          0.7952146732,
                          0.8291165464
                        ]
                      },
                      {
                        "learn": [
                          0.6858450502
                        ],
                        "iteration": 67,
                        "passed_time": 7.035188036,
                        "remaining_time": 13.65654148,
                        "test": [
                          0.798158856,
                          0.8253032929
                        ]
                      },
                      {
                        "learn": [
                          0.6787883979
                        ],
                        "iteration": 68,
                        "passed_time": 7.13205297,
                        "remaining_time": 13.54056433,
                        "test": [
                          0.7972387332,
                          0.8225775492
                        ]
                      },
                      {
                        "learn": [
                          0.6775202482
                        ],
                        "iteration": 69,
                        "passed_time": 7.236286692,
                        "remaining_time": 13.43881814,
                        "test": [
                          0.7980690485,
                          0.8209103096
                        ]
                      },
                      {
                        "learn": [
                          0.6750725509
                        ],
                        "iteration": 70,
                        "passed_time": 7.364010024,
                        "remaining_time": 13.37968019,
                        "test": [
                          0.8005691922,
                          0.8178075785
                        ]
                      },
                      {
                        "learn": [
                          0.6724255864
                        ],
                        "iteration": 71,
                        "passed_time": 7.47266553,
                        "remaining_time": 13.28473872,
                        "test": [
                          0.8026221327,
                          0.8146945203
                        ]
                      },
                      {
                        "learn": [
                          0.6696731407
                        ],
                        "iteration": 72,
                        "passed_time": 7.586969963,
                        "remaining_time": 13.19924911,
                        "test": [
                          0.8041382279,
                          0.8114847768
                        ]
                      },
                      {
                        "learn": [
                          0.6685272663
                        ],
                        "iteration": 73,
                        "passed_time": 7.691026469,
                        "remaining_time": 13.09553156,
                        "test": [
                          0.8044943525,
                          0.809815376
                        ]
                      },
                      {
                        "learn": [
                          0.6671243614
                        ],
                        "iteration": 74,
                        "passed_time": 7.807403156,
                        "remaining_time": 13.01233859,
                        "test": [
                          0.803374756,
                          0.8096591204
                        ]
                      },
                      {
                        "learn": [
                          0.6640583024
                        ],
                        "iteration": 75,
                        "passed_time": 7.891406731,
                        "remaining_time": 12.87545309,
                        "test": [
                          0.8051073905,
                          0.8059369085
                        ]
                      },
                      {
                        "learn": [
                          0.6627520574
                        ],
                        "iteration": 76,
                        "passed_time": 8.002687839,
                        "remaining_time": 12.78351434,
                        "test": [
                          0.8040726489,
                          0.8058108326
                        ]
                      },
                      {
                        "learn": [
                          0.6609460489
                        ],
                        "iteration": 77,
                        "passed_time": 8.16872368,
                        "remaining_time": 12.77672165,
                        "test": [
                          0.8054279887,
                          0.8037186773
                        ]
                      },
                      {
                        "learn": [
                          0.6584424682
                        ],
                        "iteration": 78,
                        "passed_time": 8.269974344,
                        "remaining_time": 12.66666956,
                        "test": [
                          0.8066322172,
                          0.8002685202
                        ]
                      },
                      {
                        "learn": [
                          0.6561005826
                        ],
                        "iteration": 79,
                        "passed_time": 8.37000101,
                        "remaining_time": 12.55500151,
                        "test": [
                          0.8074869529,
                          0.7977505862
                        ]
                      },
                      {
                        "learn": [
                          0.6537324619
                        ],
                        "iteration": 80,
                        "passed_time": 8.466515358,
                        "remaining_time": 12.43846084,
                        "test": [
                          0.8085702442,
                          0.7953078795
                        ]
                      },
                      {
                        "learn": [
                          0.6514250549
                        ],
                        "iteration": 81,
                        "passed_time": 8.557615519,
                        "remaining_time": 12.31461745,
                        "test": [
                          0.8098215174,
                          0.7921566446
                        ]
                      },
                      {
                        "learn": [
                          0.6451493265
                        ],
                        "iteration": 82,
                        "passed_time": 8.683347637,
                        "remaining_time": 12.24038161,
                        "test": [
                          0.8089625465,
                          0.7900257891
                        ]
                      },
                      {
                        "learn": [
                          0.6440132814
                        ],
                        "iteration": 83,
                        "passed_time": 8.79081466,
                        "remaining_time": 12.13969644,
                        "test": [
                          0.807986006,
                          0.7899540654
                        ]
                      },
                      {
                        "learn": [
                          0.637781925
                        ],
                        "iteration": 84,
                        "passed_time": 8.906257612,
                        "remaining_time": 12.04964265,
                        "test": [
                          0.8095451705,
                          0.7860654724
                        ]
                      },
                      {
                        "learn": [
                          0.6357335742
                        ],
                        "iteration": 85,
                        "passed_time": 9.000433725,
                        "remaining_time": 11.9308075,
                        "test": [
                          0.8109873552,
                          0.7830457903
                        ]
                      },
                      {
                        "learn": [
                          0.6347091229
                        ],
                        "iteration": 86,
                        "passed_time": 9.168690301,
                        "remaining_time": 11.90875867,
                        "test": [
                          0.8100601411,
                          0.7830200912
                        ]
                      },
                      {
                        "learn": [
                          0.6327172334
                        ],
                        "iteration": 87,
                        "passed_time": 9.288352979,
                        "remaining_time": 11.82154016,
                        "test": [
                          0.8101872669,
                          0.7812898351
                        ]
                      },
                      {
                        "learn": [
                          0.6308964272
                        ],
                        "iteration": 88,
                        "passed_time": 9.41920814,
                        "remaining_time": 11.74755173,
                        "test": [
                          0.811359798,
                          0.7791456076
                        ]
                      },
                      {
                        "learn": [
                          0.6289603234
                        ],
                        "iteration": 89,
                        "passed_time": 9.512974301,
                        "remaining_time": 11.62696859,
                        "test": [
                          0.8129346526,
                          0.7766337966
                        ]
                      },
                      {
                        "learn": [
                          0.6231644663
                        ],
                        "iteration": 90,
                        "passed_time": 9.609395435,
                        "remaining_time": 11.51015497,
                        "test": [
                          0.8137434785,
                          0.7730896414
                        ]
                      },
                      {
                        "learn": [
                          0.6178371197
                        ],
                        "iteration": 91,
                        "passed_time": 9.698392025,
                        "remaining_time": 11.3850689,
                        "test": [
                          0.8133432733,
                          0.7711840598
                        ]
                      },
                      {
                        "learn": [
                          0.6159486411
                        ],
                        "iteration": 92,
                        "passed_time": 9.789894781,
                        "remaining_time": 11.26364238,
                        "test": [
                          0.8145782344,
                          0.7687322496
                        ]
                      },
                      {
                        "learn": [
                          0.614030315
                        ],
                        "iteration": 93,
                        "passed_time": 9.891103066,
                        "remaining_time": 11.15379707,
                        "test": [
                          0.8157271601,
                          0.7665398538
                        ]
                      },
                      {
                        "learn": [
                          0.6122707113
                        ],
                        "iteration": 94,
                        "passed_time": 10.00316197,
                        "remaining_time": 11.05612639,
                        "test": [
                          0.8169880329,
                          0.7641521292
                        ]
                      },
                      {
                        "learn": [
                          0.6102288135
                        ],
                        "iteration": 95,
                        "passed_time": 10.11272614,
                        "remaining_time": 10.95545332,
                        "test": [
                          0.8180727472,
                          0.7617844652
                        ]
                      },
                      {
                        "learn": [
                          0.6084901105
                        ],
                        "iteration": 96,
                        "passed_time": 10.29529122,
                        "remaining_time": 10.93211336,
                        "test": [
                          0.8188704035,
                          0.7598560973
                        ]
                      },
                      {
                        "learn": [
                          0.6068198725
                        ],
                        "iteration": 97,
                        "passed_time": 10.40822461,
                        "remaining_time": 10.83305011,
                        "test": [
                          0.8201409564,
                          0.7576596985
                        ]
                      },
                      {
                        "learn": [
                          0.6048245474
                        ],
                        "iteration": 98,
                        "passed_time": 10.53734989,
                        "remaining_time": 10.75022565,
                        "test": [
                          0.8211793648,
                          0.7551399531
                        ]
                      },
                      {
                        "learn": [
                          0.5996582164
                        ],
                        "iteration": 99,
                        "passed_time": 10.65126206,
                        "remaining_time": 10.65126206,
                        "test": [
                          0.8214921544,
                          0.7522285212
                        ]
                      },
                      {
                        "learn": [
                          0.5984730769
                        ],
                        "iteration": 100,
                        "passed_time": 10.75989095,
                        "remaining_time": 10.5468238,
                        "test": [
                          0.8220295703,
                          0.751059994
                        ]
                      },
                      {
                        "learn": [
                          0.5969480165
                        ],
                        "iteration": 101,
                        "passed_time": 10.86663044,
                        "remaining_time": 10.44048807,
                        "test": [
                          0.8231170565,
                          0.7490360349
                        ]
                      },
                      {
                        "learn": [
                          0.5920762576
                        ],
                        "iteration": 102,
                        "passed_time": 10.98580991,
                        "remaining_time": 10.34585982,
                        "test": [
                          0.8234430101,
                          0.7460265014
                        ]
                      },
                      {
                        "learn": [
                          0.5874493492
                        ],
                        "iteration": 103,
                        "passed_time": 11.10492973,
                        "remaining_time": 10.25070437,
                        "test": [
                          0.8230186422,
                          0.7444807118
                        ]
                      },
                      {
                        "learn": [
                          0.58611936
                        ],
                        "iteration": 104,
                        "passed_time": 11.22484338,
                        "remaining_time": 10.15581067,
                        "test": [
                          0.8233231043,
                          0.7426798659
                        ]
                      },
                      {
                        "learn": [
                          0.5816604563
                        ],
                        "iteration": 105,
                        "passed_time": 11.437894,
                        "remaining_time": 10.14303808,
                        "test": [
                          0.822904831,
                          0.7412211967
                        ]
                      },
                      {
                        "learn": [
                          0.5802132927
                        ],
                        "iteration": 106,
                        "passed_time": 11.52529098,
                        "remaining_time": 10.01730898,
                        "test": [
                          0.8237376212,
                          0.73919652
                        ]
                      },
                      {
                        "learn": [
                          0.5786537575
                        ],
                        "iteration": 107,
                        "passed_time": 11.65080228,
                        "remaining_time": 9.9247575,
                        "test": [
                          0.8244841297,
                          0.7375776199
                        ]
                      },
                      {
                        "learn": [
                          0.5773162653
                        ],
                        "iteration": 108,
                        "passed_time": 11.75296985,
                        "remaining_time": 9.81211244,
                        "test": [
                          0.8251563219,
                          0.7357159549
                        ]
                      },
                      {
                        "learn": [
                          0.5757743717
                        ],
                        "iteration": 109,
                        "passed_time": 11.86122277,
                        "remaining_time": 9.704636813,
                        "test": [
                          0.8258182522,
                          0.7339587986
                        ]
                      },
                      {
                        "learn": [
                          0.5745355427
                        ],
                        "iteration": 110,
                        "passed_time": 11.94631123,
                        "remaining_time": 9.578573867,
                        "test": [
                          0.8266846254,
                          0.7323310895
                        ]
                      },
                      {
                        "learn": [
                          0.5694426707
                        ],
                        "iteration": 111,
                        "passed_time": 12.0529947,
                        "remaining_time": 9.470210123,
                        "test": [
                          0.8270675195,
                          0.7295772422
                        ]
                      },
                      {
                        "learn": [
                          0.5651948781
                        ],
                        "iteration": 112,
                        "passed_time": 12.18021524,
                        "remaining_time": 9.377687841,
                        "test": [
                          0.8269888889,
                          0.7277255011
                        ]
                      },
                      {
                        "learn": [
                          0.5612035254
                        ],
                        "iteration": 113,
                        "passed_time": 12.26701776,
                        "remaining_time": 9.254066028,
                        "test": [
                          0.8269261684,
                          0.7259476182
                        ]
                      },
                      {
                        "learn": [
                          0.557186517
                        ],
                        "iteration": 114,
                        "passed_time": 12.45059248,
                        "remaining_time": 9.202611833,
                        "test": [
                          0.8267463996,
                          0.724295963
                        ]
                      },
                      {
                        "learn": [
                          0.5534724131
                        ],
                        "iteration": 115,
                        "passed_time": 12.5810644,
                        "remaining_time": 9.110425943,
                        "test": [
                          0.8266026874,
                          0.72271617
                        ]
                      },
                      {
                        "learn": [
                          0.5529310076
                        ],
                        "iteration": 116,
                        "passed_time": 12.68961411,
                        "remaining_time": 9.00203394,
                        "test": [
                          0.8268352698,
                          0.7220307869
                        ]
                      },
                      {
                        "learn": [
                          0.5489292508
                        ],
                        "iteration": 117,
                        "passed_time": 12.80789427,
                        "remaining_time": 8.900401103,
                        "test": [
                          0.8270278468,
                          0.7198516848
                        ]
                      },
                      {
                        "learn": [
                          0.5454656151
                        ],
                        "iteration": 118,
                        "passed_time": 12.90166182,
                        "remaining_time": 8.781803425,
                        "test": [
                          0.8269903403,
                          0.7182766475
                        ]
                      },
                      {
                        "learn": [
                          0.5442029216
                        ],
                        "iteration": 119,
                        "passed_time": 13.00953907,
                        "remaining_time": 8.673026045,
                        "test": [
                          0.827648827,
                          0.7168342378
                        ]
                      },
                      {
                        "learn": [
                          0.5436448467
                        ],
                        "iteration": 120,
                        "passed_time": 13.13009372,
                        "remaining_time": 8.572540527,
                        "test": [
                          0.828042587,
                          0.7160596724
                        ]
                      },
                      {
                        "learn": [
                          0.5400619153
                        ],
                        "iteration": 121,
                        "passed_time": 13.23160112,
                        "remaining_time": 8.459548259,
                        "test": [
                          0.8280237447,
                          0.7143394773
                        ]
                      },
                      {
                        "learn": [
                          0.536590644
                        ],
                        "iteration": 122,
                        "passed_time": 13.32438161,
                        "remaining_time": 8.341279545,
                        "test": [
                          0.8279887453,
                          0.7126364978
                        ]
                      },
                      {
                        "learn": [
                          0.5332491449
                        ],
                        "iteration": 123,
                        "passed_time": 13.43380821,
                        "remaining_time": 8.233624384,
                        "test": [
                          0.8279074269,
                          0.7110604989
                        ]
                      },
                      {
                        "learn": [
                          0.5294957501
                        ],
                        "iteration": 124,
                        "passed_time": 13.57290878,
                        "remaining_time": 8.143745265,
                        "test": [
                          0.8279105533,
                          0.7092177445
                        ]
                      },
                      {
                        "learn": [
                          0.5258933588
                        ],
                        "iteration": 125,
                        "passed_time": 13.66400242,
                        "remaining_time": 8.024890309,
                        "test": [
                          0.8278782591,
                          0.7074964603
                        ]
                      },
                      {
                        "learn": [
                          0.5253196608
                        ],
                        "iteration": 126,
                        "passed_time": 13.75089555,
                        "remaining_time": 7.904058069,
                        "test": [
                          0.8281555426,
                          0.7069168608
                        ]
                      },
                      {
                        "learn": [
                          0.5223634037
                        ],
                        "iteration": 127,
                        "passed_time": 13.83693156,
                        "remaining_time": 7.783274,
                        "test": [
                          0.828039411,
                          0.7056309858
                        ]
                      },
                      {
                        "learn": [
                          0.5195234863
                        ],
                        "iteration": 128,
                        "passed_time": 13.94566005,
                        "remaining_time": 7.675518322,
                        "test": [
                          0.8279473765,
                          0.7045307974
                        ]
                      },
                      {
                        "learn": [
                          0.5187239147
                        ],
                        "iteration": 129,
                        "passed_time": 14.04533776,
                        "remaining_time": 7.562874178,
                        "test": [
                          0.8278948518,
                          0.7041225447
                        ]
                      },
                      {
                        "learn": [
                          0.5177696384
                        ],
                        "iteration": 130,
                        "passed_time": 14.15947139,
                        "remaining_time": 7.458042181,
                        "test": [
                          0.8281706689,
                          0.7027877
                        ]
                      },
                      {
                        "learn": [
                          0.5173682913
                        ],
                        "iteration": 131,
                        "passed_time": 14.25019805,
                        "remaining_time": 7.341011118,
                        "test": [
                          0.8284251789,
                          0.7023261741
                        ]
                      },
                      {
                        "learn": [
                          0.5140185984
                        ],
                        "iteration": 132,
                        "passed_time": 14.33456656,
                        "remaining_time": 7.221172626,
                        "test": [
                          0.8284417018,
                          0.7010020046
                        ]
                      },
                      {
                        "learn": [
                          0.5130614145
                        ],
                        "iteration": 133,
                        "passed_time": 14.4545298,
                        "remaining_time": 7.119395274,
                        "test": [
                          0.8286848341,
                          0.6996574361
                        ]
                      },
                      {
                        "learn": [
                          0.5117331121
                        ],
                        "iteration": 134,
                        "passed_time": 14.63732606,
                        "remaining_time": 7.047601438,
                        "test": [
                          0.8293211232,
                          0.6978984797
                        ]
                      },
                      {
                        "learn": [
                          0.5107627927
                        ],
                        "iteration": 135,
                        "passed_time": 14.74509317,
                        "remaining_time": 6.938867376,
                        "test": [
                          0.8298136433,
                          0.6965457097
                        ]
                      },
                      {
                        "learn": [
                          0.5076610646
                        ],
                        "iteration": 136,
                        "passed_time": 14.83407442,
                        "remaining_time": 6.821508674,
                        "test": [
                          0.8297727023,
                          0.6953296352
                        ]
                      },
                      {
                        "learn": [
                          0.5046294045
                        ],
                        "iteration": 137,
                        "passed_time": 14.92095599,
                        "remaining_time": 6.703617908,
                        "test": [
                          0.8295771426,
                          0.694102314
                        ]
                      },
                      {
                        "learn": [
                          0.5019465345
                        ],
                        "iteration": 138,
                        "passed_time": 15.01784479,
                        "remaining_time": 6.590564981,
                        "test": [
                          0.8295471662,
                          0.6928827609
                        ]
                      },
                      {
                        "learn": [
                          0.5011790211
                        ],
                        "iteration": 139,
                        "passed_time": 15.1309377,
                        "remaining_time": 6.484687587,
                        "test": [
                          0.8299074734,
                          0.6919659554
                        ]
                      },
                      {
                        "learn": [
                          0.5009893625
                        ],
                        "iteration": 140,
                        "passed_time": 15.25009606,
                        "remaining_time": 6.381245871,
                        "test": [
                          0.8300315422,
                          0.6917064468
                        ]
                      },
                      {
                        "learn": [
                          0.4987456856
                        ],
                        "iteration": 141,
                        "passed_time": 15.35093507,
                        "remaining_time": 6.270100238,
                        "test": [
                          0.8296667919,
                          0.6910521003
                        ]
                      },
                      {
                        "learn": [
                          0.4977832458
                        ],
                        "iteration": 142,
                        "passed_time": 15.4566597,
                        "remaining_time": 6.161046176,
                        "test": [
                          0.8298482514,
                          0.6900582303
                        ]
                      },
                      {
                        "learn": [
                          0.4969217135
                        ],
                        "iteration": 143,
                        "passed_time": 15.60500655,
                        "remaining_time": 6.068613658,
                        "test": [
                          0.8302933539,
                          0.6889202485
                        ]
                      },
                      {
                        "learn": [
                          0.4944735871
                        ],
                        "iteration": 144,
                        "passed_time": 15.73993609,
                        "remaining_time": 5.970320588,
                        "test": [
                          0.8301570222,
                          0.6879639155
                        ]
                      },
                      {
                        "learn": [
                          0.4918191777
                        ],
                        "iteration": 145,
                        "passed_time": 15.83915588,
                        "remaining_time": 5.85831793,
                        "test": [
                          0.829863647,
                          0.6870767431
                        ]
                      },
                      {
                        "learn": [
                          0.49103106
                        ],
                        "iteration": 146,
                        "passed_time": 15.92431503,
                        "remaining_time": 5.741419706,
                        "test": [
                          0.8300669661,
                          0.6859926264
                        ]
                      },
                      {
                        "learn": [
                          0.4888592824
                        ],
                        "iteration": 147,
                        "passed_time": 16.01621339,
                        "remaining_time": 5.627318217,
                        "test": [
                          0.8299469739,
                          0.6853587349
                        ]
                      },
                      {
                        "learn": [
                          0.4880442803
                        ],
                        "iteration": 148,
                        "passed_time": 16.11768003,
                        "remaining_time": 5.516789808,
                        "test": [
                          0.8299793685,
                          0.6848971375
                        ]
                      },
                      {
                        "learn": [
                          0.4875170835
                        ],
                        "iteration": 149,
                        "passed_time": 16.23275332,
                        "remaining_time": 5.410917773,
                        "test": [
                          0.830331694,
                          0.6842879717
                        ]
                      },
                      {
                        "learn": [
                          0.4851566201
                        ],
                        "iteration": 150,
                        "passed_time": 16.32036326,
                        "remaining_time": 5.296011918,
                        "test": [
                          0.830105473,
                          0.6836421789
                        ]
                      },
                      {
                        "learn": [
                          0.484230839
                        ],
                        "iteration": 151,
                        "passed_time": 16.41061081,
                        "remaining_time": 5.182298149,
                        "test": [
                          0.8306981979,
                          0.6822606433
                        ]
                      },
                      {
                        "learn": [
                          0.4834481655
                        ],
                        "iteration": 152,
                        "passed_time": 16.5285023,
                        "remaining_time": 5.077383059,
                        "test": [
                          0.8308924407,
                          0.6811617223
                        ]
                      },
                      {
                        "learn": [
                          0.4826742719
                        ],
                        "iteration": 153,
                        "passed_time": 16.68220262,
                        "remaining_time": 4.982995587,
                        "test": [
                          0.8313104499,
                          0.6802339303
                        ]
                      },
                      {
                        "learn": [
                          0.4823390866
                        ],
                        "iteration": 154,
                        "passed_time": 16.82226649,
                        "remaining_time": 4.883883819,
                        "test": [
                          0.8314620651,
                          0.6798347444
                        ]
                      },
                      {
                        "learn": [
                          0.4815393527
                        ],
                        "iteration": 155,
                        "passed_time": 16.93047684,
                        "remaining_time": 4.775262699,
                        "test": [
                          0.8318886068,
                          0.6787192114
                        ]
                      },
                      {
                        "learn": [
                          0.4808798623
                        ],
                        "iteration": 156,
                        "passed_time": 17.04480449,
                        "remaining_time": 4.668322249,
                        "test": [
                          0.8322369891,
                          0.6779105921
                        ]
                      },
                      {
                        "learn": [
                          0.4785273251
                        ],
                        "iteration": 157,
                        "passed_time": 17.13687287,
                        "remaining_time": 4.55537127,
                        "test": [
                          0.8319148819,
                          0.6772856208
                        ]
                      },
                      {
                        "learn": [
                          0.4774109692
                        ],
                        "iteration": 158,
                        "passed_time": 17.24345667,
                        "remaining_time": 4.446425933,
                        "test": [
                          0.8325713531,
                          0.6759496876
                        ]
                      },
                      {
                        "learn": [
                          0.4756489607
                        ],
                        "iteration": 159,
                        "passed_time": 17.35634803,
                        "remaining_time": 4.339087008,
                        "test": [
                          0.8321960806,
                          0.6756476493
                        ]
                      },
                      {
                        "learn": [
                          0.4749048919
                        ],
                        "iteration": 160,
                        "passed_time": 17.47855832,
                        "remaining_time": 4.233936486,
                        "test": [
                          0.8325943022,
                          0.6746157308
                        ]
                      },
                      {
                        "learn": [
                          0.4729459028
                        ],
                        "iteration": 161,
                        "passed_time": 17.60667615,
                        "remaining_time": 4.129961073,
                        "test": [
                          0.8325253145,
                          0.6741722451
                        ]
                      },
                      {
                        "learn": [
                          0.4707913582
                        ],
                        "iteration": 162,
                        "passed_time": 17.76247954,
                        "remaining_time": 4.031973883,
                        "test": [
                          0.8321378389,
                          0.6737150916
                        ]
                      },
                      {
                        "learn": [
                          0.4703257682
                        ],
                        "iteration": 163,
                        "passed_time": 17.89928634,
                        "remaining_time": 3.929111636,
                        "test": [
                          0.8324334527,
                          0.6731323306
                        ]
                      },
                      {
                        "learn": [
                          0.4697184015
                        ],
                        "iteration": 164,
                        "passed_time": 18.0049387,
                        "remaining_time": 3.819229421,
                        "test": [
                          0.8326047938,
                          0.6722734945
                        ]
                      },
                      {
                        "learn": [
                          0.4690197549
                        ],
                        "iteration": 165,
                        "passed_time": 18.11562674,
                        "remaining_time": 3.710429574,
                        "test": [
                          0.8331940785,
                          0.6712935034
                        ]
                      },
                      {
                        "learn": [
                          0.4674324988
                        ],
                        "iteration": 166,
                        "passed_time": 18.19991229,
                        "remaining_time": 3.596389854,
                        "test": [
                          0.832830146,
                          0.6710997828
                        ]
                      },
                      {
                        "learn": [
                          0.466782175
                        ],
                        "iteration": 167,
                        "passed_time": 18.29230435,
                        "remaining_time": 3.484248448,
                        "test": [
                          0.8331523421,
                          0.6702593788
                        ]
                      },
                      {
                        "learn": [
                          0.4650135997
                        ],
                        "iteration": 168,
                        "passed_time": 18.40555372,
                        "remaining_time": 3.376166659,
                        "test": [
                          0.8329230439,
                          0.6702009047
                        ]
                      },
                      {
                        "learn": [
                          0.4642121176
                        ],
                        "iteration": 169,
                        "passed_time": 18.51849314,
                        "remaining_time": 3.267969378,
                        "test": [
                          0.8334323177,
                          0.6692920239
                        ]
                      },
                      {
                        "learn": [
                          0.4624938686
                        ],
                        "iteration": 170,
                        "passed_time": 18.62450948,
                        "remaining_time": 3.158542543,
                        "test": [
                          0.8331493233,
                          0.6689348184
                        ]
                      },
                      {
                        "learn": [
                          0.4618700269
                        ],
                        "iteration": 171,
                        "passed_time": 18.7128081,
                        "remaining_time": 3.046271086,
                        "test": [
                          0.8334991566,
                          0.6682052001
                        ]
                      },
                      {
                        "learn": [
                          0.4604629031
                        ],
                        "iteration": 172,
                        "passed_time": 18.86795663,
                        "remaining_time": 2.944709994,
                        "test": [
                          0.8330634138,
                          0.6681691697
                        ]
                      },
                      {
                        "learn": [
                          0.459687364
                        ],
                        "iteration": 173,
                        "passed_time": 18.97773848,
                        "remaining_time": 2.835754026,
                        "test": [
                          0.833344897,
                          0.6672015438
                        ]
                      },
                      {
                        "learn": [
                          0.4590558986
                        ],
                        "iteration": 174,
                        "passed_time": 19.08840239,
                        "remaining_time": 2.726914627,
                        "test": [
                          0.8334748627,
                          0.6663117307
                        ]
                      },
                      {
                        "learn": [
                          0.4584287576
                        ],
                        "iteration": 175,
                        "passed_time": 19.20134282,
                        "remaining_time": 2.618364929,
                        "test": [
                          0.8338174092,
                          0.6654446425
                        ]
                      },
                      {
                        "learn": [
                          0.457814206
                        ],
                        "iteration": 176,
                        "passed_time": 19.29793099,
                        "remaining_time": 2.50764075,
                        "test": [
                          0.8339445537,
                          0.6645762416
                        ]
                      },
                      {
                        "learn": [
                          0.4571329364
                        ],
                        "iteration": 177,
                        "passed_time": 19.40089183,
                        "remaining_time": 2.397863035,
                        "test": [
                          0.8342602819,
                          0.6638171378
                        ]
                      },
                      {
                        "learn": [
                          0.4565814499
                        ],
                        "iteration": 178,
                        "passed_time": 19.5257727,
                        "remaining_time": 2.29073311,
                        "test": [
                          0.8342731431,
                          0.6635501503
                        ]
                      },
                      {
                        "learn": [
                          0.4560802682
                        ],
                        "iteration": 179,
                        "passed_time": 19.6188416,
                        "remaining_time": 2.179871289,
                        "test": [
                          0.8344505646,
                          0.6629869476
                        ]
                      },
                      {
                        "learn": [
                          0.4545082405
                        ],
                        "iteration": 180,
                        "passed_time": 19.7689505,
                        "remaining_time": 2.075193699,
                        "test": [
                          0.8342126974,
                          0.6630218415
                        ]
                      },
                      {
                        "learn": [
                          0.4529599885
                        ],
                        "iteration": 181,
                        "passed_time": 19.92970421,
                        "remaining_time": 1.971069648,
                        "test": [
                          0.8342705401,
                          0.662576992
                        ]
                      },
                      {
                        "learn": [
                          0.4522617469
                        ],
                        "iteration": 182,
                        "passed_time": 20.04705866,
                        "remaining_time": 1.862295067,
                        "test": [
                          0.8347407029,
                          0.6615376799
                        ]
                      },
                      {
                        "learn": [
                          0.450993625
                        ],
                        "iteration": 183,
                        "passed_time": 20.14134654,
                        "remaining_time": 1.751421438,
                        "test": [
                          0.8343345824,
                          0.6616257804
                        ]
                      },
                      {
                        "learn": [
                          0.4491620678
                        ],
                        "iteration": 184,
                        "passed_time": 20.25958253,
                        "remaining_time": 1.642668854,
                        "test": [
                          0.8339371044,
                          0.661494517
                        ]
                      },
                      {
                        "learn": [
                          0.4486862449
                        ],
                        "iteration": 185,
                        "passed_time": 20.36057647,
                        "remaining_time": 1.532516509,
                        "test": [
                          0.8341806994,
                          0.6609001649
                        ]
                      },
                      {
                        "learn": [
                          0.4480804553
                        ],
                        "iteration": 186,
                        "passed_time": 20.44650499,
                        "remaining_time": 1.421414785,
                        "test": [
                          0.834458942,
                          0.6602506306
                        ]
                      },
                      {
                        "learn": [
                          0.4463539227
                        ],
                        "iteration": 187,
                        "passed_time": 20.54296893,
                        "remaining_time": 1.311253336,
                        "test": [
                          0.8342012294,
                          0.659968718
                        ]
                      },
                      {
                        "learn": [
                          0.4461646258
                        ],
                        "iteration": 188,
                        "passed_time": 20.63490789,
                        "remaining_time": 1.200973475,
                        "test": [
                          0.8343007268,
                          0.6597600702
                        ]
                      },
                      {
                        "learn": [
                          0.4459306131
                        ],
                        "iteration": 189,
                        "passed_time": 20.73933255,
                        "remaining_time": 1.091543819,
                        "test": [
                          0.8344206645,
                          0.6595499852
                        ]
                      },
                      {
                        "learn": [
                          0.4446045096
                        ],
                        "iteration": 190,
                        "passed_time": 20.84521653,
                        "remaining_time": 0.9822353338,
                        "test": [
                          0.8341093265,
                          0.6595130323
                        ]
                      },
                      {
                        "learn": [
                          0.4432784778
                        ],
                        "iteration": 191,
                        "passed_time": 20.96361629,
                        "remaining_time": 0.8734840121,
                        "test": [
                          0.8341020032,
                          0.6592675883
                        ]
                      },
                      {
                        "learn": [
                          0.4417079915
                        ],
                        "iteration": 192,
                        "passed_time": 21.10200523,
                        "remaining_time": 0.7653577027,
                        "test": [
                          0.8336696518,
                          0.6593183935
                        ]
                      },
                      {
                        "learn": [
                          0.44124105
                        ],
                        "iteration": 193,
                        "passed_time": 21.20096601,
                        "remaining_time": 0.6556999797,
                        "test": [
                          0.8337813782,
                          0.6586516981
                        ]
                      },
                      {
                        "learn": [
                          0.4408065273
                        ],
                        "iteration": 194,
                        "passed_time": 21.32389392,
                        "remaining_time": 0.5467665107,
                        "test": [
                          0.833911114,
                          0.6580550767
                        ]
                      },
                      {
                        "learn": [
                          0.4405984933
                        ],
                        "iteration": 195,
                        "passed_time": 21.4333092,
                        "remaining_time": 0.4374144735,
                        "test": [
                          0.8340816313,
                          0.6577593971
                        ]
                      },
                      {
                        "learn": [
                          0.4401531638
                        ],
                        "iteration": 196,
                        "passed_time": 21.5221215,
                        "remaining_time": 0.3277480432,
                        "test": [
                          0.8343489591,
                          0.6571196875
                        ]
                      },
                      {
                        "learn": [
                          0.4398824788
                        ],
                        "iteration": 197,
                        "passed_time": 21.62945573,
                        "remaining_time": 0.2184793508,
                        "test": [
                          0.8345483725,
                          0.6568234882
                        ]
                      },
                      {
                        "learn": [
                          0.4383279038
                        ],
                        "iteration": 198,
                        "passed_time": 21.71930549,
                        "remaining_time": 0.1091422386,
                        "test": [
                          0.8341363229,
                          0.6569238082
                        ]
                      },
                      {
                        "learn": [
                          0.4379861479
                        ],
                        "iteration": 199,
                        "passed_time": 21.82362813,
                        "remaining_time": 0,
                        "test": [
                          0.8342768163,
                          0.6565112612
                        ]
                      }
                    ],
                    "meta": {
                      "test_sets": [
                        "test"
                      ],
                      "test_metrics": [
                        {
                          "best_value": "Max",
                          "name": "AUC:type=Mu"
                        },
                        {
                          "best_value": "Min",
                          "name": "MultiClass"
                        }
                      ],
                      "learn_metrics": [
                        {
                          "best_value": "Min",
                          "name": "MultiClass"
                        }
                      ],
                      "launch_mode": "Train",
                      "parameters": "",
                      "iteration_count": 200,
                      "learn_sets": [
                        "learn"
                      ],
                      "name": "experiment"
                    }
                  }
                }
              }
            },
            "layout": "IPY_MODEL_d9f0a93226bd40e7bff0b80cf2ae4273"
          }
        }
      }
    }
  },
  "cells": [
    {
      "cell_type": "code",
      "source": [
        "!pip install catboost"
      ],
      "metadata": {
        "colab": {
          "base_uri": "https://localhost:8080/"
        },
        "id": "q5O1E8D1aTzb",
        "outputId": "640ec378-c5ec-4679-de4a-6bf4294fb3c1"
      },
      "execution_count": null,
      "outputs": [
        {
          "output_type": "stream",
          "name": "stdout",
          "text": [
            "Looking in indexes: https://pypi.org/simple, https://us-python.pkg.dev/colab-wheels/public/simple/\n",
            "Collecting catboost\n",
            "  Downloading catboost-1.1.1-cp38-none-manylinux1_x86_64.whl (76.6 MB)\n",
            "\u001b[2K     \u001b[90m━━━━━━━━━━━━━━━━━━━━━━━━━━━━━━━━━━━━━━━━\u001b[0m \u001b[32m76.6/76.6 MB\u001b[0m \u001b[31m11.3 MB/s\u001b[0m eta \u001b[36m0:00:00\u001b[0m\n",
            "\u001b[?25hRequirement already satisfied: pandas>=0.24.0 in /usr/local/lib/python3.8/dist-packages (from catboost) (1.3.5)\n",
            "Requirement already satisfied: six in /usr/local/lib/python3.8/dist-packages (from catboost) (1.15.0)\n",
            "Requirement already satisfied: plotly in /usr/local/lib/python3.8/dist-packages (from catboost) (5.5.0)\n",
            "Requirement already satisfied: matplotlib in /usr/local/lib/python3.8/dist-packages (from catboost) (3.2.2)\n",
            "Requirement already satisfied: numpy>=1.16.0 in /usr/local/lib/python3.8/dist-packages (from catboost) (1.21.6)\n",
            "Requirement already satisfied: graphviz in /usr/local/lib/python3.8/dist-packages (from catboost) (0.10.1)\n",
            "Requirement already satisfied: scipy in /usr/local/lib/python3.8/dist-packages (from catboost) (1.7.3)\n",
            "Requirement already satisfied: python-dateutil>=2.7.3 in /usr/local/lib/python3.8/dist-packages (from pandas>=0.24.0->catboost) (2.8.2)\n",
            "Requirement already satisfied: pytz>=2017.3 in /usr/local/lib/python3.8/dist-packages (from pandas>=0.24.0->catboost) (2022.7)\n",
            "Requirement already satisfied: pyparsing!=2.0.4,!=2.1.2,!=2.1.6,>=2.0.1 in /usr/local/lib/python3.8/dist-packages (from matplotlib->catboost) (3.0.9)\n",
            "Requirement already satisfied: cycler>=0.10 in /usr/local/lib/python3.8/dist-packages (from matplotlib->catboost) (0.11.0)\n",
            "Requirement already satisfied: kiwisolver>=1.0.1 in /usr/local/lib/python3.8/dist-packages (from matplotlib->catboost) (1.4.4)\n",
            "Requirement already satisfied: tenacity>=6.2.0 in /usr/local/lib/python3.8/dist-packages (from plotly->catboost) (8.1.0)\n",
            "Installing collected packages: catboost\n",
            "Successfully installed catboost-1.1.1\n"
          ]
        }
      ]
    },
    {
      "cell_type": "code",
      "execution_count": null,
      "metadata": {
        "id": "lshSimylvWft"
      },
      "outputs": [],
      "source": [
        "import pandas as pd\n",
        "import numpy as np\n",
        "import seaborn as sns\n",
        "import matplotlib.pyplot as plt\n",
        "from sklearn.model_selection import train_test_split\n",
        "from sklearn.linear_model import LogisticRegression\n",
        "from sklearn.model_selection import cross_val_score, GridSearchCV, RandomizedSearchCV\n",
        "from sklearn.metrics import roc_curve, roc_auc_score\n",
        "from sklearn import metrics\n",
        "from catboost import CatBoostClassifier\n",
        "from xgboost import XGBClassifier\n",
        "from sklearn.metrics import classification_report\n",
        "from sklearn.pipeline import Pipeline\n",
        "from sklearn.preprocessing import StandardScaler\n",
        "from sklearn.ensemble import RandomForestClassifier"
      ]
    },
    {
      "cell_type": "code",
      "source": [
        "def eval_metrics(y_val, predictions, probs, ave = 'micro'):\n",
        "    from sklearn import metrics\n",
        "    \n",
        "    f1 = round(metrics.f1_score(y_val, predictions,average=ave), 3)\n",
        "    precision = round(metrics.precision_score(y_val, predictions,average=ave), 3)\n",
        "    recal = round(metrics.recall_score(y_val, predictions,average=ave), 3)\n",
        "    roc_auc = round(metrics.roc_auc_score(y_val, probs, multi_class='ovo'), 3)\n",
        "  \n",
        "    return f1, precision, recal, roc_auc"
      ],
      "metadata": {
        "id": "ZDcELcqrcjKu"
      },
      "execution_count": null,
      "outputs": []
    },
    {
      "cell_type": "markdown",
      "source": [
        "# Load Data"
      ],
      "metadata": {
        "id": "j3DI-BlxxMdV"
      }
    },
    {
      "cell_type": "code",
      "source": [
        "df_test = pd.read_csv('702ddfc5-68cd-4d1d-a0de-f5f566f76d91.csv')\n",
        "df_train_val = pd.read_csv('4910797b-ee55-40a7-8668-10efd5c1b960.csv')\n",
        "df_train_lab = pd.read_csv('0bf8bc6e-30d0-4c50-956a-603fc693d966.csv')"
      ],
      "metadata": {
        "id": "8b7iCWESwRRv"
      },
      "execution_count": null,
      "outputs": []
    },
    {
      "cell_type": "code",
      "source": [
        "df_test.shape"
      ],
      "metadata": {
        "colab": {
          "base_uri": "https://localhost:8080/"
        },
        "id": "cwZGUVLHyCkV",
        "outputId": "1e81aeec-4aee-437b-fdbc-7657a1469d2c"
      },
      "execution_count": null,
      "outputs": [
        {
          "output_type": "execute_result",
          "data": {
            "text/plain": [
              "(14850, 40)"
            ]
          },
          "metadata": {},
          "execution_count": 5
        }
      ]
    },
    {
      "cell_type": "code",
      "source": [
        "df_train_val.shape"
      ],
      "metadata": {
        "colab": {
          "base_uri": "https://localhost:8080/"
        },
        "id": "znmn43C8yCcZ",
        "outputId": "98840e7f-5ed7-4e90-d960-b3a3537d773c"
      },
      "execution_count": null,
      "outputs": [
        {
          "output_type": "execute_result",
          "data": {
            "text/plain": [
              "(37224, 40)"
            ]
          },
          "metadata": {},
          "execution_count": 6
        }
      ]
    },
    {
      "cell_type": "code",
      "source": [
        "df_train_lab.shape"
      ],
      "metadata": {
        "colab": {
          "base_uri": "https://localhost:8080/"
        },
        "id": "pF4hIS7eyCQo",
        "outputId": "75e21f9d-93f1-4ac6-bfe5-e6937a852f45"
      },
      "execution_count": null,
      "outputs": [
        {
          "output_type": "execute_result",
          "data": {
            "text/plain": [
              "(59400, 2)"
            ]
          },
          "metadata": {},
          "execution_count": 7
        }
      ]
    },
    {
      "cell_type": "code",
      "source": [
        "df_train_val.head()"
      ],
      "metadata": {
        "colab": {
          "base_uri": "https://localhost:8080/",
          "height": 404
        },
        "id": "aK6jJBxTwrte",
        "outputId": "235e676e-9839-40a2-807e-1cd13df1610b"
      },
      "execution_count": null,
      "outputs": [
        {
          "output_type": "execute_result",
          "data": {
            "text/plain": [
              "      id  amount_tsh date_recorded        funder  gps_height     installer  \\\n",
              "0  69572      6000.0    2011-03-14         Roman        1390         Roman   \n",
              "1   8776         0.0    2013-03-06       Grumeti        1399       GRUMETI   \n",
              "2  34310        25.0    2013-02-25  Lottery Club         686  World vision   \n",
              "3  67743         0.0    2013-01-28        Unicef         263        UNICEF   \n",
              "4  19728         0.0    2011-07-13   Action In A           0       Artisan   \n",
              "\n",
              "   longitude   latitude              wpt_name  num_private  ... payment_type  \\\n",
              "0  34.938093  -9.856322                  none            0  ...     annually   \n",
              "1  34.698766  -2.147466              Zahanati            0  ...    never pay   \n",
              "2  37.460664  -3.821329           Kwa Mahundi            0  ...   per bucket   \n",
              "3  38.486161 -11.155298  Zahanati Ya Nanyumbu            0  ...    never pay   \n",
              "4  31.130847  -1.825359               Shuleni            0  ...    never pay   \n",
              "\n",
              "  water_quality quality_group      quantity  quantity_group  \\\n",
              "0          soft          good        enough          enough   \n",
              "1          soft          good  insufficient    insufficient   \n",
              "2          soft          good        enough          enough   \n",
              "3          soft          good           dry             dry   \n",
              "4          soft          good      seasonal        seasonal   \n",
              "\n",
              "                 source           source_type  source_class  \\\n",
              "0                spring                spring   groundwater   \n",
              "1  rainwater harvesting  rainwater harvesting       surface   \n",
              "2                   dam                   dam       surface   \n",
              "3           machine dbh              borehole   groundwater   \n",
              "4  rainwater harvesting  rainwater harvesting       surface   \n",
              "\n",
              "               waterpoint_type waterpoint_type_group  \n",
              "0           communal standpipe    communal standpipe  \n",
              "1           communal standpipe    communal standpipe  \n",
              "2  communal standpipe multiple    communal standpipe  \n",
              "3  communal standpipe multiple    communal standpipe  \n",
              "4           communal standpipe    communal standpipe  \n",
              "\n",
              "[5 rows x 40 columns]"
            ],
            "text/html": [
              "\n",
              "  <div id=\"df-929a7161-f9b4-454d-a3ae-6a177c0ce929\">\n",
              "    <div class=\"colab-df-container\">\n",
              "      <div>\n",
              "<style scoped>\n",
              "    .dataframe tbody tr th:only-of-type {\n",
              "        vertical-align: middle;\n",
              "    }\n",
              "\n",
              "    .dataframe tbody tr th {\n",
              "        vertical-align: top;\n",
              "    }\n",
              "\n",
              "    .dataframe thead th {\n",
              "        text-align: right;\n",
              "    }\n",
              "</style>\n",
              "<table border=\"1\" class=\"dataframe\">\n",
              "  <thead>\n",
              "    <tr style=\"text-align: right;\">\n",
              "      <th></th>\n",
              "      <th>id</th>\n",
              "      <th>amount_tsh</th>\n",
              "      <th>date_recorded</th>\n",
              "      <th>funder</th>\n",
              "      <th>gps_height</th>\n",
              "      <th>installer</th>\n",
              "      <th>longitude</th>\n",
              "      <th>latitude</th>\n",
              "      <th>wpt_name</th>\n",
              "      <th>num_private</th>\n",
              "      <th>...</th>\n",
              "      <th>payment_type</th>\n",
              "      <th>water_quality</th>\n",
              "      <th>quality_group</th>\n",
              "      <th>quantity</th>\n",
              "      <th>quantity_group</th>\n",
              "      <th>source</th>\n",
              "      <th>source_type</th>\n",
              "      <th>source_class</th>\n",
              "      <th>waterpoint_type</th>\n",
              "      <th>waterpoint_type_group</th>\n",
              "    </tr>\n",
              "  </thead>\n",
              "  <tbody>\n",
              "    <tr>\n",
              "      <th>0</th>\n",
              "      <td>69572</td>\n",
              "      <td>6000.0</td>\n",
              "      <td>2011-03-14</td>\n",
              "      <td>Roman</td>\n",
              "      <td>1390</td>\n",
              "      <td>Roman</td>\n",
              "      <td>34.938093</td>\n",
              "      <td>-9.856322</td>\n",
              "      <td>none</td>\n",
              "      <td>0</td>\n",
              "      <td>...</td>\n",
              "      <td>annually</td>\n",
              "      <td>soft</td>\n",
              "      <td>good</td>\n",
              "      <td>enough</td>\n",
              "      <td>enough</td>\n",
              "      <td>spring</td>\n",
              "      <td>spring</td>\n",
              "      <td>groundwater</td>\n",
              "      <td>communal standpipe</td>\n",
              "      <td>communal standpipe</td>\n",
              "    </tr>\n",
              "    <tr>\n",
              "      <th>1</th>\n",
              "      <td>8776</td>\n",
              "      <td>0.0</td>\n",
              "      <td>2013-03-06</td>\n",
              "      <td>Grumeti</td>\n",
              "      <td>1399</td>\n",
              "      <td>GRUMETI</td>\n",
              "      <td>34.698766</td>\n",
              "      <td>-2.147466</td>\n",
              "      <td>Zahanati</td>\n",
              "      <td>0</td>\n",
              "      <td>...</td>\n",
              "      <td>never pay</td>\n",
              "      <td>soft</td>\n",
              "      <td>good</td>\n",
              "      <td>insufficient</td>\n",
              "      <td>insufficient</td>\n",
              "      <td>rainwater harvesting</td>\n",
              "      <td>rainwater harvesting</td>\n",
              "      <td>surface</td>\n",
              "      <td>communal standpipe</td>\n",
              "      <td>communal standpipe</td>\n",
              "    </tr>\n",
              "    <tr>\n",
              "      <th>2</th>\n",
              "      <td>34310</td>\n",
              "      <td>25.0</td>\n",
              "      <td>2013-02-25</td>\n",
              "      <td>Lottery Club</td>\n",
              "      <td>686</td>\n",
              "      <td>World vision</td>\n",
              "      <td>37.460664</td>\n",
              "      <td>-3.821329</td>\n",
              "      <td>Kwa Mahundi</td>\n",
              "      <td>0</td>\n",
              "      <td>...</td>\n",
              "      <td>per bucket</td>\n",
              "      <td>soft</td>\n",
              "      <td>good</td>\n",
              "      <td>enough</td>\n",
              "      <td>enough</td>\n",
              "      <td>dam</td>\n",
              "      <td>dam</td>\n",
              "      <td>surface</td>\n",
              "      <td>communal standpipe multiple</td>\n",
              "      <td>communal standpipe</td>\n",
              "    </tr>\n",
              "    <tr>\n",
              "      <th>3</th>\n",
              "      <td>67743</td>\n",
              "      <td>0.0</td>\n",
              "      <td>2013-01-28</td>\n",
              "      <td>Unicef</td>\n",
              "      <td>263</td>\n",
              "      <td>UNICEF</td>\n",
              "      <td>38.486161</td>\n",
              "      <td>-11.155298</td>\n",
              "      <td>Zahanati Ya Nanyumbu</td>\n",
              "      <td>0</td>\n",
              "      <td>...</td>\n",
              "      <td>never pay</td>\n",
              "      <td>soft</td>\n",
              "      <td>good</td>\n",
              "      <td>dry</td>\n",
              "      <td>dry</td>\n",
              "      <td>machine dbh</td>\n",
              "      <td>borehole</td>\n",
              "      <td>groundwater</td>\n",
              "      <td>communal standpipe multiple</td>\n",
              "      <td>communal standpipe</td>\n",
              "    </tr>\n",
              "    <tr>\n",
              "      <th>4</th>\n",
              "      <td>19728</td>\n",
              "      <td>0.0</td>\n",
              "      <td>2011-07-13</td>\n",
              "      <td>Action In A</td>\n",
              "      <td>0</td>\n",
              "      <td>Artisan</td>\n",
              "      <td>31.130847</td>\n",
              "      <td>-1.825359</td>\n",
              "      <td>Shuleni</td>\n",
              "      <td>0</td>\n",
              "      <td>...</td>\n",
              "      <td>never pay</td>\n",
              "      <td>soft</td>\n",
              "      <td>good</td>\n",
              "      <td>seasonal</td>\n",
              "      <td>seasonal</td>\n",
              "      <td>rainwater harvesting</td>\n",
              "      <td>rainwater harvesting</td>\n",
              "      <td>surface</td>\n",
              "      <td>communal standpipe</td>\n",
              "      <td>communal standpipe</td>\n",
              "    </tr>\n",
              "  </tbody>\n",
              "</table>\n",
              "<p>5 rows × 40 columns</p>\n",
              "</div>\n",
              "      <button class=\"colab-df-convert\" onclick=\"convertToInteractive('df-929a7161-f9b4-454d-a3ae-6a177c0ce929')\"\n",
              "              title=\"Convert this dataframe to an interactive table.\"\n",
              "              style=\"display:none;\">\n",
              "        \n",
              "  <svg xmlns=\"http://www.w3.org/2000/svg\" height=\"24px\"viewBox=\"0 0 24 24\"\n",
              "       width=\"24px\">\n",
              "    <path d=\"M0 0h24v24H0V0z\" fill=\"none\"/>\n",
              "    <path d=\"M18.56 5.44l.94 2.06.94-2.06 2.06-.94-2.06-.94-.94-2.06-.94 2.06-2.06.94zm-11 1L8.5 8.5l.94-2.06 2.06-.94-2.06-.94L8.5 2.5l-.94 2.06-2.06.94zm10 10l.94 2.06.94-2.06 2.06-.94-2.06-.94-.94-2.06-.94 2.06-2.06.94z\"/><path d=\"M17.41 7.96l-1.37-1.37c-.4-.4-.92-.59-1.43-.59-.52 0-1.04.2-1.43.59L10.3 9.45l-7.72 7.72c-.78.78-.78 2.05 0 2.83L4 21.41c.39.39.9.59 1.41.59.51 0 1.02-.2 1.41-.59l7.78-7.78 2.81-2.81c.8-.78.8-2.07 0-2.86zM5.41 20L4 18.59l7.72-7.72 1.47 1.35L5.41 20z\"/>\n",
              "  </svg>\n",
              "      </button>\n",
              "      \n",
              "  <style>\n",
              "    .colab-df-container {\n",
              "      display:flex;\n",
              "      flex-wrap:wrap;\n",
              "      gap: 12px;\n",
              "    }\n",
              "\n",
              "    .colab-df-convert {\n",
              "      background-color: #E8F0FE;\n",
              "      border: none;\n",
              "      border-radius: 50%;\n",
              "      cursor: pointer;\n",
              "      display: none;\n",
              "      fill: #1967D2;\n",
              "      height: 32px;\n",
              "      padding: 0 0 0 0;\n",
              "      width: 32px;\n",
              "    }\n",
              "\n",
              "    .colab-df-convert:hover {\n",
              "      background-color: #E2EBFA;\n",
              "      box-shadow: 0px 1px 2px rgba(60, 64, 67, 0.3), 0px 1px 3px 1px rgba(60, 64, 67, 0.15);\n",
              "      fill: #174EA6;\n",
              "    }\n",
              "\n",
              "    [theme=dark] .colab-df-convert {\n",
              "      background-color: #3B4455;\n",
              "      fill: #D2E3FC;\n",
              "    }\n",
              "\n",
              "    [theme=dark] .colab-df-convert:hover {\n",
              "      background-color: #434B5C;\n",
              "      box-shadow: 0px 1px 3px 1px rgba(0, 0, 0, 0.15);\n",
              "      filter: drop-shadow(0px 1px 2px rgba(0, 0, 0, 0.3));\n",
              "      fill: #FFFFFF;\n",
              "    }\n",
              "  </style>\n",
              "\n",
              "      <script>\n",
              "        const buttonEl =\n",
              "          document.querySelector('#df-929a7161-f9b4-454d-a3ae-6a177c0ce929 button.colab-df-convert');\n",
              "        buttonEl.style.display =\n",
              "          google.colab.kernel.accessAllowed ? 'block' : 'none';\n",
              "\n",
              "        async function convertToInteractive(key) {\n",
              "          const element = document.querySelector('#df-929a7161-f9b4-454d-a3ae-6a177c0ce929');\n",
              "          const dataTable =\n",
              "            await google.colab.kernel.invokeFunction('convertToInteractive',\n",
              "                                                     [key], {});\n",
              "          if (!dataTable) return;\n",
              "\n",
              "          const docLinkHtml = 'Like what you see? Visit the ' +\n",
              "            '<a target=\"_blank\" href=https://colab.research.google.com/notebooks/data_table.ipynb>data table notebook</a>'\n",
              "            + ' to learn more about interactive tables.';\n",
              "          element.innerHTML = '';\n",
              "          dataTable['output_type'] = 'display_data';\n",
              "          await google.colab.output.renderOutput(dataTable, element);\n",
              "          const docLink = document.createElement('div');\n",
              "          docLink.innerHTML = docLinkHtml;\n",
              "          element.appendChild(docLink);\n",
              "        }\n",
              "      </script>\n",
              "    </div>\n",
              "  </div>\n",
              "  "
            ]
          },
          "metadata": {},
          "execution_count": 8
        }
      ]
    },
    {
      "cell_type": "code",
      "source": [
        "df_train_val.info()"
      ],
      "metadata": {
        "colab": {
          "base_uri": "https://localhost:8080/"
        },
        "id": "4e8o-E2ww3dk",
        "outputId": "c7d7572c-18e9-4f4d-f58f-c2f1808281f1"
      },
      "execution_count": null,
      "outputs": [
        {
          "output_type": "stream",
          "name": "stdout",
          "text": [
            "<class 'pandas.core.frame.DataFrame'>\n",
            "RangeIndex: 37224 entries, 0 to 37223\n",
            "Data columns (total 40 columns):\n",
            " #   Column                 Non-Null Count  Dtype  \n",
            "---  ------                 --------------  -----  \n",
            " 0   id                     37224 non-null  int64  \n",
            " 1   amount_tsh             37224 non-null  float64\n",
            " 2   date_recorded          37224 non-null  object \n",
            " 3   funder                 34982 non-null  object \n",
            " 4   gps_height             37224 non-null  int64  \n",
            " 5   installer              34964 non-null  object \n",
            " 6   longitude              37224 non-null  float64\n",
            " 7   latitude               37224 non-null  float64\n",
            " 8   wpt_name               37224 non-null  object \n",
            " 9   num_private            37224 non-null  int64  \n",
            " 10  basin                  37224 non-null  object \n",
            " 11  subvillage             36993 non-null  object \n",
            " 12  region                 37224 non-null  object \n",
            " 13  region_code            37224 non-null  int64  \n",
            " 14  district_code          37224 non-null  int64  \n",
            " 15  lga                    37224 non-null  object \n",
            " 16  ward                   37224 non-null  object \n",
            " 17  population             37224 non-null  int64  \n",
            " 18  public_meeting         35127 non-null  object \n",
            " 19  recorded_by            37223 non-null  object \n",
            " 20  scheme_management      34760 non-null  object \n",
            " 21  scheme_name            19554 non-null  object \n",
            " 22  permit                 35324 non-null  object \n",
            " 23  construction_year      37223 non-null  float64\n",
            " 24  extraction_type        37223 non-null  object \n",
            " 25  extraction_type_group  37223 non-null  object \n",
            " 26  extraction_type_class  37223 non-null  object \n",
            " 27  management             37223 non-null  object \n",
            " 28  management_group       37223 non-null  object \n",
            " 29  payment                37223 non-null  object \n",
            " 30  payment_type           37223 non-null  object \n",
            " 31  water_quality          37223 non-null  object \n",
            " 32  quality_group          37223 non-null  object \n",
            " 33  quantity               37223 non-null  object \n",
            " 34  quantity_group         37223 non-null  object \n",
            " 35  source                 37223 non-null  object \n",
            " 36  source_type            37223 non-null  object \n",
            " 37  source_class           37223 non-null  object \n",
            " 38  waterpoint_type        37223 non-null  object \n",
            " 39  waterpoint_type_group  37223 non-null  object \n",
            "dtypes: float64(4), int64(6), object(30)\n",
            "memory usage: 11.4+ MB\n"
          ]
        }
      ]
    },
    {
      "cell_type": "code",
      "source": [
        "df_train_val.describe()"
      ],
      "metadata": {
        "colab": {
          "base_uri": "https://localhost:8080/",
          "height": 300
        },
        "id": "VuE0kPehxSdm",
        "outputId": "d4ffce02-f355-46c7-dfda-5ca88d96927a"
      },
      "execution_count": null,
      "outputs": [
        {
          "output_type": "execute_result",
          "data": {
            "text/plain": [
              "                 id     amount_tsh    gps_height     longitude      latitude  \\\n",
              "count  37224.000000   37224.000000  37224.000000  37224.000000  3.722400e+04   \n",
              "mean   37066.944122     312.066935    666.116565     34.098386 -5.702236e+00   \n",
              "std    21544.968246    3174.077810    692.087430      6.534649  2.944953e+00   \n",
              "min        0.000000       0.000000    -63.000000      0.000000 -1.158630e+01   \n",
              "25%    18349.500000       0.000000      0.000000     33.097538 -8.542278e+00   \n",
              "50%    37014.000000       0.000000    367.000000     34.910989 -5.011919e+00   \n",
              "75%    55811.000000      20.000000   1317.250000     37.194164 -3.323050e+00   \n",
              "max    74246.000000  350000.000000   2770.000000     40.345193 -2.000000e-08   \n",
              "\n",
              "        num_private   region_code  district_code    population  \\\n",
              "count  37224.000000  37224.000000   37224.000000  37224.000000   \n",
              "mean       0.446191     15.337820       5.625215    180.843407   \n",
              "std       12.100500     17.714636       9.619470    489.746674   \n",
              "min        0.000000      1.000000       0.000000      0.000000   \n",
              "25%        0.000000      5.000000       2.000000      0.000000   \n",
              "50%        0.000000     12.000000       3.000000     25.000000   \n",
              "75%        0.000000     17.000000       5.000000    210.000000   \n",
              "max     1776.000000     99.000000      80.000000  30500.000000   \n",
              "\n",
              "       construction_year  \n",
              "count       37223.000000  \n",
              "mean         1297.698600  \n",
              "std           952.538985  \n",
              "min             0.000000  \n",
              "25%             0.000000  \n",
              "50%          1985.000000  \n",
              "75%          2004.000000  \n",
              "max          2013.000000  "
            ],
            "text/html": [
              "\n",
              "  <div id=\"df-82e9390a-7272-45b6-93b4-4108061d8dd4\">\n",
              "    <div class=\"colab-df-container\">\n",
              "      <div>\n",
              "<style scoped>\n",
              "    .dataframe tbody tr th:only-of-type {\n",
              "        vertical-align: middle;\n",
              "    }\n",
              "\n",
              "    .dataframe tbody tr th {\n",
              "        vertical-align: top;\n",
              "    }\n",
              "\n",
              "    .dataframe thead th {\n",
              "        text-align: right;\n",
              "    }\n",
              "</style>\n",
              "<table border=\"1\" class=\"dataframe\">\n",
              "  <thead>\n",
              "    <tr style=\"text-align: right;\">\n",
              "      <th></th>\n",
              "      <th>id</th>\n",
              "      <th>amount_tsh</th>\n",
              "      <th>gps_height</th>\n",
              "      <th>longitude</th>\n",
              "      <th>latitude</th>\n",
              "      <th>num_private</th>\n",
              "      <th>region_code</th>\n",
              "      <th>district_code</th>\n",
              "      <th>population</th>\n",
              "      <th>construction_year</th>\n",
              "    </tr>\n",
              "  </thead>\n",
              "  <tbody>\n",
              "    <tr>\n",
              "      <th>count</th>\n",
              "      <td>37224.000000</td>\n",
              "      <td>37224.000000</td>\n",
              "      <td>37224.000000</td>\n",
              "      <td>37224.000000</td>\n",
              "      <td>3.722400e+04</td>\n",
              "      <td>37224.000000</td>\n",
              "      <td>37224.000000</td>\n",
              "      <td>37224.000000</td>\n",
              "      <td>37224.000000</td>\n",
              "      <td>37223.000000</td>\n",
              "    </tr>\n",
              "    <tr>\n",
              "      <th>mean</th>\n",
              "      <td>37066.944122</td>\n",
              "      <td>312.066935</td>\n",
              "      <td>666.116565</td>\n",
              "      <td>34.098386</td>\n",
              "      <td>-5.702236e+00</td>\n",
              "      <td>0.446191</td>\n",
              "      <td>15.337820</td>\n",
              "      <td>5.625215</td>\n",
              "      <td>180.843407</td>\n",
              "      <td>1297.698600</td>\n",
              "    </tr>\n",
              "    <tr>\n",
              "      <th>std</th>\n",
              "      <td>21544.968246</td>\n",
              "      <td>3174.077810</td>\n",
              "      <td>692.087430</td>\n",
              "      <td>6.534649</td>\n",
              "      <td>2.944953e+00</td>\n",
              "      <td>12.100500</td>\n",
              "      <td>17.714636</td>\n",
              "      <td>9.619470</td>\n",
              "      <td>489.746674</td>\n",
              "      <td>952.538985</td>\n",
              "    </tr>\n",
              "    <tr>\n",
              "      <th>min</th>\n",
              "      <td>0.000000</td>\n",
              "      <td>0.000000</td>\n",
              "      <td>-63.000000</td>\n",
              "      <td>0.000000</td>\n",
              "      <td>-1.158630e+01</td>\n",
              "      <td>0.000000</td>\n",
              "      <td>1.000000</td>\n",
              "      <td>0.000000</td>\n",
              "      <td>0.000000</td>\n",
              "      <td>0.000000</td>\n",
              "    </tr>\n",
              "    <tr>\n",
              "      <th>25%</th>\n",
              "      <td>18349.500000</td>\n",
              "      <td>0.000000</td>\n",
              "      <td>0.000000</td>\n",
              "      <td>33.097538</td>\n",
              "      <td>-8.542278e+00</td>\n",
              "      <td>0.000000</td>\n",
              "      <td>5.000000</td>\n",
              "      <td>2.000000</td>\n",
              "      <td>0.000000</td>\n",
              "      <td>0.000000</td>\n",
              "    </tr>\n",
              "    <tr>\n",
              "      <th>50%</th>\n",
              "      <td>37014.000000</td>\n",
              "      <td>0.000000</td>\n",
              "      <td>367.000000</td>\n",
              "      <td>34.910989</td>\n",
              "      <td>-5.011919e+00</td>\n",
              "      <td>0.000000</td>\n",
              "      <td>12.000000</td>\n",
              "      <td>3.000000</td>\n",
              "      <td>25.000000</td>\n",
              "      <td>1985.000000</td>\n",
              "    </tr>\n",
              "    <tr>\n",
              "      <th>75%</th>\n",
              "      <td>55811.000000</td>\n",
              "      <td>20.000000</td>\n",
              "      <td>1317.250000</td>\n",
              "      <td>37.194164</td>\n",
              "      <td>-3.323050e+00</td>\n",
              "      <td>0.000000</td>\n",
              "      <td>17.000000</td>\n",
              "      <td>5.000000</td>\n",
              "      <td>210.000000</td>\n",
              "      <td>2004.000000</td>\n",
              "    </tr>\n",
              "    <tr>\n",
              "      <th>max</th>\n",
              "      <td>74246.000000</td>\n",
              "      <td>350000.000000</td>\n",
              "      <td>2770.000000</td>\n",
              "      <td>40.345193</td>\n",
              "      <td>-2.000000e-08</td>\n",
              "      <td>1776.000000</td>\n",
              "      <td>99.000000</td>\n",
              "      <td>80.000000</td>\n",
              "      <td>30500.000000</td>\n",
              "      <td>2013.000000</td>\n",
              "    </tr>\n",
              "  </tbody>\n",
              "</table>\n",
              "</div>\n",
              "      <button class=\"colab-df-convert\" onclick=\"convertToInteractive('df-82e9390a-7272-45b6-93b4-4108061d8dd4')\"\n",
              "              title=\"Convert this dataframe to an interactive table.\"\n",
              "              style=\"display:none;\">\n",
              "        \n",
              "  <svg xmlns=\"http://www.w3.org/2000/svg\" height=\"24px\"viewBox=\"0 0 24 24\"\n",
              "       width=\"24px\">\n",
              "    <path d=\"M0 0h24v24H0V0z\" fill=\"none\"/>\n",
              "    <path d=\"M18.56 5.44l.94 2.06.94-2.06 2.06-.94-2.06-.94-.94-2.06-.94 2.06-2.06.94zm-11 1L8.5 8.5l.94-2.06 2.06-.94-2.06-.94L8.5 2.5l-.94 2.06-2.06.94zm10 10l.94 2.06.94-2.06 2.06-.94-2.06-.94-.94-2.06-.94 2.06-2.06.94z\"/><path d=\"M17.41 7.96l-1.37-1.37c-.4-.4-.92-.59-1.43-.59-.52 0-1.04.2-1.43.59L10.3 9.45l-7.72 7.72c-.78.78-.78 2.05 0 2.83L4 21.41c.39.39.9.59 1.41.59.51 0 1.02-.2 1.41-.59l7.78-7.78 2.81-2.81c.8-.78.8-2.07 0-2.86zM5.41 20L4 18.59l7.72-7.72 1.47 1.35L5.41 20z\"/>\n",
              "  </svg>\n",
              "      </button>\n",
              "      \n",
              "  <style>\n",
              "    .colab-df-container {\n",
              "      display:flex;\n",
              "      flex-wrap:wrap;\n",
              "      gap: 12px;\n",
              "    }\n",
              "\n",
              "    .colab-df-convert {\n",
              "      background-color: #E8F0FE;\n",
              "      border: none;\n",
              "      border-radius: 50%;\n",
              "      cursor: pointer;\n",
              "      display: none;\n",
              "      fill: #1967D2;\n",
              "      height: 32px;\n",
              "      padding: 0 0 0 0;\n",
              "      width: 32px;\n",
              "    }\n",
              "\n",
              "    .colab-df-convert:hover {\n",
              "      background-color: #E2EBFA;\n",
              "      box-shadow: 0px 1px 2px rgba(60, 64, 67, 0.3), 0px 1px 3px 1px rgba(60, 64, 67, 0.15);\n",
              "      fill: #174EA6;\n",
              "    }\n",
              "\n",
              "    [theme=dark] .colab-df-convert {\n",
              "      background-color: #3B4455;\n",
              "      fill: #D2E3FC;\n",
              "    }\n",
              "\n",
              "    [theme=dark] .colab-df-convert:hover {\n",
              "      background-color: #434B5C;\n",
              "      box-shadow: 0px 1px 3px 1px rgba(0, 0, 0, 0.15);\n",
              "      filter: drop-shadow(0px 1px 2px rgba(0, 0, 0, 0.3));\n",
              "      fill: #FFFFFF;\n",
              "    }\n",
              "  </style>\n",
              "\n",
              "      <script>\n",
              "        const buttonEl =\n",
              "          document.querySelector('#df-82e9390a-7272-45b6-93b4-4108061d8dd4 button.colab-df-convert');\n",
              "        buttonEl.style.display =\n",
              "          google.colab.kernel.accessAllowed ? 'block' : 'none';\n",
              "\n",
              "        async function convertToInteractive(key) {\n",
              "          const element = document.querySelector('#df-82e9390a-7272-45b6-93b4-4108061d8dd4');\n",
              "          const dataTable =\n",
              "            await google.colab.kernel.invokeFunction('convertToInteractive',\n",
              "                                                     [key], {});\n",
              "          if (!dataTable) return;\n",
              "\n",
              "          const docLinkHtml = 'Like what you see? Visit the ' +\n",
              "            '<a target=\"_blank\" href=https://colab.research.google.com/notebooks/data_table.ipynb>data table notebook</a>'\n",
              "            + ' to learn more about interactive tables.';\n",
              "          element.innerHTML = '';\n",
              "          dataTable['output_type'] = 'display_data';\n",
              "          await google.colab.output.renderOutput(dataTable, element);\n",
              "          const docLink = document.createElement('div');\n",
              "          docLink.innerHTML = docLinkHtml;\n",
              "          element.appendChild(docLink);\n",
              "        }\n",
              "      </script>\n",
              "    </div>\n",
              "  </div>\n",
              "  "
            ]
          },
          "metadata": {},
          "execution_count": 10
        }
      ]
    },
    {
      "cell_type": "code",
      "source": [
        "df_train_lab.head()"
      ],
      "metadata": {
        "colab": {
          "base_uri": "https://localhost:8080/",
          "height": 206
        },
        "id": "CbcVdwjgbBJ8",
        "outputId": "f5435ed9-7ff2-4c73-ca52-e815937fff91"
      },
      "execution_count": null,
      "outputs": [
        {
          "output_type": "execute_result",
          "data": {
            "text/plain": [
              "      id    status_group\n",
              "0  69572      functional\n",
              "1   8776      functional\n",
              "2  34310      functional\n",
              "3  67743  non functional\n",
              "4  19728      functional"
            ],
            "text/html": [
              "\n",
              "  <div id=\"df-7e833c97-efb8-4f3d-8253-e5e09a9efc7a\">\n",
              "    <div class=\"colab-df-container\">\n",
              "      <div>\n",
              "<style scoped>\n",
              "    .dataframe tbody tr th:only-of-type {\n",
              "        vertical-align: middle;\n",
              "    }\n",
              "\n",
              "    .dataframe tbody tr th {\n",
              "        vertical-align: top;\n",
              "    }\n",
              "\n",
              "    .dataframe thead th {\n",
              "        text-align: right;\n",
              "    }\n",
              "</style>\n",
              "<table border=\"1\" class=\"dataframe\">\n",
              "  <thead>\n",
              "    <tr style=\"text-align: right;\">\n",
              "      <th></th>\n",
              "      <th>id</th>\n",
              "      <th>status_group</th>\n",
              "    </tr>\n",
              "  </thead>\n",
              "  <tbody>\n",
              "    <tr>\n",
              "      <th>0</th>\n",
              "      <td>69572</td>\n",
              "      <td>functional</td>\n",
              "    </tr>\n",
              "    <tr>\n",
              "      <th>1</th>\n",
              "      <td>8776</td>\n",
              "      <td>functional</td>\n",
              "    </tr>\n",
              "    <tr>\n",
              "      <th>2</th>\n",
              "      <td>34310</td>\n",
              "      <td>functional</td>\n",
              "    </tr>\n",
              "    <tr>\n",
              "      <th>3</th>\n",
              "      <td>67743</td>\n",
              "      <td>non functional</td>\n",
              "    </tr>\n",
              "    <tr>\n",
              "      <th>4</th>\n",
              "      <td>19728</td>\n",
              "      <td>functional</td>\n",
              "    </tr>\n",
              "  </tbody>\n",
              "</table>\n",
              "</div>\n",
              "      <button class=\"colab-df-convert\" onclick=\"convertToInteractive('df-7e833c97-efb8-4f3d-8253-e5e09a9efc7a')\"\n",
              "              title=\"Convert this dataframe to an interactive table.\"\n",
              "              style=\"display:none;\">\n",
              "        \n",
              "  <svg xmlns=\"http://www.w3.org/2000/svg\" height=\"24px\"viewBox=\"0 0 24 24\"\n",
              "       width=\"24px\">\n",
              "    <path d=\"M0 0h24v24H0V0z\" fill=\"none\"/>\n",
              "    <path d=\"M18.56 5.44l.94 2.06.94-2.06 2.06-.94-2.06-.94-.94-2.06-.94 2.06-2.06.94zm-11 1L8.5 8.5l.94-2.06 2.06-.94-2.06-.94L8.5 2.5l-.94 2.06-2.06.94zm10 10l.94 2.06.94-2.06 2.06-.94-2.06-.94-.94-2.06-.94 2.06-2.06.94z\"/><path d=\"M17.41 7.96l-1.37-1.37c-.4-.4-.92-.59-1.43-.59-.52 0-1.04.2-1.43.59L10.3 9.45l-7.72 7.72c-.78.78-.78 2.05 0 2.83L4 21.41c.39.39.9.59 1.41.59.51 0 1.02-.2 1.41-.59l7.78-7.78 2.81-2.81c.8-.78.8-2.07 0-2.86zM5.41 20L4 18.59l7.72-7.72 1.47 1.35L5.41 20z\"/>\n",
              "  </svg>\n",
              "      </button>\n",
              "      \n",
              "  <style>\n",
              "    .colab-df-container {\n",
              "      display:flex;\n",
              "      flex-wrap:wrap;\n",
              "      gap: 12px;\n",
              "    }\n",
              "\n",
              "    .colab-df-convert {\n",
              "      background-color: #E8F0FE;\n",
              "      border: none;\n",
              "      border-radius: 50%;\n",
              "      cursor: pointer;\n",
              "      display: none;\n",
              "      fill: #1967D2;\n",
              "      height: 32px;\n",
              "      padding: 0 0 0 0;\n",
              "      width: 32px;\n",
              "    }\n",
              "\n",
              "    .colab-df-convert:hover {\n",
              "      background-color: #E2EBFA;\n",
              "      box-shadow: 0px 1px 2px rgba(60, 64, 67, 0.3), 0px 1px 3px 1px rgba(60, 64, 67, 0.15);\n",
              "      fill: #174EA6;\n",
              "    }\n",
              "\n",
              "    [theme=dark] .colab-df-convert {\n",
              "      background-color: #3B4455;\n",
              "      fill: #D2E3FC;\n",
              "    }\n",
              "\n",
              "    [theme=dark] .colab-df-convert:hover {\n",
              "      background-color: #434B5C;\n",
              "      box-shadow: 0px 1px 3px 1px rgba(0, 0, 0, 0.15);\n",
              "      filter: drop-shadow(0px 1px 2px rgba(0, 0, 0, 0.3));\n",
              "      fill: #FFFFFF;\n",
              "    }\n",
              "  </style>\n",
              "\n",
              "      <script>\n",
              "        const buttonEl =\n",
              "          document.querySelector('#df-7e833c97-efb8-4f3d-8253-e5e09a9efc7a button.colab-df-convert');\n",
              "        buttonEl.style.display =\n",
              "          google.colab.kernel.accessAllowed ? 'block' : 'none';\n",
              "\n",
              "        async function convertToInteractive(key) {\n",
              "          const element = document.querySelector('#df-7e833c97-efb8-4f3d-8253-e5e09a9efc7a');\n",
              "          const dataTable =\n",
              "            await google.colab.kernel.invokeFunction('convertToInteractive',\n",
              "                                                     [key], {});\n",
              "          if (!dataTable) return;\n",
              "\n",
              "          const docLinkHtml = 'Like what you see? Visit the ' +\n",
              "            '<a target=\"_blank\" href=https://colab.research.google.com/notebooks/data_table.ipynb>data table notebook</a>'\n",
              "            + ' to learn more about interactive tables.';\n",
              "          element.innerHTML = '';\n",
              "          dataTable['output_type'] = 'display_data';\n",
              "          await google.colab.output.renderOutput(dataTable, element);\n",
              "          const docLink = document.createElement('div');\n",
              "          docLink.innerHTML = docLinkHtml;\n",
              "          element.appendChild(docLink);\n",
              "        }\n",
              "      </script>\n",
              "    </div>\n",
              "  </div>\n",
              "  "
            ]
          },
          "metadata": {},
          "execution_count": 11
        }
      ]
    },
    {
      "cell_type": "code",
      "source": [
        "#Merge lab and val\n",
        "df_train = df_train_val.merge(df_train_lab, on='id', how='left')\n",
        "df_train.shape"
      ],
      "metadata": {
        "colab": {
          "base_uri": "https://localhost:8080/"
        },
        "id": "mjQXbmY5bIpe",
        "outputId": "fba33f22-420e-4fc8-f368-09ac92fb44ea"
      },
      "execution_count": null,
      "outputs": [
        {
          "output_type": "execute_result",
          "data": {
            "text/plain": [
              "(59400, 41)"
            ]
          },
          "metadata": {},
          "execution_count": 69
        }
      ]
    },
    {
      "cell_type": "markdown",
      "source": [
        "# Sanity Checks"
      ],
      "metadata": {
        "id": "HPzOVs7exZek"
      }
    },
    {
      "cell_type": "code",
      "source": [
        "df_train.isna().sum()"
      ],
      "metadata": {
        "colab": {
          "base_uri": "https://localhost:8080/"
        },
        "id": "OEcUpN3ExeWl",
        "outputId": "6337e6d0-5fd3-4117-e028-85b68f1974ba"
      },
      "execution_count": null,
      "outputs": [
        {
          "output_type": "execute_result",
          "data": {
            "text/plain": [
              "id                           0\n",
              "amount_tsh                   0\n",
              "date_recorded                0\n",
              "funder                    2242\n",
              "gps_height                   0\n",
              "installer                 2260\n",
              "longitude                    0\n",
              "latitude                     0\n",
              "wpt_name                     0\n",
              "num_private                  0\n",
              "basin                        0\n",
              "subvillage                 231\n",
              "region                       0\n",
              "region_code                  0\n",
              "district_code                0\n",
              "lga                          0\n",
              "ward                         0\n",
              "population                   0\n",
              "public_meeting            2097\n",
              "recorded_by                  1\n",
              "scheme_management         2464\n",
              "scheme_name              17670\n",
              "permit                    1900\n",
              "construction_year            1\n",
              "extraction_type              1\n",
              "extraction_type_group        1\n",
              "extraction_type_class        1\n",
              "management                   1\n",
              "management_group             1\n",
              "payment                      1\n",
              "payment_type                 1\n",
              "water_quality                1\n",
              "quality_group                1\n",
              "quantity                     1\n",
              "quantity_group               1\n",
              "source                       1\n",
              "source_type                  1\n",
              "source_class                 1\n",
              "waterpoint_type              1\n",
              "waterpoint_type_group        1\n",
              "status_group                 0\n",
              "dtype: int64"
            ]
          },
          "metadata": {},
          "execution_count": 13
        }
      ]
    },
    {
      "cell_type": "code",
      "source": [
        "df_train_val['funder'] = ['Other' if i in df_train_val['funder'].value_counts()[8:].index.values else i for i in df_train_val['funder']]\n",
        "df_train_val['funder'].value_counts()"
      ],
      "metadata": {
        "colab": {
          "base_uri": "https://localhost:8080/"
        },
        "id": "yIjEv7w_7AhP",
        "outputId": "7a351d2d-5f30-48b0-c4c3-65bff60f6a45"
      },
      "execution_count": null,
      "outputs": [
        {
          "output_type": "execute_result",
          "data": {
            "text/plain": [
              "Other                     21933\n",
              "Government Of Tanzania     5704\n",
              "Danida                     1944\n",
              "Hesawa                     1387\n",
              "World Bank                  876\n",
              "Rwssp                       868\n",
              "Kkkt                        803\n",
              "World Vision                785\n",
              "Unicef                      682\n",
              "Name: funder, dtype: int64"
            ]
          },
          "metadata": {},
          "execution_count": 14
        }
      ]
    },
    {
      "cell_type": "code",
      "source": [
        "df_train_val['installer'] = ['Other' if i in df_train_val['installer'].value_counts()[5:].index.values else i for i in df_train_val['installer']]\n",
        "df_train_val['installer'].value_counts()[:20]"
      ],
      "metadata": {
        "colab": {
          "base_uri": "https://localhost:8080/"
        },
        "id": "ixhLqtdI7AZs",
        "outputId": "5e38f81f-dbf5-41b8-9a91-4f5572dcb954"
      },
      "execution_count": null,
      "outputs": [
        {
          "output_type": "execute_result",
          "data": {
            "text/plain": [
              "Other         20822\n",
              "DWE           10918\n",
              "Government     1151\n",
              "RWE             765\n",
              "DANIDA          662\n",
              "Commu           646\n",
              "Name: installer, dtype: int64"
            ]
          },
          "metadata": {},
          "execution_count": 15
        }
      ]
    },
    {
      "cell_type": "code",
      "source": [
        "df_train_val['wpt_name'] = ['Other' if i in df_train_val['wpt_name'].value_counts()[8:].index.values else i for i in df_train_val['wpt_name']]\n",
        "df_train_val['wpt_name'].value_counts()[:20]"
      ],
      "metadata": {
        "colab": {
          "base_uri": "https://localhost:8080/"
        },
        "id": "l7-rr7ao8hML",
        "outputId": "663d6475-d8cb-4568-ffcd-8b554ef9c57c"
      },
      "execution_count": null,
      "outputs": [
        {
          "output_type": "execute_result",
          "data": {
            "text/plain": [
              "Other        32422\n",
              "none          2219\n",
              "Shuleni       1092\n",
              "Zahanati       505\n",
              "Msikitini      302\n",
              "Kanisani       198\n",
              "Sokoni         168\n",
              "Ofisini        161\n",
              "Bombani        157\n",
              "Name: wpt_name, dtype: int64"
            ]
          },
          "metadata": {},
          "execution_count": 16
        }
      ]
    },
    {
      "cell_type": "code",
      "source": [
        "df_train_val['basin'].value_counts()[:20]"
      ],
      "metadata": {
        "colab": {
          "base_uri": "https://localhost:8080/"
        },
        "id": "kZ1yWMBr8oZS",
        "outputId": "670ba460-2002-440c-b3fb-086152a6e22b"
      },
      "execution_count": null,
      "outputs": [
        {
          "output_type": "execute_result",
          "data": {
            "text/plain": [
              "Lake Victoria              6410\n",
              "Pangani                    5629\n",
              "Rufiji                     4952\n",
              "Internal                   4909\n",
              "Lake Tanganyika            4030\n",
              "Wami / Ruvu                3742\n",
              "Lake Nyasa                 3166\n",
              "Ruvuma / Southern Coast    2853\n",
              "Lake Rukwa                 1533\n",
              "Name: basin, dtype: int64"
            ]
          },
          "metadata": {},
          "execution_count": 17
        }
      ]
    },
    {
      "cell_type": "code",
      "source": [
        "df_train_val['subvillage'] = ['Other' if i in df_train_val['subvillage'].value_counts()[6:].index.values else i for i in df_train_val['subvillage']]\n",
        "df_train_val['subvillage'].value_counts()[:20]"
      ],
      "metadata": {
        "colab": {
          "base_uri": "https://localhost:8080/"
        },
        "id": "Yl7ActQj8pTy",
        "outputId": "dfc2d023-829f-4d4b-b75c-9a8520bee6c4"
      },
      "execution_count": null,
      "outputs": [
        {
          "output_type": "execute_result",
          "data": {
            "text/plain": [
              "Other       35487\n",
              "Madukani      325\n",
              "Majengo       319\n",
              "Shuleni       312\n",
              "Kati          239\n",
              "Mtakuja       165\n",
              "Sokoni        146\n",
              "Name: subvillage, dtype: int64"
            ]
          },
          "metadata": {},
          "execution_count": 18
        }
      ]
    },
    {
      "cell_type": "code",
      "source": [
        "df_train_val['region'].value_counts()[:20]"
      ],
      "metadata": {
        "colab": {
          "base_uri": "https://localhost:8080/"
        },
        "id": "VQwbTy288rzL",
        "outputId": "e60a0068-191d-4cbe-bd55-7e246a1e9e6a"
      },
      "execution_count": null,
      "outputs": [
        {
          "output_type": "execute_result",
          "data": {
            "text/plain": [
              "Iringa         3312\n",
              "Shinyanga      3147\n",
              "Mbeya          2900\n",
              "Kilimanjaro    2773\n",
              "Morogoro       2486\n",
              "Kagera         2111\n",
              "Arusha         2096\n",
              "Mwanza         1955\n",
              "Kigoma         1718\n",
              "Pwani          1634\n",
              "Ruvuma         1632\n",
              "Tanga          1614\n",
              "Dodoma         1379\n",
              "Singida        1345\n",
              "Mara           1214\n",
              "Tabora         1212\n",
              "Rukwa          1110\n",
              "Mtwara         1103\n",
              "Lindi          1000\n",
              "Manyara         976\n",
              "Name: region, dtype: int64"
            ]
          },
          "metadata": {},
          "execution_count": 19
        }
      ]
    },
    {
      "cell_type": "code",
      "source": [
        "df_train_val['lga'].value_counts()[:20]"
      ],
      "metadata": {
        "colab": {
          "base_uri": "https://localhost:8080/"
        },
        "id": "w9InwoZ38tn0",
        "outputId": "8ba65bdc-17c8-48b4-c830-774823e1b8ab"
      },
      "execution_count": null,
      "outputs": [
        {
          "output_type": "execute_result",
          "data": {
            "text/plain": [
              "Njombe           1579\n",
              "Moshi Rural       786\n",
              "Arusha Rural      775\n",
              "Bariadi           730\n",
              "Kilosa            687\n",
              "Rungwe            666\n",
              "Meru              648\n",
              "Kasulu            647\n",
              "Mbozi             639\n",
              "Bagamoyo          631\n",
              "Singida Rural     623\n",
              "Kilombero         589\n",
              "Same              566\n",
              "Kahama            556\n",
              "Kyela             550\n",
              "Kibondo           523\n",
              "Karagwe           513\n",
              "Kigoma Rural      501\n",
              "Magu              500\n",
              "Maswa             484\n",
              "Name: lga, dtype: int64"
            ]
          },
          "metadata": {},
          "execution_count": 20
        }
      ]
    },
    {
      "cell_type": "code",
      "source": [
        "df_train_val['ward'].value_counts()[:20]"
      ],
      "metadata": {
        "colab": {
          "base_uri": "https://localhost:8080/"
        },
        "id": "GLTZCJuA8vgJ",
        "outputId": "105b2aae-23c6-4a3b-b409-ce064456c852"
      },
      "execution_count": null,
      "outputs": [
        {
          "output_type": "execute_result",
          "data": {
            "text/plain": [
              "Igosi           195\n",
              "Siha Kati       145\n",
              "Nduruma         142\n",
              "Imalinyi        141\n",
              "Mdandu          140\n",
              "Kitunda         135\n",
              "Usuka           125\n",
              "Maji ya Chai    121\n",
              "Msindo          121\n",
              "Chalinze        121\n",
              "Mishamo         118\n",
              "Chanika         113\n",
              "Ngarenanyuki    112\n",
              "Mtwango          99\n",
              "Matola           98\n",
              "Vikindu          97\n",
              "Wanging'ombe     90\n",
              "Itete            89\n",
              "Olkokola         88\n",
              "Igongolo         87\n",
              "Name: ward, dtype: int64"
            ]
          },
          "metadata": {},
          "execution_count": 21
        }
      ]
    },
    {
      "cell_type": "code",
      "source": [
        "df_train_val['recorded_by'].value_counts()[:20]"
      ],
      "metadata": {
        "colab": {
          "base_uri": "https://localhost:8080/"
        },
        "id": "IEKqoQ9b8xGZ",
        "outputId": "35f63858-3e7a-4b15-e376-484d905c9d8b"
      },
      "execution_count": null,
      "outputs": [
        {
          "output_type": "execute_result",
          "data": {
            "text/plain": [
              "GeoData Consultants Ltd    37223\n",
              "Name: recorded_by, dtype: int64"
            ]
          },
          "metadata": {},
          "execution_count": 22
        }
      ]
    },
    {
      "cell_type": "code",
      "source": [
        "df_train_val['scheme_management'].value_counts()[:20]"
      ],
      "metadata": {
        "colab": {
          "base_uri": "https://localhost:8080/"
        },
        "id": "RX7d8Gt38zUK",
        "outputId": "64a4644d-a283-428d-e921-39428d6183fc"
      },
      "execution_count": null,
      "outputs": [
        {
          "output_type": "execute_result",
          "data": {
            "text/plain": [
              "VWC                 23054\n",
              "WUG                  3241\n",
              "Water authority      1972\n",
              "WUA                  1797\n",
              "Water Board          1736\n",
              "Parastatal           1051\n",
              "Company               675\n",
              "Private operator      662\n",
              "Other                 462\n",
              "SWC                    61\n",
              "Trust                  48\n",
              "None                    1\n",
              "Name: scheme_management, dtype: int64"
            ]
          },
          "metadata": {},
          "execution_count": 23
        }
      ]
    },
    {
      "cell_type": "code",
      "source": [
        "df_train_val['scheme_name'].value_counts()[:10]"
      ],
      "metadata": {
        "colab": {
          "base_uri": "https://localhost:8080/"
        },
        "id": "k2DJiWMoyj72",
        "outputId": "deae2bcc-7f92-46a5-e67d-24b425f6c892"
      },
      "execution_count": null,
      "outputs": [
        {
          "output_type": "execute_result",
          "data": {
            "text/plain": [
              "K                              414\n",
              "None                           407\n",
              "Borehole                       355\n",
              "Chalinze wate                  257\n",
              "DANIDA                         233\n",
              "M                              230\n",
              "Government                     204\n",
              "Ngana water supplied scheme    175\n",
              "wanging'ombe water supply s    174\n",
              "wanging'ombe supply scheme     149\n",
              "Name: scheme_name, dtype: int64"
            ]
          },
          "metadata": {},
          "execution_count": 24
        }
      ]
    },
    {
      "cell_type": "code",
      "source": [
        "df_train_lab['status_group'].value_counts()"
      ],
      "metadata": {
        "colab": {
          "base_uri": "https://localhost:8080/"
        },
        "id": "RYf0j0034UJP",
        "outputId": "92dabdd6-7153-49d5-b171-bdd18fec68a6"
      },
      "execution_count": null,
      "outputs": [
        {
          "output_type": "execute_result",
          "data": {
            "text/plain": [
              "functional                 32259\n",
              "non functional             22824\n",
              "functional needs repair     4317\n",
              "Name: status_group, dtype: int64"
            ]
          },
          "metadata": {},
          "execution_count": 25
        }
      ]
    },
    {
      "cell_type": "markdown",
      "source": [
        "# Data Type Fixes"
      ],
      "metadata": {
        "id": "I1OuOZ9-zXHI"
      }
    },
    {
      "cell_type": "code",
      "source": [
        "df_test_copy = df_test.copy()"
      ],
      "metadata": {
        "id": "oDw2q34EUDZh"
      },
      "execution_count": null,
      "outputs": []
    },
    {
      "cell_type": "code",
      "source": [
        "df_train['date_recorded'] = pd.to_datetime(df_train['date_recorded'])\n",
        "df_test['date_recorded'] = pd.to_datetime(df_test['date_recorded'])"
      ],
      "metadata": {
        "id": "9GxcZQQezWiL"
      },
      "execution_count": null,
      "outputs": []
    },
    {
      "cell_type": "code",
      "source": [
        "df_train['date_recorded_year'] = df_train['date_recorded'].dt.year\n",
        "df_train['date_recorded_month'] = df_train['date_recorded'].dt.month\n",
        "df_train['date_recorded_day'] = df_train['date_recorded'].dt.day\n",
        "df_train['date_recorded_dayweek'] = df_train['date_recorded'].dt.dayofweek\n",
        "df_train['date_recorded_quarter'] = df_train['date_recorded'].dt.quarter"
      ],
      "metadata": {
        "id": "oQ47GChN3P0F"
      },
      "execution_count": null,
      "outputs": []
    },
    {
      "cell_type": "code",
      "source": [
        "df_test['date_recorded_year'] = df_test['date_recorded'].dt.year\n",
        "df_test['date_recorded_month'] = df_test['date_recorded'].dt.month\n",
        "df_test['date_recorded_day'] = df_test['date_recorded'].dt.day\n",
        "df_test['date_recorded_dayweek'] = df_test['date_recorded'].dt.dayofweek\n",
        "df_test['date_recorded_quarter'] = df_test['date_recorded'].dt.quarter"
      ],
      "metadata": {
        "id": "JnLD9_DbmfYn"
      },
      "execution_count": null,
      "outputs": []
    },
    {
      "cell_type": "code",
      "source": [
        "#df_train_val_encoded.columns[:50]"
      ],
      "metadata": {
        "id": "gpiwS8i441Gc"
      },
      "execution_count": null,
      "outputs": []
    },
    {
      "cell_type": "code",
      "source": [
        "df_train.drop('date_recorded',axis=1,inplace=True)\n",
        "df_test.drop('date_recorded',axis=1,inplace=True)"
      ],
      "metadata": {
        "id": "HPW67Wsr4Duu"
      },
      "execution_count": null,
      "outputs": []
    },
    {
      "cell_type": "code",
      "source": [
        "df_train.drop('id',axis=1,inplace=True)\n",
        "df_test.drop('id',axis=1,inplace=True)"
      ],
      "metadata": {
        "id": "WmmYEq5GdCla"
      },
      "execution_count": null,
      "outputs": []
    },
    {
      "cell_type": "markdown",
      "source": [
        "# CatBoost"
      ],
      "metadata": {
        "id": "8ZxrsPvSzlDs"
      }
    },
    {
      "cell_type": "markdown",
      "source": [
        "## CatBoost Data Prep"
      ],
      "metadata": {
        "id": "m4EIKz7zlY0E"
      }
    },
    {
      "cell_type": "code",
      "source": [
        "cat_features = df_train.drop('status_group',axis=1).select_dtypes('object').columns.values\n",
        "cat_features"
      ],
      "metadata": {
        "colab": {
          "base_uri": "https://localhost:8080/"
        },
        "id": "hi-CCW8GXXtT",
        "outputId": "0fc2c88c-a780-40a1-9558-33b1cc04cf28"
      },
      "execution_count": null,
      "outputs": [
        {
          "output_type": "execute_result",
          "data": {
            "text/plain": [
              "array(['funder', 'installer', 'wpt_name', 'basin', 'subvillage', 'region',\n",
              "       'lga', 'ward', 'public_meeting', 'recorded_by',\n",
              "       'scheme_management', 'scheme_name', 'permit', 'extraction_type',\n",
              "       'extraction_type_group', 'extraction_type_class', 'management',\n",
              "       'management_group', 'payment', 'payment_type', 'water_quality',\n",
              "       'quality_group', 'quantity', 'quantity_group', 'source',\n",
              "       'source_type', 'source_class', 'waterpoint_type',\n",
              "       'waterpoint_type_group'], dtype=object)"
            ]
          },
          "metadata": {},
          "execution_count": 87
        }
      ]
    },
    {
      "cell_type": "code",
      "source": [
        "df_train[cat_features] = df_train[cat_features].astype(str)\n",
        "df_test[cat_features] = df_test[cat_features].astype(str)"
      ],
      "metadata": {
        "id": "pNNJoL-idP71"
      },
      "execution_count": null,
      "outputs": []
    },
    {
      "cell_type": "code",
      "source": [
        "# Unnecessary given form data received in but anyway\n",
        "X_train, X_test, y_train, y_test = train_test_split(df_train.drop('status_group',axis=1), \n",
        "                                                    df_train['status_group'], \n",
        "                                                    test_size=0.30, random_state=42)"
      ],
      "metadata": {
        "id": "FngeGye17ZQt"
      },
      "execution_count": null,
      "outputs": []
    },
    {
      "cell_type": "code",
      "source": [
        "from imblearn.over_sampling import RandomOverSampler\n",
        "Random_oversampler = RandomOverSampler(random_state=42)\n",
        "X_train, y_train = Random_oversampler.fit_resample(X_train, y_train)"
      ],
      "metadata": {
        "id": "nnsh-oH18XHj"
      },
      "execution_count": null,
      "outputs": []
    },
    {
      "cell_type": "code",
      "source": [
        "y_train.value_counts()"
      ],
      "metadata": {
        "colab": {
          "base_uri": "https://localhost:8080/"
        },
        "id": "RexTEklebhR_",
        "outputId": "134f2c9f-da5d-4028-c063-8f9a94fa7cd1"
      },
      "execution_count": null,
      "outputs": [
        {
          "output_type": "execute_result",
          "data": {
            "text/plain": [
              "non functional             22535\n",
              "functional                 22535\n",
              "functional needs repair    22535\n",
              "Name: status_group, dtype: int64"
            ]
          },
          "metadata": {},
          "execution_count": 91
        }
      ]
    },
    {
      "cell_type": "markdown",
      "source": [
        "## CatBoost Feature Selection"
      ],
      "metadata": {
        "id": "uweKww-Ulb-Q"
      }
    },
    {
      "cell_type": "code",
      "source": [
        "# Initialize CatBoostClassifier\n",
        "model = CatBoostClassifier(iterations=200,\n",
        "                           learning_rate=.03,\n",
        "                           depth=2,\n",
        "                           random_state=42,\n",
        "                           loss_function='MultiClass',\n",
        "                           eval_metric='AUC',\n",
        "                           cat_features=cat_features)"
      ],
      "metadata": {
        "id": "kxruwIPRW8n5"
      },
      "execution_count": null,
      "outputs": []
    },
    {
      "cell_type": "code",
      "source": [
        "selected_features = model.select_features(X_train,\n",
        "                         y_train, \n",
        "                         [(X_test, y_test)],\n",
        "                         features_for_select=list(range(X_test.shape[1])),\n",
        "                         steps=5,\n",
        "                         num_features_to_select=13,\n",
        "                         shap_calc_type='Exact',\n",
        "                         logging_level='Verbose',\n",
        "                         #train_final_model=False,\n",
        "                         plot='True')\n",
        "\n",
        "selected_features = dict(selected_features)"
      ],
      "metadata": {
        "colab": {
          "base_uri": "https://localhost:8080/",
          "height": 1000,
          "referenced_widgets": [
            "aa97f7986dc647789ff5ed5bacf506c6"
          ]
        },
        "id": "yx6jqABbc9nv",
        "outputId": "aab8f3f5-30be-4ada-efa9-02dd591f636d"
      },
      "execution_count": null,
      "outputs": [
        {
          "output_type": "display_data",
          "data": {
            "text/plain": [
              "MetricVisualizer(layout=Layout(align_self='stretch', height='500px'))"
            ],
            "application/vnd.jupyter.widget-view+json": {
              "version_major": 2,
              "version_minor": 0,
              "model_id": "aa97f7986dc647789ff5ed5bacf506c6"
            }
          },
          "metadata": {}
        },
        {
          "output_type": "stream",
          "name": "stdout",
          "text": [
            "Step #1 out of 5\n",
            "0:\ttest: 0.5968862\tbest: 0.5968862 (0)\ttotal: 397ms\tremaining: 1m 18s\n",
            "1:\ttest: 0.6435567\tbest: 0.6435567 (1)\ttotal: 732ms\tremaining: 1m 12s\n",
            "2:\ttest: 0.6414613\tbest: 0.6435567 (1)\ttotal: 980ms\tremaining: 1m 4s\n",
            "3:\ttest: 0.6412856\tbest: 0.6435567 (1)\ttotal: 1.27s\tremaining: 1m 2s\n",
            "4:\ttest: 0.6416087\tbest: 0.6435567 (1)\ttotal: 1.44s\tremaining: 56.1s\n",
            "5:\ttest: 0.6490114\tbest: 0.6490114 (5)\ttotal: 1.66s\tremaining: 53.5s\n",
            "6:\ttest: 0.6463724\tbest: 0.6490114 (5)\ttotal: 1.82s\tremaining: 50.2s\n",
            "7:\ttest: 0.6504931\tbest: 0.6504931 (7)\ttotal: 2.06s\tremaining: 49.4s\n",
            "8:\ttest: 0.6505764\tbest: 0.6505764 (8)\ttotal: 2.22s\tremaining: 47.1s\n",
            "9:\ttest: 0.6509242\tbest: 0.6509242 (9)\ttotal: 2.4s\tremaining: 45.6s\n",
            "10:\ttest: 0.6502177\tbest: 0.6509242 (9)\ttotal: 2.56s\tremaining: 44.1s\n",
            "11:\ttest: 0.6477673\tbest: 0.6509242 (9)\ttotal: 2.73s\tremaining: 42.7s\n",
            "12:\ttest: 0.6395988\tbest: 0.6509242 (9)\ttotal: 2.91s\tremaining: 41.8s\n",
            "13:\ttest: 0.6385055\tbest: 0.6509242 (9)\ttotal: 3.07s\tremaining: 40.8s\n",
            "14:\ttest: 0.6424554\tbest: 0.6509242 (9)\ttotal: 3.25s\tremaining: 40s\n",
            "15:\ttest: 0.6414845\tbest: 0.6509242 (9)\ttotal: 3.42s\tremaining: 39.3s\n",
            "16:\ttest: 0.6397896\tbest: 0.6509242 (9)\ttotal: 3.59s\tremaining: 38.7s\n",
            "17:\ttest: 0.6408357\tbest: 0.6509242 (9)\ttotal: 3.76s\tremaining: 38s\n",
            "18:\ttest: 0.6414223\tbest: 0.6509242 (9)\ttotal: 3.93s\tremaining: 37.5s\n",
            "19:\ttest: 0.6406015\tbest: 0.6509242 (9)\ttotal: 4.1s\tremaining: 36.9s\n",
            "20:\ttest: 0.6402821\tbest: 0.6509242 (9)\ttotal: 4.31s\tremaining: 36.8s\n",
            "21:\ttest: 0.6406741\tbest: 0.6509242 (9)\ttotal: 4.49s\tremaining: 36.3s\n",
            "22:\ttest: 0.6422858\tbest: 0.6509242 (9)\ttotal: 4.66s\tremaining: 35.9s\n",
            "23:\ttest: 0.6421735\tbest: 0.6509242 (9)\ttotal: 4.83s\tremaining: 35.5s\n",
            "24:\ttest: 0.6423727\tbest: 0.6509242 (9)\ttotal: 5s\tremaining: 35s\n",
            "25:\ttest: 0.6406839\tbest: 0.6509242 (9)\ttotal: 5.22s\tremaining: 34.9s\n",
            "26:\ttest: 0.6406520\tbest: 0.6509242 (9)\ttotal: 5.38s\tremaining: 34.5s\n",
            "27:\ttest: 0.6400726\tbest: 0.6509242 (9)\ttotal: 5.56s\tremaining: 34.2s\n",
            "28:\ttest: 0.6405332\tbest: 0.6509242 (9)\ttotal: 5.72s\tremaining: 33.8s\n",
            "29:\ttest: 0.6404125\tbest: 0.6509242 (9)\ttotal: 5.9s\tremaining: 33.5s\n",
            "30:\ttest: 0.6425568\tbest: 0.6509242 (9)\ttotal: 6.07s\tremaining: 33.1s\n",
            "31:\ttest: 0.6651719\tbest: 0.6651719 (31)\ttotal: 6.24s\tremaining: 32.8s\n",
            "32:\ttest: 0.6651241\tbest: 0.6651719 (31)\ttotal: 6.4s\tremaining: 32.4s\n",
            "33:\ttest: 0.7208029\tbest: 0.7208029 (33)\ttotal: 6.65s\tremaining: 32.5s\n",
            "34:\ttest: 0.7194641\tbest: 0.7208029 (33)\ttotal: 6.82s\tremaining: 32.1s\n",
            "35:\ttest: 0.7234475\tbest: 0.7234475 (35)\ttotal: 7s\tremaining: 31.9s\n",
            "36:\ttest: 0.7259858\tbest: 0.7259858 (36)\ttotal: 7.24s\tremaining: 31.9s\n",
            "37:\ttest: 0.7342152\tbest: 0.7342152 (37)\ttotal: 7.47s\tremaining: 31.8s\n",
            "38:\ttest: 0.7355436\tbest: 0.7355436 (38)\ttotal: 7.65s\tremaining: 31.6s\n",
            "39:\ttest: 0.7363033\tbest: 0.7363033 (39)\ttotal: 7.83s\tremaining: 31.3s\n",
            "40:\ttest: 0.7409228\tbest: 0.7409228 (40)\ttotal: 8.05s\tremaining: 31.2s\n",
            "41:\ttest: 0.7430599\tbest: 0.7430599 (41)\ttotal: 8.22s\tremaining: 30.9s\n",
            "42:\ttest: 0.7541975\tbest: 0.7541975 (42)\ttotal: 8.44s\tremaining: 30.8s\n",
            "43:\ttest: 0.7569971\tbest: 0.7569971 (43)\ttotal: 8.67s\tremaining: 30.7s\n",
            "44:\ttest: 0.7584913\tbest: 0.7584913 (44)\ttotal: 8.9s\tremaining: 30.7s\n",
            "45:\ttest: 0.7585446\tbest: 0.7585446 (45)\ttotal: 9.13s\tremaining: 30.6s\n",
            "46:\ttest: 0.7688423\tbest: 0.7688423 (46)\ttotal: 9.37s\tremaining: 30.5s\n",
            "47:\ttest: 0.7721928\tbest: 0.7721928 (47)\ttotal: 9.54s\tremaining: 30.2s\n",
            "48:\ttest: 0.7714224\tbest: 0.7721928 (47)\ttotal: 9.78s\tremaining: 30.1s\n",
            "49:\ttest: 0.7703745\tbest: 0.7721928 (47)\ttotal: 10s\tremaining: 30.1s\n",
            "50:\ttest: 0.7744378\tbest: 0.7744378 (50)\ttotal: 10.3s\tremaining: 30s\n",
            "51:\ttest: 0.7762945\tbest: 0.7762945 (51)\ttotal: 10.5s\tremaining: 29.8s\n",
            "52:\ttest: 0.7743812\tbest: 0.7762945 (51)\ttotal: 10.7s\tremaining: 29.6s\n",
            "53:\ttest: 0.7777935\tbest: 0.7777935 (53)\ttotal: 10.9s\tremaining: 29.5s\n",
            "54:\ttest: 0.7811507\tbest: 0.7811507 (54)\ttotal: 11.1s\tremaining: 29.3s\n",
            "55:\ttest: 0.7799716\tbest: 0.7811507 (54)\ttotal: 11.4s\tremaining: 29.3s\n",
            "56:\ttest: 0.7805359\tbest: 0.7811507 (54)\ttotal: 11.6s\tremaining: 29s\n",
            "57:\ttest: 0.7784233\tbest: 0.7811507 (54)\ttotal: 11.8s\tremaining: 28.9s\n",
            "58:\ttest: 0.7808843\tbest: 0.7811507 (54)\ttotal: 12.1s\tremaining: 28.9s\n",
            "59:\ttest: 0.7833379\tbest: 0.7833379 (59)\ttotal: 12.3s\tremaining: 28.7s\n",
            "60:\ttest: 0.7834436\tbest: 0.7834436 (60)\ttotal: 12.5s\tremaining: 28.5s\n",
            "61:\ttest: 0.7860043\tbest: 0.7860043 (61)\ttotal: 12.8s\tremaining: 28.4s\n",
            "62:\ttest: 0.7889703\tbest: 0.7889703 (62)\ttotal: 13s\tremaining: 28.3s\n",
            "63:\ttest: 0.7898514\tbest: 0.7898514 (63)\ttotal: 13.2s\tremaining: 28.1s\n",
            "64:\ttest: 0.7884488\tbest: 0.7898514 (63)\ttotal: 13.4s\tremaining: 27.9s\n",
            "65:\ttest: 0.7914487\tbest: 0.7914487 (65)\ttotal: 13.7s\tremaining: 27.7s\n",
            "66:\ttest: 0.7927674\tbest: 0.7927674 (66)\ttotal: 13.9s\tremaining: 27.6s\n",
            "67:\ttest: 0.7949517\tbest: 0.7949517 (67)\ttotal: 14.1s\tremaining: 27.4s\n",
            "68:\ttest: 0.7943305\tbest: 0.7949517 (67)\ttotal: 14.3s\tremaining: 27.2s\n",
            "69:\ttest: 0.7943938\tbest: 0.7949517 (67)\ttotal: 14.6s\tremaining: 27.1s\n",
            "70:\ttest: 0.7959567\tbest: 0.7959567 (70)\ttotal: 14.8s\tremaining: 26.9s\n",
            "71:\ttest: 0.7986269\tbest: 0.7986269 (71)\ttotal: 15s\tremaining: 26.7s\n",
            "72:\ttest: 0.7994587\tbest: 0.7994587 (72)\ttotal: 15.3s\tremaining: 26.5s\n",
            "73:\ttest: 0.8004042\tbest: 0.8004042 (73)\ttotal: 15.5s\tremaining: 26.4s\n",
            "74:\ttest: 0.8004007\tbest: 0.8004042 (73)\ttotal: 15.7s\tremaining: 26.2s\n",
            "75:\ttest: 0.7998914\tbest: 0.8004042 (73)\ttotal: 16s\tremaining: 26.1s\n",
            "76:\ttest: 0.8017807\tbest: 0.8017807 (76)\ttotal: 16.2s\tremaining: 25.9s\n",
            "77:\ttest: 0.8015922\tbest: 0.8017807 (76)\ttotal: 16.4s\tremaining: 25.7s\n",
            "78:\ttest: 0.8010539\tbest: 0.8017807 (76)\ttotal: 16.7s\tremaining: 25.5s\n",
            "79:\ttest: 0.8023197\tbest: 0.8023197 (79)\ttotal: 16.9s\tremaining: 25.4s\n",
            "80:\ttest: 0.8042629\tbest: 0.8042629 (80)\ttotal: 17.1s\tremaining: 25.2s\n",
            "81:\ttest: 0.8053892\tbest: 0.8053892 (81)\ttotal: 17.4s\tremaining: 25s\n",
            "82:\ttest: 0.8073372\tbest: 0.8073372 (82)\ttotal: 17.6s\tremaining: 24.8s\n",
            "83:\ttest: 0.8073793\tbest: 0.8073793 (83)\ttotal: 17.8s\tremaining: 24.6s\n",
            "84:\ttest: 0.8088379\tbest: 0.8088379 (84)\ttotal: 18.1s\tremaining: 24.4s\n",
            "85:\ttest: 0.8104480\tbest: 0.8104480 (85)\ttotal: 18.3s\tremaining: 24.2s\n",
            "86:\ttest: 0.8117663\tbest: 0.8117663 (86)\ttotal: 18.5s\tremaining: 24s\n",
            "87:\ttest: 0.8112412\tbest: 0.8117663 (86)\ttotal: 18.8s\tremaining: 23.9s\n",
            "88:\ttest: 0.8106510\tbest: 0.8117663 (86)\ttotal: 19s\tremaining: 23.7s\n",
            "89:\ttest: 0.8099918\tbest: 0.8117663 (86)\ttotal: 19.2s\tremaining: 23.5s\n",
            "90:\ttest: 0.8110267\tbest: 0.8117663 (86)\ttotal: 19.4s\tremaining: 23.2s\n",
            "91:\ttest: 0.8123636\tbest: 0.8123636 (91)\ttotal: 19.6s\tremaining: 23s\n",
            "92:\ttest: 0.8135763\tbest: 0.8135763 (92)\ttotal: 19.9s\tremaining: 22.9s\n",
            "93:\ttest: 0.8141505\tbest: 0.8141505 (93)\ttotal: 20.1s\tremaining: 22.7s\n",
            "94:\ttest: 0.8154321\tbest: 0.8154321 (94)\ttotal: 20.4s\tremaining: 22.5s\n",
            "95:\ttest: 0.8160804\tbest: 0.8160804 (95)\ttotal: 20.6s\tremaining: 22.3s\n",
            "96:\ttest: 0.8168299\tbest: 0.8168299 (96)\ttotal: 20.8s\tremaining: 22.1s\n",
            "97:\ttest: 0.8175563\tbest: 0.8175563 (97)\ttotal: 21s\tremaining: 21.9s\n",
            "98:\ttest: 0.8179192\tbest: 0.8179192 (98)\ttotal: 21.2s\tremaining: 21.7s\n",
            "99:\ttest: 0.8191676\tbest: 0.8191676 (99)\ttotal: 21.5s\tremaining: 21.5s\n",
            "100:\ttest: 0.8194875\tbest: 0.8194875 (100)\ttotal: 21.7s\tremaining: 21.3s\n",
            "101:\ttest: 0.8189488\tbest: 0.8194875 (100)\ttotal: 21.9s\tremaining: 21.1s\n",
            "102:\ttest: 0.8191912\tbest: 0.8194875 (100)\ttotal: 22.2s\tremaining: 20.9s\n",
            "103:\ttest: 0.8201992\tbest: 0.8201992 (103)\ttotal: 22.4s\tremaining: 20.7s\n",
            "104:\ttest: 0.8210454\tbest: 0.8210454 (104)\ttotal: 22.7s\tremaining: 20.5s\n",
            "105:\ttest: 0.8214557\tbest: 0.8214557 (105)\ttotal: 22.9s\tremaining: 20.3s\n",
            "106:\ttest: 0.8221230\tbest: 0.8221230 (106)\ttotal: 23.1s\tremaining: 20.1s\n",
            "107:\ttest: 0.8225882\tbest: 0.8225882 (107)\ttotal: 23.4s\tremaining: 19.9s\n",
            "108:\ttest: 0.8226605\tbest: 0.8226605 (108)\ttotal: 23.6s\tremaining: 19.7s\n",
            "109:\ttest: 0.8235589\tbest: 0.8235589 (109)\ttotal: 23.8s\tremaining: 19.5s\n",
            "110:\ttest: 0.8243887\tbest: 0.8243887 (110)\ttotal: 24s\tremaining: 19.3s\n",
            "111:\ttest: 0.8246199\tbest: 0.8246199 (111)\ttotal: 24.3s\tremaining: 19.1s\n",
            "112:\ttest: 0.8241949\tbest: 0.8246199 (111)\ttotal: 24.5s\tremaining: 18.9s\n",
            "113:\ttest: 0.8249339\tbest: 0.8249339 (113)\ttotal: 24.7s\tremaining: 18.7s\n",
            "114:\ttest: 0.8249840\tbest: 0.8249840 (114)\ttotal: 24.9s\tremaining: 18.4s\n",
            "115:\ttest: 0.8256356\tbest: 0.8256356 (115)\ttotal: 25.2s\tremaining: 18.2s\n",
            "116:\ttest: 0.8259620\tbest: 0.8259620 (116)\ttotal: 25.4s\tremaining: 18s\n",
            "117:\ttest: 0.8265166\tbest: 0.8265166 (117)\ttotal: 25.6s\tremaining: 17.8s\n",
            "118:\ttest: 0.8267251\tbest: 0.8267251 (118)\ttotal: 25.8s\tremaining: 17.6s\n",
            "119:\ttest: 0.8272440\tbest: 0.8272440 (119)\ttotal: 26.1s\tremaining: 17.4s\n",
            "120:\ttest: 0.8272011\tbest: 0.8272440 (119)\ttotal: 26.3s\tremaining: 17.2s\n",
            "121:\ttest: 0.8267957\tbest: 0.8272440 (119)\ttotal: 26.5s\tremaining: 17s\n",
            "122:\ttest: 0.8268869\tbest: 0.8272440 (119)\ttotal: 26.7s\tremaining: 16.7s\n",
            "123:\ttest: 0.8275293\tbest: 0.8275293 (123)\ttotal: 27s\tremaining: 16.5s\n",
            "124:\ttest: 0.8275403\tbest: 0.8275403 (124)\ttotal: 27.2s\tremaining: 16.3s\n",
            "125:\ttest: 0.8281163\tbest: 0.8281163 (125)\ttotal: 27.4s\tremaining: 16.1s\n",
            "126:\ttest: 0.8283281\tbest: 0.8283281 (126)\ttotal: 27.7s\tremaining: 15.9s\n",
            "127:\ttest: 0.8283008\tbest: 0.8283281 (126)\ttotal: 27.9s\tremaining: 15.7s\n",
            "128:\ttest: 0.8288740\tbest: 0.8288740 (128)\ttotal: 28.1s\tremaining: 15.5s\n",
            "129:\ttest: 0.8284858\tbest: 0.8288740 (128)\ttotal: 28.4s\tremaining: 15.3s\n",
            "130:\ttest: 0.8287178\tbest: 0.8288740 (128)\ttotal: 28.6s\tremaining: 15.1s\n",
            "131:\ttest: 0.8283368\tbest: 0.8288740 (128)\ttotal: 28.8s\tremaining: 14.8s\n",
            "132:\ttest: 0.8288539\tbest: 0.8288740 (128)\ttotal: 29.1s\tremaining: 14.6s\n",
            "133:\ttest: 0.8291727\tbest: 0.8291727 (133)\ttotal: 29.3s\tremaining: 14.4s\n",
            "134:\ttest: 0.8288063\tbest: 0.8291727 (133)\ttotal: 29.5s\tremaining: 14.2s\n",
            "135:\ttest: 0.8291678\tbest: 0.8291727 (133)\ttotal: 29.7s\tremaining: 14s\n",
            "136:\ttest: 0.8299650\tbest: 0.8299650 (136)\ttotal: 30s\tremaining: 13.8s\n",
            "137:\ttest: 0.8301365\tbest: 0.8301365 (137)\ttotal: 30.2s\tremaining: 13.6s\n",
            "138:\ttest: 0.8303694\tbest: 0.8303694 (138)\ttotal: 30.4s\tremaining: 13.3s\n",
            "139:\ttest: 0.8303016\tbest: 0.8303694 (138)\ttotal: 30.6s\tremaining: 13.1s\n",
            "140:\ttest: 0.8302596\tbest: 0.8303694 (138)\ttotal: 30.8s\tremaining: 12.9s\n",
            "141:\ttest: 0.8307202\tbest: 0.8307202 (141)\ttotal: 31.1s\tremaining: 12.7s\n",
            "142:\ttest: 0.8307311\tbest: 0.8307311 (142)\ttotal: 31.3s\tremaining: 12.5s\n",
            "143:\ttest: 0.8314395\tbest: 0.8314395 (143)\ttotal: 31.5s\tremaining: 12.3s\n",
            "144:\ttest: 0.8316067\tbest: 0.8316067 (144)\ttotal: 31.7s\tremaining: 12s\n",
            "145:\ttest: 0.8314479\tbest: 0.8316067 (144)\ttotal: 32s\tremaining: 11.8s\n",
            "146:\ttest: 0.8317842\tbest: 0.8317842 (146)\ttotal: 32.2s\tremaining: 11.6s\n",
            "147:\ttest: 0.8323077\tbest: 0.8323077 (147)\ttotal: 32.4s\tremaining: 11.4s\n",
            "148:\ttest: 0.8330035\tbest: 0.8330035 (148)\ttotal: 32.6s\tremaining: 11.2s\n",
            "149:\ttest: 0.8333845\tbest: 0.8333845 (149)\ttotal: 32.8s\tremaining: 10.9s\n",
            "150:\ttest: 0.8337466\tbest: 0.8337466 (150)\ttotal: 33s\tremaining: 10.7s\n",
            "151:\ttest: 0.8338087\tbest: 0.8338087 (151)\ttotal: 33.3s\tremaining: 10.5s\n",
            "152:\ttest: 0.8336784\tbest: 0.8338087 (151)\ttotal: 33.5s\tremaining: 10.3s\n",
            "153:\ttest: 0.8337045\tbest: 0.8338087 (151)\ttotal: 33.8s\tremaining: 10.1s\n",
            "154:\ttest: 0.8335583\tbest: 0.8338087 (151)\ttotal: 33.9s\tremaining: 9.85s\n",
            "155:\ttest: 0.8337407\tbest: 0.8338087 (151)\ttotal: 34.1s\tremaining: 9.63s\n",
            "156:\ttest: 0.8337420\tbest: 0.8338087 (151)\ttotal: 34.4s\tremaining: 9.41s\n",
            "157:\ttest: 0.8335621\tbest: 0.8338087 (151)\ttotal: 34.5s\tremaining: 9.18s\n",
            "158:\ttest: 0.8335378\tbest: 0.8338087 (151)\ttotal: 34.7s\tremaining: 8.96s\n",
            "159:\ttest: 0.8334118\tbest: 0.8338087 (151)\ttotal: 34.9s\tremaining: 8.73s\n",
            "160:\ttest: 0.8332761\tbest: 0.8338087 (151)\ttotal: 35.2s\tremaining: 8.52s\n",
            "161:\ttest: 0.8331119\tbest: 0.8338087 (151)\ttotal: 35.3s\tremaining: 8.29s\n",
            "162:\ttest: 0.8331616\tbest: 0.8338087 (151)\ttotal: 35.6s\tremaining: 8.07s\n",
            "163:\ttest: 0.8330282\tbest: 0.8338087 (151)\ttotal: 35.7s\tremaining: 7.84s\n",
            "164:\ttest: 0.8327694\tbest: 0.8338087 (151)\ttotal: 35.9s\tremaining: 7.61s\n",
            "165:\ttest: 0.8325462\tbest: 0.8338087 (151)\ttotal: 36.1s\tremaining: 7.38s\n",
            "166:\ttest: 0.8329481\tbest: 0.8338087 (151)\ttotal: 36.3s\tremaining: 7.17s\n",
            "167:\ttest: 0.8326072\tbest: 0.8338087 (151)\ttotal: 36.5s\tremaining: 6.95s\n",
            "168:\ttest: 0.8324527\tbest: 0.8338087 (151)\ttotal: 36.6s\tremaining: 6.72s\n",
            "169:\ttest: 0.8327222\tbest: 0.8338087 (151)\ttotal: 36.9s\tremaining: 6.51s\n",
            "170:\ttest: 0.8329596\tbest: 0.8338087 (151)\ttotal: 37.2s\tremaining: 6.3s\n",
            "171:\ttest: 0.8327921\tbest: 0.8338087 (151)\ttotal: 37.5s\tremaining: 6.11s\n",
            "172:\ttest: 0.8329036\tbest: 0.8338087 (151)\ttotal: 38s\tremaining: 5.92s\n",
            "173:\ttest: 0.8324793\tbest: 0.8338087 (151)\ttotal: 38.3s\tremaining: 5.72s\n",
            "174:\ttest: 0.8323757\tbest: 0.8338087 (151)\ttotal: 38.6s\tremaining: 5.51s\n",
            "175:\ttest: 0.8326352\tbest: 0.8338087 (151)\ttotal: 39s\tremaining: 5.32s\n",
            "176:\ttest: 0.8328679\tbest: 0.8338087 (151)\ttotal: 39.4s\tremaining: 5.12s\n",
            "177:\ttest: 0.8324855\tbest: 0.8338087 (151)\ttotal: 39.8s\tremaining: 4.92s\n",
            "178:\ttest: 0.8329767\tbest: 0.8338087 (151)\ttotal: 40.3s\tremaining: 4.72s\n",
            "179:\ttest: 0.8331368\tbest: 0.8338087 (151)\ttotal: 40.5s\tremaining: 4.5s\n",
            "180:\ttest: 0.8333018\tbest: 0.8338087 (151)\ttotal: 40.8s\tremaining: 4.28s\n",
            "181:\ttest: 0.8336484\tbest: 0.8338087 (151)\ttotal: 41s\tremaining: 4.05s\n",
            "182:\ttest: 0.8337593\tbest: 0.8338087 (151)\ttotal: 41.2s\tremaining: 3.83s\n",
            "183:\ttest: 0.8341177\tbest: 0.8341177 (183)\ttotal: 41.4s\tremaining: 3.6s\n",
            "184:\ttest: 0.8342086\tbest: 0.8342086 (184)\ttotal: 41.7s\tremaining: 3.38s\n",
            "185:\ttest: 0.8342961\tbest: 0.8342961 (185)\ttotal: 41.9s\tremaining: 3.15s\n",
            "186:\ttest: 0.8339983\tbest: 0.8342961 (185)\ttotal: 42.1s\tremaining: 2.92s\n",
            "187:\ttest: 0.8342008\tbest: 0.8342961 (185)\ttotal: 42.3s\tremaining: 2.7s\n",
            "188:\ttest: 0.8343192\tbest: 0.8343192 (188)\ttotal: 42.6s\tremaining: 2.48s\n",
            "189:\ttest: 0.8338176\tbest: 0.8343192 (188)\ttotal: 42.8s\tremaining: 2.25s\n",
            "190:\ttest: 0.8343685\tbest: 0.8343685 (190)\ttotal: 43s\tremaining: 2.03s\n",
            "191:\ttest: 0.8340355\tbest: 0.8343685 (190)\ttotal: 43.3s\tremaining: 1.8s\n",
            "192:\ttest: 0.8341592\tbest: 0.8343685 (190)\ttotal: 43.5s\tremaining: 1.58s\n",
            "193:\ttest: 0.8344352\tbest: 0.8344352 (193)\ttotal: 43.7s\tremaining: 1.35s\n",
            "194:\ttest: 0.8344992\tbest: 0.8344992 (194)\ttotal: 44s\tremaining: 1.13s\n",
            "195:\ttest: 0.8348059\tbest: 0.8348059 (195)\ttotal: 44.2s\tremaining: 902ms\n",
            "196:\ttest: 0.8349367\tbest: 0.8349367 (196)\ttotal: 44.4s\tremaining: 676ms\n",
            "197:\ttest: 0.8350393\tbest: 0.8350393 (197)\ttotal: 44.6s\tremaining: 451ms\n",
            "198:\ttest: 0.8351441\tbest: 0.8351441 (198)\ttotal: 44.9s\tremaining: 226ms\n",
            "199:\ttest: 0.8349173\tbest: 0.8351441 (198)\ttotal: 45s\tremaining: 0us\n",
            "\n",
            "bestTest = 0.8351441308\n",
            "bestIteration = 198\n",
            "\n",
            "Shrink model to first 199 iterations.\n",
            "Feature #0 eliminated\n",
            "Feature #2 eliminated\n",
            "Feature #4 eliminated\n",
            "Feature #5 eliminated\n",
            "Feature #7 eliminated\n",
            "Feature #8 eliminated\n",
            "Feature #10 eliminated\n",
            "Feature #11 eliminated\n",
            "Feature #12 eliminated\n",
            "Step #2 out of 5\n",
            "0:\ttest: 0.6134709\tbest: 0.6134709 (0)\ttotal: 257ms\tremaining: 51.1s\n",
            "1:\ttest: 0.6524913\tbest: 0.6524913 (1)\ttotal: 525ms\tremaining: 51.9s\n",
            "2:\ttest: 0.6559668\tbest: 0.6559668 (2)\ttotal: 673ms\tremaining: 44.2s\n",
            "3:\ttest: 0.6555091\tbest: 0.6559668 (2)\ttotal: 952ms\tremaining: 46.7s\n",
            "4:\ttest: 0.6535243\tbest: 0.6559668 (2)\ttotal: 1.11s\tremaining: 43.3s\n",
            "5:\ttest: 0.6526905\tbest: 0.6559668 (2)\ttotal: 1.32s\tremaining: 42.7s\n",
            "6:\ttest: 0.6517720\tbest: 0.6559668 (2)\ttotal: 1.48s\tremaining: 40.7s\n",
            "7:\ttest: 0.6501476\tbest: 0.6559668 (2)\ttotal: 1.63s\tremaining: 39.1s\n",
            "8:\ttest: 0.6520605\tbest: 0.6559668 (2)\ttotal: 1.8s\tremaining: 38.2s\n",
            "9:\ttest: 0.6564408\tbest: 0.6564408 (9)\ttotal: 1.96s\tremaining: 37.3s\n",
            "10:\ttest: 0.6562946\tbest: 0.6564408 (9)\ttotal: 2.12s\tremaining: 36.5s\n",
            "11:\ttest: 0.6559312\tbest: 0.6564408 (9)\ttotal: 2.27s\tremaining: 35.6s\n",
            "12:\ttest: 0.6562768\tbest: 0.6564408 (9)\ttotal: 2.42s\tremaining: 34.9s\n",
            "13:\ttest: 0.6559554\tbest: 0.6564408 (9)\ttotal: 2.58s\tremaining: 34.2s\n",
            "14:\ttest: 0.6560336\tbest: 0.6564408 (9)\ttotal: 2.73s\tremaining: 33.6s\n",
            "15:\ttest: 0.6480270\tbest: 0.6564408 (9)\ttotal: 2.91s\tremaining: 33.5s\n",
            "16:\ttest: 0.6480294\tbest: 0.6564408 (9)\ttotal: 3.07s\tremaining: 33s\n",
            "17:\ttest: 0.6479162\tbest: 0.6564408 (9)\ttotal: 3.28s\tremaining: 33.1s\n",
            "18:\ttest: 0.6478463\tbest: 0.6564408 (9)\ttotal: 3.44s\tremaining: 32.7s\n",
            "19:\ttest: 0.6462681\tbest: 0.6564408 (9)\ttotal: 3.59s\tremaining: 32.3s\n",
            "20:\ttest: 0.6476718\tbest: 0.6564408 (9)\ttotal: 3.75s\tremaining: 31.9s\n",
            "21:\ttest: 0.6457217\tbest: 0.6564408 (9)\ttotal: 3.96s\tremaining: 32.1s\n",
            "22:\ttest: 0.6430228\tbest: 0.6564408 (9)\ttotal: 4.13s\tremaining: 31.8s\n",
            "23:\ttest: 0.6402565\tbest: 0.6564408 (9)\ttotal: 4.28s\tremaining: 31.4s\n",
            "24:\ttest: 0.6429122\tbest: 0.6564408 (9)\ttotal: 4.43s\tremaining: 31s\n",
            "25:\ttest: 0.6672045\tbest: 0.6672045 (25)\ttotal: 4.59s\tremaining: 30.7s\n",
            "26:\ttest: 0.6686633\tbest: 0.6686633 (26)\ttotal: 4.74s\tremaining: 30.4s\n",
            "27:\ttest: 0.6697835\tbest: 0.6697835 (27)\ttotal: 4.93s\tremaining: 30.3s\n",
            "28:\ttest: 0.6681602\tbest: 0.6697835 (27)\ttotal: 5.08s\tremaining: 29.9s\n",
            "29:\ttest: 0.6677356\tbest: 0.6697835 (27)\ttotal: 5.24s\tremaining: 29.7s\n",
            "30:\ttest: 0.6687311\tbest: 0.6697835 (27)\ttotal: 5.39s\tremaining: 29.4s\n",
            "31:\ttest: 0.6700604\tbest: 0.6700604 (31)\ttotal: 5.55s\tremaining: 29.1s\n",
            "32:\ttest: 0.6691869\tbest: 0.6700604 (31)\ttotal: 5.7s\tremaining: 28.8s\n",
            "33:\ttest: 0.6822245\tbest: 0.6822245 (33)\ttotal: 5.88s\tremaining: 28.7s\n",
            "34:\ttest: 0.6827466\tbest: 0.6827466 (34)\ttotal: 6.04s\tremaining: 28.5s\n",
            "35:\ttest: 0.6834314\tbest: 0.6834314 (35)\ttotal: 6.21s\tremaining: 28.3s\n",
            "36:\ttest: 0.7244068\tbest: 0.7244068 (36)\ttotal: 6.41s\tremaining: 28.2s\n",
            "37:\ttest: 0.7368297\tbest: 0.7368297 (37)\ttotal: 6.56s\tremaining: 28s\n",
            "38:\ttest: 0.7401480\tbest: 0.7401480 (38)\ttotal: 6.72s\tremaining: 27.7s\n",
            "39:\ttest: 0.7450729\tbest: 0.7450729 (39)\ttotal: 6.9s\tremaining: 27.6s\n",
            "40:\ttest: 0.7496709\tbest: 0.7496709 (40)\ttotal: 7.06s\tremaining: 27.4s\n",
            "41:\ttest: 0.7601785\tbest: 0.7601785 (41)\ttotal: 7.26s\tremaining: 27.3s\n",
            "42:\ttest: 0.7620145\tbest: 0.7620145 (42)\ttotal: 7.45s\tremaining: 27.2s\n",
            "43:\ttest: 0.7616023\tbest: 0.7620145 (42)\ttotal: 7.62s\tremaining: 27s\n",
            "44:\ttest: 0.7637178\tbest: 0.7637178 (44)\ttotal: 7.79s\tremaining: 26.8s\n",
            "45:\ttest: 0.7686746\tbest: 0.7686746 (45)\ttotal: 7.97s\tremaining: 26.7s\n",
            "46:\ttest: 0.7677861\tbest: 0.7686746 (45)\ttotal: 8.12s\tremaining: 26.4s\n",
            "47:\ttest: 0.7726331\tbest: 0.7726331 (47)\ttotal: 8.29s\tremaining: 26.2s\n",
            "48:\ttest: 0.7722947\tbest: 0.7726331 (47)\ttotal: 8.46s\tremaining: 26.1s\n",
            "49:\ttest: 0.7738691\tbest: 0.7738691 (49)\ttotal: 8.62s\tremaining: 25.9s\n",
            "50:\ttest: 0.7748496\tbest: 0.7748496 (50)\ttotal: 8.77s\tremaining: 25.6s\n",
            "51:\ttest: 0.7754328\tbest: 0.7754328 (51)\ttotal: 9s\tremaining: 25.6s\n",
            "52:\ttest: 0.7754073\tbest: 0.7754328 (51)\ttotal: 9.16s\tremaining: 25.4s\n",
            "53:\ttest: 0.7753245\tbest: 0.7754328 (51)\ttotal: 9.38s\tremaining: 25.4s\n",
            "54:\ttest: 0.7770364\tbest: 0.7770364 (54)\ttotal: 9.54s\tremaining: 25.1s\n",
            "55:\ttest: 0.7772881\tbest: 0.7772881 (55)\ttotal: 9.74s\tremaining: 25s\n",
            "56:\ttest: 0.7772995\tbest: 0.7772995 (56)\ttotal: 9.9s\tremaining: 24.8s\n",
            "57:\ttest: 0.7780872\tbest: 0.7780872 (57)\ttotal: 10.1s\tremaining: 24.7s\n",
            "58:\ttest: 0.7797546\tbest: 0.7797546 (58)\ttotal: 10.3s\tremaining: 24.6s\n",
            "59:\ttest: 0.7795343\tbest: 0.7797546 (58)\ttotal: 10.4s\tremaining: 24.4s\n",
            "60:\ttest: 0.7819767\tbest: 0.7819767 (60)\ttotal: 10.6s\tremaining: 24.3s\n",
            "61:\ttest: 0.7821446\tbest: 0.7821446 (61)\ttotal: 10.9s\tremaining: 24.2s\n",
            "62:\ttest: 0.7820033\tbest: 0.7821446 (61)\ttotal: 11s\tremaining: 24s\n",
            "63:\ttest: 0.7820749\tbest: 0.7821446 (61)\ttotal: 11.2s\tremaining: 23.8s\n",
            "64:\ttest: 0.7839496\tbest: 0.7839496 (64)\ttotal: 11.4s\tremaining: 23.7s\n",
            "65:\ttest: 0.7832257\tbest: 0.7839496 (64)\ttotal: 11.6s\tremaining: 23.5s\n",
            "66:\ttest: 0.7858349\tbest: 0.7858349 (66)\ttotal: 11.8s\tremaining: 23.4s\n",
            "67:\ttest: 0.7859716\tbest: 0.7859716 (67)\ttotal: 12s\tremaining: 23.2s\n",
            "68:\ttest: 0.7889382\tbest: 0.7889382 (68)\ttotal: 12.2s\tremaining: 23.1s\n",
            "69:\ttest: 0.7893663\tbest: 0.7893663 (69)\ttotal: 12.4s\tremaining: 23s\n",
            "70:\ttest: 0.7908022\tbest: 0.7908022 (70)\ttotal: 12.6s\tremaining: 22.9s\n",
            "71:\ttest: 0.7908869\tbest: 0.7908869 (71)\ttotal: 12.8s\tremaining: 22.7s\n",
            "72:\ttest: 0.7926325\tbest: 0.7926325 (72)\ttotal: 13s\tremaining: 22.6s\n",
            "73:\ttest: 0.7932841\tbest: 0.7932841 (73)\ttotal: 13.2s\tremaining: 22.5s\n",
            "74:\ttest: 0.7951345\tbest: 0.7951345 (74)\ttotal: 13.4s\tremaining: 22.4s\n",
            "75:\ttest: 0.7970514\tbest: 0.7970514 (75)\ttotal: 13.6s\tremaining: 22.2s\n",
            "76:\ttest: 0.7976745\tbest: 0.7976745 (76)\ttotal: 13.8s\tremaining: 22.1s\n",
            "77:\ttest: 0.7984674\tbest: 0.7984674 (77)\ttotal: 14s\tremaining: 21.9s\n",
            "78:\ttest: 0.7974571\tbest: 0.7984674 (77)\ttotal: 14.2s\tremaining: 21.8s\n",
            "79:\ttest: 0.7977676\tbest: 0.7984674 (77)\ttotal: 14.5s\tremaining: 21.7s\n",
            "80:\ttest: 0.7988072\tbest: 0.7988072 (80)\ttotal: 14.7s\tremaining: 21.5s\n",
            "81:\ttest: 0.7982497\tbest: 0.7988072 (80)\ttotal: 14.9s\tremaining: 21.4s\n",
            "82:\ttest: 0.7995021\tbest: 0.7995021 (82)\ttotal: 15.1s\tremaining: 21.2s\n",
            "83:\ttest: 0.8006223\tbest: 0.8006223 (83)\ttotal: 15.3s\tremaining: 21.1s\n",
            "84:\ttest: 0.8012562\tbest: 0.8012562 (84)\ttotal: 15.5s\tremaining: 21s\n",
            "85:\ttest: 0.8027627\tbest: 0.8027627 (85)\ttotal: 15.7s\tremaining: 20.8s\n",
            "86:\ttest: 0.8023112\tbest: 0.8027627 (85)\ttotal: 15.9s\tremaining: 20.7s\n",
            "87:\ttest: 0.8041272\tbest: 0.8041272 (87)\ttotal: 16.2s\tremaining: 20.6s\n",
            "88:\ttest: 0.8054893\tbest: 0.8054893 (88)\ttotal: 16.4s\tremaining: 20.4s\n",
            "89:\ttest: 0.8062081\tbest: 0.8062081 (89)\ttotal: 16.6s\tremaining: 20.3s\n",
            "90:\ttest: 0.8072301\tbest: 0.8072301 (90)\ttotal: 16.8s\tremaining: 20.1s\n",
            "91:\ttest: 0.8078053\tbest: 0.8078053 (91)\ttotal: 16.9s\tremaining: 19.9s\n",
            "92:\ttest: 0.8085000\tbest: 0.8085000 (92)\ttotal: 17.2s\tremaining: 19.7s\n",
            "93:\ttest: 0.8099092\tbest: 0.8099092 (93)\ttotal: 17.4s\tremaining: 19.6s\n",
            "94:\ttest: 0.8110722\tbest: 0.8110722 (94)\ttotal: 17.6s\tremaining: 19.4s\n",
            "95:\ttest: 0.8115409\tbest: 0.8115409 (95)\ttotal: 17.8s\tremaining: 19.3s\n",
            "96:\ttest: 0.8119360\tbest: 0.8119360 (96)\ttotal: 18s\tremaining: 19.1s\n",
            "97:\ttest: 0.8126685\tbest: 0.8126685 (97)\ttotal: 18.3s\tremaining: 19s\n",
            "98:\ttest: 0.8126716\tbest: 0.8126716 (98)\ttotal: 18.5s\tremaining: 18.8s\n",
            "99:\ttest: 0.8141324\tbest: 0.8141324 (99)\ttotal: 18.7s\tremaining: 18.7s\n",
            "100:\ttest: 0.8141383\tbest: 0.8141383 (100)\ttotal: 18.9s\tremaining: 18.5s\n",
            "101:\ttest: 0.8155283\tbest: 0.8155283 (101)\ttotal: 19.1s\tremaining: 18.3s\n",
            "102:\ttest: 0.8166018\tbest: 0.8166018 (102)\ttotal: 19.3s\tremaining: 18.1s\n",
            "103:\ttest: 0.8163690\tbest: 0.8166018 (102)\ttotal: 19.5s\tremaining: 18s\n",
            "104:\ttest: 0.8169314\tbest: 0.8169314 (104)\ttotal: 19.7s\tremaining: 17.8s\n",
            "105:\ttest: 0.8179295\tbest: 0.8179295 (105)\ttotal: 19.9s\tremaining: 17.6s\n",
            "106:\ttest: 0.8188130\tbest: 0.8188130 (106)\ttotal: 20.1s\tremaining: 17.5s\n",
            "107:\ttest: 0.8198186\tbest: 0.8198186 (107)\ttotal: 20.3s\tremaining: 17.3s\n",
            "108:\ttest: 0.8208953\tbest: 0.8208953 (108)\ttotal: 20.5s\tremaining: 17.1s\n",
            "109:\ttest: 0.8207685\tbest: 0.8208953 (108)\ttotal: 20.8s\tremaining: 17s\n",
            "110:\ttest: 0.8213236\tbest: 0.8213236 (110)\ttotal: 21s\tremaining: 16.8s\n",
            "111:\ttest: 0.8215894\tbest: 0.8215894 (111)\ttotal: 21.2s\tremaining: 16.6s\n",
            "112:\ttest: 0.8213994\tbest: 0.8215894 (111)\ttotal: 21.4s\tremaining: 16.5s\n",
            "113:\ttest: 0.8223995\tbest: 0.8223995 (113)\ttotal: 21.6s\tremaining: 16.3s\n",
            "114:\ttest: 0.8226370\tbest: 0.8226370 (114)\ttotal: 21.8s\tremaining: 16.1s\n",
            "115:\ttest: 0.8229859\tbest: 0.8229859 (115)\ttotal: 22s\tremaining: 15.9s\n",
            "116:\ttest: 0.8228950\tbest: 0.8229859 (115)\ttotal: 22.2s\tremaining: 15.8s\n",
            "117:\ttest: 0.8238256\tbest: 0.8238256 (117)\ttotal: 22.5s\tremaining: 15.6s\n",
            "118:\ttest: 0.8244938\tbest: 0.8244938 (118)\ttotal: 22.7s\tremaining: 15.4s\n",
            "119:\ttest: 0.8248751\tbest: 0.8248751 (119)\ttotal: 22.9s\tremaining: 15.3s\n",
            "120:\ttest: 0.8254700\tbest: 0.8254700 (120)\ttotal: 23.1s\tremaining: 15.1s\n",
            "121:\ttest: 0.8259888\tbest: 0.8259888 (121)\ttotal: 23.3s\tremaining: 14.9s\n",
            "122:\ttest: 0.8262384\tbest: 0.8262384 (122)\ttotal: 23.5s\tremaining: 14.7s\n",
            "123:\ttest: 0.8262570\tbest: 0.8262570 (123)\ttotal: 23.7s\tremaining: 14.5s\n",
            "124:\ttest: 0.8269947\tbest: 0.8269947 (124)\ttotal: 23.9s\tremaining: 14.3s\n",
            "125:\ttest: 0.8268616\tbest: 0.8269947 (124)\ttotal: 24.1s\tremaining: 14.2s\n",
            "126:\ttest: 0.8266756\tbest: 0.8269947 (124)\ttotal: 24.4s\tremaining: 14s\n",
            "127:\ttest: 0.8266891\tbest: 0.8269947 (124)\ttotal: 24.6s\tremaining: 13.8s\n",
            "128:\ttest: 0.8272975\tbest: 0.8272975 (128)\ttotal: 24.8s\tremaining: 13.7s\n",
            "129:\ttest: 0.8277701\tbest: 0.8277701 (129)\ttotal: 25s\tremaining: 13.5s\n",
            "130:\ttest: 0.8283697\tbest: 0.8283697 (130)\ttotal: 25.2s\tremaining: 13.3s\n",
            "131:\ttest: 0.8285137\tbest: 0.8285137 (131)\ttotal: 25.5s\tremaining: 13.1s\n",
            "132:\ttest: 0.8284738\tbest: 0.8285137 (131)\ttotal: 25.7s\tremaining: 12.9s\n",
            "133:\ttest: 0.8286814\tbest: 0.8286814 (133)\ttotal: 25.9s\tremaining: 12.7s\n",
            "134:\ttest: 0.8293748\tbest: 0.8293748 (134)\ttotal: 26s\tremaining: 12.5s\n",
            "135:\ttest: 0.8298987\tbest: 0.8298987 (135)\ttotal: 26.2s\tremaining: 12.4s\n",
            "136:\ttest: 0.8305286\tbest: 0.8305286 (136)\ttotal: 26.5s\tremaining: 12.2s\n",
            "137:\ttest: 0.8310491\tbest: 0.8310491 (137)\ttotal: 26.7s\tremaining: 12s\n",
            "138:\ttest: 0.8308289\tbest: 0.8310491 (137)\ttotal: 26.9s\tremaining: 11.8s\n",
            "139:\ttest: 0.8312689\tbest: 0.8312689 (139)\ttotal: 27.1s\tremaining: 11.6s\n",
            "140:\ttest: 0.8310053\tbest: 0.8312689 (139)\ttotal: 27.3s\tremaining: 11.4s\n",
            "141:\ttest: 0.8313136\tbest: 0.8313136 (141)\ttotal: 27.6s\tremaining: 11.3s\n",
            "142:\ttest: 0.8318599\tbest: 0.8318599 (142)\ttotal: 27.8s\tremaining: 11.1s\n",
            "143:\ttest: 0.8317865\tbest: 0.8318599 (142)\ttotal: 28s\tremaining: 10.9s\n",
            "144:\ttest: 0.8319011\tbest: 0.8319011 (144)\ttotal: 28.2s\tremaining: 10.7s\n",
            "145:\ttest: 0.8317160\tbest: 0.8319011 (144)\ttotal: 28.4s\tremaining: 10.5s\n",
            "146:\ttest: 0.8321419\tbest: 0.8321419 (146)\ttotal: 28.7s\tremaining: 10.3s\n",
            "147:\ttest: 0.8326274\tbest: 0.8326274 (147)\ttotal: 28.9s\tremaining: 10.2s\n",
            "148:\ttest: 0.8327585\tbest: 0.8327585 (148)\ttotal: 29.1s\tremaining: 9.97s\n",
            "149:\ttest: 0.8329288\tbest: 0.8329288 (149)\ttotal: 29.3s\tremaining: 9.77s\n",
            "150:\ttest: 0.8326148\tbest: 0.8329288 (149)\ttotal: 29.6s\tremaining: 9.59s\n",
            "151:\ttest: 0.8326597\tbest: 0.8329288 (149)\ttotal: 29.8s\tremaining: 9.4s\n",
            "152:\ttest: 0.8325137\tbest: 0.8329288 (149)\ttotal: 30s\tremaining: 9.2s\n",
            "153:\ttest: 0.8326152\tbest: 0.8329288 (149)\ttotal: 30.2s\tremaining: 9.01s\n",
            "154:\ttest: 0.8327013\tbest: 0.8329288 (149)\ttotal: 30.4s\tremaining: 8.81s\n",
            "155:\ttest: 0.8328422\tbest: 0.8329288 (149)\ttotal: 30.6s\tremaining: 8.63s\n",
            "156:\ttest: 0.8328427\tbest: 0.8329288 (149)\ttotal: 30.8s\tremaining: 8.43s\n",
            "157:\ttest: 0.8330959\tbest: 0.8330959 (157)\ttotal: 31s\tremaining: 8.24s\n",
            "158:\ttest: 0.8335600\tbest: 0.8335600 (158)\ttotal: 31.2s\tremaining: 8.04s\n",
            "159:\ttest: 0.8342186\tbest: 0.8342186 (159)\ttotal: 31.4s\tremaining: 7.85s\n",
            "160:\ttest: 0.8340513\tbest: 0.8342186 (159)\ttotal: 31.6s\tremaining: 7.67s\n",
            "161:\ttest: 0.8341959\tbest: 0.8342186 (159)\ttotal: 31.9s\tremaining: 7.47s\n",
            "162:\ttest: 0.8343408\tbest: 0.8343408 (162)\ttotal: 32.1s\tremaining: 7.28s\n",
            "163:\ttest: 0.8344953\tbest: 0.8344953 (163)\ttotal: 32.3s\tremaining: 7.08s\n",
            "164:\ttest: 0.8342853\tbest: 0.8344953 (163)\ttotal: 32.5s\tremaining: 6.89s\n",
            "165:\ttest: 0.8341994\tbest: 0.8344953 (163)\ttotal: 32.7s\tremaining: 6.7s\n",
            "166:\ttest: 0.8339119\tbest: 0.8344953 (163)\ttotal: 32.9s\tremaining: 6.51s\n",
            "167:\ttest: 0.8342533\tbest: 0.8344953 (163)\ttotal: 33.1s\tremaining: 6.3s\n",
            "168:\ttest: 0.8339507\tbest: 0.8344953 (163)\ttotal: 33.3s\tremaining: 6.1s\n",
            "169:\ttest: 0.8335410\tbest: 0.8344953 (163)\ttotal: 33.4s\tremaining: 5.9s\n",
            "170:\ttest: 0.8330436\tbest: 0.8344953 (163)\ttotal: 33.6s\tremaining: 5.7s\n",
            "171:\ttest: 0.8328292\tbest: 0.8344953 (163)\ttotal: 33.8s\tremaining: 5.5s\n",
            "172:\ttest: 0.8329796\tbest: 0.8344953 (163)\ttotal: 34s\tremaining: 5.3s\n",
            "173:\ttest: 0.8327072\tbest: 0.8344953 (163)\ttotal: 34.1s\tremaining: 5.1s\n",
            "174:\ttest: 0.8328633\tbest: 0.8344953 (163)\ttotal: 34.3s\tremaining: 4.91s\n",
            "175:\ttest: 0.8325328\tbest: 0.8344953 (163)\ttotal: 34.5s\tremaining: 4.7s\n",
            "176:\ttest: 0.8326005\tbest: 0.8344953 (163)\ttotal: 34.7s\tremaining: 4.51s\n",
            "177:\ttest: 0.8326511\tbest: 0.8344953 (163)\ttotal: 34.9s\tremaining: 4.32s\n",
            "178:\ttest: 0.8323791\tbest: 0.8344953 (163)\ttotal: 35.1s\tremaining: 4.12s\n",
            "179:\ttest: 0.8319615\tbest: 0.8344953 (163)\ttotal: 35.2s\tremaining: 3.92s\n",
            "180:\ttest: 0.8317685\tbest: 0.8344953 (163)\ttotal: 35.5s\tremaining: 3.72s\n",
            "181:\ttest: 0.8319423\tbest: 0.8344953 (163)\ttotal: 35.7s\tremaining: 3.53s\n",
            "182:\ttest: 0.8320545\tbest: 0.8344953 (163)\ttotal: 35.9s\tremaining: 3.33s\n",
            "183:\ttest: 0.8317408\tbest: 0.8344953 (163)\ttotal: 36.1s\tremaining: 3.14s\n",
            "184:\ttest: 0.8313941\tbest: 0.8344953 (163)\ttotal: 36.3s\tremaining: 2.94s\n",
            "185:\ttest: 0.8316283\tbest: 0.8344953 (163)\ttotal: 36.5s\tremaining: 2.75s\n",
            "186:\ttest: 0.8314349\tbest: 0.8344953 (163)\ttotal: 36.7s\tremaining: 2.55s\n",
            "187:\ttest: 0.8312070\tbest: 0.8344953 (163)\ttotal: 36.9s\tremaining: 2.35s\n",
            "188:\ttest: 0.8312644\tbest: 0.8344953 (163)\ttotal: 37.1s\tremaining: 2.16s\n",
            "189:\ttest: 0.8310211\tbest: 0.8344953 (163)\ttotal: 37.3s\tremaining: 1.96s\n",
            "190:\ttest: 0.8306498\tbest: 0.8344953 (163)\ttotal: 37.5s\tremaining: 1.76s\n",
            "191:\ttest: 0.8302897\tbest: 0.8344953 (163)\ttotal: 37.7s\tremaining: 1.57s\n",
            "192:\ttest: 0.8299945\tbest: 0.8344953 (163)\ttotal: 37.9s\tremaining: 1.37s\n",
            "193:\ttest: 0.8302728\tbest: 0.8344953 (163)\ttotal: 38.1s\tremaining: 1.18s\n",
            "194:\ttest: 0.8307678\tbest: 0.8344953 (163)\ttotal: 38.3s\tremaining: 982ms\n",
            "195:\ttest: 0.8303225\tbest: 0.8344953 (163)\ttotal: 38.5s\tremaining: 785ms\n",
            "196:\ttest: 0.8300634\tbest: 0.8344953 (163)\ttotal: 38.7s\tremaining: 589ms\n",
            "197:\ttest: 0.8301121\tbest: 0.8344953 (163)\ttotal: 38.9s\tremaining: 393ms\n",
            "198:\ttest: 0.8298780\tbest: 0.8344953 (163)\ttotal: 39.2s\tremaining: 197ms\n",
            "199:\ttest: 0.8300601\tbest: 0.8344953 (163)\ttotal: 39.4s\tremaining: 0us\n",
            "\n",
            "bestTest = 0.8344952652\n",
            "bestIteration = 163\n",
            "\n",
            "Shrink model to first 164 iterations.\n",
            "Feature #35 eliminated\n",
            "Feature #15 eliminated\n",
            "Feature #16 eliminated\n",
            "Feature #17 eliminated\n",
            "Feature #18 eliminated\n",
            "Feature #33 eliminated\n",
            "Feature #34 eliminated\n",
            "Step #3 out of 5\n",
            "0:\ttest: 0.6369297\tbest: 0.6369297 (0)\ttotal: 210ms\tremaining: 41.7s\n",
            "1:\ttest: 0.6759725\tbest: 0.6759725 (1)\ttotal: 408ms\tremaining: 40.4s\n",
            "2:\ttest: 0.6719488\tbest: 0.6759725 (1)\ttotal: 560ms\tremaining: 36.8s\n",
            "3:\ttest: 0.6870833\tbest: 0.6870833 (3)\ttotal: 772ms\tremaining: 37.8s\n",
            "4:\ttest: 0.6852627\tbest: 0.6870833 (3)\ttotal: 939ms\tremaining: 36.6s\n",
            "5:\ttest: 0.6904025\tbest: 0.6904025 (5)\ttotal: 1.08s\tremaining: 34.8s\n",
            "6:\ttest: 0.6874888\tbest: 0.6904025 (5)\ttotal: 1.2s\tremaining: 33.2s\n",
            "7:\ttest: 0.6845751\tbest: 0.6904025 (5)\ttotal: 1.46s\tremaining: 35.1s\n",
            "8:\ttest: 0.6868318\tbest: 0.6904025 (5)\ttotal: 1.65s\tremaining: 34.9s\n",
            "9:\ttest: 0.6861645\tbest: 0.6904025 (5)\ttotal: 1.78s\tremaining: 33.8s\n",
            "10:\ttest: 0.6835316\tbest: 0.6904025 (5)\ttotal: 1.91s\tremaining: 32.8s\n",
            "11:\ttest: 0.6830822\tbest: 0.6904025 (5)\ttotal: 2.04s\tremaining: 31.9s\n",
            "12:\ttest: 0.6826904\tbest: 0.6904025 (5)\ttotal: 2.17s\tremaining: 31.1s\n",
            "13:\ttest: 0.6810093\tbest: 0.6904025 (5)\ttotal: 2.3s\tremaining: 30.6s\n",
            "14:\ttest: 0.6803709\tbest: 0.6904025 (5)\ttotal: 2.46s\tremaining: 30.3s\n",
            "15:\ttest: 0.6715504\tbest: 0.6904025 (5)\ttotal: 2.59s\tremaining: 29.8s\n",
            "16:\ttest: 0.6703057\tbest: 0.6904025 (5)\ttotal: 2.73s\tremaining: 29.3s\n",
            "17:\ttest: 0.6669742\tbest: 0.6904025 (5)\ttotal: 2.85s\tremaining: 28.8s\n",
            "18:\ttest: 0.6648145\tbest: 0.6904025 (5)\ttotal: 2.98s\tremaining: 28.4s\n",
            "19:\ttest: 0.6627378\tbest: 0.6904025 (5)\ttotal: 3.12s\tremaining: 28.1s\n",
            "20:\ttest: 0.6616330\tbest: 0.6904025 (5)\ttotal: 3.25s\tremaining: 27.7s\n",
            "21:\ttest: 0.6607748\tbest: 0.6904025 (5)\ttotal: 3.41s\tremaining: 27.6s\n",
            "22:\ttest: 0.6614393\tbest: 0.6904025 (5)\ttotal: 3.55s\tremaining: 27.3s\n",
            "23:\ttest: 0.6621249\tbest: 0.6904025 (5)\ttotal: 3.68s\tremaining: 27s\n",
            "24:\ttest: 0.6614628\tbest: 0.6904025 (5)\ttotal: 3.81s\tremaining: 26.6s\n",
            "25:\ttest: 0.6612516\tbest: 0.6904025 (5)\ttotal: 3.96s\tremaining: 26.5s\n",
            "26:\ttest: 0.6615590\tbest: 0.6904025 (5)\ttotal: 4.09s\tremaining: 26.2s\n",
            "27:\ttest: 0.6605030\tbest: 0.6904025 (5)\ttotal: 4.22s\tremaining: 25.9s\n",
            "28:\ttest: 0.6605224\tbest: 0.6904025 (5)\ttotal: 4.36s\tremaining: 25.7s\n",
            "29:\ttest: 0.6599043\tbest: 0.6904025 (5)\ttotal: 4.52s\tremaining: 25.6s\n",
            "30:\ttest: 0.6595280\tbest: 0.6904025 (5)\ttotal: 4.65s\tremaining: 25.4s\n",
            "31:\ttest: 0.6591889\tbest: 0.6904025 (5)\ttotal: 4.8s\tremaining: 25.2s\n",
            "32:\ttest: 0.6589061\tbest: 0.6904025 (5)\ttotal: 4.92s\tremaining: 24.9s\n",
            "33:\ttest: 0.6589295\tbest: 0.6904025 (5)\ttotal: 5.05s\tremaining: 24.7s\n",
            "34:\ttest: 0.6594316\tbest: 0.6904025 (5)\ttotal: 5.18s\tremaining: 24.4s\n",
            "35:\ttest: 0.6833734\tbest: 0.6904025 (5)\ttotal: 5.32s\tremaining: 24.2s\n",
            "36:\ttest: 0.6837360\tbest: 0.6904025 (5)\ttotal: 5.49s\tremaining: 24.2s\n",
            "37:\ttest: 0.6835679\tbest: 0.6904025 (5)\ttotal: 5.63s\tremaining: 24s\n",
            "38:\ttest: 0.6839550\tbest: 0.6904025 (5)\ttotal: 5.77s\tremaining: 23.8s\n",
            "39:\ttest: 0.6915968\tbest: 0.6915968 (39)\ttotal: 5.9s\tremaining: 23.6s\n",
            "40:\ttest: 0.7011640\tbest: 0.7011640 (40)\ttotal: 6.02s\tremaining: 23.4s\n",
            "41:\ttest: 0.7030310\tbest: 0.7030310 (41)\ttotal: 6.16s\tremaining: 23.2s\n",
            "42:\ttest: 0.7305550\tbest: 0.7305550 (42)\ttotal: 6.32s\tremaining: 23.1s\n",
            "43:\ttest: 0.7369419\tbest: 0.7369419 (43)\ttotal: 6.61s\tremaining: 23.4s\n",
            "44:\ttest: 0.7442266\tbest: 0.7442266 (44)\ttotal: 6.76s\tremaining: 23.3s\n",
            "45:\ttest: 0.7435572\tbest: 0.7442266 (44)\ttotal: 6.88s\tremaining: 23s\n",
            "46:\ttest: 0.7443370\tbest: 0.7443370 (46)\ttotal: 7.01s\tremaining: 22.8s\n",
            "47:\ttest: 0.7482664\tbest: 0.7482664 (47)\ttotal: 7.14s\tremaining: 22.6s\n",
            "48:\ttest: 0.7512388\tbest: 0.7512388 (48)\ttotal: 7.27s\tremaining: 22.4s\n",
            "49:\ttest: 0.7512865\tbest: 0.7512865 (49)\ttotal: 7.4s\tremaining: 22.2s\n",
            "50:\ttest: 0.7522168\tbest: 0.7522168 (50)\ttotal: 7.55s\tremaining: 22.1s\n",
            "51:\ttest: 0.7556880\tbest: 0.7556880 (51)\ttotal: 7.71s\tremaining: 22s\n",
            "52:\ttest: 0.7554504\tbest: 0.7556880 (51)\ttotal: 7.84s\tremaining: 21.8s\n",
            "53:\ttest: 0.7653466\tbest: 0.7653466 (53)\ttotal: 7.98s\tremaining: 21.6s\n",
            "54:\ttest: 0.7647775\tbest: 0.7653466 (53)\ttotal: 8.11s\tremaining: 21.4s\n",
            "55:\ttest: 0.7667936\tbest: 0.7667936 (55)\ttotal: 8.28s\tremaining: 21.3s\n",
            "56:\ttest: 0.7649666\tbest: 0.7667936 (55)\ttotal: 8.44s\tremaining: 21.2s\n",
            "57:\ttest: 0.7678556\tbest: 0.7678556 (57)\ttotal: 8.63s\tremaining: 21.1s\n",
            "58:\ttest: 0.7730802\tbest: 0.7730802 (58)\ttotal: 8.9s\tremaining: 21.3s\n",
            "59:\ttest: 0.7765133\tbest: 0.7765133 (59)\ttotal: 9.07s\tremaining: 21.2s\n",
            "60:\ttest: 0.7759159\tbest: 0.7765133 (59)\ttotal: 9.23s\tremaining: 21s\n",
            "61:\ttest: 0.7744226\tbest: 0.7765133 (59)\ttotal: 9.39s\tremaining: 20.9s\n",
            "62:\ttest: 0.7784781\tbest: 0.7784781 (62)\ttotal: 9.57s\tremaining: 20.8s\n",
            "63:\ttest: 0.7771279\tbest: 0.7784781 (62)\ttotal: 9.73s\tremaining: 20.7s\n",
            "64:\ttest: 0.7789433\tbest: 0.7789433 (64)\ttotal: 9.9s\tremaining: 20.6s\n",
            "65:\ttest: 0.7788994\tbest: 0.7789433 (64)\ttotal: 10.1s\tremaining: 20.4s\n",
            "66:\ttest: 0.7817170\tbest: 0.7817170 (66)\ttotal: 10.2s\tremaining: 20.3s\n",
            "67:\ttest: 0.7845161\tbest: 0.7845161 (67)\ttotal: 10.4s\tremaining: 20.1s\n",
            "68:\ttest: 0.7867376\tbest: 0.7867376 (68)\ttotal: 10.5s\tremaining: 20s\n",
            "69:\ttest: 0.7887140\tbest: 0.7887140 (69)\ttotal: 10.8s\tremaining: 20s\n",
            "70:\ttest: 0.7911061\tbest: 0.7911061 (70)\ttotal: 10.9s\tremaining: 19.9s\n",
            "71:\ttest: 0.7931269\tbest: 0.7931269 (71)\ttotal: 11.1s\tremaining: 19.7s\n",
            "72:\ttest: 0.7924687\tbest: 0.7931269 (71)\ttotal: 11.3s\tremaining: 19.6s\n",
            "73:\ttest: 0.7938863\tbest: 0.7938863 (73)\ttotal: 11.5s\tremaining: 19.5s\n",
            "74:\ttest: 0.7932821\tbest: 0.7938863 (73)\ttotal: 11.6s\tremaining: 19.3s\n",
            "75:\ttest: 0.7945324\tbest: 0.7945324 (75)\ttotal: 11.8s\tremaining: 19.3s\n",
            "76:\ttest: 0.7962315\tbest: 0.7962315 (76)\ttotal: 12s\tremaining: 19.2s\n",
            "77:\ttest: 0.7984663\tbest: 0.7984663 (77)\ttotal: 12.2s\tremaining: 19s\n",
            "78:\ttest: 0.7996921\tbest: 0.7996921 (78)\ttotal: 12.3s\tremaining: 18.9s\n",
            "79:\ttest: 0.8012667\tbest: 0.8012667 (79)\ttotal: 12.5s\tremaining: 18.7s\n",
            "80:\ttest: 0.8027718\tbest: 0.8027718 (80)\ttotal: 12.7s\tremaining: 18.6s\n",
            "81:\ttest: 0.8035929\tbest: 0.8035929 (81)\ttotal: 12.8s\tremaining: 18.5s\n",
            "82:\ttest: 0.8041862\tbest: 0.8041862 (82)\ttotal: 13s\tremaining: 18.3s\n",
            "83:\ttest: 0.8047030\tbest: 0.8047030 (83)\ttotal: 13.1s\tremaining: 18.1s\n",
            "84:\ttest: 0.8042109\tbest: 0.8047030 (83)\ttotal: 13.3s\tremaining: 18s\n",
            "85:\ttest: 0.8047028\tbest: 0.8047030 (83)\ttotal: 13.4s\tremaining: 17.8s\n",
            "86:\ttest: 0.8050199\tbest: 0.8050199 (86)\ttotal: 13.6s\tremaining: 17.7s\n",
            "87:\ttest: 0.8044745\tbest: 0.8050199 (86)\ttotal: 13.8s\tremaining: 17.6s\n",
            "88:\ttest: 0.8050806\tbest: 0.8050806 (88)\ttotal: 14s\tremaining: 17.4s\n",
            "89:\ttest: 0.8057695\tbest: 0.8057695 (89)\ttotal: 14.1s\tremaining: 17.3s\n",
            "90:\ttest: 0.8059987\tbest: 0.8059987 (90)\ttotal: 14.3s\tremaining: 17.1s\n",
            "91:\ttest: 0.8069606\tbest: 0.8069606 (91)\ttotal: 14.4s\tremaining: 16.9s\n",
            "92:\ttest: 0.8071139\tbest: 0.8071139 (92)\ttotal: 14.6s\tremaining: 16.8s\n",
            "93:\ttest: 0.8088656\tbest: 0.8088656 (93)\ttotal: 14.8s\tremaining: 16.7s\n",
            "94:\ttest: 0.8082690\tbest: 0.8088656 (93)\ttotal: 15s\tremaining: 16.6s\n",
            "95:\ttest: 0.8096906\tbest: 0.8096906 (95)\ttotal: 15.2s\tremaining: 16.4s\n",
            "96:\ttest: 0.8109942\tbest: 0.8109942 (96)\ttotal: 15.3s\tremaining: 16.3s\n",
            "97:\ttest: 0.8121418\tbest: 0.8121418 (97)\ttotal: 15.5s\tremaining: 16.2s\n",
            "98:\ttest: 0.8133806\tbest: 0.8133806 (98)\ttotal: 15.7s\tremaining: 16s\n",
            "99:\ttest: 0.8134272\tbest: 0.8134272 (99)\ttotal: 15.9s\tremaining: 15.9s\n",
            "100:\ttest: 0.8144764\tbest: 0.8144764 (100)\ttotal: 16.1s\tremaining: 15.8s\n",
            "101:\ttest: 0.8147334\tbest: 0.8147334 (101)\ttotal: 16.2s\tremaining: 15.6s\n",
            "102:\ttest: 0.8152191\tbest: 0.8152191 (102)\ttotal: 16.4s\tremaining: 15.5s\n",
            "103:\ttest: 0.8165301\tbest: 0.8165301 (103)\ttotal: 16.6s\tremaining: 15.3s\n",
            "104:\ttest: 0.8160845\tbest: 0.8165301 (103)\ttotal: 16.8s\tremaining: 15.2s\n",
            "105:\ttest: 0.8173000\tbest: 0.8173000 (105)\ttotal: 16.9s\tremaining: 15s\n",
            "106:\ttest: 0.8182401\tbest: 0.8182401 (106)\ttotal: 17.1s\tremaining: 14.9s\n",
            "107:\ttest: 0.8191694\tbest: 0.8191694 (107)\ttotal: 17.3s\tremaining: 14.8s\n",
            "108:\ttest: 0.8199328\tbest: 0.8199328 (108)\ttotal: 17.4s\tremaining: 14.6s\n",
            "109:\ttest: 0.8205473\tbest: 0.8205473 (109)\ttotal: 17.6s\tremaining: 14.4s\n",
            "110:\ttest: 0.8212829\tbest: 0.8212829 (110)\ttotal: 17.8s\tremaining: 14.3s\n",
            "111:\ttest: 0.8219784\tbest: 0.8219784 (111)\ttotal: 18s\tremaining: 14.1s\n",
            "112:\ttest: 0.8215233\tbest: 0.8219784 (111)\ttotal: 18.1s\tremaining: 14s\n",
            "113:\ttest: 0.8215674\tbest: 0.8219784 (111)\ttotal: 18.3s\tremaining: 13.8s\n",
            "114:\ttest: 0.8215772\tbest: 0.8219784 (111)\ttotal: 18.5s\tremaining: 13.7s\n",
            "115:\ttest: 0.8224641\tbest: 0.8224641 (115)\ttotal: 18.6s\tremaining: 13.5s\n",
            "116:\ttest: 0.8232419\tbest: 0.8232419 (116)\ttotal: 18.8s\tremaining: 13.3s\n",
            "117:\ttest: 0.8231924\tbest: 0.8232419 (116)\ttotal: 19s\tremaining: 13.2s\n",
            "118:\ttest: 0.8238285\tbest: 0.8238285 (118)\ttotal: 19.2s\tremaining: 13.1s\n",
            "119:\ttest: 0.8234812\tbest: 0.8238285 (118)\ttotal: 19.4s\tremaining: 12.9s\n",
            "120:\ttest: 0.8239118\tbest: 0.8239118 (120)\ttotal: 19.6s\tremaining: 12.8s\n",
            "121:\ttest: 0.8242995\tbest: 0.8242995 (121)\ttotal: 19.7s\tremaining: 12.6s\n",
            "122:\ttest: 0.8246935\tbest: 0.8246935 (122)\ttotal: 19.9s\tremaining: 12.5s\n",
            "123:\ttest: 0.8253209\tbest: 0.8253209 (123)\ttotal: 20.1s\tremaining: 12.3s\n",
            "124:\ttest: 0.8251887\tbest: 0.8253209 (123)\ttotal: 20.3s\tremaining: 12.2s\n",
            "125:\ttest: 0.8259072\tbest: 0.8259072 (125)\ttotal: 20.4s\tremaining: 12s\n",
            "126:\ttest: 0.8261211\tbest: 0.8261211 (126)\ttotal: 20.6s\tremaining: 11.8s\n",
            "127:\ttest: 0.8265376\tbest: 0.8265376 (127)\ttotal: 20.8s\tremaining: 11.7s\n",
            "128:\ttest: 0.8268924\tbest: 0.8268924 (128)\ttotal: 21s\tremaining: 11.5s\n",
            "129:\ttest: 0.8274846\tbest: 0.8274846 (129)\ttotal: 21.1s\tremaining: 11.4s\n",
            "130:\ttest: 0.8283933\tbest: 0.8283933 (130)\ttotal: 21.3s\tremaining: 11.2s\n",
            "131:\ttest: 0.8286790\tbest: 0.8286790 (131)\ttotal: 21.5s\tremaining: 11.1s\n",
            "132:\ttest: 0.8282985\tbest: 0.8286790 (131)\ttotal: 21.7s\tremaining: 10.9s\n",
            "133:\ttest: 0.8284207\tbest: 0.8286790 (131)\ttotal: 21.9s\tremaining: 10.8s\n",
            "134:\ttest: 0.8284529\tbest: 0.8286790 (131)\ttotal: 22s\tremaining: 10.6s\n",
            "135:\ttest: 0.8287000\tbest: 0.8287000 (135)\ttotal: 22.2s\tremaining: 10.4s\n",
            "136:\ttest: 0.8286655\tbest: 0.8287000 (135)\ttotal: 22.4s\tremaining: 10.3s\n",
            "137:\ttest: 0.8286849\tbest: 0.8287000 (135)\ttotal: 22.6s\tremaining: 10.1s\n",
            "138:\ttest: 0.8286901\tbest: 0.8287000 (135)\ttotal: 22.8s\tremaining: 9.99s\n",
            "139:\ttest: 0.8288007\tbest: 0.8288007 (139)\ttotal: 22.9s\tremaining: 9.83s\n",
            "140:\ttest: 0.8289144\tbest: 0.8289144 (140)\ttotal: 23.1s\tremaining: 9.68s\n",
            "141:\ttest: 0.8288992\tbest: 0.8289144 (140)\ttotal: 23.3s\tremaining: 9.5s\n",
            "142:\ttest: 0.8289851\tbest: 0.8289851 (142)\ttotal: 23.4s\tremaining: 9.34s\n",
            "143:\ttest: 0.8292352\tbest: 0.8292352 (143)\ttotal: 23.6s\tremaining: 9.17s\n",
            "144:\ttest: 0.8292030\tbest: 0.8292352 (143)\ttotal: 23.8s\tremaining: 9.01s\n",
            "145:\ttest: 0.8291736\tbest: 0.8292352 (143)\ttotal: 23.9s\tremaining: 8.84s\n",
            "146:\ttest: 0.8290159\tbest: 0.8292352 (143)\ttotal: 24.1s\tremaining: 8.68s\n",
            "147:\ttest: 0.8289018\tbest: 0.8292352 (143)\ttotal: 24.2s\tremaining: 8.51s\n",
            "148:\ttest: 0.8289137\tbest: 0.8292352 (143)\ttotal: 24.4s\tremaining: 8.35s\n",
            "149:\ttest: 0.8293499\tbest: 0.8293499 (149)\ttotal: 24.5s\tremaining: 8.18s\n",
            "150:\ttest: 0.8295981\tbest: 0.8295981 (150)\ttotal: 24.7s\tremaining: 8.02s\n",
            "151:\ttest: 0.8295381\tbest: 0.8295981 (150)\ttotal: 24.8s\tremaining: 7.84s\n",
            "152:\ttest: 0.8297402\tbest: 0.8297402 (152)\ttotal: 25s\tremaining: 7.69s\n",
            "153:\ttest: 0.8296089\tbest: 0.8297402 (152)\ttotal: 25.2s\tremaining: 7.51s\n",
            "154:\ttest: 0.8294999\tbest: 0.8297402 (152)\ttotal: 25.3s\tremaining: 7.34s\n",
            "155:\ttest: 0.8294951\tbest: 0.8297402 (152)\ttotal: 25.5s\tremaining: 7.19s\n",
            "156:\ttest: 0.8297540\tbest: 0.8297540 (156)\ttotal: 25.6s\tremaining: 7.02s\n",
            "157:\ttest: 0.8294496\tbest: 0.8297540 (156)\ttotal: 25.8s\tremaining: 6.85s\n",
            "158:\ttest: 0.8298389\tbest: 0.8298389 (158)\ttotal: 26s\tremaining: 6.69s\n",
            "159:\ttest: 0.8296012\tbest: 0.8298389 (158)\ttotal: 26.1s\tremaining: 6.53s\n",
            "160:\ttest: 0.8297683\tbest: 0.8298389 (158)\ttotal: 26.3s\tremaining: 6.37s\n",
            "161:\ttest: 0.8296661\tbest: 0.8298389 (158)\ttotal: 26.5s\tremaining: 6.22s\n",
            "162:\ttest: 0.8302788\tbest: 0.8302788 (162)\ttotal: 26.7s\tremaining: 6.05s\n",
            "163:\ttest: 0.8304917\tbest: 0.8304917 (163)\ttotal: 26.8s\tremaining: 5.89s\n",
            "164:\ttest: 0.8306586\tbest: 0.8306586 (164)\ttotal: 27s\tremaining: 5.73s\n",
            "165:\ttest: 0.8311147\tbest: 0.8311147 (165)\ttotal: 27.2s\tremaining: 5.57s\n",
            "166:\ttest: 0.8312187\tbest: 0.8312187 (166)\ttotal: 27.4s\tremaining: 5.41s\n",
            "167:\ttest: 0.8318748\tbest: 0.8318748 (167)\ttotal: 27.6s\tremaining: 5.26s\n",
            "168:\ttest: 0.8315282\tbest: 0.8318748 (167)\ttotal: 27.8s\tremaining: 5.09s\n",
            "169:\ttest: 0.8317000\tbest: 0.8318748 (167)\ttotal: 27.9s\tremaining: 4.93s\n",
            "170:\ttest: 0.8319506\tbest: 0.8319506 (170)\ttotal: 28.1s\tremaining: 4.77s\n",
            "171:\ttest: 0.8321603\tbest: 0.8321603 (171)\ttotal: 28.3s\tremaining: 4.6s\n",
            "172:\ttest: 0.8324121\tbest: 0.8324121 (172)\ttotal: 28.4s\tremaining: 4.44s\n",
            "173:\ttest: 0.8326542\tbest: 0.8326542 (173)\ttotal: 28.7s\tremaining: 4.29s\n",
            "174:\ttest: 0.8332414\tbest: 0.8332414 (174)\ttotal: 28.9s\tremaining: 4.13s\n",
            "175:\ttest: 0.8330139\tbest: 0.8332414 (174)\ttotal: 29.1s\tremaining: 3.96s\n",
            "176:\ttest: 0.8327682\tbest: 0.8332414 (174)\ttotal: 29.2s\tremaining: 3.8s\n",
            "177:\ttest: 0.8325877\tbest: 0.8332414 (174)\ttotal: 29.4s\tremaining: 3.63s\n",
            "178:\ttest: 0.8327458\tbest: 0.8332414 (174)\ttotal: 29.6s\tremaining: 3.47s\n",
            "179:\ttest: 0.8330886\tbest: 0.8332414 (174)\ttotal: 29.8s\tremaining: 3.31s\n",
            "180:\ttest: 0.8329864\tbest: 0.8332414 (174)\ttotal: 30s\tremaining: 3.15s\n",
            "181:\ttest: 0.8326832\tbest: 0.8332414 (174)\ttotal: 30.2s\tremaining: 2.98s\n",
            "182:\ttest: 0.8328493\tbest: 0.8332414 (174)\ttotal: 30.3s\tremaining: 2.82s\n",
            "183:\ttest: 0.8325370\tbest: 0.8332414 (174)\ttotal: 30.5s\tremaining: 2.65s\n",
            "184:\ttest: 0.8328916\tbest: 0.8332414 (174)\ttotal: 30.6s\tremaining: 2.48s\n",
            "185:\ttest: 0.8333443\tbest: 0.8333443 (185)\ttotal: 30.8s\tremaining: 2.32s\n",
            "186:\ttest: 0.8333742\tbest: 0.8333742 (186)\ttotal: 31s\tremaining: 2.15s\n",
            "187:\ttest: 0.8335578\tbest: 0.8335578 (187)\ttotal: 31.1s\tremaining: 1.99s\n",
            "188:\ttest: 0.8332619\tbest: 0.8335578 (187)\ttotal: 31.3s\tremaining: 1.82s\n",
            "189:\ttest: 0.8336055\tbest: 0.8336055 (189)\ttotal: 31.4s\tremaining: 1.65s\n",
            "190:\ttest: 0.8337785\tbest: 0.8337785 (190)\ttotal: 31.6s\tremaining: 1.49s\n",
            "191:\ttest: 0.8340676\tbest: 0.8340676 (191)\ttotal: 31.8s\tremaining: 1.32s\n",
            "192:\ttest: 0.8341637\tbest: 0.8341637 (192)\ttotal: 32s\tremaining: 1.16s\n",
            "193:\ttest: 0.8340629\tbest: 0.8341637 (192)\ttotal: 32.1s\tremaining: 994ms\n",
            "194:\ttest: 0.8338062\tbest: 0.8341637 (192)\ttotal: 32.3s\tremaining: 827ms\n",
            "195:\ttest: 0.8340541\tbest: 0.8341637 (192)\ttotal: 32.4s\tremaining: 662ms\n",
            "196:\ttest: 0.8340909\tbest: 0.8341637 (192)\ttotal: 32.6s\tremaining: 496ms\n",
            "197:\ttest: 0.8344180\tbest: 0.8344180 (197)\ttotal: 32.8s\tremaining: 331ms\n",
            "198:\ttest: 0.8345161\tbest: 0.8345161 (198)\ttotal: 33s\tremaining: 166ms\n",
            "199:\ttest: 0.8343114\tbest: 0.8345161 (198)\ttotal: 33.2s\tremaining: 0us\n",
            "\n",
            "bestTest = 0.83451608\n",
            "bestIteration = 198\n",
            "\n",
            "Shrink model to first 199 iterations.\n",
            "Feature #38 eliminated\n",
            "Feature #39 eliminated\n",
            "Feature #40 eliminated\n",
            "Feature #41 eliminated\n",
            "Feature #42 eliminated\n",
            "Feature #20 eliminated\n",
            "Step #4 out of 5\n",
            "0:\ttest: 0.6117487\tbest: 0.6117487 (0)\ttotal: 205ms\tremaining: 40.8s\n",
            "1:\ttest: 0.6117818\tbest: 0.6117818 (1)\ttotal: 322ms\tremaining: 31.9s\n",
            "2:\ttest: 0.6471139\tbest: 0.6471139 (2)\ttotal: 534ms\tremaining: 35.1s\n",
            "3:\ttest: 0.6558469\tbest: 0.6558469 (3)\ttotal: 797ms\tremaining: 39.1s\n",
            "4:\ttest: 0.6555362\tbest: 0.6558469 (3)\ttotal: 971ms\tremaining: 37.9s\n",
            "5:\ttest: 0.6544169\tbest: 0.6558469 (3)\ttotal: 1.09s\tremaining: 35.3s\n",
            "6:\ttest: 0.6554857\tbest: 0.6558469 (3)\ttotal: 1.21s\tremaining: 33.4s\n",
            "7:\ttest: 0.6552639\tbest: 0.6558469 (3)\ttotal: 1.33s\tremaining: 32s\n",
            "8:\ttest: 0.6545996\tbest: 0.6558469 (3)\ttotal: 1.46s\tremaining: 31s\n",
            "9:\ttest: 0.6542400\tbest: 0.6558469 (3)\ttotal: 1.58s\tremaining: 30.1s\n",
            "10:\ttest: 0.6531930\tbest: 0.6558469 (3)\ttotal: 1.75s\tremaining: 30.1s\n",
            "11:\ttest: 0.6537058\tbest: 0.6558469 (3)\ttotal: 1.89s\tremaining: 29.7s\n",
            "12:\ttest: 0.6537420\tbest: 0.6558469 (3)\ttotal: 2.01s\tremaining: 28.9s\n",
            "13:\ttest: 0.6536252\tbest: 0.6558469 (3)\ttotal: 2.13s\tremaining: 28.3s\n",
            "14:\ttest: 0.6544233\tbest: 0.6558469 (3)\ttotal: 2.25s\tremaining: 27.8s\n",
            "15:\ttest: 0.6544494\tbest: 0.6558469 (3)\ttotal: 2.38s\tremaining: 27.3s\n",
            "16:\ttest: 0.6496848\tbest: 0.6558469 (3)\ttotal: 2.49s\tremaining: 26.8s\n",
            "17:\ttest: 0.6497793\tbest: 0.6558469 (3)\ttotal: 2.63s\tremaining: 26.6s\n",
            "18:\ttest: 0.6500058\tbest: 0.6558469 (3)\ttotal: 2.79s\tremaining: 26.5s\n",
            "19:\ttest: 0.6502378\tbest: 0.6558469 (3)\ttotal: 2.92s\tremaining: 26.3s\n",
            "20:\ttest: 0.6496126\tbest: 0.6558469 (3)\ttotal: 3.05s\tremaining: 26s\n",
            "21:\ttest: 0.6497786\tbest: 0.6558469 (3)\ttotal: 3.17s\tremaining: 25.7s\n",
            "22:\ttest: 0.6494225\tbest: 0.6558469 (3)\ttotal: 3.32s\tremaining: 25.5s\n",
            "23:\ttest: 0.6662305\tbest: 0.6662305 (23)\ttotal: 3.44s\tremaining: 25.2s\n",
            "24:\ttest: 0.6655699\tbest: 0.6662305 (23)\ttotal: 3.57s\tremaining: 25s\n",
            "25:\ttest: 0.6646893\tbest: 0.6662305 (23)\ttotal: 3.69s\tremaining: 24.7s\n",
            "26:\ttest: 0.6641029\tbest: 0.6662305 (23)\ttotal: 3.85s\tremaining: 24.7s\n",
            "27:\ttest: 0.6644823\tbest: 0.6662305 (23)\ttotal: 4s\tremaining: 24.6s\n",
            "28:\ttest: 0.6740818\tbest: 0.6740818 (28)\ttotal: 4.12s\tremaining: 24.3s\n",
            "29:\ttest: 0.6739744\tbest: 0.6740818 (28)\ttotal: 4.28s\tremaining: 24.3s\n",
            "30:\ttest: 0.6756511\tbest: 0.6756511 (30)\ttotal: 4.4s\tremaining: 24s\n",
            "31:\ttest: 0.6754601\tbest: 0.6756511 (30)\ttotal: 4.52s\tremaining: 23.7s\n",
            "32:\ttest: 0.6746957\tbest: 0.6756511 (30)\ttotal: 4.64s\tremaining: 23.5s\n",
            "33:\ttest: 0.6791612\tbest: 0.6791612 (33)\ttotal: 4.77s\tremaining: 23.3s\n",
            "34:\ttest: 0.6784294\tbest: 0.6791612 (33)\ttotal: 4.95s\tremaining: 23.3s\n",
            "35:\ttest: 0.6990907\tbest: 0.6990907 (35)\ttotal: 5.09s\tremaining: 23.2s\n",
            "36:\ttest: 0.6989776\tbest: 0.6990907 (35)\ttotal: 5.22s\tremaining: 23s\n",
            "37:\ttest: 0.7085727\tbest: 0.7085727 (37)\ttotal: 5.34s\tremaining: 22.8s\n",
            "38:\ttest: 0.7109915\tbest: 0.7109915 (38)\ttotal: 5.46s\tremaining: 22.5s\n",
            "39:\ttest: 0.7149895\tbest: 0.7149895 (39)\ttotal: 5.62s\tremaining: 22.5s\n",
            "40:\ttest: 0.7149647\tbest: 0.7149895 (39)\ttotal: 5.75s\tremaining: 22.3s\n",
            "41:\ttest: 0.7168886\tbest: 0.7168886 (41)\ttotal: 5.88s\tremaining: 22.1s\n",
            "42:\ttest: 0.7376791\tbest: 0.7376791 (42)\ttotal: 6.08s\tremaining: 22.2s\n",
            "43:\ttest: 0.7385711\tbest: 0.7385711 (43)\ttotal: 6.22s\tremaining: 22s\n",
            "44:\ttest: 0.7454768\tbest: 0.7454768 (44)\ttotal: 6.37s\tremaining: 22s\n",
            "45:\ttest: 0.7465128\tbest: 0.7465128 (45)\ttotal: 6.49s\tremaining: 21.7s\n",
            "46:\ttest: 0.7479757\tbest: 0.7479757 (46)\ttotal: 6.62s\tremaining: 21.5s\n",
            "47:\ttest: 0.7560250\tbest: 0.7560250 (47)\ttotal: 6.75s\tremaining: 21.4s\n",
            "48:\ttest: 0.7654688\tbest: 0.7654688 (48)\ttotal: 6.91s\tremaining: 21.3s\n",
            "49:\ttest: 0.7697079\tbest: 0.7697079 (49)\ttotal: 7.09s\tremaining: 21.3s\n",
            "50:\ttest: 0.7723059\tbest: 0.7723059 (50)\ttotal: 7.21s\tremaining: 21.1s\n",
            "51:\ttest: 0.7730469\tbest: 0.7730469 (51)\ttotal: 7.37s\tremaining: 21s\n",
            "52:\ttest: 0.7736215\tbest: 0.7736215 (52)\ttotal: 7.55s\tremaining: 21s\n",
            "53:\ttest: 0.7734639\tbest: 0.7736215 (52)\ttotal: 7.68s\tremaining: 20.8s\n",
            "54:\ttest: 0.7785807\tbest: 0.7785807 (54)\ttotal: 7.84s\tremaining: 20.7s\n",
            "55:\ttest: 0.7782191\tbest: 0.7785807 (54)\ttotal: 7.97s\tremaining: 20.5s\n",
            "56:\ttest: 0.7782077\tbest: 0.7785807 (54)\ttotal: 8.15s\tremaining: 20.4s\n",
            "57:\ttest: 0.7772609\tbest: 0.7785807 (54)\ttotal: 8.27s\tremaining: 20.2s\n",
            "58:\ttest: 0.7776373\tbest: 0.7785807 (54)\ttotal: 8.39s\tremaining: 20.1s\n",
            "59:\ttest: 0.7793739\tbest: 0.7793739 (59)\ttotal: 8.54s\tremaining: 19.9s\n",
            "60:\ttest: 0.7798425\tbest: 0.7798425 (60)\ttotal: 8.71s\tremaining: 19.8s\n",
            "61:\ttest: 0.7827953\tbest: 0.7827953 (61)\ttotal: 8.86s\tremaining: 19.7s\n",
            "62:\ttest: 0.7823537\tbest: 0.7827953 (61)\ttotal: 9.02s\tremaining: 19.6s\n",
            "63:\ttest: 0.7832172\tbest: 0.7832172 (63)\ttotal: 9.2s\tremaining: 19.6s\n",
            "64:\ttest: 0.7830669\tbest: 0.7832172 (63)\ttotal: 9.33s\tremaining: 19.4s\n",
            "65:\ttest: 0.7824813\tbest: 0.7832172 (63)\ttotal: 9.52s\tremaining: 19.3s\n",
            "66:\ttest: 0.7839283\tbest: 0.7839283 (66)\ttotal: 9.65s\tremaining: 19.2s\n",
            "67:\ttest: 0.7843446\tbest: 0.7843446 (67)\ttotal: 9.8s\tremaining: 19s\n",
            "68:\ttest: 0.7847766\tbest: 0.7847766 (68)\ttotal: 9.96s\tremaining: 18.9s\n",
            "69:\ttest: 0.7872441\tbest: 0.7872441 (69)\ttotal: 10.1s\tremaining: 18.8s\n",
            "70:\ttest: 0.7892739\tbest: 0.7892739 (70)\ttotal: 10.3s\tremaining: 18.8s\n",
            "71:\ttest: 0.7911037\tbest: 0.7911037 (71)\ttotal: 10.5s\tremaining: 18.6s\n",
            "72:\ttest: 0.7903906\tbest: 0.7911037 (71)\ttotal: 10.6s\tremaining: 18.5s\n",
            "73:\ttest: 0.7924319\tbest: 0.7924319 (73)\ttotal: 10.8s\tremaining: 18.4s\n",
            "74:\ttest: 0.7942045\tbest: 0.7942045 (74)\ttotal: 10.9s\tremaining: 18.2s\n",
            "75:\ttest: 0.7967079\tbest: 0.7967079 (75)\ttotal: 11.1s\tremaining: 18.1s\n",
            "76:\ttest: 0.7966642\tbest: 0.7967079 (75)\ttotal: 11.3s\tremaining: 18.1s\n",
            "77:\ttest: 0.7962938\tbest: 0.7967079 (75)\ttotal: 11.5s\tremaining: 18s\n",
            "78:\ttest: 0.7978402\tbest: 0.7978402 (78)\ttotal: 11.6s\tremaining: 17.8s\n",
            "79:\ttest: 0.7998851\tbest: 0.7998851 (79)\ttotal: 11.8s\tremaining: 17.7s\n",
            "80:\ttest: 0.8015945\tbest: 0.8015945 (80)\ttotal: 11.9s\tremaining: 17.5s\n",
            "81:\ttest: 0.8018458\tbest: 0.8018458 (81)\ttotal: 12.1s\tremaining: 17.4s\n",
            "82:\ttest: 0.8037539\tbest: 0.8037539 (82)\ttotal: 12.3s\tremaining: 17.3s\n",
            "83:\ttest: 0.8056124\tbest: 0.8056124 (83)\ttotal: 12.5s\tremaining: 17.2s\n",
            "84:\ttest: 0.8071027\tbest: 0.8071027 (84)\ttotal: 12.6s\tremaining: 17.1s\n",
            "85:\ttest: 0.8082525\tbest: 0.8082525 (85)\ttotal: 12.8s\tremaining: 17s\n",
            "86:\ttest: 0.8097310\tbest: 0.8097310 (86)\ttotal: 13s\tremaining: 16.8s\n",
            "87:\ttest: 0.8106650\tbest: 0.8106650 (87)\ttotal: 13.1s\tremaining: 16.7s\n",
            "88:\ttest: 0.8110370\tbest: 0.8110370 (88)\ttotal: 13.3s\tremaining: 16.6s\n",
            "89:\ttest: 0.8121152\tbest: 0.8121152 (89)\ttotal: 13.6s\tremaining: 16.6s\n",
            "90:\ttest: 0.8128216\tbest: 0.8128216 (90)\ttotal: 13.8s\tremaining: 16.5s\n",
            "91:\ttest: 0.8142674\tbest: 0.8142674 (91)\ttotal: 13.9s\tremaining: 16.3s\n",
            "92:\ttest: 0.8151414\tbest: 0.8151414 (92)\ttotal: 14s\tremaining: 16.2s\n",
            "93:\ttest: 0.8157548\tbest: 0.8157548 (93)\ttotal: 14.2s\tremaining: 16s\n",
            "94:\ttest: 0.8162276\tbest: 0.8162276 (94)\ttotal: 14.4s\tremaining: 15.9s\n",
            "95:\ttest: 0.8166861\tbest: 0.8166861 (95)\ttotal: 14.6s\tremaining: 15.8s\n",
            "96:\ttest: 0.8166288\tbest: 0.8166861 (95)\ttotal: 14.7s\tremaining: 15.6s\n",
            "97:\ttest: 0.8164100\tbest: 0.8166861 (95)\ttotal: 14.9s\tremaining: 15.5s\n",
            "98:\ttest: 0.8168114\tbest: 0.8168114 (98)\ttotal: 15.1s\tremaining: 15.4s\n",
            "99:\ttest: 0.8170484\tbest: 0.8170484 (99)\ttotal: 15.2s\tremaining: 15.2s\n",
            "100:\ttest: 0.8179931\tbest: 0.8179931 (100)\ttotal: 15.4s\tremaining: 15.1s\n",
            "101:\ttest: 0.8180817\tbest: 0.8180817 (101)\ttotal: 15.5s\tremaining: 14.9s\n",
            "102:\ttest: 0.8177940\tbest: 0.8180817 (101)\ttotal: 15.7s\tremaining: 14.8s\n",
            "103:\ttest: 0.8186251\tbest: 0.8186251 (103)\ttotal: 15.9s\tremaining: 14.7s\n",
            "104:\ttest: 0.8183220\tbest: 0.8186251 (103)\ttotal: 16.1s\tremaining: 14.5s\n",
            "105:\ttest: 0.8187564\tbest: 0.8187564 (105)\ttotal: 16.3s\tremaining: 14.4s\n",
            "106:\ttest: 0.8192929\tbest: 0.8192929 (106)\ttotal: 16.4s\tremaining: 14.2s\n",
            "107:\ttest: 0.8198230\tbest: 0.8198230 (107)\ttotal: 16.5s\tremaining: 14.1s\n",
            "108:\ttest: 0.8204184\tbest: 0.8204184 (108)\ttotal: 16.7s\tremaining: 14s\n",
            "109:\ttest: 0.8208406\tbest: 0.8208406 (109)\ttotal: 16.9s\tremaining: 13.8s\n",
            "110:\ttest: 0.8207186\tbest: 0.8208406 (109)\ttotal: 17.1s\tremaining: 13.7s\n",
            "111:\ttest: 0.8214992\tbest: 0.8214992 (111)\ttotal: 17.3s\tremaining: 13.6s\n",
            "112:\ttest: 0.8224397\tbest: 0.8224397 (112)\ttotal: 17.4s\tremaining: 13.4s\n",
            "113:\ttest: 0.8235218\tbest: 0.8235218 (113)\ttotal: 17.6s\tremaining: 13.3s\n",
            "114:\ttest: 0.8237491\tbest: 0.8237491 (114)\ttotal: 17.8s\tremaining: 13.2s\n",
            "115:\ttest: 0.8242797\tbest: 0.8242797 (115)\ttotal: 18s\tremaining: 13s\n",
            "116:\ttest: 0.8240687\tbest: 0.8242797 (115)\ttotal: 18.1s\tremaining: 12.9s\n",
            "117:\ttest: 0.8242158\tbest: 0.8242797 (115)\ttotal: 18.3s\tremaining: 12.7s\n",
            "118:\ttest: 0.8250498\tbest: 0.8250498 (118)\ttotal: 18.4s\tremaining: 12.6s\n",
            "119:\ttest: 0.8258994\tbest: 0.8258994 (119)\ttotal: 18.6s\tremaining: 12.4s\n",
            "120:\ttest: 0.8259042\tbest: 0.8259042 (120)\ttotal: 18.8s\tremaining: 12.3s\n",
            "121:\ttest: 0.8261619\tbest: 0.8261619 (121)\ttotal: 19s\tremaining: 12.1s\n",
            "122:\ttest: 0.8264530\tbest: 0.8264530 (122)\ttotal: 19.1s\tremaining: 12s\n",
            "123:\ttest: 0.8273308\tbest: 0.8273308 (123)\ttotal: 19.3s\tremaining: 11.8s\n",
            "124:\ttest: 0.8279206\tbest: 0.8279206 (124)\ttotal: 19.5s\tremaining: 11.7s\n",
            "125:\ttest: 0.8282711\tbest: 0.8282711 (125)\ttotal: 19.6s\tremaining: 11.5s\n",
            "126:\ttest: 0.8285063\tbest: 0.8285063 (126)\ttotal: 19.9s\tremaining: 11.4s\n",
            "127:\ttest: 0.8287080\tbest: 0.8287080 (127)\ttotal: 20s\tremaining: 11.3s\n",
            "128:\ttest: 0.8286015\tbest: 0.8287080 (127)\ttotal: 20.2s\tremaining: 11.1s\n",
            "129:\ttest: 0.8289870\tbest: 0.8289870 (129)\ttotal: 20.4s\tremaining: 11s\n",
            "130:\ttest: 0.8291808\tbest: 0.8291808 (130)\ttotal: 20.5s\tremaining: 10.8s\n",
            "131:\ttest: 0.8288682\tbest: 0.8291808 (130)\ttotal: 20.6s\tremaining: 10.6s\n",
            "132:\ttest: 0.8290354\tbest: 0.8291808 (130)\ttotal: 20.8s\tremaining: 10.5s\n",
            "133:\ttest: 0.8289264\tbest: 0.8291808 (130)\ttotal: 21s\tremaining: 10.4s\n",
            "134:\ttest: 0.8291921\tbest: 0.8291921 (134)\ttotal: 21.2s\tremaining: 10.2s\n",
            "135:\ttest: 0.8293965\tbest: 0.8293965 (135)\ttotal: 21.3s\tremaining: 10s\n",
            "136:\ttest: 0.8296587\tbest: 0.8296587 (136)\ttotal: 21.5s\tremaining: 9.88s\n",
            "137:\ttest: 0.8294822\tbest: 0.8296587 (136)\ttotal: 21.7s\tremaining: 9.73s\n",
            "138:\ttest: 0.8291812\tbest: 0.8296587 (136)\ttotal: 21.8s\tremaining: 9.58s\n",
            "139:\ttest: 0.8289649\tbest: 0.8296587 (136)\ttotal: 22s\tremaining: 9.43s\n",
            "140:\ttest: 0.8291258\tbest: 0.8296587 (136)\ttotal: 22.2s\tremaining: 9.28s\n",
            "141:\ttest: 0.8288626\tbest: 0.8296587 (136)\ttotal: 22.3s\tremaining: 9.13s\n",
            "142:\ttest: 0.8290123\tbest: 0.8296587 (136)\ttotal: 22.5s\tremaining: 8.97s\n",
            "143:\ttest: 0.8288771\tbest: 0.8296587 (136)\ttotal: 22.7s\tremaining: 8.82s\n",
            "144:\ttest: 0.8296885\tbest: 0.8296885 (144)\ttotal: 22.8s\tremaining: 8.66s\n",
            "145:\ttest: 0.8299255\tbest: 0.8299255 (145)\ttotal: 23s\tremaining: 8.52s\n",
            "146:\ttest: 0.8299418\tbest: 0.8299418 (146)\ttotal: 23.2s\tremaining: 8.37s\n",
            "147:\ttest: 0.8296989\tbest: 0.8299418 (146)\ttotal: 23.4s\tremaining: 8.21s\n",
            "148:\ttest: 0.8301988\tbest: 0.8301988 (148)\ttotal: 23.5s\tremaining: 8.05s\n",
            "149:\ttest: 0.8303117\tbest: 0.8303117 (149)\ttotal: 23.7s\tremaining: 7.9s\n",
            "150:\ttest: 0.8304511\tbest: 0.8304511 (150)\ttotal: 23.9s\tremaining: 7.74s\n",
            "151:\ttest: 0.8303626\tbest: 0.8304511 (150)\ttotal: 24s\tremaining: 7.57s\n",
            "152:\ttest: 0.8309465\tbest: 0.8309465 (152)\ttotal: 24.2s\tremaining: 7.43s\n",
            "153:\ttest: 0.8310479\tbest: 0.8310479 (153)\ttotal: 24.3s\tremaining: 7.27s\n",
            "154:\ttest: 0.8309096\tbest: 0.8310479 (153)\ttotal: 24.5s\tremaining: 7.12s\n",
            "155:\ttest: 0.8306731\tbest: 0.8310479 (153)\ttotal: 24.7s\tremaining: 6.96s\n",
            "156:\ttest: 0.8306177\tbest: 0.8310479 (153)\ttotal: 24.8s\tremaining: 6.79s\n",
            "157:\ttest: 0.8303187\tbest: 0.8310479 (153)\ttotal: 24.9s\tremaining: 6.63s\n",
            "158:\ttest: 0.8301937\tbest: 0.8310479 (153)\ttotal: 25.1s\tremaining: 6.46s\n",
            "159:\ttest: 0.8299862\tbest: 0.8310479 (153)\ttotal: 25.2s\tremaining: 6.31s\n",
            "160:\ttest: 0.8295791\tbest: 0.8310479 (153)\ttotal: 25.4s\tremaining: 6.15s\n",
            "161:\ttest: 0.8293584\tbest: 0.8310479 (153)\ttotal: 25.5s\tremaining: 5.98s\n",
            "162:\ttest: 0.8294719\tbest: 0.8310479 (153)\ttotal: 25.7s\tremaining: 5.83s\n",
            "163:\ttest: 0.8296582\tbest: 0.8310479 (153)\ttotal: 25.8s\tremaining: 5.67s\n",
            "164:\ttest: 0.8292567\tbest: 0.8310479 (153)\ttotal: 26s\tremaining: 5.51s\n",
            "165:\ttest: 0.8294601\tbest: 0.8310479 (153)\ttotal: 26.1s\tremaining: 5.35s\n",
            "166:\ttest: 0.8290009\tbest: 0.8310479 (153)\ttotal: 26.3s\tremaining: 5.2s\n",
            "167:\ttest: 0.8287560\tbest: 0.8310479 (153)\ttotal: 26.4s\tremaining: 5.04s\n",
            "168:\ttest: 0.8284667\tbest: 0.8310479 (153)\ttotal: 26.6s\tremaining: 4.88s\n",
            "169:\ttest: 0.8287108\tbest: 0.8310479 (153)\ttotal: 26.7s\tremaining: 4.72s\n",
            "170:\ttest: 0.8288016\tbest: 0.8310479 (153)\ttotal: 26.9s\tremaining: 4.56s\n",
            "171:\ttest: 0.8289311\tbest: 0.8310479 (153)\ttotal: 27s\tremaining: 4.4s\n",
            "172:\ttest: 0.8291424\tbest: 0.8310479 (153)\ttotal: 27.2s\tremaining: 4.24s\n",
            "173:\ttest: 0.8289076\tbest: 0.8310479 (153)\ttotal: 27.4s\tremaining: 4.09s\n",
            "174:\ttest: 0.8285507\tbest: 0.8310479 (153)\ttotal: 27.5s\tremaining: 3.93s\n",
            "175:\ttest: 0.8283029\tbest: 0.8310479 (153)\ttotal: 27.6s\tremaining: 3.77s\n",
            "176:\ttest: 0.8284583\tbest: 0.8310479 (153)\ttotal: 27.8s\tremaining: 3.61s\n",
            "177:\ttest: 0.8287033\tbest: 0.8310479 (153)\ttotal: 27.9s\tremaining: 3.45s\n",
            "178:\ttest: 0.8292685\tbest: 0.8310479 (153)\ttotal: 28.1s\tremaining: 3.29s\n",
            "179:\ttest: 0.8289458\tbest: 0.8310479 (153)\ttotal: 28.2s\tremaining: 3.13s\n",
            "180:\ttest: 0.8292336\tbest: 0.8310479 (153)\ttotal: 28.5s\tremaining: 2.99s\n",
            "181:\ttest: 0.8287668\tbest: 0.8310479 (153)\ttotal: 28.7s\tremaining: 2.83s\n",
            "182:\ttest: 0.8288977\tbest: 0.8310479 (153)\ttotal: 28.8s\tremaining: 2.68s\n",
            "183:\ttest: 0.8285732\tbest: 0.8310479 (153)\ttotal: 29s\tremaining: 2.52s\n",
            "184:\ttest: 0.8287308\tbest: 0.8310479 (153)\ttotal: 29.1s\tremaining: 2.36s\n",
            "185:\ttest: 0.8285167\tbest: 0.8310479 (153)\ttotal: 29.2s\tremaining: 2.2s\n",
            "186:\ttest: 0.8286394\tbest: 0.8310479 (153)\ttotal: 29.4s\tremaining: 2.04s\n",
            "187:\ttest: 0.8288871\tbest: 0.8310479 (153)\ttotal: 29.6s\tremaining: 1.89s\n",
            "188:\ttest: 0.8285133\tbest: 0.8310479 (153)\ttotal: 29.8s\tremaining: 1.73s\n",
            "189:\ttest: 0.8286999\tbest: 0.8310479 (153)\ttotal: 30s\tremaining: 1.58s\n",
            "190:\ttest: 0.8289503\tbest: 0.8310479 (153)\ttotal: 30.1s\tremaining: 1.42s\n",
            "191:\ttest: 0.8285864\tbest: 0.8310479 (153)\ttotal: 30.3s\tremaining: 1.26s\n",
            "192:\ttest: 0.8287228\tbest: 0.8310479 (153)\ttotal: 30.4s\tremaining: 1.1s\n",
            "193:\ttest: 0.8284358\tbest: 0.8310479 (153)\ttotal: 30.6s\tremaining: 948ms\n",
            "194:\ttest: 0.8282543\tbest: 0.8310479 (153)\ttotal: 30.8s\tremaining: 790ms\n",
            "195:\ttest: 0.8285692\tbest: 0.8310479 (153)\ttotal: 31s\tremaining: 632ms\n",
            "196:\ttest: 0.8284055\tbest: 0.8310479 (153)\ttotal: 31.2s\tremaining: 475ms\n",
            "197:\ttest: 0.8284988\tbest: 0.8310479 (153)\ttotal: 31.3s\tremaining: 316ms\n",
            "198:\ttest: 0.8282224\tbest: 0.8310479 (153)\ttotal: 31.4s\tremaining: 158ms\n",
            "199:\ttest: 0.8282618\tbest: 0.8310479 (153)\ttotal: 31.6s\tremaining: 0us\n",
            "\n",
            "bestTest = 0.8310478646\n",
            "bestIteration = 153\n",
            "\n",
            "Shrink model to first 154 iterations.\n",
            "Feature #29 eliminated\n",
            "Feature #21 eliminated\n",
            "Feature #26 eliminated\n",
            "Feature #25 eliminated\n",
            "Step #5 out of 5\n",
            "0:\ttest: 0.6118086\tbest: 0.6118086 (0)\ttotal: 218ms\tremaining: 43.4s\n",
            "1:\ttest: 0.6526301\tbest: 0.6526301 (1)\ttotal: 397ms\tremaining: 39.3s\n",
            "2:\ttest: 0.6522313\tbest: 0.6526301 (1)\ttotal: 521ms\tremaining: 34.2s\n",
            "3:\ttest: 0.6549673\tbest: 0.6549673 (3)\ttotal: 625ms\tremaining: 30.6s\n",
            "4:\ttest: 0.6553816\tbest: 0.6553816 (4)\ttotal: 737ms\tremaining: 28.7s\n",
            "5:\ttest: 0.6553997\tbest: 0.6553997 (5)\ttotal: 904ms\tremaining: 29.2s\n",
            "6:\ttest: 0.6534475\tbest: 0.6553997 (5)\ttotal: 1.03s\tremaining: 28.4s\n",
            "7:\ttest: 0.6534322\tbest: 0.6553997 (5)\ttotal: 1.13s\tremaining: 27.2s\n",
            "8:\ttest: 0.6541478\tbest: 0.6553997 (5)\ttotal: 1.29s\tremaining: 27.4s\n",
            "9:\ttest: 0.6532277\tbest: 0.6553997 (5)\ttotal: 1.42s\tremaining: 26.9s\n",
            "10:\ttest: 0.6530371\tbest: 0.6553997 (5)\ttotal: 1.53s\tremaining: 26.3s\n",
            "11:\ttest: 0.6530573\tbest: 0.6553997 (5)\ttotal: 1.63s\tremaining: 25.6s\n",
            "12:\ttest: 0.6562694\tbest: 0.6562694 (12)\ttotal: 1.78s\tremaining: 25.6s\n",
            "13:\ttest: 0.6485535\tbest: 0.6562694 (12)\ttotal: 1.91s\tremaining: 25.3s\n",
            "14:\ttest: 0.6483545\tbest: 0.6562694 (12)\ttotal: 2.03s\tremaining: 25s\n",
            "15:\ttest: 0.6479212\tbest: 0.6562694 (12)\ttotal: 2.13s\tremaining: 24.5s\n",
            "16:\ttest: 0.6480079\tbest: 0.6562694 (12)\ttotal: 2.24s\tremaining: 24.2s\n",
            "17:\ttest: 0.6478760\tbest: 0.6562694 (12)\ttotal: 2.41s\tremaining: 24.3s\n",
            "18:\ttest: 0.6481344\tbest: 0.6562694 (12)\ttotal: 2.53s\tremaining: 24.1s\n",
            "19:\ttest: 0.6478702\tbest: 0.6562694 (12)\ttotal: 2.64s\tremaining: 23.8s\n",
            "20:\ttest: 0.6482414\tbest: 0.6562694 (12)\ttotal: 2.75s\tremaining: 23.4s\n",
            "21:\ttest: 0.6467549\tbest: 0.6562694 (12)\ttotal: 2.85s\tremaining: 23.1s\n",
            "22:\ttest: 0.6467178\tbest: 0.6562694 (12)\ttotal: 2.96s\tremaining: 22.8s\n",
            "23:\ttest: 0.6479088\tbest: 0.6562694 (12)\ttotal: 3.08s\tremaining: 22.6s\n",
            "24:\ttest: 0.6476434\tbest: 0.6562694 (12)\ttotal: 3.19s\tremaining: 22.3s\n",
            "25:\ttest: 0.6478006\tbest: 0.6562694 (12)\ttotal: 3.29s\tremaining: 22s\n",
            "26:\ttest: 0.6480467\tbest: 0.6562694 (12)\ttotal: 3.47s\tremaining: 22.2s\n",
            "27:\ttest: 0.6478895\tbest: 0.6562694 (12)\ttotal: 3.57s\tremaining: 21.9s\n",
            "28:\ttest: 0.6477540\tbest: 0.6562694 (12)\ttotal: 3.68s\tremaining: 21.7s\n",
            "29:\ttest: 0.6477797\tbest: 0.6562694 (12)\ttotal: 3.79s\tremaining: 21.5s\n",
            "30:\ttest: 0.6845238\tbest: 0.6845238 (30)\ttotal: 3.91s\tremaining: 21.3s\n",
            "31:\ttest: 0.6846222\tbest: 0.6846222 (31)\ttotal: 4.02s\tremaining: 21.1s\n",
            "32:\ttest: 0.6842892\tbest: 0.6846222 (31)\ttotal: 4.14s\tremaining: 20.9s\n",
            "33:\ttest: 0.6902283\tbest: 0.6902283 (33)\ttotal: 4.24s\tremaining: 20.7s\n",
            "34:\ttest: 0.6985504\tbest: 0.6985504 (34)\ttotal: 4.37s\tremaining: 20.6s\n",
            "35:\ttest: 0.7011817\tbest: 0.7011817 (35)\ttotal: 4.54s\tremaining: 20.7s\n",
            "36:\ttest: 0.7016348\tbest: 0.7016348 (36)\ttotal: 4.66s\tremaining: 20.6s\n",
            "37:\ttest: 0.7044011\tbest: 0.7044011 (37)\ttotal: 4.77s\tremaining: 20.3s\n",
            "38:\ttest: 0.7310437\tbest: 0.7310437 (38)\ttotal: 4.92s\tremaining: 20.3s\n",
            "39:\ttest: 0.7390891\tbest: 0.7390891 (39)\ttotal: 5.06s\tremaining: 20.2s\n",
            "40:\ttest: 0.7531152\tbest: 0.7531152 (40)\ttotal: 5.18s\tremaining: 20.1s\n",
            "41:\ttest: 0.7605518\tbest: 0.7605518 (41)\ttotal: 5.28s\tremaining: 19.9s\n",
            "42:\ttest: 0.7614073\tbest: 0.7614073 (42)\ttotal: 5.43s\tremaining: 19.8s\n",
            "43:\ttest: 0.7649393\tbest: 0.7649393 (43)\ttotal: 5.59s\tremaining: 19.8s\n",
            "44:\ttest: 0.7674419\tbest: 0.7674419 (44)\ttotal: 5.73s\tremaining: 19.7s\n",
            "45:\ttest: 0.7665587\tbest: 0.7674419 (44)\ttotal: 5.85s\tremaining: 19.6s\n",
            "46:\ttest: 0.7704554\tbest: 0.7704554 (46)\ttotal: 5.96s\tremaining: 19.4s\n",
            "47:\ttest: 0.7715148\tbest: 0.7715148 (47)\ttotal: 6.06s\tremaining: 19.2s\n",
            "48:\ttest: 0.7776167\tbest: 0.7776167 (48)\ttotal: 6.18s\tremaining: 19.1s\n",
            "49:\ttest: 0.7779442\tbest: 0.7779442 (49)\ttotal: 6.29s\tremaining: 18.9s\n",
            "50:\ttest: 0.7824543\tbest: 0.7824543 (50)\ttotal: 6.41s\tremaining: 18.7s\n",
            "51:\ttest: 0.7812826\tbest: 0.7824543 (50)\ttotal: 6.51s\tremaining: 18.5s\n",
            "52:\ttest: 0.7788796\tbest: 0.7824543 (50)\ttotal: 6.67s\tremaining: 18.5s\n",
            "53:\ttest: 0.7792238\tbest: 0.7824543 (50)\ttotal: 6.82s\tremaining: 18.4s\n",
            "54:\ttest: 0.7799320\tbest: 0.7824543 (50)\ttotal: 6.93s\tremaining: 18.3s\n",
            "55:\ttest: 0.7840526\tbest: 0.7840526 (55)\ttotal: 7.03s\tremaining: 18.1s\n",
            "56:\ttest: 0.7838054\tbest: 0.7840526 (55)\ttotal: 7.18s\tremaining: 18s\n",
            "57:\ttest: 0.7870879\tbest: 0.7870879 (57)\ttotal: 7.28s\tremaining: 17.8s\n",
            "58:\ttest: 0.7850108\tbest: 0.7870879 (57)\ttotal: 7.4s\tremaining: 17.7s\n",
            "59:\ttest: 0.7853978\tbest: 0.7870879 (57)\ttotal: 7.51s\tremaining: 17.5s\n",
            "60:\ttest: 0.7891009\tbest: 0.7891009 (60)\ttotal: 7.69s\tremaining: 17.5s\n",
            "61:\ttest: 0.7916566\tbest: 0.7916566 (61)\ttotal: 7.82s\tremaining: 17.4s\n",
            "62:\ttest: 0.7900904\tbest: 0.7916566 (61)\ttotal: 7.92s\tremaining: 17.2s\n",
            "63:\ttest: 0.7905389\tbest: 0.7916566 (61)\ttotal: 8.03s\tremaining: 17.1s\n",
            "64:\ttest: 0.7921095\tbest: 0.7921095 (64)\ttotal: 8.19s\tremaining: 17s\n",
            "65:\ttest: 0.7952972\tbest: 0.7952972 (65)\ttotal: 8.34s\tremaining: 16.9s\n",
            "66:\ttest: 0.7975263\tbest: 0.7975263 (66)\ttotal: 8.46s\tremaining: 16.8s\n",
            "67:\ttest: 0.8001680\tbest: 0.8001680 (67)\ttotal: 8.59s\tremaining: 16.7s\n",
            "68:\ttest: 0.8018131\tbest: 0.8018131 (68)\ttotal: 8.77s\tremaining: 16.7s\n",
            "69:\ttest: 0.8037787\tbest: 0.8037787 (69)\ttotal: 8.92s\tremaining: 16.6s\n",
            "70:\ttest: 0.8051877\tbest: 0.8051877 (70)\ttotal: 9.06s\tremaining: 16.5s\n",
            "71:\ttest: 0.8043408\tbest: 0.8051877 (70)\ttotal: 9.22s\tremaining: 16.4s\n",
            "72:\ttest: 0.8060979\tbest: 0.8060979 (72)\ttotal: 9.35s\tremaining: 16.3s\n",
            "73:\ttest: 0.8081257\tbest: 0.8081257 (73)\ttotal: 9.49s\tremaining: 16.2s\n",
            "74:\ttest: 0.8074620\tbest: 0.8081257 (73)\ttotal: 9.65s\tremaining: 16.1s\n",
            "75:\ttest: 0.8076779\tbest: 0.8081257 (73)\ttotal: 9.85s\tremaining: 16.1s\n",
            "76:\ttest: 0.8068688\tbest: 0.8081257 (73)\ttotal: 9.99s\tremaining: 16s\n",
            "77:\ttest: 0.8085881\tbest: 0.8085881 (77)\ttotal: 10.1s\tremaining: 15.8s\n",
            "78:\ttest: 0.8099536\tbest: 0.8099536 (78)\ttotal: 10.3s\tremaining: 15.7s\n",
            "79:\ttest: 0.8099175\tbest: 0.8099536 (78)\ttotal: 10.4s\tremaining: 15.6s\n",
            "80:\ttest: 0.8098916\tbest: 0.8099536 (78)\ttotal: 10.6s\tremaining: 15.5s\n",
            "81:\ttest: 0.8097293\tbest: 0.8099536 (78)\ttotal: 10.7s\tremaining: 15.4s\n",
            "82:\ttest: 0.8100143\tbest: 0.8100143 (82)\ttotal: 10.8s\tremaining: 15.2s\n",
            "83:\ttest: 0.8099630\tbest: 0.8100143 (82)\ttotal: 11s\tremaining: 15.2s\n",
            "84:\ttest: 0.8102963\tbest: 0.8102963 (84)\ttotal: 11.1s\tremaining: 15s\n",
            "85:\ttest: 0.8102201\tbest: 0.8102963 (84)\ttotal: 11.2s\tremaining: 14.9s\n",
            "86:\ttest: 0.8104621\tbest: 0.8104621 (86)\ttotal: 11.3s\tremaining: 14.7s\n",
            "87:\ttest: 0.8105740\tbest: 0.8105740 (87)\ttotal: 11.5s\tremaining: 14.6s\n",
            "88:\ttest: 0.8106539\tbest: 0.8106539 (88)\ttotal: 11.6s\tremaining: 14.4s\n",
            "89:\ttest: 0.8119765\tbest: 0.8119765 (89)\ttotal: 11.7s\tremaining: 14.3s\n",
            "90:\ttest: 0.8120976\tbest: 0.8120976 (90)\ttotal: 11.8s\tremaining: 14.1s\n",
            "91:\ttest: 0.8130721\tbest: 0.8130721 (91)\ttotal: 11.9s\tremaining: 14s\n",
            "92:\ttest: 0.8129734\tbest: 0.8130721 (91)\ttotal: 12.2s\tremaining: 14s\n",
            "93:\ttest: 0.8130898\tbest: 0.8130898 (93)\ttotal: 12.3s\tremaining: 13.8s\n",
            "94:\ttest: 0.8132445\tbest: 0.8132445 (94)\ttotal: 12.4s\tremaining: 13.7s\n",
            "95:\ttest: 0.8138264\tbest: 0.8138264 (95)\ttotal: 12.5s\tremaining: 13.6s\n",
            "96:\ttest: 0.8148994\tbest: 0.8148994 (96)\ttotal: 12.7s\tremaining: 13.5s\n",
            "97:\ttest: 0.8149841\tbest: 0.8149841 (97)\ttotal: 12.8s\tremaining: 13.3s\n",
            "98:\ttest: 0.8154222\tbest: 0.8154222 (98)\ttotal: 12.9s\tremaining: 13.1s\n",
            "99:\ttest: 0.8159496\tbest: 0.8159496 (99)\ttotal: 13s\tremaining: 13s\n",
            "100:\ttest: 0.8169574\tbest: 0.8169574 (100)\ttotal: 13.2s\tremaining: 12.9s\n",
            "101:\ttest: 0.8178405\tbest: 0.8178405 (101)\ttotal: 13.3s\tremaining: 12.8s\n",
            "102:\ttest: 0.8175875\tbest: 0.8178405 (101)\ttotal: 13.4s\tremaining: 12.7s\n",
            "103:\ttest: 0.8181151\tbest: 0.8181151 (103)\ttotal: 13.6s\tremaining: 12.5s\n",
            "104:\ttest: 0.8182144\tbest: 0.8182144 (104)\ttotal: 13.7s\tremaining: 12.4s\n",
            "105:\ttest: 0.8189590\tbest: 0.8189590 (105)\ttotal: 13.8s\tremaining: 12.3s\n",
            "106:\ttest: 0.8193062\tbest: 0.8193062 (106)\ttotal: 14s\tremaining: 12.1s\n",
            "107:\ttest: 0.8200746\tbest: 0.8200746 (107)\ttotal: 14.1s\tremaining: 12s\n",
            "108:\ttest: 0.8204620\tbest: 0.8204620 (108)\ttotal: 14.3s\tremaining: 11.9s\n",
            "109:\ttest: 0.8206598\tbest: 0.8206598 (109)\ttotal: 14.4s\tremaining: 11.8s\n",
            "110:\ttest: 0.8211174\tbest: 0.8211174 (110)\ttotal: 14.6s\tremaining: 11.7s\n",
            "111:\ttest: 0.8211555\tbest: 0.8211555 (111)\ttotal: 14.8s\tremaining: 11.6s\n",
            "112:\ttest: 0.8214477\tbest: 0.8214477 (112)\ttotal: 14.9s\tremaining: 11.5s\n",
            "113:\ttest: 0.8214081\tbest: 0.8214477 (112)\ttotal: 15s\tremaining: 11.3s\n",
            "114:\ttest: 0.8217240\tbest: 0.8217240 (114)\ttotal: 15.1s\tremaining: 11.2s\n",
            "115:\ttest: 0.8223960\tbest: 0.8223960 (115)\ttotal: 15.3s\tremaining: 11.1s\n",
            "116:\ttest: 0.8231267\tbest: 0.8231267 (116)\ttotal: 15.5s\tremaining: 11s\n",
            "117:\ttest: 0.8234662\tbest: 0.8234662 (117)\ttotal: 15.6s\tremaining: 10.9s\n",
            "118:\ttest: 0.8236921\tbest: 0.8236921 (118)\ttotal: 15.8s\tremaining: 10.7s\n",
            "119:\ttest: 0.8239793\tbest: 0.8239793 (119)\ttotal: 15.9s\tremaining: 10.6s\n",
            "120:\ttest: 0.8240099\tbest: 0.8240099 (120)\ttotal: 16s\tremaining: 10.5s\n",
            "121:\ttest: 0.8243151\tbest: 0.8243151 (121)\ttotal: 16.2s\tremaining: 10.3s\n",
            "122:\ttest: 0.8246480\tbest: 0.8246480 (122)\ttotal: 16.5s\tremaining: 10.3s\n",
            "123:\ttest: 0.8250826\tbest: 0.8250826 (123)\ttotal: 16.8s\tremaining: 10.3s\n",
            "124:\ttest: 0.8253172\tbest: 0.8253172 (124)\ttotal: 17s\tremaining: 10.2s\n",
            "125:\ttest: 0.8259111\tbest: 0.8259111 (125)\ttotal: 17.3s\tremaining: 10.2s\n",
            "126:\ttest: 0.8260021\tbest: 0.8260021 (126)\ttotal: 17.7s\tremaining: 10.2s\n",
            "127:\ttest: 0.8260554\tbest: 0.8260554 (127)\ttotal: 18.2s\tremaining: 10.2s\n",
            "128:\ttest: 0.8257847\tbest: 0.8260554 (127)\ttotal: 18.6s\tremaining: 10.2s\n",
            "129:\ttest: 0.8263764\tbest: 0.8263764 (129)\ttotal: 19s\tremaining: 10.3s\n",
            "130:\ttest: 0.8271668\tbest: 0.8271668 (130)\ttotal: 19.3s\tremaining: 10.2s\n",
            "131:\ttest: 0.8275847\tbest: 0.8275847 (131)\ttotal: 19.6s\tremaining: 10.1s\n",
            "132:\ttest: 0.8275314\tbest: 0.8275847 (131)\ttotal: 19.8s\tremaining: 9.99s\n",
            "133:\ttest: 0.8277044\tbest: 0.8277044 (133)\ttotal: 20.2s\tremaining: 9.94s\n",
            "134:\ttest: 0.8282155\tbest: 0.8282155 (134)\ttotal: 20.5s\tremaining: 9.88s\n",
            "135:\ttest: 0.8289336\tbest: 0.8289336 (135)\ttotal: 20.8s\tremaining: 9.8s\n",
            "136:\ttest: 0.8287956\tbest: 0.8289336 (135)\ttotal: 21s\tremaining: 9.68s\n",
            "137:\ttest: 0.8289890\tbest: 0.8289890 (137)\ttotal: 21.3s\tremaining: 9.58s\n",
            "138:\ttest: 0.8290593\tbest: 0.8290593 (138)\ttotal: 21.6s\tremaining: 9.48s\n",
            "139:\ttest: 0.8293956\tbest: 0.8293956 (139)\ttotal: 21.9s\tremaining: 9.38s\n",
            "140:\ttest: 0.8297386\tbest: 0.8297386 (140)\ttotal: 22.3s\tremaining: 9.33s\n",
            "141:\ttest: 0.8303912\tbest: 0.8303912 (141)\ttotal: 22.7s\tremaining: 9.27s\n",
            "142:\ttest: 0.8303111\tbest: 0.8303912 (141)\ttotal: 23.2s\tremaining: 9.24s\n",
            "143:\ttest: 0.8300763\tbest: 0.8303912 (141)\ttotal: 23.7s\tremaining: 9.2s\n",
            "144:\ttest: 0.8302360\tbest: 0.8303912 (141)\ttotal: 23.9s\tremaining: 9.07s\n",
            "145:\ttest: 0.8306127\tbest: 0.8306127 (145)\ttotal: 24.1s\tremaining: 8.93s\n",
            "146:\ttest: 0.8310578\tbest: 0.8310578 (146)\ttotal: 24.5s\tremaining: 8.84s\n",
            "147:\ttest: 0.8309423\tbest: 0.8310578 (146)\ttotal: 24.9s\tremaining: 8.75s\n",
            "148:\ttest: 0.8313774\tbest: 0.8313774 (148)\ttotal: 25.2s\tremaining: 8.64s\n",
            "149:\ttest: 0.8317880\tbest: 0.8317880 (149)\ttotal: 25.4s\tremaining: 8.48s\n",
            "150:\ttest: 0.8318836\tbest: 0.8318836 (150)\ttotal: 25.7s\tremaining: 8.33s\n",
            "151:\ttest: 0.8321676\tbest: 0.8321676 (151)\ttotal: 26s\tremaining: 8.21s\n",
            "152:\ttest: 0.8320394\tbest: 0.8321676 (151)\ttotal: 26.2s\tremaining: 8.05s\n",
            "153:\ttest: 0.8324221\tbest: 0.8324221 (153)\ttotal: 26.4s\tremaining: 7.89s\n",
            "154:\ttest: 0.8321974\tbest: 0.8324221 (153)\ttotal: 26.6s\tremaining: 7.74s\n",
            "155:\ttest: 0.8325843\tbest: 0.8325843 (155)\ttotal: 26.9s\tremaining: 7.59s\n",
            "156:\ttest: 0.8332545\tbest: 0.8332545 (156)\ttotal: 27.2s\tremaining: 7.44s\n",
            "157:\ttest: 0.8334966\tbest: 0.8334966 (157)\ttotal: 27.5s\tremaining: 7.3s\n",
            "158:\ttest: 0.8336311\tbest: 0.8336311 (158)\ttotal: 27.7s\tremaining: 7.14s\n",
            "159:\ttest: 0.8338446\tbest: 0.8338446 (159)\ttotal: 28s\tremaining: 7s\n",
            "160:\ttest: 0.8341401\tbest: 0.8341401 (160)\ttotal: 28.4s\tremaining: 6.88s\n",
            "161:\ttest: 0.8344046\tbest: 0.8344046 (161)\ttotal: 28.8s\tremaining: 6.74s\n",
            "162:\ttest: 0.8346777\tbest: 0.8346777 (162)\ttotal: 29s\tremaining: 6.59s\n",
            "163:\ttest: 0.8348268\tbest: 0.8348268 (163)\ttotal: 29.4s\tremaining: 6.46s\n",
            "164:\ttest: 0.8346209\tbest: 0.8348268 (163)\ttotal: 29.8s\tremaining: 6.31s\n",
            "165:\ttest: 0.8347302\tbest: 0.8348268 (163)\ttotal: 30s\tremaining: 6.15s\n",
            "166:\ttest: 0.8349880\tbest: 0.8349880 (166)\ttotal: 30.3s\tremaining: 5.99s\n",
            "167:\ttest: 0.8348529\tbest: 0.8349880 (166)\ttotal: 30.7s\tremaining: 5.85s\n",
            "168:\ttest: 0.8347884\tbest: 0.8349880 (166)\ttotal: 30.8s\tremaining: 5.66s\n",
            "169:\ttest: 0.8350903\tbest: 0.8350903 (169)\ttotal: 31s\tremaining: 5.47s\n",
            "170:\ttest: 0.8353419\tbest: 0.8353419 (170)\ttotal: 31.1s\tremaining: 5.28s\n",
            "171:\ttest: 0.8352418\tbest: 0.8353419 (170)\ttotal: 31.3s\tremaining: 5.09s\n",
            "172:\ttest: 0.8354649\tbest: 0.8354649 (172)\ttotal: 31.4s\tremaining: 4.9s\n",
            "173:\ttest: 0.8352419\tbest: 0.8354649 (172)\ttotal: 31.6s\tremaining: 4.72s\n",
            "174:\ttest: 0.8355212\tbest: 0.8355212 (174)\ttotal: 31.7s\tremaining: 4.54s\n",
            "175:\ttest: 0.8354682\tbest: 0.8355212 (174)\ttotal: 31.9s\tremaining: 4.35s\n",
            "176:\ttest: 0.8354331\tbest: 0.8355212 (174)\ttotal: 32.1s\tremaining: 4.16s\n",
            "177:\ttest: 0.8352081\tbest: 0.8355212 (174)\ttotal: 32.2s\tremaining: 3.98s\n",
            "178:\ttest: 0.8353008\tbest: 0.8355212 (174)\ttotal: 32.3s\tremaining: 3.79s\n",
            "179:\ttest: 0.8354005\tbest: 0.8355212 (174)\ttotal: 32.5s\tremaining: 3.61s\n",
            "180:\ttest: 0.8355919\tbest: 0.8355919 (180)\ttotal: 32.6s\tremaining: 3.42s\n",
            "181:\ttest: 0.8355988\tbest: 0.8355988 (181)\ttotal: 32.8s\tremaining: 3.24s\n",
            "182:\ttest: 0.8357923\tbest: 0.8357923 (182)\ttotal: 32.9s\tremaining: 3.06s\n",
            "183:\ttest: 0.8358899\tbest: 0.8358899 (183)\ttotal: 33.1s\tremaining: 2.87s\n",
            "184:\ttest: 0.8359532\tbest: 0.8359532 (184)\ttotal: 33.2s\tremaining: 2.69s\n",
            "185:\ttest: 0.8361246\tbest: 0.8361246 (185)\ttotal: 33.3s\tremaining: 2.51s\n",
            "186:\ttest: 0.8363889\tbest: 0.8363889 (186)\ttotal: 33.4s\tremaining: 2.32s\n",
            "187:\ttest: 0.8363948\tbest: 0.8363948 (187)\ttotal: 33.6s\tremaining: 2.14s\n",
            "188:\ttest: 0.8365448\tbest: 0.8365448 (188)\ttotal: 33.8s\tremaining: 1.96s\n",
            "189:\ttest: 0.8367352\tbest: 0.8367352 (189)\ttotal: 33.9s\tremaining: 1.78s\n",
            "190:\ttest: 0.8369521\tbest: 0.8369521 (190)\ttotal: 34s\tremaining: 1.6s\n",
            "191:\ttest: 0.8367278\tbest: 0.8369521 (190)\ttotal: 34.2s\tremaining: 1.42s\n",
            "192:\ttest: 0.8363886\tbest: 0.8369521 (190)\ttotal: 34.3s\tremaining: 1.24s\n",
            "193:\ttest: 0.8364819\tbest: 0.8369521 (190)\ttotal: 34.4s\tremaining: 1.06s\n",
            "194:\ttest: 0.8368481\tbest: 0.8369521 (190)\ttotal: 34.6s\tremaining: 887ms\n",
            "195:\ttest: 0.8370376\tbest: 0.8370376 (195)\ttotal: 34.8s\tremaining: 711ms\n",
            "196:\ttest: 0.8371732\tbest: 0.8371732 (196)\ttotal: 35s\tremaining: 533ms\n",
            "197:\ttest: 0.8373687\tbest: 0.8373687 (197)\ttotal: 35.1s\tremaining: 355ms\n",
            "198:\ttest: 0.8375151\tbest: 0.8375151 (198)\ttotal: 35.2s\tremaining: 177ms\n",
            "199:\ttest: 0.8377131\tbest: 0.8377131 (199)\ttotal: 35.4s\tremaining: 0us\n",
            "\n",
            "bestTest = 0.837713111\n",
            "bestIteration = 199\n",
            "\n",
            "Feature #30 eliminated\n",
            "Feature #24 eliminated\n",
            "Feature #27 eliminated\n",
            "Feature #28 eliminated\n",
            "Train final model\n",
            "0:\ttest: 0.6368501\tbest: 0.6368501 (0)\ttotal: 138ms\tremaining: 27.4s\n",
            "1:\ttest: 0.6534339\tbest: 0.6534339 (1)\ttotal: 301ms\tremaining: 29.8s\n",
            "2:\ttest: 0.6513548\tbest: 0.6534339 (1)\ttotal: 440ms\tremaining: 28.9s\n",
            "3:\ttest: 0.6602042\tbest: 0.6602042 (3)\ttotal: 559ms\tremaining: 27.4s\n",
            "4:\ttest: 0.6625686\tbest: 0.6625686 (4)\ttotal: 653ms\tremaining: 25.5s\n",
            "5:\ttest: 0.6592792\tbest: 0.6625686 (4)\ttotal: 783ms\tremaining: 25.3s\n",
            "6:\ttest: 0.6602732\tbest: 0.6625686 (4)\ttotal: 882ms\tremaining: 24.3s\n",
            "7:\ttest: 0.6602978\tbest: 0.6625686 (4)\ttotal: 968ms\tremaining: 23.2s\n",
            "8:\ttest: 0.6599544\tbest: 0.6625686 (4)\ttotal: 1.05s\tremaining: 22.4s\n",
            "9:\ttest: 0.6641283\tbest: 0.6641283 (9)\ttotal: 1.14s\tremaining: 21.7s\n",
            "10:\ttest: 0.6575765\tbest: 0.6641283 (9)\ttotal: 1.26s\tremaining: 21.6s\n",
            "11:\ttest: 0.6533307\tbest: 0.6641283 (9)\ttotal: 1.34s\tremaining: 21.1s\n",
            "12:\ttest: 0.6552118\tbest: 0.6641283 (9)\ttotal: 1.43s\tremaining: 20.6s\n",
            "13:\ttest: 0.6530903\tbest: 0.6641283 (9)\ttotal: 1.57s\tremaining: 20.9s\n",
            "14:\ttest: 0.6536851\tbest: 0.6641283 (9)\ttotal: 1.68s\tremaining: 20.7s\n",
            "15:\ttest: 0.6529700\tbest: 0.6641283 (9)\ttotal: 1.76s\tremaining: 20.3s\n",
            "16:\ttest: 0.6538710\tbest: 0.6641283 (9)\ttotal: 1.85s\tremaining: 19.9s\n",
            "17:\ttest: 0.6513773\tbest: 0.6641283 (9)\ttotal: 1.94s\tremaining: 19.6s\n",
            "18:\ttest: 0.6503325\tbest: 0.6641283 (9)\ttotal: 2.02s\tremaining: 19.3s\n",
            "19:\ttest: 0.6512121\tbest: 0.6641283 (9)\ttotal: 2.11s\tremaining: 19s\n",
            "20:\ttest: 0.6508633\tbest: 0.6641283 (9)\ttotal: 2.21s\tremaining: 18.8s\n",
            "21:\ttest: 0.6518405\tbest: 0.6641283 (9)\ttotal: 2.3s\tremaining: 18.6s\n",
            "22:\ttest: 0.6518130\tbest: 0.6641283 (9)\ttotal: 2.39s\tremaining: 18.4s\n",
            "23:\ttest: 0.6532064\tbest: 0.6641283 (9)\ttotal: 2.47s\tremaining: 18.1s\n",
            "24:\ttest: 0.6526043\tbest: 0.6641283 (9)\ttotal: 2.7s\tremaining: 18.9s\n",
            "25:\ttest: 0.6529134\tbest: 0.6641283 (9)\ttotal: 2.8s\tremaining: 18.8s\n",
            "26:\ttest: 0.6517670\tbest: 0.6641283 (9)\ttotal: 2.89s\tremaining: 18.5s\n",
            "27:\ttest: 0.6516617\tbest: 0.6641283 (9)\ttotal: 2.99s\tremaining: 18.4s\n",
            "28:\ttest: 0.6497320\tbest: 0.6641283 (9)\ttotal: 3.07s\tremaining: 18.1s\n",
            "29:\ttest: 0.6493498\tbest: 0.6641283 (9)\ttotal: 3.16s\tremaining: 17.9s\n",
            "30:\ttest: 0.6504876\tbest: 0.6641283 (9)\ttotal: 3.28s\tremaining: 17.9s\n",
            "31:\ttest: 0.6515119\tbest: 0.6641283 (9)\ttotal: 3.37s\tremaining: 17.7s\n",
            "32:\ttest: 0.6516565\tbest: 0.6641283 (9)\ttotal: 3.45s\tremaining: 17.5s\n",
            "33:\ttest: 0.6810441\tbest: 0.6810441 (33)\ttotal: 3.55s\tremaining: 17.3s\n",
            "34:\ttest: 0.7207096\tbest: 0.7207096 (34)\ttotal: 3.66s\tremaining: 17.2s\n",
            "35:\ttest: 0.7196731\tbest: 0.7207096 (34)\ttotal: 3.81s\tremaining: 17.4s\n",
            "36:\ttest: 0.7215765\tbest: 0.7215765 (36)\ttotal: 3.9s\tremaining: 17.2s\n",
            "37:\ttest: 0.7218426\tbest: 0.7218426 (37)\ttotal: 3.99s\tremaining: 17s\n",
            "38:\ttest: 0.7362848\tbest: 0.7362848 (38)\ttotal: 4.08s\tremaining: 16.9s\n",
            "39:\ttest: 0.7388797\tbest: 0.7388797 (39)\ttotal: 4.17s\tremaining: 16.7s\n",
            "40:\ttest: 0.7357500\tbest: 0.7388797 (39)\ttotal: 4.27s\tremaining: 16.6s\n",
            "41:\ttest: 0.7445445\tbest: 0.7445445 (41)\ttotal: 4.39s\tremaining: 16.5s\n",
            "42:\ttest: 0.7458372\tbest: 0.7458372 (42)\ttotal: 4.47s\tremaining: 16.3s\n",
            "43:\ttest: 0.7494095\tbest: 0.7494095 (43)\ttotal: 4.58s\tremaining: 16.2s\n",
            "44:\ttest: 0.7580183\tbest: 0.7580183 (44)\ttotal: 4.7s\tremaining: 16.2s\n",
            "45:\ttest: 0.7590148\tbest: 0.7590148 (45)\ttotal: 4.84s\tremaining: 16.2s\n",
            "46:\ttest: 0.7683758\tbest: 0.7683758 (46)\ttotal: 4.94s\tremaining: 16.1s\n",
            "47:\ttest: 0.7682416\tbest: 0.7683758 (46)\ttotal: 5.03s\tremaining: 15.9s\n",
            "48:\ttest: 0.7685803\tbest: 0.7685803 (48)\ttotal: 5.13s\tremaining: 15.8s\n",
            "49:\ttest: 0.7683066\tbest: 0.7685803 (48)\ttotal: 5.22s\tremaining: 15.7s\n",
            "50:\ttest: 0.7678371\tbest: 0.7685803 (48)\ttotal: 5.32s\tremaining: 15.6s\n",
            "51:\ttest: 0.7718530\tbest: 0.7718530 (51)\ttotal: 5.41s\tremaining: 15.4s\n",
            "52:\ttest: 0.7757049\tbest: 0.7757049 (52)\ttotal: 5.5s\tremaining: 15.2s\n",
            "53:\ttest: 0.7778646\tbest: 0.7778646 (53)\ttotal: 5.58s\tremaining: 15.1s\n",
            "54:\ttest: 0.7807599\tbest: 0.7807599 (54)\ttotal: 5.67s\tremaining: 14.9s\n",
            "55:\ttest: 0.7801310\tbest: 0.7807599 (54)\ttotal: 5.76s\tremaining: 14.8s\n",
            "56:\ttest: 0.7816027\tbest: 0.7816027 (56)\ttotal: 5.93s\tremaining: 14.9s\n",
            "57:\ttest: 0.7815775\tbest: 0.7816027 (56)\ttotal: 6.03s\tremaining: 14.8s\n",
            "58:\ttest: 0.7821336\tbest: 0.7821336 (58)\ttotal: 6.12s\tremaining: 14.6s\n",
            "59:\ttest: 0.7858193\tbest: 0.7858193 (59)\ttotal: 6.21s\tremaining: 14.5s\n",
            "60:\ttest: 0.7847069\tbest: 0.7858193 (59)\ttotal: 6.31s\tremaining: 14.4s\n",
            "61:\ttest: 0.7871016\tbest: 0.7871016 (61)\ttotal: 6.4s\tremaining: 14.3s\n",
            "62:\ttest: 0.7890828\tbest: 0.7890828 (62)\ttotal: 6.5s\tremaining: 14.1s\n",
            "63:\ttest: 0.7922880\tbest: 0.7922880 (63)\ttotal: 6.59s\tremaining: 14s\n",
            "64:\ttest: 0.7943596\tbest: 0.7943596 (64)\ttotal: 6.69s\tremaining: 13.9s\n",
            "65:\ttest: 0.7931294\tbest: 0.7943596 (64)\ttotal: 6.79s\tremaining: 13.8s\n",
            "66:\ttest: 0.7952147\tbest: 0.7952147 (66)\ttotal: 6.88s\tremaining: 13.6s\n",
            "67:\ttest: 0.7981589\tbest: 0.7981589 (67)\ttotal: 7.04s\tremaining: 13.7s\n",
            "68:\ttest: 0.7972387\tbest: 0.7981589 (67)\ttotal: 7.13s\tremaining: 13.5s\n",
            "69:\ttest: 0.7980690\tbest: 0.7981589 (67)\ttotal: 7.24s\tremaining: 13.4s\n",
            "70:\ttest: 0.8005692\tbest: 0.8005692 (70)\ttotal: 7.36s\tremaining: 13.4s\n",
            "71:\ttest: 0.8026221\tbest: 0.8026221 (71)\ttotal: 7.47s\tremaining: 13.3s\n",
            "72:\ttest: 0.8041382\tbest: 0.8041382 (72)\ttotal: 7.59s\tremaining: 13.2s\n",
            "73:\ttest: 0.8044944\tbest: 0.8044944 (73)\ttotal: 7.69s\tremaining: 13.1s\n",
            "74:\ttest: 0.8033748\tbest: 0.8044944 (73)\ttotal: 7.81s\tremaining: 13s\n",
            "75:\ttest: 0.8051074\tbest: 0.8051074 (75)\ttotal: 7.89s\tremaining: 12.9s\n",
            "76:\ttest: 0.8040726\tbest: 0.8051074 (75)\ttotal: 8s\tremaining: 12.8s\n",
            "77:\ttest: 0.8054280\tbest: 0.8054280 (77)\ttotal: 8.17s\tremaining: 12.8s\n",
            "78:\ttest: 0.8066322\tbest: 0.8066322 (78)\ttotal: 8.27s\tremaining: 12.7s\n",
            "79:\ttest: 0.8074870\tbest: 0.8074870 (79)\ttotal: 8.37s\tremaining: 12.6s\n",
            "80:\ttest: 0.8085702\tbest: 0.8085702 (80)\ttotal: 8.47s\tremaining: 12.4s\n",
            "81:\ttest: 0.8098215\tbest: 0.8098215 (81)\ttotal: 8.56s\tremaining: 12.3s\n",
            "82:\ttest: 0.8089625\tbest: 0.8098215 (81)\ttotal: 8.68s\tremaining: 12.2s\n",
            "83:\ttest: 0.8079860\tbest: 0.8098215 (81)\ttotal: 8.79s\tremaining: 12.1s\n",
            "84:\ttest: 0.8095452\tbest: 0.8098215 (81)\ttotal: 8.91s\tremaining: 12s\n",
            "85:\ttest: 0.8109874\tbest: 0.8109874 (85)\ttotal: 9s\tremaining: 11.9s\n",
            "86:\ttest: 0.8100601\tbest: 0.8109874 (85)\ttotal: 9.17s\tremaining: 11.9s\n",
            "87:\ttest: 0.8101873\tbest: 0.8109874 (85)\ttotal: 9.29s\tremaining: 11.8s\n",
            "88:\ttest: 0.8113598\tbest: 0.8113598 (88)\ttotal: 9.42s\tremaining: 11.7s\n",
            "89:\ttest: 0.8129347\tbest: 0.8129347 (89)\ttotal: 9.51s\tremaining: 11.6s\n",
            "90:\ttest: 0.8137435\tbest: 0.8137435 (90)\ttotal: 9.61s\tremaining: 11.5s\n",
            "91:\ttest: 0.8133433\tbest: 0.8137435 (90)\ttotal: 9.7s\tremaining: 11.4s\n",
            "92:\ttest: 0.8145782\tbest: 0.8145782 (92)\ttotal: 9.79s\tremaining: 11.3s\n",
            "93:\ttest: 0.8157272\tbest: 0.8157272 (93)\ttotal: 9.89s\tremaining: 11.2s\n",
            "94:\ttest: 0.8169880\tbest: 0.8169880 (94)\ttotal: 10s\tremaining: 11.1s\n",
            "95:\ttest: 0.8180727\tbest: 0.8180727 (95)\ttotal: 10.1s\tremaining: 11s\n",
            "96:\ttest: 0.8188704\tbest: 0.8188704 (96)\ttotal: 10.3s\tremaining: 10.9s\n",
            "97:\ttest: 0.8201410\tbest: 0.8201410 (97)\ttotal: 10.4s\tremaining: 10.8s\n",
            "98:\ttest: 0.8211794\tbest: 0.8211794 (98)\ttotal: 10.5s\tremaining: 10.8s\n",
            "99:\ttest: 0.8214922\tbest: 0.8214922 (99)\ttotal: 10.7s\tremaining: 10.7s\n",
            "100:\ttest: 0.8220296\tbest: 0.8220296 (100)\ttotal: 10.8s\tremaining: 10.5s\n",
            "101:\ttest: 0.8231171\tbest: 0.8231171 (101)\ttotal: 10.9s\tremaining: 10.4s\n",
            "102:\ttest: 0.8234430\tbest: 0.8234430 (102)\ttotal: 11s\tremaining: 10.3s\n",
            "103:\ttest: 0.8230186\tbest: 0.8234430 (102)\ttotal: 11.1s\tremaining: 10.3s\n",
            "104:\ttest: 0.8233231\tbest: 0.8234430 (102)\ttotal: 11.2s\tremaining: 10.2s\n",
            "105:\ttest: 0.8229048\tbest: 0.8234430 (102)\ttotal: 11.4s\tremaining: 10.1s\n",
            "106:\ttest: 0.8237376\tbest: 0.8237376 (106)\ttotal: 11.5s\tremaining: 10s\n",
            "107:\ttest: 0.8244841\tbest: 0.8244841 (107)\ttotal: 11.7s\tremaining: 9.92s\n",
            "108:\ttest: 0.8251563\tbest: 0.8251563 (108)\ttotal: 11.8s\tremaining: 9.81s\n",
            "109:\ttest: 0.8258183\tbest: 0.8258183 (109)\ttotal: 11.9s\tremaining: 9.7s\n",
            "110:\ttest: 0.8266846\tbest: 0.8266846 (110)\ttotal: 11.9s\tremaining: 9.58s\n",
            "111:\ttest: 0.8270675\tbest: 0.8270675 (111)\ttotal: 12.1s\tremaining: 9.47s\n",
            "112:\ttest: 0.8269889\tbest: 0.8270675 (111)\ttotal: 12.2s\tremaining: 9.38s\n",
            "113:\ttest: 0.8269262\tbest: 0.8270675 (111)\ttotal: 12.3s\tremaining: 9.25s\n",
            "114:\ttest: 0.8267464\tbest: 0.8270675 (111)\ttotal: 12.4s\tremaining: 9.2s\n",
            "115:\ttest: 0.8266027\tbest: 0.8270675 (111)\ttotal: 12.6s\tremaining: 9.11s\n",
            "116:\ttest: 0.8268353\tbest: 0.8270675 (111)\ttotal: 12.7s\tremaining: 9s\n",
            "117:\ttest: 0.8270278\tbest: 0.8270675 (111)\ttotal: 12.8s\tremaining: 8.9s\n",
            "118:\ttest: 0.8269903\tbest: 0.8270675 (111)\ttotal: 12.9s\tremaining: 8.78s\n",
            "119:\ttest: 0.8276488\tbest: 0.8276488 (119)\ttotal: 13s\tremaining: 8.67s\n",
            "120:\ttest: 0.8280426\tbest: 0.8280426 (120)\ttotal: 13.1s\tremaining: 8.57s\n",
            "121:\ttest: 0.8280237\tbest: 0.8280426 (120)\ttotal: 13.2s\tremaining: 8.46s\n",
            "122:\ttest: 0.8279887\tbest: 0.8280426 (120)\ttotal: 13.3s\tremaining: 8.34s\n",
            "123:\ttest: 0.8279074\tbest: 0.8280426 (120)\ttotal: 13.4s\tremaining: 8.23s\n",
            "124:\ttest: 0.8279106\tbest: 0.8280426 (120)\ttotal: 13.6s\tremaining: 8.14s\n",
            "125:\ttest: 0.8278783\tbest: 0.8280426 (120)\ttotal: 13.7s\tremaining: 8.02s\n",
            "126:\ttest: 0.8281555\tbest: 0.8281555 (126)\ttotal: 13.8s\tremaining: 7.9s\n",
            "127:\ttest: 0.8280394\tbest: 0.8281555 (126)\ttotal: 13.8s\tremaining: 7.78s\n",
            "128:\ttest: 0.8279474\tbest: 0.8281555 (126)\ttotal: 13.9s\tremaining: 7.67s\n",
            "129:\ttest: 0.8278949\tbest: 0.8281555 (126)\ttotal: 14s\tremaining: 7.56s\n",
            "130:\ttest: 0.8281707\tbest: 0.8281707 (130)\ttotal: 14.2s\tremaining: 7.46s\n",
            "131:\ttest: 0.8284252\tbest: 0.8284252 (131)\ttotal: 14.3s\tremaining: 7.34s\n",
            "132:\ttest: 0.8284417\tbest: 0.8284417 (132)\ttotal: 14.3s\tremaining: 7.22s\n",
            "133:\ttest: 0.8286848\tbest: 0.8286848 (133)\ttotal: 14.5s\tremaining: 7.12s\n",
            "134:\ttest: 0.8293211\tbest: 0.8293211 (134)\ttotal: 14.6s\tremaining: 7.05s\n",
            "135:\ttest: 0.8298136\tbest: 0.8298136 (135)\ttotal: 14.7s\tremaining: 6.94s\n",
            "136:\ttest: 0.8297727\tbest: 0.8298136 (135)\ttotal: 14.8s\tremaining: 6.82s\n",
            "137:\ttest: 0.8295771\tbest: 0.8298136 (135)\ttotal: 14.9s\tremaining: 6.7s\n",
            "138:\ttest: 0.8295472\tbest: 0.8298136 (135)\ttotal: 15s\tremaining: 6.59s\n",
            "139:\ttest: 0.8299075\tbest: 0.8299075 (139)\ttotal: 15.1s\tremaining: 6.48s\n",
            "140:\ttest: 0.8300315\tbest: 0.8300315 (140)\ttotal: 15.3s\tremaining: 6.38s\n",
            "141:\ttest: 0.8296668\tbest: 0.8300315 (140)\ttotal: 15.3s\tremaining: 6.27s\n",
            "142:\ttest: 0.8298483\tbest: 0.8300315 (140)\ttotal: 15.5s\tremaining: 6.16s\n",
            "143:\ttest: 0.8302934\tbest: 0.8302934 (143)\ttotal: 15.6s\tremaining: 6.07s\n",
            "144:\ttest: 0.8301570\tbest: 0.8302934 (143)\ttotal: 15.7s\tremaining: 5.97s\n",
            "145:\ttest: 0.8298636\tbest: 0.8302934 (143)\ttotal: 15.8s\tremaining: 5.86s\n",
            "146:\ttest: 0.8300670\tbest: 0.8302934 (143)\ttotal: 15.9s\tremaining: 5.74s\n",
            "147:\ttest: 0.8299470\tbest: 0.8302934 (143)\ttotal: 16s\tremaining: 5.63s\n",
            "148:\ttest: 0.8299794\tbest: 0.8302934 (143)\ttotal: 16.1s\tremaining: 5.52s\n",
            "149:\ttest: 0.8303317\tbest: 0.8303317 (149)\ttotal: 16.2s\tremaining: 5.41s\n",
            "150:\ttest: 0.8301055\tbest: 0.8303317 (149)\ttotal: 16.3s\tremaining: 5.3s\n",
            "151:\ttest: 0.8306982\tbest: 0.8306982 (151)\ttotal: 16.4s\tremaining: 5.18s\n",
            "152:\ttest: 0.8308924\tbest: 0.8308924 (152)\ttotal: 16.5s\tremaining: 5.08s\n",
            "153:\ttest: 0.8313104\tbest: 0.8313104 (153)\ttotal: 16.7s\tremaining: 4.98s\n",
            "154:\ttest: 0.8314621\tbest: 0.8314621 (154)\ttotal: 16.8s\tremaining: 4.88s\n",
            "155:\ttest: 0.8318886\tbest: 0.8318886 (155)\ttotal: 16.9s\tremaining: 4.78s\n",
            "156:\ttest: 0.8322370\tbest: 0.8322370 (156)\ttotal: 17s\tremaining: 4.67s\n",
            "157:\ttest: 0.8319149\tbest: 0.8322370 (156)\ttotal: 17.1s\tremaining: 4.55s\n",
            "158:\ttest: 0.8325714\tbest: 0.8325714 (158)\ttotal: 17.2s\tremaining: 4.45s\n",
            "159:\ttest: 0.8321961\tbest: 0.8325714 (158)\ttotal: 17.4s\tremaining: 4.34s\n",
            "160:\ttest: 0.8325943\tbest: 0.8325943 (160)\ttotal: 17.5s\tremaining: 4.23s\n",
            "161:\ttest: 0.8325253\tbest: 0.8325943 (160)\ttotal: 17.6s\tremaining: 4.13s\n",
            "162:\ttest: 0.8321378\tbest: 0.8325943 (160)\ttotal: 17.8s\tremaining: 4.03s\n",
            "163:\ttest: 0.8324335\tbest: 0.8325943 (160)\ttotal: 17.9s\tremaining: 3.93s\n",
            "164:\ttest: 0.8326048\tbest: 0.8326048 (164)\ttotal: 18s\tremaining: 3.82s\n",
            "165:\ttest: 0.8331941\tbest: 0.8331941 (165)\ttotal: 18.1s\tremaining: 3.71s\n",
            "166:\ttest: 0.8328301\tbest: 0.8331941 (165)\ttotal: 18.2s\tremaining: 3.6s\n",
            "167:\ttest: 0.8331523\tbest: 0.8331941 (165)\ttotal: 18.3s\tremaining: 3.48s\n",
            "168:\ttest: 0.8329230\tbest: 0.8331941 (165)\ttotal: 18.4s\tremaining: 3.38s\n",
            "169:\ttest: 0.8334323\tbest: 0.8334323 (169)\ttotal: 18.5s\tremaining: 3.27s\n",
            "170:\ttest: 0.8331493\tbest: 0.8334323 (169)\ttotal: 18.6s\tremaining: 3.16s\n",
            "171:\ttest: 0.8334992\tbest: 0.8334992 (171)\ttotal: 18.7s\tremaining: 3.05s\n",
            "172:\ttest: 0.8330634\tbest: 0.8334992 (171)\ttotal: 18.9s\tremaining: 2.94s\n",
            "173:\ttest: 0.8333449\tbest: 0.8334992 (171)\ttotal: 19s\tremaining: 2.83s\n",
            "174:\ttest: 0.8334749\tbest: 0.8334992 (171)\ttotal: 19.1s\tremaining: 2.73s\n",
            "175:\ttest: 0.8338174\tbest: 0.8338174 (175)\ttotal: 19.2s\tremaining: 2.62s\n",
            "176:\ttest: 0.8339446\tbest: 0.8339446 (176)\ttotal: 19.3s\tremaining: 2.51s\n",
            "177:\ttest: 0.8342603\tbest: 0.8342603 (177)\ttotal: 19.4s\tremaining: 2.4s\n",
            "178:\ttest: 0.8342731\tbest: 0.8342731 (178)\ttotal: 19.5s\tremaining: 2.29s\n",
            "179:\ttest: 0.8344506\tbest: 0.8344506 (179)\ttotal: 19.6s\tremaining: 2.18s\n",
            "180:\ttest: 0.8342127\tbest: 0.8344506 (179)\ttotal: 19.8s\tremaining: 2.08s\n",
            "181:\ttest: 0.8342705\tbest: 0.8344506 (179)\ttotal: 19.9s\tremaining: 1.97s\n",
            "182:\ttest: 0.8347407\tbest: 0.8347407 (182)\ttotal: 20s\tremaining: 1.86s\n",
            "183:\ttest: 0.8343346\tbest: 0.8347407 (182)\ttotal: 20.1s\tremaining: 1.75s\n",
            "184:\ttest: 0.8339371\tbest: 0.8347407 (182)\ttotal: 20.3s\tremaining: 1.64s\n",
            "185:\ttest: 0.8341807\tbest: 0.8347407 (182)\ttotal: 20.4s\tremaining: 1.53s\n",
            "186:\ttest: 0.8344589\tbest: 0.8347407 (182)\ttotal: 20.4s\tremaining: 1.42s\n",
            "187:\ttest: 0.8342012\tbest: 0.8347407 (182)\ttotal: 20.5s\tremaining: 1.31s\n",
            "188:\ttest: 0.8343007\tbest: 0.8347407 (182)\ttotal: 20.6s\tremaining: 1.2s\n",
            "189:\ttest: 0.8344207\tbest: 0.8347407 (182)\ttotal: 20.7s\tremaining: 1.09s\n",
            "190:\ttest: 0.8341093\tbest: 0.8347407 (182)\ttotal: 20.8s\tremaining: 982ms\n",
            "191:\ttest: 0.8341020\tbest: 0.8347407 (182)\ttotal: 21s\tremaining: 873ms\n",
            "192:\ttest: 0.8336697\tbest: 0.8347407 (182)\ttotal: 21.1s\tremaining: 765ms\n",
            "193:\ttest: 0.8337814\tbest: 0.8347407 (182)\ttotal: 21.2s\tremaining: 656ms\n",
            "194:\ttest: 0.8339111\tbest: 0.8347407 (182)\ttotal: 21.3s\tremaining: 547ms\n",
            "195:\ttest: 0.8340816\tbest: 0.8347407 (182)\ttotal: 21.4s\tremaining: 437ms\n",
            "196:\ttest: 0.8343490\tbest: 0.8347407 (182)\ttotal: 21.5s\tremaining: 328ms\n",
            "197:\ttest: 0.8345484\tbest: 0.8347407 (182)\ttotal: 21.6s\tremaining: 218ms\n",
            "198:\ttest: 0.8341363\tbest: 0.8347407 (182)\ttotal: 21.7s\tremaining: 109ms\n",
            "199:\ttest: 0.8342768\tbest: 0.8347407 (182)\ttotal: 21.8s\tremaining: 0us\n",
            "\n",
            "bestTest = 0.8347407029\n",
            "bestIteration = 182\n",
            "\n",
            "Shrink model to first 183 iterations.\n"
          ]
        },
        {
          "output_type": "display_data",
          "data": {
            "text/html": [
              "<html>\n",
              "<head><meta charset=\"utf-8\" /></head>\n",
              "<body>\n",
              "    <div>            <script src=\"https://cdnjs.cloudflare.com/ajax/libs/mathjax/2.7.5/MathJax.js?config=TeX-AMS-MML_SVG\"></script><script type=\"text/javascript\">if (window.MathJax) {MathJax.Hub.Config({SVG: {font: \"STIX-Web\"}});}</script>                <script type=\"text/javascript\">window.PlotlyConfig = {MathJaxConfig: 'local'};</script>\n",
              "        <script src=\"https://cdn.plot.ly/plotly-2.8.3.min.js\"></script>                <div id=\"d10b0d71-d0fe-4349-8fe2-7c190c3bbda1\" class=\"plotly-graph-div\" style=\"height:525px; width:100%;\"></div>            <script type=\"text/javascript\">                                    window.PLOTLYENV=window.PLOTLYENV || {};                                    if (document.getElementById(\"d10b0d71-d0fe-4349-8fe2-7c190c3bbda1\")) {                    Plotly.newPlot(                        \"d10b0d71-d0fe-4349-8fe2-7c190c3bbda1\",                        [{\"line\":{\"color\":\"rgb(51,160,44)\"},\"mode\":\"lines+markers\",\"name\":\"\",\"text\":[\"\",\"amount_tsh\",\"gps_height\",\"longitude\",\"latitude\",\"num_private\",\"basin\",\"region\",\"region_code\",\"district_code\",\"source_class\",\"population\",\"public_meeting\",\"recorded_by\",\"scheme_management\",\"source\",\"source_type\",\"date_recorded_year\",\"date_recorded_month\",\"date_recorded_day\",\"date_recorded_dayweek\",\"date_recorded_quarter\",\"permit\",\"water_quality\",\"construction_year\",\"management_group\",\"management\",\"quality_group\",\"extraction_type_class\",\"payment\",\"payment_type\"],\"x\":[0,1,2,3,4,5,6,7,8,9,10,11,12,13,14,15,16,17,18,19,20,21,22,23,24,25,26,27,28,29,30],\"y\":[0.6596390514689211,0.6620490715457639,0.6644590916226066,0.6668691116994494,0.6692791317762922,0.6716891518531349,0.6740991719299777,0.6765091920068205,0.6789192120836632,0.681329232160506,0.6599406645355247,0.6599406645355247,0.6599406645355247,0.6599406645355247,0.6599406645355247,0.6599406645355247,0.6599406645355247,0.6644001207763123,0.6688595770170999,0.6733190332578874,0.677778489498675,0.6822379457394626,0.6866974019802502,0.6866974019801977,0.6866974019801977,0.6866974019801977,0.6563272455226419,0.656524304074063,0.6569948307436053,0.6589037293015426,0.6615376799015974],\"type\":\"scatter\"},{\"marker\":{\"size\":10,\"symbol\":\"square\"},\"mode\":\"markers\",\"name\":\"\",\"text\":[\"\",\"district_code\",\"source_type\",\"permit\",\"management\",\"payment_type\"],\"x\":[0,9,16,22,26,30],\"y\":[0.6596390514689211,0.681329232160506,0.6599406645355247,0.6866974019802502,0.6563272455226419,0.6615376799015974],\"type\":\"scatter\"},{\"mode\":\"text\",\"name\":\"\",\"text\":[\"\",\"0\",\"2\",\"4\",\"5\",\"7\",\"8\",\"10\",\"11\",\"12\",\"35\",\"15\",\"16\",\"17\",\"18\",\"33\",\"34\",\"38\",\"39\",\"40\",\"41\",\"42\",\"20\",\"29\",\"21\",\"26\",\"25\",\"30\",\"24\",\"27\",\"28\"],\"textfont\":{\"color\":\"rgb(51,160,44)\",\"family\":\"sans serif\",\"size\":18},\"textposition\":\"bottom center\",\"visible\":false,\"x\":[0,1,2,3,4,5,6,7,8,9,10,11,12,13,14,15,16,17,18,19,20,21,22,23,24,25,26,27,28,29,30],\"y\":[0.6596390514689211,0.6620490715457639,0.6644590916226066,0.6668691116994494,0.6692791317762922,0.6716891518531349,0.6740991719299777,0.6765091920068205,0.6789192120836632,0.681329232160506,0.6599406645355247,0.6599406645355247,0.6599406645355247,0.6599406645355247,0.6599406645355247,0.6599406645355247,0.6599406645355247,0.6644001207763123,0.6688595770170999,0.6733190332578874,0.677778489498675,0.6822379457394626,0.6866974019802502,0.6866974019801977,0.6866974019801977,0.6866974019801977,0.6563272455226419,0.656524304074063,0.6569948307436053,0.6589037293015426,0.6615376799015974],\"type\":\"scatter\"},{\"mode\":\"text\",\"name\":\"\",\"text\":[\"\",\"amount_tsh\",\"gps_height\",\"longitude\",\"latitude\",\"num_private\",\"basin\",\"region\",\"region_code\",\"district_code\",\"source_class\",\"population\",\"public_meeting\",\"recorded_by\",\"scheme_management\",\"source\",\"source_type\",\"date_recorded_year\",\"date_recorded_month\",\"date_recorded_day\",\"date_recorded_dayweek\",\"date_recorded_quarter\",\"permit\",\"water_quality\",\"construction_year\",\"management_group\",\"management\",\"quality_group\",\"extraction_type_class\",\"payment\",\"payment_type\"],\"textfont\":{\"color\":\"rgb(51,160,44)\",\"family\":\"sans serif\",\"size\":18},\"textposition\":\"bottom center\",\"visible\":false,\"x\":[0,1,2,3,4,5,6,7,8,9,10,11,12,13,14,15,16,17,18,19,20,21,22,23,24,25,26,27,28,29,30],\"y\":[0.6596390514689211,0.6620490715457639,0.6644590916226066,0.6668691116994494,0.6692791317762922,0.6716891518531349,0.6740991719299777,0.6765091920068205,0.6789192120836632,0.681329232160506,0.6599406645355247,0.6599406645355247,0.6599406645355247,0.6599406645355247,0.6599406645355247,0.6599406645355247,0.6599406645355247,0.6644001207763123,0.6688595770170999,0.6733190332578874,0.677778489498675,0.6822379457394626,0.6866974019802502,0.6866974019801977,0.6866974019801977,0.6866974019801977,0.6563272455226419,0.656524304074063,0.6569948307436053,0.6589037293015426,0.6615376799015974],\"type\":\"scatter\"}],                        {\"template\":{\"data\":{\"bar\":[{\"error_x\":{\"color\":\"#2a3f5f\"},\"error_y\":{\"color\":\"#2a3f5f\"},\"marker\":{\"line\":{\"color\":\"#E5ECF6\",\"width\":0.5},\"pattern\":{\"fillmode\":\"overlay\",\"size\":10,\"solidity\":0.2}},\"type\":\"bar\"}],\"barpolar\":[{\"marker\":{\"line\":{\"color\":\"#E5ECF6\",\"width\":0.5},\"pattern\":{\"fillmode\":\"overlay\",\"size\":10,\"solidity\":0.2}},\"type\":\"barpolar\"}],\"carpet\":[{\"aaxis\":{\"endlinecolor\":\"#2a3f5f\",\"gridcolor\":\"white\",\"linecolor\":\"white\",\"minorgridcolor\":\"white\",\"startlinecolor\":\"#2a3f5f\"},\"baxis\":{\"endlinecolor\":\"#2a3f5f\",\"gridcolor\":\"white\",\"linecolor\":\"white\",\"minorgridcolor\":\"white\",\"startlinecolor\":\"#2a3f5f\"},\"type\":\"carpet\"}],\"choropleth\":[{\"colorbar\":{\"outlinewidth\":0,\"ticks\":\"\"},\"type\":\"choropleth\"}],\"contour\":[{\"colorbar\":{\"outlinewidth\":0,\"ticks\":\"\"},\"colorscale\":[[0.0,\"#0d0887\"],[0.1111111111111111,\"#46039f\"],[0.2222222222222222,\"#7201a8\"],[0.3333333333333333,\"#9c179e\"],[0.4444444444444444,\"#bd3786\"],[0.5555555555555556,\"#d8576b\"],[0.6666666666666666,\"#ed7953\"],[0.7777777777777778,\"#fb9f3a\"],[0.8888888888888888,\"#fdca26\"],[1.0,\"#f0f921\"]],\"type\":\"contour\"}],\"contourcarpet\":[{\"colorbar\":{\"outlinewidth\":0,\"ticks\":\"\"},\"type\":\"contourcarpet\"}],\"heatmap\":[{\"colorbar\":{\"outlinewidth\":0,\"ticks\":\"\"},\"colorscale\":[[0.0,\"#0d0887\"],[0.1111111111111111,\"#46039f\"],[0.2222222222222222,\"#7201a8\"],[0.3333333333333333,\"#9c179e\"],[0.4444444444444444,\"#bd3786\"],[0.5555555555555556,\"#d8576b\"],[0.6666666666666666,\"#ed7953\"],[0.7777777777777778,\"#fb9f3a\"],[0.8888888888888888,\"#fdca26\"],[1.0,\"#f0f921\"]],\"type\":\"heatmap\"}],\"heatmapgl\":[{\"colorbar\":{\"outlinewidth\":0,\"ticks\":\"\"},\"colorscale\":[[0.0,\"#0d0887\"],[0.1111111111111111,\"#46039f\"],[0.2222222222222222,\"#7201a8\"],[0.3333333333333333,\"#9c179e\"],[0.4444444444444444,\"#bd3786\"],[0.5555555555555556,\"#d8576b\"],[0.6666666666666666,\"#ed7953\"],[0.7777777777777778,\"#fb9f3a\"],[0.8888888888888888,\"#fdca26\"],[1.0,\"#f0f921\"]],\"type\":\"heatmapgl\"}],\"histogram\":[{\"marker\":{\"pattern\":{\"fillmode\":\"overlay\",\"size\":10,\"solidity\":0.2}},\"type\":\"histogram\"}],\"histogram2d\":[{\"colorbar\":{\"outlinewidth\":0,\"ticks\":\"\"},\"colorscale\":[[0.0,\"#0d0887\"],[0.1111111111111111,\"#46039f\"],[0.2222222222222222,\"#7201a8\"],[0.3333333333333333,\"#9c179e\"],[0.4444444444444444,\"#bd3786\"],[0.5555555555555556,\"#d8576b\"],[0.6666666666666666,\"#ed7953\"],[0.7777777777777778,\"#fb9f3a\"],[0.8888888888888888,\"#fdca26\"],[1.0,\"#f0f921\"]],\"type\":\"histogram2d\"}],\"histogram2dcontour\":[{\"colorbar\":{\"outlinewidth\":0,\"ticks\":\"\"},\"colorscale\":[[0.0,\"#0d0887\"],[0.1111111111111111,\"#46039f\"],[0.2222222222222222,\"#7201a8\"],[0.3333333333333333,\"#9c179e\"],[0.4444444444444444,\"#bd3786\"],[0.5555555555555556,\"#d8576b\"],[0.6666666666666666,\"#ed7953\"],[0.7777777777777778,\"#fb9f3a\"],[0.8888888888888888,\"#fdca26\"],[1.0,\"#f0f921\"]],\"type\":\"histogram2dcontour\"}],\"mesh3d\":[{\"colorbar\":{\"outlinewidth\":0,\"ticks\":\"\"},\"type\":\"mesh3d\"}],\"parcoords\":[{\"line\":{\"colorbar\":{\"outlinewidth\":0,\"ticks\":\"\"}},\"type\":\"parcoords\"}],\"pie\":[{\"automargin\":true,\"type\":\"pie\"}],\"scatter\":[{\"marker\":{\"colorbar\":{\"outlinewidth\":0,\"ticks\":\"\"}},\"type\":\"scatter\"}],\"scatter3d\":[{\"line\":{\"colorbar\":{\"outlinewidth\":0,\"ticks\":\"\"}},\"marker\":{\"colorbar\":{\"outlinewidth\":0,\"ticks\":\"\"}},\"type\":\"scatter3d\"}],\"scattercarpet\":[{\"marker\":{\"colorbar\":{\"outlinewidth\":0,\"ticks\":\"\"}},\"type\":\"scattercarpet\"}],\"scattergeo\":[{\"marker\":{\"colorbar\":{\"outlinewidth\":0,\"ticks\":\"\"}},\"type\":\"scattergeo\"}],\"scattergl\":[{\"marker\":{\"colorbar\":{\"outlinewidth\":0,\"ticks\":\"\"}},\"type\":\"scattergl\"}],\"scattermapbox\":[{\"marker\":{\"colorbar\":{\"outlinewidth\":0,\"ticks\":\"\"}},\"type\":\"scattermapbox\"}],\"scatterpolar\":[{\"marker\":{\"colorbar\":{\"outlinewidth\":0,\"ticks\":\"\"}},\"type\":\"scatterpolar\"}],\"scatterpolargl\":[{\"marker\":{\"colorbar\":{\"outlinewidth\":0,\"ticks\":\"\"}},\"type\":\"scatterpolargl\"}],\"scatterternary\":[{\"marker\":{\"colorbar\":{\"outlinewidth\":0,\"ticks\":\"\"}},\"type\":\"scatterternary\"}],\"surface\":[{\"colorbar\":{\"outlinewidth\":0,\"ticks\":\"\"},\"colorscale\":[[0.0,\"#0d0887\"],[0.1111111111111111,\"#46039f\"],[0.2222222222222222,\"#7201a8\"],[0.3333333333333333,\"#9c179e\"],[0.4444444444444444,\"#bd3786\"],[0.5555555555555556,\"#d8576b\"],[0.6666666666666666,\"#ed7953\"],[0.7777777777777778,\"#fb9f3a\"],[0.8888888888888888,\"#fdca26\"],[1.0,\"#f0f921\"]],\"type\":\"surface\"}],\"table\":[{\"cells\":{\"fill\":{\"color\":\"#EBF0F8\"},\"line\":{\"color\":\"white\"}},\"header\":{\"fill\":{\"color\":\"#C8D4E3\"},\"line\":{\"color\":\"white\"}},\"type\":\"table\"}]},\"layout\":{\"annotationdefaults\":{\"arrowcolor\":\"#2a3f5f\",\"arrowhead\":0,\"arrowwidth\":1},\"autotypenumbers\":\"strict\",\"coloraxis\":{\"colorbar\":{\"outlinewidth\":0,\"ticks\":\"\"}},\"colorscale\":{\"diverging\":[[0,\"#8e0152\"],[0.1,\"#c51b7d\"],[0.2,\"#de77ae\"],[0.3,\"#f1b6da\"],[0.4,\"#fde0ef\"],[0.5,\"#f7f7f7\"],[0.6,\"#e6f5d0\"],[0.7,\"#b8e186\"],[0.8,\"#7fbc41\"],[0.9,\"#4d9221\"],[1,\"#276419\"]],\"sequential\":[[0.0,\"#0d0887\"],[0.1111111111111111,\"#46039f\"],[0.2222222222222222,\"#7201a8\"],[0.3333333333333333,\"#9c179e\"],[0.4444444444444444,\"#bd3786\"],[0.5555555555555556,\"#d8576b\"],[0.6666666666666666,\"#ed7953\"],[0.7777777777777778,\"#fb9f3a\"],[0.8888888888888888,\"#fdca26\"],[1.0,\"#f0f921\"]],\"sequentialminus\":[[0.0,\"#0d0887\"],[0.1111111111111111,\"#46039f\"],[0.2222222222222222,\"#7201a8\"],[0.3333333333333333,\"#9c179e\"],[0.4444444444444444,\"#bd3786\"],[0.5555555555555556,\"#d8576b\"],[0.6666666666666666,\"#ed7953\"],[0.7777777777777778,\"#fb9f3a\"],[0.8888888888888888,\"#fdca26\"],[1.0,\"#f0f921\"]]},\"colorway\":[\"#636efa\",\"#EF553B\",\"#00cc96\",\"#ab63fa\",\"#FFA15A\",\"#19d3f3\",\"#FF6692\",\"#B6E880\",\"#FF97FF\",\"#FECB52\"],\"font\":{\"color\":\"#2a3f5f\"},\"geo\":{\"bgcolor\":\"white\",\"lakecolor\":\"white\",\"landcolor\":\"#E5ECF6\",\"showlakes\":true,\"showland\":true,\"subunitcolor\":\"white\"},\"hoverlabel\":{\"align\":\"left\"},\"hovermode\":\"closest\",\"mapbox\":{\"style\":\"light\"},\"paper_bgcolor\":\"white\",\"plot_bgcolor\":\"#E5ECF6\",\"polar\":{\"angularaxis\":{\"gridcolor\":\"white\",\"linecolor\":\"white\",\"ticks\":\"\"},\"bgcolor\":\"#E5ECF6\",\"radialaxis\":{\"gridcolor\":\"white\",\"linecolor\":\"white\",\"ticks\":\"\"}},\"scene\":{\"xaxis\":{\"backgroundcolor\":\"#E5ECF6\",\"gridcolor\":\"white\",\"gridwidth\":2,\"linecolor\":\"white\",\"showbackground\":true,\"ticks\":\"\",\"zerolinecolor\":\"white\"},\"yaxis\":{\"backgroundcolor\":\"#E5ECF6\",\"gridcolor\":\"white\",\"gridwidth\":2,\"linecolor\":\"white\",\"showbackground\":true,\"ticks\":\"\",\"zerolinecolor\":\"white\"},\"zaxis\":{\"backgroundcolor\":\"#E5ECF6\",\"gridcolor\":\"white\",\"gridwidth\":2,\"linecolor\":\"white\",\"showbackground\":true,\"ticks\":\"\",\"zerolinecolor\":\"white\"}},\"shapedefaults\":{\"line\":{\"color\":\"#2a3f5f\"}},\"ternary\":{\"aaxis\":{\"gridcolor\":\"white\",\"linecolor\":\"white\",\"ticks\":\"\"},\"baxis\":{\"gridcolor\":\"white\",\"linecolor\":\"white\",\"ticks\":\"\"},\"bgcolor\":\"#E5ECF6\",\"caxis\":{\"gridcolor\":\"white\",\"linecolor\":\"white\",\"ticks\":\"\"}},\"title\":{\"x\":0.05},\"xaxis\":{\"automargin\":true,\"gridcolor\":\"white\",\"linecolor\":\"white\",\"ticks\":\"\",\"title\":{\"standoff\":15},\"zerolinecolor\":\"white\",\"zerolinewidth\":2},\"yaxis\":{\"automargin\":true,\"gridcolor\":\"white\",\"linecolor\":\"white\",\"ticks\":\"\",\"title\":{\"standoff\":15},\"zerolinecolor\":\"white\",\"zerolinewidth\":2}}},\"title\":{\"text\":\"Loss by eliminated features\"},\"xaxis\":{\"title\":{\"text\":\"number of removed features\"},\"gridcolor\":\"rgb(255,255,255)\",\"showgrid\":true,\"showline\":false,\"showticklabels\":true,\"tickcolor\":\"rgb(127,127,127)\",\"ticks\":\"outside\",\"zeroline\":false},\"yaxis\":{\"title\":{\"text\":\"loss value\",\"font\":{\"color\":\"rgb(51,160,44)\"}},\"tickfont\":{\"color\":\"rgb(51,160,44)\"},\"gridcolor\":\"rgb(255,255,255)\",\"showgrid\":true,\"showline\":false,\"showticklabels\":true,\"tickcolor\":\"rgb(127,127,127)\",\"ticks\":\"outside\",\"zeroline\":false},\"updatemenus\":[{\"active\":0,\"buttons\":[{\"args\":[{\"visible\":[true,true,false,false]}],\"label\":\"Hide features\",\"method\":\"update\"},{\"args\":[{\"visible\":[true,true,true,false]}],\"label\":\"Show indices\",\"method\":\"update\"},{\"args\":[{\"visible\":[true,true,false,true]}],\"label\":\"Show names\",\"method\":\"update\"}],\"pad\":{\"r\":10,\"t\":10},\"showactive\":true,\"x\":-0.25,\"xanchor\":\"left\",\"y\":1.03,\"yanchor\":\"top\"}],\"showlegend\":false},                        {\"responsive\": true}                    ).then(function(){\n",
              "                            \n",
              "var gd = document.getElementById('d10b0d71-d0fe-4349-8fe2-7c190c3bbda1');\n",
              "var x = new MutationObserver(function (mutations, observer) {{\n",
              "        var display = window.getComputedStyle(gd).display;\n",
              "        if (!display || display === 'none') {{\n",
              "            console.log([gd, 'removed!']);\n",
              "            Plotly.purge(gd);\n",
              "            observer.disconnect();\n",
              "        }}\n",
              "}});\n",
              "\n",
              "// Listen for the removal of the full notebook cells\n",
              "var notebookContainer = gd.closest('#notebook-container');\n",
              "if (notebookContainer) {{\n",
              "    x.observe(notebookContainer, {childList: true});\n",
              "}}\n",
              "\n",
              "// Listen for the clearing of the current output cell\n",
              "var outputEl = gd.closest('.output');\n",
              "if (outputEl) {{\n",
              "    x.observe(outputEl, {childList: true});\n",
              "}}\n",
              "\n",
              "                        })                };                            </script>        </div>\n",
              "</body>\n",
              "</html>"
            ]
          },
          "metadata": {}
        }
      ]
    },
    {
      "cell_type": "code",
      "source": [
        "model.get_best_score()"
      ],
      "metadata": {
        "colab": {
          "base_uri": "https://localhost:8080/"
        },
        "id": "Hmk_vvT8BOgx",
        "outputId": "c49b5d1d-8dab-42f2-8df7-2a71b4617ad1"
      },
      "execution_count": null,
      "outputs": [
        {
          "output_type": "execute_result",
          "data": {
            "text/plain": [
              "{'learn': {'MultiClass': 0.43798614787189494},\n",
              " 'validation': {'AUC:type=Mu': 0.8347407029305532,\n",
              "  'MultiClass': 0.6565112612041677}}"
            ]
          },
          "metadata": {},
          "execution_count": 39
        }
      ]
    },
    {
      "cell_type": "code",
      "source": [
        "selected_features_names = selected_features['selected_features_names']\n",
        "selected_features['selected_features_names']"
      ],
      "metadata": {
        "colab": {
          "base_uri": "https://localhost:8080/"
        },
        "id": "YC7de-cUdRCk",
        "outputId": "1e2a0083-c1d8-447b-84da-237937e5987e"
      },
      "execution_count": null,
      "outputs": [
        {
          "output_type": "execute_result",
          "data": {
            "text/plain": [
              "['funder',\n",
              " 'installer',\n",
              " 'wpt_name',\n",
              " 'subvillage',\n",
              " 'lga',\n",
              " 'ward',\n",
              " 'scheme_name',\n",
              " 'extraction_type',\n",
              " 'extraction_type_group',\n",
              " 'quantity',\n",
              " 'quantity_group',\n",
              " 'waterpoint_type',\n",
              " 'waterpoint_type_group']"
            ]
          },
          "metadata": {},
          "execution_count": 40
        }
      ]
    },
    {
      "cell_type": "code",
      "source": [
        "selected_features_categFs = []\n",
        "for selected_feat in selected_features_names:\n",
        "    if selected_feat in cat_features:\n",
        "        selected_features_categFs.append(selected_feat)"
      ],
      "metadata": {
        "id": "56jdcIWLdp9S"
      },
      "execution_count": null,
      "outputs": []
    },
    {
      "cell_type": "markdown",
      "source": [
        "## CatBoost Model"
      ],
      "metadata": {
        "id": "JXuwIKLYlWPk"
      }
    },
    {
      "cell_type": "code",
      "source": [
        "# Fit model\n",
        "CatB_clf = CatBoostClassifier(random_state=42)\n",
        "CatB_clf.fit(X_train[selected_features_names], y_train, cat_features=selected_features_categFs)"
      ],
      "metadata": {
        "colab": {
          "base_uri": "https://localhost:8080/",
          "height": 201
        },
        "id": "UL_fgyK1dASm",
        "outputId": "5ac910ca-7114-4061-a911-b2dbc914bd97"
      },
      "execution_count": null,
      "outputs": [
        {
          "output_type": "error",
          "ename": "TypeError",
          "evalue": "ignored",
          "traceback": [
            "\u001b[0;31m---------------------------------------------------------------------------\u001b[0m",
            "\u001b[0;31mTypeError\u001b[0m                                 Traceback (most recent call last)",
            "\u001b[0;32m<ipython-input-96-8ddeedc843a7>\u001b[0m in \u001b[0;36m<module>\u001b[0;34m\u001b[0m\n\u001b[1;32m      1\u001b[0m \u001b[0;31m# Fit model\u001b[0m\u001b[0;34m\u001b[0m\u001b[0;34m\u001b[0m\u001b[0;34m\u001b[0m\u001b[0m\n\u001b[0;32m----> 2\u001b[0;31m \u001b[0mCatB_clf\u001b[0m \u001b[0;34m=\u001b[0m \u001b[0mCatBoostClassifier\u001b[0m\u001b[0;34m(\u001b[0m\u001b[0mrandom_state\u001b[0m\u001b[0;34m=\u001b[0m\u001b[0;36m42\u001b[0m\u001b[0;34m,\u001b[0m \u001b[0mn_jobs\u001b[0m\u001b[0;34m=\u001b[0m\u001b[0;34m-\u001b[0m\u001b[0;36m1\u001b[0m\u001b[0;34m)\u001b[0m\u001b[0;34m\u001b[0m\u001b[0;34m\u001b[0m\u001b[0m\n\u001b[0m\u001b[1;32m      3\u001b[0m \u001b[0mCatB_clf\u001b[0m\u001b[0;34m.\u001b[0m\u001b[0mfit\u001b[0m\u001b[0;34m(\u001b[0m\u001b[0mX_train\u001b[0m\u001b[0;34m[\u001b[0m\u001b[0mselected_features_names\u001b[0m\u001b[0;34m]\u001b[0m\u001b[0;34m,\u001b[0m \u001b[0my_train\u001b[0m\u001b[0;34m,\u001b[0m \u001b[0mcat_features\u001b[0m\u001b[0;34m=\u001b[0m\u001b[0mselected_features_categFs\u001b[0m\u001b[0;34m)\u001b[0m\u001b[0;34m\u001b[0m\u001b[0;34m\u001b[0m\u001b[0m\n",
            "\u001b[0;31mTypeError\u001b[0m: __init__() got an unexpected keyword argument 'n_jobs'"
          ]
        }
      ]
    },
    {
      "cell_type": "code",
      "source": [
        "# Built in feature importances\n",
        "ctb_feat_importances = pd.DataFrame(CatB_clf.feature_importances_,\n",
        "                                       CatB_clf.feature_names_,\n",
        "                                       columns=['feature importance']).sort_values('feature importance',\n",
        "                                                                                   ascending=False)\n",
        "ctb_feat_importances"
      ],
      "metadata": {
        "id": "j4_BI9zad529"
      },
      "execution_count": null,
      "outputs": []
    },
    {
      "cell_type": "code",
      "source": [
        "X_test[cat_features[:15]]"
      ],
      "metadata": {
        "id": "kEaso6E5wsxw"
      },
      "execution_count": null,
      "outputs": []
    },
    {
      "cell_type": "code",
      "source": [
        "# Get predicted classes\n",
        "preds_class = CatB_clf.predict(df_test[selected_features_names])\n",
        "# Get predicted probabilities for each class\n",
        "preds_proba = CatB_clf.predict_proba(df_test[selected_features_names])[:,1]\n",
        "pd.DataFrame(pd.DataFrame(preds_class),df_test_copy['id'])"
      ],
      "metadata": {
        "id": "pGJRHlZgmUND"
      },
      "execution_count": null,
      "outputs": []
    },
    {
      "cell_type": "markdown",
      "source": [
        "#XGBoost"
      ],
      "metadata": {
        "id": "yb4Q8pp4j9ER"
      }
    },
    {
      "cell_type": "code",
      "source": [
        "from sklearn.preprocessing import LabelEncoder\n",
        "\n",
        "def label_encode_columns(dataframe, columns):\n",
        "    \"\"\"\n",
        "    Label encodes the specified columns of a dataframe.\n",
        "    \"\"\"\n",
        "    for column in columns:\n",
        "      le = LabelEncoder()\n",
        "      dataframe[column] = le.fit_transform(dataframe[column])\n",
        "      print(le.classes_)\n",
        "    return dataframe\n",
        "df_train_encoded = label_encode_columns(df_train, df_train.select_dtypes('object').columns.values)\n",
        "df_test_encoded = label_encode_columns(df_test, df_test.select_dtypes('object').columns.values)"
      ],
      "metadata": {
        "id": "05hIbnlys-os"
      },
      "execution_count": null,
      "outputs": []
    },
    {
      "cell_type": "code",
      "source": [
        "# Unnecessary given the form the data was received in but anyway\n",
        "X_train, X_test, y_train, y_test = train_test_split(df_train_encoded.drop('status_group',axis=1), \n",
        "                                                    df_train_encoded['status_group'], \n",
        "                                                    test_size=0.30, random_state=42)"
      ],
      "metadata": {
        "id": "RLSG-gjzsv5T"
      },
      "execution_count": null,
      "outputs": []
    },
    {
      "cell_type": "code",
      "source": [
        "Random_oversampler = RandomOverSampler(random_state=42)\n",
        "X_train, y_train = Random_oversampler.fit_resample(X_train, y_train)"
      ],
      "metadata": {
        "id": "1w3aqd6fmZVt"
      },
      "execution_count": null,
      "outputs": []
    },
    {
      "cell_type": "code",
      "source": [
        "# Step 2: Create pipeline\n",
        "pipe = Pipeline([\n",
        "    ('scaler', StandardScaler()),\n",
        "    ('classifier', XGBClassifier(seed = 42))\n",
        "])\n",
        "\n",
        "# Step 3: Fit the pipeline to the training data\n",
        "pipe.fit(X_train, y_train)\n",
        "\n",
        "# Step 4: Make predictions on the test set\n",
        "y_pred = pipe.predict(X_test)\n",
        "y_probs = pipe.predict_proba(X_test)\n",
        "\n",
        "# Step 5: Evaluate the model performance\n",
        "print(classification_report(y_test, pd.Series(y_pred)))\n",
        "f1, precision, recal, roc_auc = eval_metrics(y_test, pd.Series(y_pred), y_probs, ave='macro')\n",
        "print(precision, recal, roc_auc)"
      ],
      "metadata": {
        "colab": {
          "base_uri": "https://localhost:8080/"
        },
        "id": "VWxRrHujkprC",
        "outputId": "0c29064c-908f-4f89-9f42-90f2cd436a04"
      },
      "execution_count": null,
      "outputs": [
        {
          "output_type": "stream",
          "name": "stdout",
          "text": [
            "              precision    recall  f1-score   support\n",
            "\n",
            "           0       0.71      0.92      0.80      9724\n",
            "           1       0.58      0.10      0.17      1293\n",
            "           2       0.83      0.61      0.70      6803\n",
            "\n",
            "    accuracy                           0.74     17820\n",
            "   macro avg       0.71      0.54      0.56     17820\n",
            "weighted avg       0.75      0.74      0.72     17820\n",
            "\n",
            "0.706 0.542 0.822\n"
          ]
        }
      ]
    },
    {
      "cell_type": "code",
      "source": [
        "cm = metrics.multilabel_confusion_matrix(y_test, y_pred)#.confusion_matrix(y_val, predictions)\n",
        "precision=[]\n",
        "sensitivity=[]\n",
        "specificity=[]\n",
        "npv=[]\n",
        "accuracy=[]\n",
        "for i,obj in enumerate(cm):\n",
        "  (tn, fp), (fn, tp) = cm[i]#.ravel()\n",
        "  # Precision = TP / (TP + FP)\n",
        "  precision.append(tp / (tp + fp))\n",
        "  # Sensitivity = TP / (TP + FN)\n",
        "  sensitivity.append(tp / (tp + fn))\n",
        "  # Specificity = TN / (TN + FP)\n",
        "  specificity.append(tn / (tn + fp))\n",
        "  # NPV = TN / (TN + FN)\n",
        "  npv.append(tn / (tn + fn))\n",
        "  # Accuracy = (TP + TN) / (TP + TN + FP + FN)\n",
        "  accuracy.append((tp + tn) / (tp + tn + fp + fn))\n",
        "pd.DataFrame([precision,sensitivity,specificity,npv,accuracy]).transpose()"
      ],
      "metadata": {
        "colab": {
          "base_uri": "https://localhost:8080/",
          "height": 143
        },
        "id": "VGrO1Noc2QhO",
        "outputId": "e450d1ca-614a-42e6-9bae-0b53e7fdb773"
      },
      "execution_count": null,
      "outputs": [
        {
          "output_type": "execute_result",
          "data": {
            "text/plain": [
              "          0         1         2         3         4\n",
              "0  0.711321  0.923385  0.549901  0.856648  0.753704\n",
              "1  0.580645  0.097448  0.994494  0.933704  0.929405\n",
              "2  0.827309  0.605615  0.921939  0.791044  0.801178"
            ],
            "text/html": [
              "\n",
              "  <div id=\"df-d341d86f-b203-4871-b8cc-3cfc990de961\">\n",
              "    <div class=\"colab-df-container\">\n",
              "      <div>\n",
              "<style scoped>\n",
              "    .dataframe tbody tr th:only-of-type {\n",
              "        vertical-align: middle;\n",
              "    }\n",
              "\n",
              "    .dataframe tbody tr th {\n",
              "        vertical-align: top;\n",
              "    }\n",
              "\n",
              "    .dataframe thead th {\n",
              "        text-align: right;\n",
              "    }\n",
              "</style>\n",
              "<table border=\"1\" class=\"dataframe\">\n",
              "  <thead>\n",
              "    <tr style=\"text-align: right;\">\n",
              "      <th></th>\n",
              "      <th>0</th>\n",
              "      <th>1</th>\n",
              "      <th>2</th>\n",
              "      <th>3</th>\n",
              "      <th>4</th>\n",
              "    </tr>\n",
              "  </thead>\n",
              "  <tbody>\n",
              "    <tr>\n",
              "      <th>0</th>\n",
              "      <td>0.711321</td>\n",
              "      <td>0.923385</td>\n",
              "      <td>0.549901</td>\n",
              "      <td>0.856648</td>\n",
              "      <td>0.753704</td>\n",
              "    </tr>\n",
              "    <tr>\n",
              "      <th>1</th>\n",
              "      <td>0.580645</td>\n",
              "      <td>0.097448</td>\n",
              "      <td>0.994494</td>\n",
              "      <td>0.933704</td>\n",
              "      <td>0.929405</td>\n",
              "    </tr>\n",
              "    <tr>\n",
              "      <th>2</th>\n",
              "      <td>0.827309</td>\n",
              "      <td>0.605615</td>\n",
              "      <td>0.921939</td>\n",
              "      <td>0.791044</td>\n",
              "      <td>0.801178</td>\n",
              "    </tr>\n",
              "  </tbody>\n",
              "</table>\n",
              "</div>\n",
              "      <button class=\"colab-df-convert\" onclick=\"convertToInteractive('df-d341d86f-b203-4871-b8cc-3cfc990de961')\"\n",
              "              title=\"Convert this dataframe to an interactive table.\"\n",
              "              style=\"display:none;\">\n",
              "        \n",
              "  <svg xmlns=\"http://www.w3.org/2000/svg\" height=\"24px\"viewBox=\"0 0 24 24\"\n",
              "       width=\"24px\">\n",
              "    <path d=\"M0 0h24v24H0V0z\" fill=\"none\"/>\n",
              "    <path d=\"M18.56 5.44l.94 2.06.94-2.06 2.06-.94-2.06-.94-.94-2.06-.94 2.06-2.06.94zm-11 1L8.5 8.5l.94-2.06 2.06-.94-2.06-.94L8.5 2.5l-.94 2.06-2.06.94zm10 10l.94 2.06.94-2.06 2.06-.94-2.06-.94-.94-2.06-.94 2.06-2.06.94z\"/><path d=\"M17.41 7.96l-1.37-1.37c-.4-.4-.92-.59-1.43-.59-.52 0-1.04.2-1.43.59L10.3 9.45l-7.72 7.72c-.78.78-.78 2.05 0 2.83L4 21.41c.39.39.9.59 1.41.59.51 0 1.02-.2 1.41-.59l7.78-7.78 2.81-2.81c.8-.78.8-2.07 0-2.86zM5.41 20L4 18.59l7.72-7.72 1.47 1.35L5.41 20z\"/>\n",
              "  </svg>\n",
              "      </button>\n",
              "      \n",
              "  <style>\n",
              "    .colab-df-container {\n",
              "      display:flex;\n",
              "      flex-wrap:wrap;\n",
              "      gap: 12px;\n",
              "    }\n",
              "\n",
              "    .colab-df-convert {\n",
              "      background-color: #E8F0FE;\n",
              "      border: none;\n",
              "      border-radius: 50%;\n",
              "      cursor: pointer;\n",
              "      display: none;\n",
              "      fill: #1967D2;\n",
              "      height: 32px;\n",
              "      padding: 0 0 0 0;\n",
              "      width: 32px;\n",
              "    }\n",
              "\n",
              "    .colab-df-convert:hover {\n",
              "      background-color: #E2EBFA;\n",
              "      box-shadow: 0px 1px 2px rgba(60, 64, 67, 0.3), 0px 1px 3px 1px rgba(60, 64, 67, 0.15);\n",
              "      fill: #174EA6;\n",
              "    }\n",
              "\n",
              "    [theme=dark] .colab-df-convert {\n",
              "      background-color: #3B4455;\n",
              "      fill: #D2E3FC;\n",
              "    }\n",
              "\n",
              "    [theme=dark] .colab-df-convert:hover {\n",
              "      background-color: #434B5C;\n",
              "      box-shadow: 0px 1px 3px 1px rgba(0, 0, 0, 0.15);\n",
              "      filter: drop-shadow(0px 1px 2px rgba(0, 0, 0, 0.3));\n",
              "      fill: #FFFFFF;\n",
              "    }\n",
              "  </style>\n",
              "\n",
              "      <script>\n",
              "        const buttonEl =\n",
              "          document.querySelector('#df-d341d86f-b203-4871-b8cc-3cfc990de961 button.colab-df-convert');\n",
              "        buttonEl.style.display =\n",
              "          google.colab.kernel.accessAllowed ? 'block' : 'none';\n",
              "\n",
              "        async function convertToInteractive(key) {\n",
              "          const element = document.querySelector('#df-d341d86f-b203-4871-b8cc-3cfc990de961');\n",
              "          const dataTable =\n",
              "            await google.colab.kernel.invokeFunction('convertToInteractive',\n",
              "                                                     [key], {});\n",
              "          if (!dataTable) return;\n",
              "\n",
              "          const docLinkHtml = 'Like what you see? Visit the ' +\n",
              "            '<a target=\"_blank\" href=https://colab.research.google.com/notebooks/data_table.ipynb>data table notebook</a>'\n",
              "            + ' to learn more about interactive tables.';\n",
              "          element.innerHTML = '';\n",
              "          dataTable['output_type'] = 'display_data';\n",
              "          await google.colab.output.renderOutput(dataTable, element);\n",
              "          const docLink = document.createElement('div');\n",
              "          docLink.innerHTML = docLinkHtml;\n",
              "          element.appendChild(docLink);\n",
              "        }\n",
              "      </script>\n",
              "    </div>\n",
              "  </div>\n",
              "  "
            ]
          },
          "metadata": {},
          "execution_count": 116
        }
      ]
    },
    {
      "cell_type": "code",
      "source": [
        "preds_class = pipe.predict(df_test)\n",
        "pd.DataFrame(preds_class,df_test_copy['id'])"
      ],
      "metadata": {
        "colab": {
          "base_uri": "https://localhost:8080/",
          "height": 455
        },
        "id": "spV3F_twSluV",
        "outputId": "d9302375-da0b-47ed-e42c-dc3f263d32ec"
      },
      "execution_count": null,
      "outputs": [
        {
          "output_type": "execute_result",
          "data": {
            "text/plain": [
              "       0\n",
              "id      \n",
              "50785  2\n",
              "51630  0\n",
              "17168  2\n",
              "45559  2\n",
              "49871  0\n",
              "...   ..\n",
              "39307  2\n",
              "18990  0\n",
              "28749  0\n",
              "33492  0\n",
              "68707  2\n",
              "\n",
              "[14850 rows x 1 columns]"
            ],
            "text/html": [
              "\n",
              "  <div id=\"df-06dbf3f6-47a7-4d16-9385-be561ae684be\">\n",
              "    <div class=\"colab-df-container\">\n",
              "      <div>\n",
              "<style scoped>\n",
              "    .dataframe tbody tr th:only-of-type {\n",
              "        vertical-align: middle;\n",
              "    }\n",
              "\n",
              "    .dataframe tbody tr th {\n",
              "        vertical-align: top;\n",
              "    }\n",
              "\n",
              "    .dataframe thead th {\n",
              "        text-align: right;\n",
              "    }\n",
              "</style>\n",
              "<table border=\"1\" class=\"dataframe\">\n",
              "  <thead>\n",
              "    <tr style=\"text-align: right;\">\n",
              "      <th></th>\n",
              "      <th>0</th>\n",
              "    </tr>\n",
              "    <tr>\n",
              "      <th>id</th>\n",
              "      <th></th>\n",
              "    </tr>\n",
              "  </thead>\n",
              "  <tbody>\n",
              "    <tr>\n",
              "      <th>50785</th>\n",
              "      <td>2</td>\n",
              "    </tr>\n",
              "    <tr>\n",
              "      <th>51630</th>\n",
              "      <td>0</td>\n",
              "    </tr>\n",
              "    <tr>\n",
              "      <th>17168</th>\n",
              "      <td>2</td>\n",
              "    </tr>\n",
              "    <tr>\n",
              "      <th>45559</th>\n",
              "      <td>2</td>\n",
              "    </tr>\n",
              "    <tr>\n",
              "      <th>49871</th>\n",
              "      <td>0</td>\n",
              "    </tr>\n",
              "    <tr>\n",
              "      <th>...</th>\n",
              "      <td>...</td>\n",
              "    </tr>\n",
              "    <tr>\n",
              "      <th>39307</th>\n",
              "      <td>2</td>\n",
              "    </tr>\n",
              "    <tr>\n",
              "      <th>18990</th>\n",
              "      <td>0</td>\n",
              "    </tr>\n",
              "    <tr>\n",
              "      <th>28749</th>\n",
              "      <td>0</td>\n",
              "    </tr>\n",
              "    <tr>\n",
              "      <th>33492</th>\n",
              "      <td>0</td>\n",
              "    </tr>\n",
              "    <tr>\n",
              "      <th>68707</th>\n",
              "      <td>2</td>\n",
              "    </tr>\n",
              "  </tbody>\n",
              "</table>\n",
              "<p>14850 rows × 1 columns</p>\n",
              "</div>\n",
              "      <button class=\"colab-df-convert\" onclick=\"convertToInteractive('df-06dbf3f6-47a7-4d16-9385-be561ae684be')\"\n",
              "              title=\"Convert this dataframe to an interactive table.\"\n",
              "              style=\"display:none;\">\n",
              "        \n",
              "  <svg xmlns=\"http://www.w3.org/2000/svg\" height=\"24px\"viewBox=\"0 0 24 24\"\n",
              "       width=\"24px\">\n",
              "    <path d=\"M0 0h24v24H0V0z\" fill=\"none\"/>\n",
              "    <path d=\"M18.56 5.44l.94 2.06.94-2.06 2.06-.94-2.06-.94-.94-2.06-.94 2.06-2.06.94zm-11 1L8.5 8.5l.94-2.06 2.06-.94-2.06-.94L8.5 2.5l-.94 2.06-2.06.94zm10 10l.94 2.06.94-2.06 2.06-.94-2.06-.94-.94-2.06-.94 2.06-2.06.94z\"/><path d=\"M17.41 7.96l-1.37-1.37c-.4-.4-.92-.59-1.43-.59-.52 0-1.04.2-1.43.59L10.3 9.45l-7.72 7.72c-.78.78-.78 2.05 0 2.83L4 21.41c.39.39.9.59 1.41.59.51 0 1.02-.2 1.41-.59l7.78-7.78 2.81-2.81c.8-.78.8-2.07 0-2.86zM5.41 20L4 18.59l7.72-7.72 1.47 1.35L5.41 20z\"/>\n",
              "  </svg>\n",
              "      </button>\n",
              "      \n",
              "  <style>\n",
              "    .colab-df-container {\n",
              "      display:flex;\n",
              "      flex-wrap:wrap;\n",
              "      gap: 12px;\n",
              "    }\n",
              "\n",
              "    .colab-df-convert {\n",
              "      background-color: #E8F0FE;\n",
              "      border: none;\n",
              "      border-radius: 50%;\n",
              "      cursor: pointer;\n",
              "      display: none;\n",
              "      fill: #1967D2;\n",
              "      height: 32px;\n",
              "      padding: 0 0 0 0;\n",
              "      width: 32px;\n",
              "    }\n",
              "\n",
              "    .colab-df-convert:hover {\n",
              "      background-color: #E2EBFA;\n",
              "      box-shadow: 0px 1px 2px rgba(60, 64, 67, 0.3), 0px 1px 3px 1px rgba(60, 64, 67, 0.15);\n",
              "      fill: #174EA6;\n",
              "    }\n",
              "\n",
              "    [theme=dark] .colab-df-convert {\n",
              "      background-color: #3B4455;\n",
              "      fill: #D2E3FC;\n",
              "    }\n",
              "\n",
              "    [theme=dark] .colab-df-convert:hover {\n",
              "      background-color: #434B5C;\n",
              "      box-shadow: 0px 1px 3px 1px rgba(0, 0, 0, 0.15);\n",
              "      filter: drop-shadow(0px 1px 2px rgba(0, 0, 0, 0.3));\n",
              "      fill: #FFFFFF;\n",
              "    }\n",
              "  </style>\n",
              "\n",
              "      <script>\n",
              "        const buttonEl =\n",
              "          document.querySelector('#df-06dbf3f6-47a7-4d16-9385-be561ae684be button.colab-df-convert');\n",
              "        buttonEl.style.display =\n",
              "          google.colab.kernel.accessAllowed ? 'block' : 'none';\n",
              "\n",
              "        async function convertToInteractive(key) {\n",
              "          const element = document.querySelector('#df-06dbf3f6-47a7-4d16-9385-be561ae684be');\n",
              "          const dataTable =\n",
              "            await google.colab.kernel.invokeFunction('convertToInteractive',\n",
              "                                                     [key], {});\n",
              "          if (!dataTable) return;\n",
              "\n",
              "          const docLinkHtml = 'Like what you see? Visit the ' +\n",
              "            '<a target=\"_blank\" href=https://colab.research.google.com/notebooks/data_table.ipynb>data table notebook</a>'\n",
              "            + ' to learn more about interactive tables.';\n",
              "          element.innerHTML = '';\n",
              "          dataTable['output_type'] = 'display_data';\n",
              "          await google.colab.output.renderOutput(dataTable, element);\n",
              "          const docLink = document.createElement('div');\n",
              "          docLink.innerHTML = docLinkHtml;\n",
              "          element.appendChild(docLink);\n",
              "        }\n",
              "      </script>\n",
              "    </div>\n",
              "  </div>\n",
              "  "
            ]
          },
          "metadata": {},
          "execution_count": 117
        }
      ]
    },
    {
      "cell_type": "markdown",
      "source": [
        "## GridSearchCV"
      ],
      "metadata": {
        "id": "poNlRUAAkom8"
      }
    },
    {
      "cell_type": "code",
      "source": [
        "# Step 1: Define the parameters for the xgboost classifier\n",
        "param_grid = {\n",
        "    'classifier__max_depth': range(2,10,4),\n",
        "    'classifier__n_estimators': [50, 100],\n",
        "    'classifier__learning_rate': [0.2, 0.1, 0.05]\n",
        "}\n",
        "\n",
        "# Step 3: Create pipeline\n",
        "pipe_grid = Pipeline([\n",
        "    ('scaler', StandardScaler()),\n",
        "    ('classifier', XGBClassifier(seed = 42))\n",
        "])\n",
        "\n",
        "# Step 4: Hyperparameter tuning using GridSearchCV\n",
        "grid_search = GridSearchCV(pipe_grid, param_grid=param_grid, cv=5, scoring='recall', n_jobs=-1, verbose=True)\n",
        "grid_search.fit(X_train, y_train)\n",
        "\n",
        "# Step 5: Make predictions on the test set\n",
        "y_pred = grid_search.predict(X_test)\n",
        "\n",
        "# Step 6: Evaluate the model performance\n",
        "print(classification_report(y_test, y_pred))"
      ],
      "metadata": {
        "colab": {
          "base_uri": "https://localhost:8080/"
        },
        "id": "ABVygmXElqfC",
        "outputId": "6fba7bba-0cf3-41ac-fba7-2984f4fcb981"
      },
      "execution_count": null,
      "outputs": [
        {
          "output_type": "stream",
          "name": "stdout",
          "text": [
            "Fitting 5 folds for each of 8 candidates, totalling 40 fits\n"
          ]
        },
        {
          "output_type": "stream",
          "name": "stderr",
          "text": [
            "/usr/local/lib/python3.8/dist-packages/sklearn/model_selection/_search.py:969: UserWarning:\n",
            "\n",
            "One or more of the test scores are non-finite: [nan nan nan nan nan nan nan nan]\n",
            "\n"
          ]
        },
        {
          "output_type": "stream",
          "name": "stdout",
          "text": [
            "              precision    recall  f1-score   support\n",
            "\n",
            "           0       0.69      0.94      0.80      9724\n",
            "           1       0.69      0.05      0.09      1293\n",
            "           2       0.84      0.56      0.67      6803\n",
            "\n",
            "    accuracy                           0.73     17820\n",
            "   macro avg       0.74      0.51      0.52     17820\n",
            "weighted avg       0.75      0.73      0.70     17820\n",
            "\n"
          ]
        }
      ]
    },
    {
      "cell_type": "code",
      "source": [
        "preds_class = grid_search.predict(df_test)\n",
        "pd.DataFrame(preds_class,df_test_copy['id'])"
      ],
      "metadata": {
        "colab": {
          "base_uri": "https://localhost:8080/",
          "height": 455
        },
        "id": "ISZ5iXzpbvyU",
        "outputId": "aaeb4145-6209-4577-d753-0f841d829200"
      },
      "execution_count": null,
      "outputs": [
        {
          "output_type": "execute_result",
          "data": {
            "text/plain": [
              "       0\n",
              "id      \n",
              "50785  2\n",
              "51630  0\n",
              "17168  2\n",
              "45559  2\n",
              "49871  0\n",
              "...   ..\n",
              "39307  2\n",
              "18990  0\n",
              "28749  0\n",
              "33492  0\n",
              "68707  2\n",
              "\n",
              "[14850 rows x 1 columns]"
            ],
            "text/html": [
              "\n",
              "  <div id=\"df-e8f18f86-a58a-4437-ab4f-b987aeac551e\">\n",
              "    <div class=\"colab-df-container\">\n",
              "      <div>\n",
              "<style scoped>\n",
              "    .dataframe tbody tr th:only-of-type {\n",
              "        vertical-align: middle;\n",
              "    }\n",
              "\n",
              "    .dataframe tbody tr th {\n",
              "        vertical-align: top;\n",
              "    }\n",
              "\n",
              "    .dataframe thead th {\n",
              "        text-align: right;\n",
              "    }\n",
              "</style>\n",
              "<table border=\"1\" class=\"dataframe\">\n",
              "  <thead>\n",
              "    <tr style=\"text-align: right;\">\n",
              "      <th></th>\n",
              "      <th>0</th>\n",
              "    </tr>\n",
              "    <tr>\n",
              "      <th>id</th>\n",
              "      <th></th>\n",
              "    </tr>\n",
              "  </thead>\n",
              "  <tbody>\n",
              "    <tr>\n",
              "      <th>50785</th>\n",
              "      <td>2</td>\n",
              "    </tr>\n",
              "    <tr>\n",
              "      <th>51630</th>\n",
              "      <td>0</td>\n",
              "    </tr>\n",
              "    <tr>\n",
              "      <th>17168</th>\n",
              "      <td>2</td>\n",
              "    </tr>\n",
              "    <tr>\n",
              "      <th>45559</th>\n",
              "      <td>2</td>\n",
              "    </tr>\n",
              "    <tr>\n",
              "      <th>49871</th>\n",
              "      <td>0</td>\n",
              "    </tr>\n",
              "    <tr>\n",
              "      <th>...</th>\n",
              "      <td>...</td>\n",
              "    </tr>\n",
              "    <tr>\n",
              "      <th>39307</th>\n",
              "      <td>2</td>\n",
              "    </tr>\n",
              "    <tr>\n",
              "      <th>18990</th>\n",
              "      <td>0</td>\n",
              "    </tr>\n",
              "    <tr>\n",
              "      <th>28749</th>\n",
              "      <td>0</td>\n",
              "    </tr>\n",
              "    <tr>\n",
              "      <th>33492</th>\n",
              "      <td>0</td>\n",
              "    </tr>\n",
              "    <tr>\n",
              "      <th>68707</th>\n",
              "      <td>2</td>\n",
              "    </tr>\n",
              "  </tbody>\n",
              "</table>\n",
              "<p>14850 rows × 1 columns</p>\n",
              "</div>\n",
              "      <button class=\"colab-df-convert\" onclick=\"convertToInteractive('df-e8f18f86-a58a-4437-ab4f-b987aeac551e')\"\n",
              "              title=\"Convert this dataframe to an interactive table.\"\n",
              "              style=\"display:none;\">\n",
              "        \n",
              "  <svg xmlns=\"http://www.w3.org/2000/svg\" height=\"24px\"viewBox=\"0 0 24 24\"\n",
              "       width=\"24px\">\n",
              "    <path d=\"M0 0h24v24H0V0z\" fill=\"none\"/>\n",
              "    <path d=\"M18.56 5.44l.94 2.06.94-2.06 2.06-.94-2.06-.94-.94-2.06-.94 2.06-2.06.94zm-11 1L8.5 8.5l.94-2.06 2.06-.94-2.06-.94L8.5 2.5l-.94 2.06-2.06.94zm10 10l.94 2.06.94-2.06 2.06-.94-2.06-.94-.94-2.06-.94 2.06-2.06.94z\"/><path d=\"M17.41 7.96l-1.37-1.37c-.4-.4-.92-.59-1.43-.59-.52 0-1.04.2-1.43.59L10.3 9.45l-7.72 7.72c-.78.78-.78 2.05 0 2.83L4 21.41c.39.39.9.59 1.41.59.51 0 1.02-.2 1.41-.59l7.78-7.78 2.81-2.81c.8-.78.8-2.07 0-2.86zM5.41 20L4 18.59l7.72-7.72 1.47 1.35L5.41 20z\"/>\n",
              "  </svg>\n",
              "      </button>\n",
              "      \n",
              "  <style>\n",
              "    .colab-df-container {\n",
              "      display:flex;\n",
              "      flex-wrap:wrap;\n",
              "      gap: 12px;\n",
              "    }\n",
              "\n",
              "    .colab-df-convert {\n",
              "      background-color: #E8F0FE;\n",
              "      border: none;\n",
              "      border-radius: 50%;\n",
              "      cursor: pointer;\n",
              "      display: none;\n",
              "      fill: #1967D2;\n",
              "      height: 32px;\n",
              "      padding: 0 0 0 0;\n",
              "      width: 32px;\n",
              "    }\n",
              "\n",
              "    .colab-df-convert:hover {\n",
              "      background-color: #E2EBFA;\n",
              "      box-shadow: 0px 1px 2px rgba(60, 64, 67, 0.3), 0px 1px 3px 1px rgba(60, 64, 67, 0.15);\n",
              "      fill: #174EA6;\n",
              "    }\n",
              "\n",
              "    [theme=dark] .colab-df-convert {\n",
              "      background-color: #3B4455;\n",
              "      fill: #D2E3FC;\n",
              "    }\n",
              "\n",
              "    [theme=dark] .colab-df-convert:hover {\n",
              "      background-color: #434B5C;\n",
              "      box-shadow: 0px 1px 3px 1px rgba(0, 0, 0, 0.15);\n",
              "      filter: drop-shadow(0px 1px 2px rgba(0, 0, 0, 0.3));\n",
              "      fill: #FFFFFF;\n",
              "    }\n",
              "  </style>\n",
              "\n",
              "      <script>\n",
              "        const buttonEl =\n",
              "          document.querySelector('#df-e8f18f86-a58a-4437-ab4f-b987aeac551e button.colab-df-convert');\n",
              "        buttonEl.style.display =\n",
              "          google.colab.kernel.accessAllowed ? 'block' : 'none';\n",
              "\n",
              "        async function convertToInteractive(key) {\n",
              "          const element = document.querySelector('#df-e8f18f86-a58a-4437-ab4f-b987aeac551e');\n",
              "          const dataTable =\n",
              "            await google.colab.kernel.invokeFunction('convertToInteractive',\n",
              "                                                     [key], {});\n",
              "          if (!dataTable) return;\n",
              "\n",
              "          const docLinkHtml = 'Like what you see? Visit the ' +\n",
              "            '<a target=\"_blank\" href=https://colab.research.google.com/notebooks/data_table.ipynb>data table notebook</a>'\n",
              "            + ' to learn more about interactive tables.';\n",
              "          element.innerHTML = '';\n",
              "          dataTable['output_type'] = 'display_data';\n",
              "          await google.colab.output.renderOutput(dataTable, element);\n",
              "          const docLink = document.createElement('div');\n",
              "          docLink.innerHTML = docLinkHtml;\n",
              "          element.appendChild(docLink);\n",
              "        }\n",
              "      </script>\n",
              "    </div>\n",
              "  </div>\n",
              "  "
            ]
          },
          "metadata": {},
          "execution_count": 124
        }
      ]
    },
    {
      "cell_type": "code",
      "source": [
        "grid_search.best_params_"
      ],
      "metadata": {
        "colab": {
          "base_uri": "https://localhost:8080/"
        },
        "id": "J6ogyVGShz7j",
        "outputId": "e93c490a-4c13-47cc-f72c-a3b92b159c2b"
      },
      "execution_count": null,
      "outputs": [
        {
          "output_type": "execute_result",
          "data": {
            "text/plain": [
              "{'classifier__learning_rate': 0.1,\n",
              " 'classifier__max_depth': 2,\n",
              " 'classifier__n_estimators': 100}"
            ]
          },
          "metadata": {},
          "execution_count": 125
        }
      ]
    },
    {
      "cell_type": "code",
      "source": [
        "cm = metrics.multilabel_confusion_matrix(y_test, y_pred)#.confusion_matrix(y_val, predictions)\n",
        "precision=[]\n",
        "sensitivity=[]\n",
        "specificity=[]\n",
        "npv=[]\n",
        "accuracy=[]\n",
        "for i,obj in enumerate(cm):\n",
        "  (tn, fp), (fn, tp) = cm[i]#.ravel()\n",
        "  # Precision = TP / (TP + FP)\n",
        "  precision.append(tp / (tp + fp))\n",
        "  # Sensitivity = TP / (TP + FN)\n",
        "  sensitivity.append(tp / (tp + fn))\n",
        "  # Specificity = TN / (TN + FP)\n",
        "  specificity.append(tn / (tn + fp))\n",
        "  # NPV = TN / (TN + FN)\n",
        "  npv.append(tn / (tn + fn))\n",
        "  # Accuracy = (TP + TN) / (TP + TN + FP + FN)\n",
        "  accuracy.append((tp + tn) / (tp + tn + fp + fn))\n",
        "pd.DataFrame([precision,sensitivity,specificity,npv,accuracy]).transpose()"
      ],
      "metadata": {
        "id": "o7CIijNXkO6L"
      },
      "execution_count": null,
      "outputs": []
    },
    {
      "cell_type": "markdown",
      "source": [
        "# Random Forest"
      ],
      "metadata": {
        "id": "iaeyH_I0kmig"
      }
    },
    {
      "cell_type": "code",
      "source": [
        "# Step 2: Create pipeline\n",
        "pipe_rf = Pipeline([\n",
        "    ('scaler', StandardScaler()),\n",
        "    ('classifier', RandomForestClassifier(n_jobs=-1,random_state=42, verbose=True))\n",
        "])\n",
        "\n",
        "# Step 3: Fit the pipeline to the training data\n",
        "pipe_rf.fit(X_train, y_train)\n",
        "\n",
        "# Step 4: Make predictions on the test set\n",
        "y_pred = pipe_rf.predict(X_test)\n",
        "y_probs = pipe_rf.predict_proba(X_test)\n",
        "\n",
        "# Step 5: Evaluate the model performance\n",
        "print(classification_report(y_test, y_pred))\n",
        "f1, precision, recal, roc_auc = eval_metrics(y_test, pd.Series(y_pred), y_probs, ave='micro')\n",
        "print(precision, recal, roc_auc)"
      ],
      "metadata": {
        "colab": {
          "base_uri": "https://localhost:8080/"
        },
        "id": "sBFxF213j9Zm",
        "outputId": "d9c261ef-ca5d-4e1d-a0ce-3e8ec8d930e6"
      },
      "execution_count": null,
      "outputs": [
        {
          "output_type": "stream",
          "name": "stderr",
          "text": [
            "[Parallel(n_jobs=-1)]: Using backend ThreadingBackend with 2 concurrent workers.\n",
            "[Parallel(n_jobs=-1)]: Done  46 tasks      | elapsed:    5.8s\n",
            "[Parallel(n_jobs=-1)]: Done 100 out of 100 | elapsed:   12.1s finished\n",
            "[Parallel(n_jobs=2)]: Using backend ThreadingBackend with 2 concurrent workers.\n",
            "[Parallel(n_jobs=2)]: Done  46 tasks      | elapsed:    0.2s\n",
            "[Parallel(n_jobs=2)]: Done 100 out of 100 | elapsed:    0.4s finished\n",
            "[Parallel(n_jobs=2)]: Using backend ThreadingBackend with 2 concurrent workers.\n",
            "[Parallel(n_jobs=2)]: Done  46 tasks      | elapsed:    0.2s\n"
          ]
        },
        {
          "output_type": "stream",
          "name": "stdout",
          "text": [
            "              precision    recall  f1-score   support\n",
            "\n",
            "           0       0.82      0.86      0.84      9724\n",
            "           1       0.46      0.44      0.45      1293\n",
            "           2       0.83      0.79      0.81      6803\n",
            "\n",
            "    accuracy                           0.80     17820\n",
            "   macro avg       0.71      0.69      0.70     17820\n",
            "weighted avg       0.80      0.80      0.80     17820\n",
            "\n",
            "0.801 0.801 0.887\n"
          ]
        },
        {
          "output_type": "stream",
          "name": "stderr",
          "text": [
            "[Parallel(n_jobs=2)]: Done 100 out of 100 | elapsed:    0.4s finished\n"
          ]
        }
      ]
    },
    {
      "cell_type": "code",
      "source": [
        "cm = metrics.multilabel_confusion_matrix(y_test, y_pred)#.confusion_matrix(y_val, predictions)\n",
        "precision=[]\n",
        "sensitivity=[]\n",
        "specificity=[]\n",
        "npv=[]\n",
        "accuracy=[]\n",
        "for i,obj in enumerate(cm):\n",
        "  (tn, fp), (fn, tp) = cm[i]#.ravel()\n",
        "  # Precision = TP / (TP + FP)\n",
        "  precision.append(tp / (tp + fp))\n",
        "  # Sensitivity = TP / (TP + FN)\n",
        "  sensitivity.append(tp / (tp + fn))\n",
        "  # Specificity = TN / (TN + FP)\n",
        "  specificity.append(tn / (tn + fp))\n",
        "  # NPV = TN / (TN + FN)\n",
        "  npv.append(tn / (tn + fn))\n",
        "  # Accuracy = (TP + TN) / (TP + TN + FP + FN)\n",
        "  accuracy.append((tp + tn) / (tp + tn + fp + fn))\n",
        "pd.DataFrame([precision,sensitivity,specificity,npv,accuracy]).transpose()"
      ],
      "metadata": {
        "colab": {
          "base_uri": "https://localhost:8080/",
          "height": 143
        },
        "id": "uxLoLLdf6SYz",
        "outputId": "79cff38e-9923-4e91-db38-1f329f204510"
      },
      "execution_count": null,
      "outputs": [
        {
          "output_type": "execute_result",
          "data": {
            "text/plain": [
              "          0         1         2         3         4\n",
              "0  0.821583  0.860448  0.775568  0.822289  0.821886\n",
              "1  0.460720  0.435422  0.960126  0.956019  0.922054\n",
              "2  0.833022  0.785389  0.902787  0.871997  0.857969"
            ],
            "text/html": [
              "\n",
              "  <div id=\"df-a3f96c46-46a1-48b4-aecc-87b6b6cac475\">\n",
              "    <div class=\"colab-df-container\">\n",
              "      <div>\n",
              "<style scoped>\n",
              "    .dataframe tbody tr th:only-of-type {\n",
              "        vertical-align: middle;\n",
              "    }\n",
              "\n",
              "    .dataframe tbody tr th {\n",
              "        vertical-align: top;\n",
              "    }\n",
              "\n",
              "    .dataframe thead th {\n",
              "        text-align: right;\n",
              "    }\n",
              "</style>\n",
              "<table border=\"1\" class=\"dataframe\">\n",
              "  <thead>\n",
              "    <tr style=\"text-align: right;\">\n",
              "      <th></th>\n",
              "      <th>0</th>\n",
              "      <th>1</th>\n",
              "      <th>2</th>\n",
              "      <th>3</th>\n",
              "      <th>4</th>\n",
              "    </tr>\n",
              "  </thead>\n",
              "  <tbody>\n",
              "    <tr>\n",
              "      <th>0</th>\n",
              "      <td>0.821583</td>\n",
              "      <td>0.860448</td>\n",
              "      <td>0.775568</td>\n",
              "      <td>0.822289</td>\n",
              "      <td>0.821886</td>\n",
              "    </tr>\n",
              "    <tr>\n",
              "      <th>1</th>\n",
              "      <td>0.460720</td>\n",
              "      <td>0.435422</td>\n",
              "      <td>0.960126</td>\n",
              "      <td>0.956019</td>\n",
              "      <td>0.922054</td>\n",
              "    </tr>\n",
              "    <tr>\n",
              "      <th>2</th>\n",
              "      <td>0.833022</td>\n",
              "      <td>0.785389</td>\n",
              "      <td>0.902787</td>\n",
              "      <td>0.871997</td>\n",
              "      <td>0.857969</td>\n",
              "    </tr>\n",
              "  </tbody>\n",
              "</table>\n",
              "</div>\n",
              "      <button class=\"colab-df-convert\" onclick=\"convertToInteractive('df-a3f96c46-46a1-48b4-aecc-87b6b6cac475')\"\n",
              "              title=\"Convert this dataframe to an interactive table.\"\n",
              "              style=\"display:none;\">\n",
              "        \n",
              "  <svg xmlns=\"http://www.w3.org/2000/svg\" height=\"24px\"viewBox=\"0 0 24 24\"\n",
              "       width=\"24px\">\n",
              "    <path d=\"M0 0h24v24H0V0z\" fill=\"none\"/>\n",
              "    <path d=\"M18.56 5.44l.94 2.06.94-2.06 2.06-.94-2.06-.94-.94-2.06-.94 2.06-2.06.94zm-11 1L8.5 8.5l.94-2.06 2.06-.94-2.06-.94L8.5 2.5l-.94 2.06-2.06.94zm10 10l.94 2.06.94-2.06 2.06-.94-2.06-.94-.94-2.06-.94 2.06-2.06.94z\"/><path d=\"M17.41 7.96l-1.37-1.37c-.4-.4-.92-.59-1.43-.59-.52 0-1.04.2-1.43.59L10.3 9.45l-7.72 7.72c-.78.78-.78 2.05 0 2.83L4 21.41c.39.39.9.59 1.41.59.51 0 1.02-.2 1.41-.59l7.78-7.78 2.81-2.81c.8-.78.8-2.07 0-2.86zM5.41 20L4 18.59l7.72-7.72 1.47 1.35L5.41 20z\"/>\n",
              "  </svg>\n",
              "      </button>\n",
              "      \n",
              "  <style>\n",
              "    .colab-df-container {\n",
              "      display:flex;\n",
              "      flex-wrap:wrap;\n",
              "      gap: 12px;\n",
              "    }\n",
              "\n",
              "    .colab-df-convert {\n",
              "      background-color: #E8F0FE;\n",
              "      border: none;\n",
              "      border-radius: 50%;\n",
              "      cursor: pointer;\n",
              "      display: none;\n",
              "      fill: #1967D2;\n",
              "      height: 32px;\n",
              "      padding: 0 0 0 0;\n",
              "      width: 32px;\n",
              "    }\n",
              "\n",
              "    .colab-df-convert:hover {\n",
              "      background-color: #E2EBFA;\n",
              "      box-shadow: 0px 1px 2px rgba(60, 64, 67, 0.3), 0px 1px 3px 1px rgba(60, 64, 67, 0.15);\n",
              "      fill: #174EA6;\n",
              "    }\n",
              "\n",
              "    [theme=dark] .colab-df-convert {\n",
              "      background-color: #3B4455;\n",
              "      fill: #D2E3FC;\n",
              "    }\n",
              "\n",
              "    [theme=dark] .colab-df-convert:hover {\n",
              "      background-color: #434B5C;\n",
              "      box-shadow: 0px 1px 3px 1px rgba(0, 0, 0, 0.15);\n",
              "      filter: drop-shadow(0px 1px 2px rgba(0, 0, 0, 0.3));\n",
              "      fill: #FFFFFF;\n",
              "    }\n",
              "  </style>\n",
              "\n",
              "      <script>\n",
              "        const buttonEl =\n",
              "          document.querySelector('#df-a3f96c46-46a1-48b4-aecc-87b6b6cac475 button.colab-df-convert');\n",
              "        buttonEl.style.display =\n",
              "          google.colab.kernel.accessAllowed ? 'block' : 'none';\n",
              "\n",
              "        async function convertToInteractive(key) {\n",
              "          const element = document.querySelector('#df-a3f96c46-46a1-48b4-aecc-87b6b6cac475');\n",
              "          const dataTable =\n",
              "            await google.colab.kernel.invokeFunction('convertToInteractive',\n",
              "                                                     [key], {});\n",
              "          if (!dataTable) return;\n",
              "\n",
              "          const docLinkHtml = 'Like what you see? Visit the ' +\n",
              "            '<a target=\"_blank\" href=https://colab.research.google.com/notebooks/data_table.ipynb>data table notebook</a>'\n",
              "            + ' to learn more about interactive tables.';\n",
              "          element.innerHTML = '';\n",
              "          dataTable['output_type'] = 'display_data';\n",
              "          await google.colab.output.renderOutput(dataTable, element);\n",
              "          const docLink = document.createElement('div');\n",
              "          docLink.innerHTML = docLinkHtml;\n",
              "          element.appendChild(docLink);\n",
              "        }\n",
              "      </script>\n",
              "    </div>\n",
              "  </div>\n",
              "  "
            ]
          },
          "metadata": {},
          "execution_count": 145
        }
      ]
    },
    {
      "cell_type": "code",
      "source": [
        "preds_class = pipe_rf.predict(df_test)\n",
        "pd.DataFrame(preds_class,df_test_copy['id'])"
      ],
      "metadata": {
        "colab": {
          "base_uri": "https://localhost:8080/",
          "height": 507
        },
        "id": "VrneNarcXny8",
        "outputId": "410b29c7-9ead-4299-c012-446adeade952"
      },
      "execution_count": null,
      "outputs": [
        {
          "output_type": "stream",
          "name": "stderr",
          "text": [
            "[Parallel(n_jobs=2)]: Using backend ThreadingBackend with 2 concurrent workers.\n",
            "[Parallel(n_jobs=2)]: Done  46 tasks      | elapsed:    0.1s\n",
            "[Parallel(n_jobs=2)]: Done 100 out of 100 | elapsed:    0.4s finished\n"
          ]
        },
        {
          "output_type": "execute_result",
          "data": {
            "text/plain": [
              "       0\n",
              "id      \n",
              "50785  2\n",
              "51630  0\n",
              "17168  2\n",
              "45559  2\n",
              "49871  0\n",
              "...   ..\n",
              "39307  2\n",
              "18990  0\n",
              "28749  0\n",
              "33492  0\n",
              "68707  2\n",
              "\n",
              "[14850 rows x 1 columns]"
            ],
            "text/html": [
              "\n",
              "  <div id=\"df-1c54bf9e-c33c-4a74-99f8-717f5bc1ec61\">\n",
              "    <div class=\"colab-df-container\">\n",
              "      <div>\n",
              "<style scoped>\n",
              "    .dataframe tbody tr th:only-of-type {\n",
              "        vertical-align: middle;\n",
              "    }\n",
              "\n",
              "    .dataframe tbody tr th {\n",
              "        vertical-align: top;\n",
              "    }\n",
              "\n",
              "    .dataframe thead th {\n",
              "        text-align: right;\n",
              "    }\n",
              "</style>\n",
              "<table border=\"1\" class=\"dataframe\">\n",
              "  <thead>\n",
              "    <tr style=\"text-align: right;\">\n",
              "      <th></th>\n",
              "      <th>0</th>\n",
              "    </tr>\n",
              "    <tr>\n",
              "      <th>id</th>\n",
              "      <th></th>\n",
              "    </tr>\n",
              "  </thead>\n",
              "  <tbody>\n",
              "    <tr>\n",
              "      <th>50785</th>\n",
              "      <td>2</td>\n",
              "    </tr>\n",
              "    <tr>\n",
              "      <th>51630</th>\n",
              "      <td>0</td>\n",
              "    </tr>\n",
              "    <tr>\n",
              "      <th>17168</th>\n",
              "      <td>2</td>\n",
              "    </tr>\n",
              "    <tr>\n",
              "      <th>45559</th>\n",
              "      <td>2</td>\n",
              "    </tr>\n",
              "    <tr>\n",
              "      <th>49871</th>\n",
              "      <td>0</td>\n",
              "    </tr>\n",
              "    <tr>\n",
              "      <th>...</th>\n",
              "      <td>...</td>\n",
              "    </tr>\n",
              "    <tr>\n",
              "      <th>39307</th>\n",
              "      <td>2</td>\n",
              "    </tr>\n",
              "    <tr>\n",
              "      <th>18990</th>\n",
              "      <td>0</td>\n",
              "    </tr>\n",
              "    <tr>\n",
              "      <th>28749</th>\n",
              "      <td>0</td>\n",
              "    </tr>\n",
              "    <tr>\n",
              "      <th>33492</th>\n",
              "      <td>0</td>\n",
              "    </tr>\n",
              "    <tr>\n",
              "      <th>68707</th>\n",
              "      <td>2</td>\n",
              "    </tr>\n",
              "  </tbody>\n",
              "</table>\n",
              "<p>14850 rows × 1 columns</p>\n",
              "</div>\n",
              "      <button class=\"colab-df-convert\" onclick=\"convertToInteractive('df-1c54bf9e-c33c-4a74-99f8-717f5bc1ec61')\"\n",
              "              title=\"Convert this dataframe to an interactive table.\"\n",
              "              style=\"display:none;\">\n",
              "        \n",
              "  <svg xmlns=\"http://www.w3.org/2000/svg\" height=\"24px\"viewBox=\"0 0 24 24\"\n",
              "       width=\"24px\">\n",
              "    <path d=\"M0 0h24v24H0V0z\" fill=\"none\"/>\n",
              "    <path d=\"M18.56 5.44l.94 2.06.94-2.06 2.06-.94-2.06-.94-.94-2.06-.94 2.06-2.06.94zm-11 1L8.5 8.5l.94-2.06 2.06-.94-2.06-.94L8.5 2.5l-.94 2.06-2.06.94zm10 10l.94 2.06.94-2.06 2.06-.94-2.06-.94-.94-2.06-.94 2.06-2.06.94z\"/><path d=\"M17.41 7.96l-1.37-1.37c-.4-.4-.92-.59-1.43-.59-.52 0-1.04.2-1.43.59L10.3 9.45l-7.72 7.72c-.78.78-.78 2.05 0 2.83L4 21.41c.39.39.9.59 1.41.59.51 0 1.02-.2 1.41-.59l7.78-7.78 2.81-2.81c.8-.78.8-2.07 0-2.86zM5.41 20L4 18.59l7.72-7.72 1.47 1.35L5.41 20z\"/>\n",
              "  </svg>\n",
              "      </button>\n",
              "      \n",
              "  <style>\n",
              "    .colab-df-container {\n",
              "      display:flex;\n",
              "      flex-wrap:wrap;\n",
              "      gap: 12px;\n",
              "    }\n",
              "\n",
              "    .colab-df-convert {\n",
              "      background-color: #E8F0FE;\n",
              "      border: none;\n",
              "      border-radius: 50%;\n",
              "      cursor: pointer;\n",
              "      display: none;\n",
              "      fill: #1967D2;\n",
              "      height: 32px;\n",
              "      padding: 0 0 0 0;\n",
              "      width: 32px;\n",
              "    }\n",
              "\n",
              "    .colab-df-convert:hover {\n",
              "      background-color: #E2EBFA;\n",
              "      box-shadow: 0px 1px 2px rgba(60, 64, 67, 0.3), 0px 1px 3px 1px rgba(60, 64, 67, 0.15);\n",
              "      fill: #174EA6;\n",
              "    }\n",
              "\n",
              "    [theme=dark] .colab-df-convert {\n",
              "      background-color: #3B4455;\n",
              "      fill: #D2E3FC;\n",
              "    }\n",
              "\n",
              "    [theme=dark] .colab-df-convert:hover {\n",
              "      background-color: #434B5C;\n",
              "      box-shadow: 0px 1px 3px 1px rgba(0, 0, 0, 0.15);\n",
              "      filter: drop-shadow(0px 1px 2px rgba(0, 0, 0, 0.3));\n",
              "      fill: #FFFFFF;\n",
              "    }\n",
              "  </style>\n",
              "\n",
              "      <script>\n",
              "        const buttonEl =\n",
              "          document.querySelector('#df-1c54bf9e-c33c-4a74-99f8-717f5bc1ec61 button.colab-df-convert');\n",
              "        buttonEl.style.display =\n",
              "          google.colab.kernel.accessAllowed ? 'block' : 'none';\n",
              "\n",
              "        async function convertToInteractive(key) {\n",
              "          const element = document.querySelector('#df-1c54bf9e-c33c-4a74-99f8-717f5bc1ec61');\n",
              "          const dataTable =\n",
              "            await google.colab.kernel.invokeFunction('convertToInteractive',\n",
              "                                                     [key], {});\n",
              "          if (!dataTable) return;\n",
              "\n",
              "          const docLinkHtml = 'Like what you see? Visit the ' +\n",
              "            '<a target=\"_blank\" href=https://colab.research.google.com/notebooks/data_table.ipynb>data table notebook</a>'\n",
              "            + ' to learn more about interactive tables.';\n",
              "          element.innerHTML = '';\n",
              "          dataTable['output_type'] = 'display_data';\n",
              "          await google.colab.output.renderOutput(dataTable, element);\n",
              "          const docLink = document.createElement('div');\n",
              "          docLink.innerHTML = docLinkHtml;\n",
              "          element.appendChild(docLink);\n",
              "        }\n",
              "      </script>\n",
              "    </div>\n",
              "  </div>\n",
              "  "
            ]
          },
          "metadata": {},
          "execution_count": 146
        }
      ]
    },
    {
      "cell_type": "markdown",
      "source": [
        "## GridSearchCV"
      ],
      "metadata": {
        "id": "d16O5uDqk_GG"
      }
    },
    {
      "cell_type": "code",
      "source": [
        "# Step 1: Define the parameters for the xgboost classifier\n",
        "param_grid = {\n",
        "    'classifier__max_depth': [2,5,10,15],\n",
        "    'classifier__max_features': ['sqrt','log2'],\n",
        "    #'classifier__learning_rate': [0.1, 0.01, 0.001]\n",
        "}\n",
        "\n",
        "# Step 3: Create pipeline\n",
        "pipe_grid = Pipeline([\n",
        "    ('scaler', StandardScaler()),\n",
        "    ('classifier', RandomForestClassifier(n_jobs=-1,random_state=42, verbose=True))\n",
        "])\n",
        "\n",
        "# Step 4: Hyperparameter tuning using GridSearchCV\n",
        "grid_search_rf = GridSearchCV(pipe_grid, param_grid=param_grid, cv=5, scoring='precision', n_jobs=-1, verbose=True)\n",
        "grid_search_rf.fit(X_train, y_train)\n",
        "\n",
        "# Step 5: Make predictions on the test set\n",
        "y_pred = grid_search_rf.predict(X_test)\n",
        "\n",
        "# Step 6: Evaluate the model performance\n",
        "print(classification_report(y_test, y_pred))"
      ],
      "metadata": {
        "colab": {
          "base_uri": "https://localhost:8080/"
        },
        "id": "1a20a-zYZWP2",
        "outputId": "617148b7-9435-4a85-b281-f3a7a91c1070"
      },
      "execution_count": null,
      "outputs": [
        {
          "output_type": "stream",
          "name": "stdout",
          "text": [
            "Fitting 5 folds for each of 8 candidates, totalling 40 fits\n"
          ]
        },
        {
          "output_type": "stream",
          "name": "stderr",
          "text": [
            "/usr/local/lib/python3.8/dist-packages/sklearn/model_selection/_search.py:969: UserWarning:\n",
            "\n",
            "One or more of the test scores are non-finite: [nan nan nan nan nan nan nan nan]\n",
            "\n",
            "[Parallel(n_jobs=-1)]: Using backend ThreadingBackend with 2 concurrent workers.\n",
            "[Parallel(n_jobs=-1)]: Done  46 tasks      | elapsed:    1.0s\n"
          ]
        },
        {
          "output_type": "stream",
          "name": "stdout",
          "text": [
            "              precision    recall  f1-score   support\n",
            "\n",
            "           0       0.70      0.56      0.63      9724\n",
            "           1       0.14      0.55      0.23      1293\n",
            "           2       0.72      0.53      0.61      6803\n",
            "\n",
            "    accuracy                           0.55     17820\n",
            "   macro avg       0.52      0.55      0.49     17820\n",
            "weighted avg       0.67      0.55      0.59     17820\n",
            "\n"
          ]
        },
        {
          "output_type": "stream",
          "name": "stderr",
          "text": [
            "[Parallel(n_jobs=-1)]: Done 100 out of 100 | elapsed:    2.2s finished\n",
            "[Parallel(n_jobs=2)]: Using backend ThreadingBackend with 2 concurrent workers.\n",
            "[Parallel(n_jobs=2)]: Done  46 tasks      | elapsed:    0.0s\n",
            "[Parallel(n_jobs=2)]: Done 100 out of 100 | elapsed:    0.1s finished\n"
          ]
        }
      ]
    },
    {
      "cell_type": "code",
      "source": [
        "preds_class = grid_search_rf.predict(df_test)\n",
        "pd.DataFrame(preds_class,df_test_copy['id'])"
      ],
      "metadata": {
        "colab": {
          "base_uri": "https://localhost:8080/",
          "height": 507
        },
        "id": "NWKf91M6iEN0",
        "outputId": "247c545a-9fa3-400c-b32e-e59bfa403910"
      },
      "execution_count": null,
      "outputs": [
        {
          "output_type": "stream",
          "name": "stderr",
          "text": [
            "[Parallel(n_jobs=2)]: Using backend ThreadingBackend with 2 concurrent workers.\n",
            "[Parallel(n_jobs=2)]: Done  46 tasks      | elapsed:    0.0s\n",
            "[Parallel(n_jobs=2)]: Done 100 out of 100 | elapsed:    0.1s finished\n"
          ]
        },
        {
          "output_type": "execute_result",
          "data": {
            "text/plain": [
              "       0\n",
              "id      \n",
              "50785  2\n",
              "51630  0\n",
              "17168  2\n",
              "45559  2\n",
              "49871  0\n",
              "...   ..\n",
              "39307  0\n",
              "18990  0\n",
              "28749  0\n",
              "33492  0\n",
              "68707  2\n",
              "\n",
              "[14850 rows x 1 columns]"
            ],
            "text/html": [
              "\n",
              "  <div id=\"df-0a38004e-ffeb-4b9a-986f-ba3e9dd4d6c6\">\n",
              "    <div class=\"colab-df-container\">\n",
              "      <div>\n",
              "<style scoped>\n",
              "    .dataframe tbody tr th:only-of-type {\n",
              "        vertical-align: middle;\n",
              "    }\n",
              "\n",
              "    .dataframe tbody tr th {\n",
              "        vertical-align: top;\n",
              "    }\n",
              "\n",
              "    .dataframe thead th {\n",
              "        text-align: right;\n",
              "    }\n",
              "</style>\n",
              "<table border=\"1\" class=\"dataframe\">\n",
              "  <thead>\n",
              "    <tr style=\"text-align: right;\">\n",
              "      <th></th>\n",
              "      <th>0</th>\n",
              "    </tr>\n",
              "    <tr>\n",
              "      <th>id</th>\n",
              "      <th></th>\n",
              "    </tr>\n",
              "  </thead>\n",
              "  <tbody>\n",
              "    <tr>\n",
              "      <th>50785</th>\n",
              "      <td>2</td>\n",
              "    </tr>\n",
              "    <tr>\n",
              "      <th>51630</th>\n",
              "      <td>0</td>\n",
              "    </tr>\n",
              "    <tr>\n",
              "      <th>17168</th>\n",
              "      <td>2</td>\n",
              "    </tr>\n",
              "    <tr>\n",
              "      <th>45559</th>\n",
              "      <td>2</td>\n",
              "    </tr>\n",
              "    <tr>\n",
              "      <th>49871</th>\n",
              "      <td>0</td>\n",
              "    </tr>\n",
              "    <tr>\n",
              "      <th>...</th>\n",
              "      <td>...</td>\n",
              "    </tr>\n",
              "    <tr>\n",
              "      <th>39307</th>\n",
              "      <td>0</td>\n",
              "    </tr>\n",
              "    <tr>\n",
              "      <th>18990</th>\n",
              "      <td>0</td>\n",
              "    </tr>\n",
              "    <tr>\n",
              "      <th>28749</th>\n",
              "      <td>0</td>\n",
              "    </tr>\n",
              "    <tr>\n",
              "      <th>33492</th>\n",
              "      <td>0</td>\n",
              "    </tr>\n",
              "    <tr>\n",
              "      <th>68707</th>\n",
              "      <td>2</td>\n",
              "    </tr>\n",
              "  </tbody>\n",
              "</table>\n",
              "<p>14850 rows × 1 columns</p>\n",
              "</div>\n",
              "      <button class=\"colab-df-convert\" onclick=\"convertToInteractive('df-0a38004e-ffeb-4b9a-986f-ba3e9dd4d6c6')\"\n",
              "              title=\"Convert this dataframe to an interactive table.\"\n",
              "              style=\"display:none;\">\n",
              "        \n",
              "  <svg xmlns=\"http://www.w3.org/2000/svg\" height=\"24px\"viewBox=\"0 0 24 24\"\n",
              "       width=\"24px\">\n",
              "    <path d=\"M0 0h24v24H0V0z\" fill=\"none\"/>\n",
              "    <path d=\"M18.56 5.44l.94 2.06.94-2.06 2.06-.94-2.06-.94-.94-2.06-.94 2.06-2.06.94zm-11 1L8.5 8.5l.94-2.06 2.06-.94-2.06-.94L8.5 2.5l-.94 2.06-2.06.94zm10 10l.94 2.06.94-2.06 2.06-.94-2.06-.94-.94-2.06-.94 2.06-2.06.94z\"/><path d=\"M17.41 7.96l-1.37-1.37c-.4-.4-.92-.59-1.43-.59-.52 0-1.04.2-1.43.59L10.3 9.45l-7.72 7.72c-.78.78-.78 2.05 0 2.83L4 21.41c.39.39.9.59 1.41.59.51 0 1.02-.2 1.41-.59l7.78-7.78 2.81-2.81c.8-.78.8-2.07 0-2.86zM5.41 20L4 18.59l7.72-7.72 1.47 1.35L5.41 20z\"/>\n",
              "  </svg>\n",
              "      </button>\n",
              "      \n",
              "  <style>\n",
              "    .colab-df-container {\n",
              "      display:flex;\n",
              "      flex-wrap:wrap;\n",
              "      gap: 12px;\n",
              "    }\n",
              "\n",
              "    .colab-df-convert {\n",
              "      background-color: #E8F0FE;\n",
              "      border: none;\n",
              "      border-radius: 50%;\n",
              "      cursor: pointer;\n",
              "      display: none;\n",
              "      fill: #1967D2;\n",
              "      height: 32px;\n",
              "      padding: 0 0 0 0;\n",
              "      width: 32px;\n",
              "    }\n",
              "\n",
              "    .colab-df-convert:hover {\n",
              "      background-color: #E2EBFA;\n",
              "      box-shadow: 0px 1px 2px rgba(60, 64, 67, 0.3), 0px 1px 3px 1px rgba(60, 64, 67, 0.15);\n",
              "      fill: #174EA6;\n",
              "    }\n",
              "\n",
              "    [theme=dark] .colab-df-convert {\n",
              "      background-color: #3B4455;\n",
              "      fill: #D2E3FC;\n",
              "    }\n",
              "\n",
              "    [theme=dark] .colab-df-convert:hover {\n",
              "      background-color: #434B5C;\n",
              "      box-shadow: 0px 1px 3px 1px rgba(0, 0, 0, 0.15);\n",
              "      filter: drop-shadow(0px 1px 2px rgba(0, 0, 0, 0.3));\n",
              "      fill: #FFFFFF;\n",
              "    }\n",
              "  </style>\n",
              "\n",
              "      <script>\n",
              "        const buttonEl =\n",
              "          document.querySelector('#df-0a38004e-ffeb-4b9a-986f-ba3e9dd4d6c6 button.colab-df-convert');\n",
              "        buttonEl.style.display =\n",
              "          google.colab.kernel.accessAllowed ? 'block' : 'none';\n",
              "\n",
              "        async function convertToInteractive(key) {\n",
              "          const element = document.querySelector('#df-0a38004e-ffeb-4b9a-986f-ba3e9dd4d6c6');\n",
              "          const dataTable =\n",
              "            await google.colab.kernel.invokeFunction('convertToInteractive',\n",
              "                                                     [key], {});\n",
              "          if (!dataTable) return;\n",
              "\n",
              "          const docLinkHtml = 'Like what you see? Visit the ' +\n",
              "            '<a target=\"_blank\" href=https://colab.research.google.com/notebooks/data_table.ipynb>data table notebook</a>'\n",
              "            + ' to learn more about interactive tables.';\n",
              "          element.innerHTML = '';\n",
              "          dataTable['output_type'] = 'display_data';\n",
              "          await google.colab.output.renderOutput(dataTable, element);\n",
              "          const docLink = document.createElement('div');\n",
              "          docLink.innerHTML = docLinkHtml;\n",
              "          element.appendChild(docLink);\n",
              "        }\n",
              "      </script>\n",
              "    </div>\n",
              "  </div>\n",
              "  "
            ]
          },
          "metadata": {},
          "execution_count": 148
        }
      ]
    },
    {
      "cell_type": "code",
      "source": [
        "grid_search_rf.best_params_"
      ],
      "metadata": {
        "colab": {
          "base_uri": "https://localhost:8080/"
        },
        "id": "vTPLTNIsiGu-",
        "outputId": "778b5632-202d-4d2d-eda2-637f2d95cdc5"
      },
      "execution_count": null,
      "outputs": [
        {
          "output_type": "execute_result",
          "data": {
            "text/plain": [
              "{'classifier__max_depth': 2, 'classifier__max_features': 'sqrt'}"
            ]
          },
          "metadata": {},
          "execution_count": 149
        }
      ]
    },
    {
      "cell_type": "code",
      "source": [
        "cm = metrics.multilabel_confusion_matrix(y_test, y_pred)#.confusion_matrix(y_val, predictions)\n",
        "precision=[]\n",
        "sensitivity=[]\n",
        "specificity=[]\n",
        "npv=[]\n",
        "accuracy=[]\n",
        "for i,obj in enumerate(cm):\n",
        "  (tn, fp), (fn, tp) = cm[i]#.ravel()\n",
        "  # Precision = TP / (TP + FP)\n",
        "  precision.append(tp / (tp + fp))\n",
        "  # Sensitivity = TP / (TP + FN)\n",
        "  sensitivity.append(tp / (tp + fn))\n",
        "  # Specificity = TN / (TN + FP)\n",
        "  specificity.append(tn / (tn + fp))\n",
        "  # NPV = TN / (TN + FN)\n",
        "  npv.append(tn / (tn + fn))\n",
        "  # Accuracy = (TP + TN) / (TP + TN + FP + FN)\n",
        "  accuracy.append((tp + tn) / (tp + tn + fp + fn))\n",
        "pd.DataFrame([precision,sensitivity,specificity,npv,accuracy]).transpose()"
      ],
      "metadata": {
        "colab": {
          "base_uri": "https://localhost:8080/",
          "height": 143
        },
        "id": "JGe8UCdBit3C",
        "outputId": "f5302121-fed8-4ff0-c836-177db1d7d7cf"
      },
      "execution_count": null,
      "outputs": [
        {
          "output_type": "execute_result",
          "data": {
            "text/plain": [
              "          0         1         2         3         4\n",
              "0  0.702373  0.563040  0.713439  0.576160  0.631369\n",
              "1  0.142658  0.553751  0.739638  0.954925  0.726150\n",
              "2  0.721734  0.531089  0.873559  0.751054  0.742817"
            ],
            "text/html": [
              "\n",
              "  <div id=\"df-106a1d45-5a82-4d49-80c8-5b19e2f0828a\">\n",
              "    <div class=\"colab-df-container\">\n",
              "      <div>\n",
              "<style scoped>\n",
              "    .dataframe tbody tr th:only-of-type {\n",
              "        vertical-align: middle;\n",
              "    }\n",
              "\n",
              "    .dataframe tbody tr th {\n",
              "        vertical-align: top;\n",
              "    }\n",
              "\n",
              "    .dataframe thead th {\n",
              "        text-align: right;\n",
              "    }\n",
              "</style>\n",
              "<table border=\"1\" class=\"dataframe\">\n",
              "  <thead>\n",
              "    <tr style=\"text-align: right;\">\n",
              "      <th></th>\n",
              "      <th>0</th>\n",
              "      <th>1</th>\n",
              "      <th>2</th>\n",
              "      <th>3</th>\n",
              "      <th>4</th>\n",
              "    </tr>\n",
              "  </thead>\n",
              "  <tbody>\n",
              "    <tr>\n",
              "      <th>0</th>\n",
              "      <td>0.702373</td>\n",
              "      <td>0.563040</td>\n",
              "      <td>0.713439</td>\n",
              "      <td>0.576160</td>\n",
              "      <td>0.631369</td>\n",
              "    </tr>\n",
              "    <tr>\n",
              "      <th>1</th>\n",
              "      <td>0.142658</td>\n",
              "      <td>0.553751</td>\n",
              "      <td>0.739638</td>\n",
              "      <td>0.954925</td>\n",
              "      <td>0.726150</td>\n",
              "    </tr>\n",
              "    <tr>\n",
              "      <th>2</th>\n",
              "      <td>0.721734</td>\n",
              "      <td>0.531089</td>\n",
              "      <td>0.873559</td>\n",
              "      <td>0.751054</td>\n",
              "      <td>0.742817</td>\n",
              "    </tr>\n",
              "  </tbody>\n",
              "</table>\n",
              "</div>\n",
              "      <button class=\"colab-df-convert\" onclick=\"convertToInteractive('df-106a1d45-5a82-4d49-80c8-5b19e2f0828a')\"\n",
              "              title=\"Convert this dataframe to an interactive table.\"\n",
              "              style=\"display:none;\">\n",
              "        \n",
              "  <svg xmlns=\"http://www.w3.org/2000/svg\" height=\"24px\"viewBox=\"0 0 24 24\"\n",
              "       width=\"24px\">\n",
              "    <path d=\"M0 0h24v24H0V0z\" fill=\"none\"/>\n",
              "    <path d=\"M18.56 5.44l.94 2.06.94-2.06 2.06-.94-2.06-.94-.94-2.06-.94 2.06-2.06.94zm-11 1L8.5 8.5l.94-2.06 2.06-.94-2.06-.94L8.5 2.5l-.94 2.06-2.06.94zm10 10l.94 2.06.94-2.06 2.06-.94-2.06-.94-.94-2.06-.94 2.06-2.06.94z\"/><path d=\"M17.41 7.96l-1.37-1.37c-.4-.4-.92-.59-1.43-.59-.52 0-1.04.2-1.43.59L10.3 9.45l-7.72 7.72c-.78.78-.78 2.05 0 2.83L4 21.41c.39.39.9.59 1.41.59.51 0 1.02-.2 1.41-.59l7.78-7.78 2.81-2.81c.8-.78.8-2.07 0-2.86zM5.41 20L4 18.59l7.72-7.72 1.47 1.35L5.41 20z\"/>\n",
              "  </svg>\n",
              "      </button>\n",
              "      \n",
              "  <style>\n",
              "    .colab-df-container {\n",
              "      display:flex;\n",
              "      flex-wrap:wrap;\n",
              "      gap: 12px;\n",
              "    }\n",
              "\n",
              "    .colab-df-convert {\n",
              "      background-color: #E8F0FE;\n",
              "      border: none;\n",
              "      border-radius: 50%;\n",
              "      cursor: pointer;\n",
              "      display: none;\n",
              "      fill: #1967D2;\n",
              "      height: 32px;\n",
              "      padding: 0 0 0 0;\n",
              "      width: 32px;\n",
              "    }\n",
              "\n",
              "    .colab-df-convert:hover {\n",
              "      background-color: #E2EBFA;\n",
              "      box-shadow: 0px 1px 2px rgba(60, 64, 67, 0.3), 0px 1px 3px 1px rgba(60, 64, 67, 0.15);\n",
              "      fill: #174EA6;\n",
              "    }\n",
              "\n",
              "    [theme=dark] .colab-df-convert {\n",
              "      background-color: #3B4455;\n",
              "      fill: #D2E3FC;\n",
              "    }\n",
              "\n",
              "    [theme=dark] .colab-df-convert:hover {\n",
              "      background-color: #434B5C;\n",
              "      box-shadow: 0px 1px 3px 1px rgba(0, 0, 0, 0.15);\n",
              "      filter: drop-shadow(0px 1px 2px rgba(0, 0, 0, 0.3));\n",
              "      fill: #FFFFFF;\n",
              "    }\n",
              "  </style>\n",
              "\n",
              "      <script>\n",
              "        const buttonEl =\n",
              "          document.querySelector('#df-106a1d45-5a82-4d49-80c8-5b19e2f0828a button.colab-df-convert');\n",
              "        buttonEl.style.display =\n",
              "          google.colab.kernel.accessAllowed ? 'block' : 'none';\n",
              "\n",
              "        async function convertToInteractive(key) {\n",
              "          const element = document.querySelector('#df-106a1d45-5a82-4d49-80c8-5b19e2f0828a');\n",
              "          const dataTable =\n",
              "            await google.colab.kernel.invokeFunction('convertToInteractive',\n",
              "                                                     [key], {});\n",
              "          if (!dataTable) return;\n",
              "\n",
              "          const docLinkHtml = 'Like what you see? Visit the ' +\n",
              "            '<a target=\"_blank\" href=https://colab.research.google.com/notebooks/data_table.ipynb>data table notebook</a>'\n",
              "            + ' to learn more about interactive tables.';\n",
              "          element.innerHTML = '';\n",
              "          dataTable['output_type'] = 'display_data';\n",
              "          await google.colab.output.renderOutput(dataTable, element);\n",
              "          const docLink = document.createElement('div');\n",
              "          docLink.innerHTML = docLinkHtml;\n",
              "          element.appendChild(docLink);\n",
              "        }\n",
              "      </script>\n",
              "    </div>\n",
              "  </div>\n",
              "  "
            ]
          },
          "metadata": {},
          "execution_count": 150
        }
      ]
    }
  ]
}